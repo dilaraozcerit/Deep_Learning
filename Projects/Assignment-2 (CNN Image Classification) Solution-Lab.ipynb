{
 "cells": [
  {
   "cell_type": "markdown",
   "metadata": {},
   "source": [
    "\n",
    "# Deep Learning for Image Classification Assessment\n",
    "# SOLUTION\n",
    "\n",
    "\n",
    "## The Challenge\n",
    "\n",
    "**Your task is to build an image classifier with Keras and Convolutional Neural Networks for the Fashion MNIST dataset. This data set includes 10 labels of different clothing types with 28 by 28 *grayscale* images. There is a training set of 60,000 images and 10,000 test images.**\n",
    "\n",
    "    Label\tDescription\n",
    "    0\t    T-shirt/top\n",
    "    1\t    Trouser\n",
    "    2\t    Pullover\n",
    "    3\t    Dress\n",
    "    4\t    Coat\n",
    "    5\t    Sandal\n",
    "    6\t    Shirt\n",
    "    7\t    Sneaker\n",
    "    8\t    Bag\n",
    "    9\t    Ankle boot\n",
    "    \n",
    " "
   ]
  },
  {
   "cell_type": "code",
   "execution_count": 1,
   "metadata": {},
   "outputs": [],
   "source": [
    "classes=[\"T-shirt/top\", \"Trouser\",\"Pullover\",\"Dress\",\"Coat\",\"Sandal\",\"Shirt\",\"Sneaker\",\"Bag\",\"Ankle boot\"]"
   ]
  },
  {
   "cell_type": "markdown",
   "metadata": {},
   "source": [
    "## The Data\n",
    "\n",
    "**TASK 1: Run the code below to download the dataset using Keras.**"
   ]
  },
  {
   "cell_type": "code",
   "execution_count": 2,
   "metadata": {},
   "outputs": [],
   "source": [
    "from tensorflow.keras.datasets import fashion_mnist\n",
    "\n",
    "(x_train, y_train), (x_test, y_test) = fashion_mnist.load_data()"
   ]
  },
  {
   "cell_type": "markdown",
   "metadata": {},
   "source": [
    "## Visualizing the Data\n",
    "\n",
    "**TASK 2: Use matplotlib to view an image from the data set. It can be any image from the data set.**"
   ]
  },
  {
   "cell_type": "code",
   "execution_count": 3,
   "metadata": {},
   "outputs": [],
   "source": [
    "import matplotlib.pyplot as plt\n",
    "import numpy as np\n",
    "import pandas as pd\n",
    "%matplotlib inline"
   ]
  },
  {
   "cell_type": "code",
   "execution_count": 4,
   "metadata": {
    "scrolled": true
   },
   "outputs": [
    {
     "data": {
      "text/plain": [
       "array([[  0,   0,   0,   0,   0,   0,   0,   0,   0,   0,   0,   0,   0,\n",
       "          0,   0,   0,   0,   0,   0,   0,   0,   0,   0,   0,   0,   0,\n",
       "          0,   0],\n",
       "       [  0,   0,   0,   0,   0,   0,   0,   0,   0,   0,   0,   0,   0,\n",
       "          0,   0,   0,   0,   0,   0,   0,   0,   0,   0,   0,   0,   0,\n",
       "          0,   0],\n",
       "       [  0,   0,   0,   0,   0,   0,   0,   0,   0,   0,   0,   0,   0,\n",
       "          0,   0,   0,   0,   0,   0,   0,   0,   0,   0,   0,   0,   0,\n",
       "          0,   0],\n",
       "       [  0,   0,   0,   0,   0,   0,   0,   0,   0,   0,   0,   0,   1,\n",
       "          0,   0,  13,  73,   0,   0,   1,   4,   0,   0,   0,   0,   1,\n",
       "          1,   0],\n",
       "       [  0,   0,   0,   0,   0,   0,   0,   0,   0,   0,   0,   0,   3,\n",
       "          0,  36, 136, 127,  62,  54,   0,   0,   0,   1,   3,   4,   0,\n",
       "          0,   3],\n",
       "       [  0,   0,   0,   0,   0,   0,   0,   0,   0,   0,   0,   0,   6,\n",
       "          0, 102, 204, 176, 134, 144, 123,  23,   0,   0,   0,   0,  12,\n",
       "         10,   0],\n",
       "       [  0,   0,   0,   0,   0,   0,   0,   0,   0,   0,   0,   0,   0,\n",
       "          0, 155, 236, 207, 178, 107, 156, 161, 109,  64,  23,  77, 130,\n",
       "         72,  15],\n",
       "       [  0,   0,   0,   0,   0,   0,   0,   0,   0,   0,   0,   1,   0,\n",
       "         69, 207, 223, 218, 216, 216, 163, 127, 121, 122, 146, 141,  88,\n",
       "        172,  66],\n",
       "       [  0,   0,   0,   0,   0,   0,   0,   0,   0,   1,   1,   1,   0,\n",
       "        200, 232, 232, 233, 229, 223, 223, 215, 213, 164, 127, 123, 196,\n",
       "        229,   0],\n",
       "       [  0,   0,   0,   0,   0,   0,   0,   0,   0,   0,   0,   0,   0,\n",
       "        183, 225, 216, 223, 228, 235, 227, 224, 222, 224, 221, 223, 245,\n",
       "        173,   0],\n",
       "       [  0,   0,   0,   0,   0,   0,   0,   0,   0,   0,   0,   0,   0,\n",
       "        193, 228, 218, 213, 198, 180, 212, 210, 211, 213, 223, 220, 243,\n",
       "        202,   0],\n",
       "       [  0,   0,   0,   0,   0,   0,   0,   0,   0,   1,   3,   0,  12,\n",
       "        219, 220, 212, 218, 192, 169, 227, 208, 218, 224, 212, 226, 197,\n",
       "        209,  52],\n",
       "       [  0,   0,   0,   0,   0,   0,   0,   0,   0,   0,   6,   0,  99,\n",
       "        244, 222, 220, 218, 203, 198, 221, 215, 213, 222, 220, 245, 119,\n",
       "        167,  56],\n",
       "       [  0,   0,   0,   0,   0,   0,   0,   0,   0,   4,   0,   0,  55,\n",
       "        236, 228, 230, 228, 240, 232, 213, 218, 223, 234, 217, 217, 209,\n",
       "         92,   0],\n",
       "       [  0,   0,   1,   4,   6,   7,   2,   0,   0,   0,   0,   0, 237,\n",
       "        226, 217, 223, 222, 219, 222, 221, 216, 223, 229, 215, 218, 255,\n",
       "         77,   0],\n",
       "       [  0,   3,   0,   0,   0,   0,   0,   0,   0,  62, 145, 204, 228,\n",
       "        207, 213, 221, 218, 208, 211, 218, 224, 223, 219, 215, 224, 244,\n",
       "        159,   0],\n",
       "       [  0,   0,   0,   0,  18,  44,  82, 107, 189, 228, 220, 222, 217,\n",
       "        226, 200, 205, 211, 230, 224, 234, 176, 188, 250, 248, 233, 238,\n",
       "        215,   0],\n",
       "       [  0,  57, 187, 208, 224, 221, 224, 208, 204, 214, 208, 209, 200,\n",
       "        159, 245, 193, 206, 223, 255, 255, 221, 234, 221, 211, 220, 232,\n",
       "        246,   0],\n",
       "       [  3, 202, 228, 224, 221, 211, 211, 214, 205, 205, 205, 220, 240,\n",
       "         80, 150, 255, 229, 221, 188, 154, 191, 210, 204, 209, 222, 228,\n",
       "        225,   0],\n",
       "       [ 98, 233, 198, 210, 222, 229, 229, 234, 249, 220, 194, 215, 217,\n",
       "        241,  65,  73, 106, 117, 168, 219, 221, 215, 217, 223, 223, 224,\n",
       "        229,  29],\n",
       "       [ 75, 204, 212, 204, 193, 205, 211, 225, 216, 185, 197, 206, 198,\n",
       "        213, 240, 195, 227, 245, 239, 223, 218, 212, 209, 222, 220, 221,\n",
       "        230,  67],\n",
       "       [ 48, 203, 183, 194, 213, 197, 185, 190, 194, 192, 202, 214, 219,\n",
       "        221, 220, 236, 225, 216, 199, 206, 186, 181, 177, 172, 181, 205,\n",
       "        206, 115],\n",
       "       [  0, 122, 219, 193, 179, 171, 183, 196, 204, 210, 213, 207, 211,\n",
       "        210, 200, 196, 194, 191, 195, 191, 198, 192, 176, 156, 167, 177,\n",
       "        210,  92],\n",
       "       [  0,   0,  74, 189, 212, 191, 175, 172, 175, 181, 185, 188, 189,\n",
       "        188, 193, 198, 204, 209, 210, 210, 211, 188, 188, 194, 192, 216,\n",
       "        170,   0],\n",
       "       [  2,   0,   0,   0,  66, 200, 222, 237, 239, 242, 246, 243, 244,\n",
       "        221, 220, 193, 191, 179, 182, 182, 181, 176, 166, 168,  99,  58,\n",
       "          0,   0],\n",
       "       [  0,   0,   0,   0,   0,   0,   0,  40,  61,  44,  72,  41,  35,\n",
       "          0,   0,   0,   0,   0,   0,   0,   0,   0,   0,   0,   0,   0,\n",
       "          0,   0],\n",
       "       [  0,   0,   0,   0,   0,   0,   0,   0,   0,   0,   0,   0,   0,\n",
       "          0,   0,   0,   0,   0,   0,   0,   0,   0,   0,   0,   0,   0,\n",
       "          0,   0],\n",
       "       [  0,   0,   0,   0,   0,   0,   0,   0,   0,   0,   0,   0,   0,\n",
       "          0,   0,   0,   0,   0,   0,   0,   0,   0,   0,   0,   0,   0,\n",
       "          0,   0]], dtype=uint8)"
      ]
     },
     "execution_count": 4,
     "metadata": {},
     "output_type": "execute_result"
    }
   ],
   "source": [
    "x_train[0]"
   ]
  },
  {
   "cell_type": "code",
   "execution_count": 5,
   "metadata": {},
   "outputs": [
    {
     "data": {
      "text/plain": [
       "(28, 28)"
      ]
     },
     "execution_count": 5,
     "metadata": {},
     "output_type": "execute_result"
    }
   ],
   "source": [
    "x_train[0].shape"
   ]
  },
  {
   "cell_type": "code",
   "execution_count": 6,
   "metadata": {},
   "outputs": [
    {
     "data": {
      "text/plain": [
       "<matplotlib.image.AxesImage at 0x211daee80d0>"
      ]
     },
     "execution_count": 6,
     "metadata": {},
     "output_type": "execute_result"
    },
    {
     "data": {
      "image/png": "[encoded data removed]",
      "text/plain": [
       "<Figure size 432x288 with 1 Axes>"
      ]
     },
     "metadata": {
      "needs_background": "light"
     },
     "output_type": "display_data"
    }
   ],
   "source": [
    "plt.imshow(x_train[0])"
   ]
  },
  {
   "cell_type": "code",
   "execution_count": 7,
   "metadata": {},
   "outputs": [
    {
     "data": {
      "text/plain": [
       "9"
      ]
     },
     "execution_count": 7,
     "metadata": {},
     "output_type": "execute_result"
    }
   ],
   "source": [
    "y_train[0]"
   ]
  },
  {
   "cell_type": "code",
   "execution_count": 8,
   "metadata": {},
   "outputs": [
    {
     "data": {
      "text/plain": [
       "'Ankle boot'"
      ]
     },
     "execution_count": 8,
     "metadata": {},
     "output_type": "execute_result"
    }
   ],
   "source": [
    "classes[9]"
   ]
  },
  {
   "cell_type": "markdown",
   "metadata": {},
   "source": [
    "## Preprocessing the Data\n",
    "\n",
    "**TASK 3: Normalize the X train and X test data by dividing by the max value of the image arrays.**"
   ]
  },
  {
   "cell_type": "code",
   "execution_count": 9,
   "metadata": {},
   "outputs": [
    {
     "data": {
      "text/plain": [
       "255"
      ]
     },
     "execution_count": 9,
     "metadata": {},
     "output_type": "execute_result"
    }
   ],
   "source": [
    "x_train.max()"
   ]
  },
  {
   "cell_type": "code",
   "execution_count": 10,
   "metadata": {},
   "outputs": [],
   "source": [
    "x_train = x_train/255"
   ]
  },
  {
   "cell_type": "code",
   "execution_count": 11,
   "metadata": {},
   "outputs": [],
   "source": [
    "x_test = x_test/255"
   ]
  },
  {
   "cell_type": "markdown",
   "metadata": {},
   "source": [
    "**Task 4: Reshape the X arrays to include a 4 dimension of the single channel. Similar to what we did for the numbers MNIST data set.**"
   ]
  },
  {
   "cell_type": "code",
   "execution_count": 12,
   "metadata": {},
   "outputs": [
    {
     "data": {
      "text/plain": [
       "(60000, 28, 28)"
      ]
     },
     "execution_count": 12,
     "metadata": {},
     "output_type": "execute_result"
    }
   ],
   "source": [
    "x_train.shape"
   ]
  },
  {
   "cell_type": "code",
   "execution_count": 13,
   "metadata": {},
   "outputs": [],
   "source": [
    "x_train = x_train.reshape(x_train.shape[0],28,28,1)"
   ]
  },
  {
   "cell_type": "code",
   "execution_count": 14,
   "metadata": {},
   "outputs": [],
   "source": [
    "x_test = x_test.reshape(10000,28,28,1)"
   ]
  },
  {
   "cell_type": "markdown",
   "metadata": {},
   "source": [
    "**TASK 5: Convert the y_train and y_test values to be one-hot encoded for categorical analysis by Keras.**"
   ]
  },
  {
   "cell_type": "code",
   "execution_count": 15,
   "metadata": {},
   "outputs": [],
   "source": [
    "from tensorflow.keras.utils import to_categorical"
   ]
  },
  {
   "cell_type": "code",
   "execution_count": 16,
   "metadata": {},
   "outputs": [
    {
     "data": {
      "text/plain": [
       "array([9, 0, 0, ..., 3, 0, 5], dtype=uint8)"
      ]
     },
     "execution_count": 16,
     "metadata": {},
     "output_type": "execute_result"
    }
   ],
   "source": [
    "y_train"
   ]
  },
  {
   "cell_type": "code",
   "execution_count": 17,
   "metadata": {},
   "outputs": [],
   "source": [
    "y_cat_train = to_categorical(y_train)"
   ]
  },
  {
   "cell_type": "code",
   "execution_count": 18,
   "metadata": {},
   "outputs": [],
   "source": [
    "y_cat_test = to_categorical(y_test)"
   ]
  },
  {
   "cell_type": "markdown",
   "metadata": {},
   "source": [
    "## Building the Model\n",
    "\n",
    "**TASK 5: Use Keras to create a model consisting of at least the following layers (but feel free to experiment):**\n",
    "\n",
    "* 2D Convolutional Layer, filters=28 and kernel_size=(3,3)\n",
    "* Pooling Layer where pool_size = (3,3) strides=(1,1)\n",
    "\n",
    "* Flatten Layer\n",
    "* Dense Layer (128 Neurons, but feel free to play around with this value), RELU activation\n",
    "\n",
    "* Final Dense Layer of 10 Neurons with a softmax activation\n",
    "\n",
    "**Then compile the model with these parameters: loss='categorical_crossentropy', optimizer='rmsprop', metrics=['accuracy']**"
   ]
  },
  {
   "cell_type": "code",
   "execution_count": 19,
   "metadata": {},
   "outputs": [],
   "source": [
    "from tensorflow.keras.models import Sequential\n",
    "from tensorflow.keras.layers import Dense, Conv2D, MaxPool2D, Flatten, Dropout"
   ]
  },
  {
   "cell_type": "markdown",
   "metadata": {},
   "source": [
    "### Training the Model\n",
    "**TASK 6: Train/Fit the model to the x_train set. Amount of epochs is up to you.**"
   ]
  },
  {
   "cell_type": "code",
   "execution_count": 20,
   "metadata": {},
   "outputs": [],
   "source": [
    "model = Sequential()\n",
    "model.add(Conv2D(filters=28, kernel_size=(3,3),input_shape=(28, 28, 1), activation='relu',))\n",
    "model.add(MaxPool2D(pool_size=(2, 2),strides=(1, 1)))\n",
    "model.add(Flatten())\n",
    "model.add(Dense(256, activation='relu'))\n",
    "model.add(Dropout(0.4))\n",
    "model.add(Dense(10, activation='softmax'))\n",
    "\n",
    "model.compile(loss='categorical_crossentropy',\n",
    "              optimizer='rmsprop',\n",
    "              metrics=['accuracy'])"
   ]
  },
  {
   "cell_type": "code",
   "execution_count": 21,
   "metadata": {},
   "outputs": [],
   "source": [
    "from tensorflow.keras.callbacks import EarlyStopping"
   ]
  },
  {
   "cell_type": "code",
   "execution_count": 22,
   "metadata": {},
   "outputs": [],
   "source": [
    "early_stop = EarlyStopping(monitor = \"val_accuracy\", patience = 3)"
   ]
  },
  {
   "cell_type": "code",
   "execution_count": 23,
   "metadata": {},
   "outputs": [
    {
     "name": "stdout",
     "output_type": "stream",
     "text": [
      "Epoch 1/10\n",
      "1875/1875 [==============================] - 25s 8ms/step - loss: 0.4204 - accuracy: 0.8555 - val_loss: 0.3316 - val_accuracy: 0.8801\n",
      "Epoch 2/10\n",
      "1875/1875 [==============================] - 16s 8ms/step - loss: 0.3058 - accuracy: 0.8939 - val_loss: 0.3146 - val_accuracy: 0.8897\n",
      "Epoch 3/10\n",
      "1875/1875 [==============================] - 16s 8ms/step - loss: 0.2919 - accuracy: 0.9015 - val_loss: 0.3278 - val_accuracy: 0.8985\n",
      "Epoch 4/10\n",
      "1875/1875 [==============================] - 16s 8ms/step - loss: 0.2870 - accuracy: 0.9024 - val_loss: 0.3253 - val_accuracy: 0.8892\n",
      "Epoch 5/10\n",
      "1875/1875 [==============================] - 16s 8ms/step - loss: 0.2864 - accuracy: 0.9046 - val_loss: 0.3500 - val_accuracy: 0.8863\n",
      "Epoch 6/10\n",
      "1875/1875 [==============================] - 16s 8ms/step - loss: 0.2825 - accuracy: 0.9051 - val_loss: 0.3400 - val_accuracy: 0.8903\n"
     ]
    },
    {
     "data": {
      "text/plain": [
       "<keras.callbacks.History at 0x21191326ac0>"
      ]
     },
     "execution_count": 23,
     "metadata": {},
     "output_type": "execute_result"
    }
   ],
   "source": [
    "model.fit(x_train, y = y_cat_train, validation_data=(x_test,y_cat_test), batch_size = 32, epochs = 10, verbose = 1,\n",
    "          callbacks = [early_stop])"
   ]
  },
  {
   "cell_type": "code",
   "execution_count": 24,
   "metadata": {},
   "outputs": [
    {
     "data": {
      "text/html": [
       "<div>\n",
       "<style scoped>\n",
       "    .dataframe tbody tr th:only-of-type {\n",
       "        vertical-align: middle;\n",
       "    }\n",
       "\n",
       "    .dataframe tbody tr th {\n",
       "        vertical-align: top;\n",
       "    }\n",
       "\n",
       "    .dataframe thead th {\n",
       "        text-align: right;\n",
       "    }\n",
       "</style>\n",
       "<table border=\"1\" class=\"dataframe\">\n",
       "  <thead>\n",
       "    <tr style=\"text-align: right;\">\n",
       "      <th></th>\n",
       "      <th>loss</th>\n",
       "      <th>accuracy</th>\n",
       "      <th>val_loss</th>\n",
       "      <th>val_accuracy</th>\n",
       "    </tr>\n",
       "  </thead>\n",
       "  <tbody>\n",
       "    <tr>\n",
       "      <th>0</th>\n",
       "      <td>0.420379</td>\n",
       "      <td>0.855500</td>\n",
       "      <td>0.331648</td>\n",
       "      <td>0.8801</td>\n",
       "    </tr>\n",
       "    <tr>\n",
       "      <th>1</th>\n",
       "      <td>0.305836</td>\n",
       "      <td>0.893883</td>\n",
       "      <td>0.314586</td>\n",
       "      <td>0.8897</td>\n",
       "    </tr>\n",
       "    <tr>\n",
       "      <th>2</th>\n",
       "      <td>0.291864</td>\n",
       "      <td>0.901550</td>\n",
       "      <td>0.327799</td>\n",
       "      <td>0.8985</td>\n",
       "    </tr>\n",
       "    <tr>\n",
       "      <th>3</th>\n",
       "      <td>0.287014</td>\n",
       "      <td>0.902383</td>\n",
       "      <td>0.325326</td>\n",
       "      <td>0.8892</td>\n",
       "    </tr>\n",
       "    <tr>\n",
       "      <th>4</th>\n",
       "      <td>0.286419</td>\n",
       "      <td>0.904567</td>\n",
       "      <td>0.350031</td>\n",
       "      <td>0.8863</td>\n",
       "    </tr>\n",
       "  </tbody>\n",
       "</table>\n",
       "</div>"
      ],
      "text/plain": [
       "       loss  accuracy  val_loss  val_accuracy\n",
       "0  0.420379  0.855500  0.331648        0.8801\n",
       "1  0.305836  0.893883  0.314586        0.8897\n",
       "2  0.291864  0.901550  0.327799        0.8985\n",
       "3  0.287014  0.902383  0.325326        0.8892\n",
       "4  0.286419  0.904567  0.350031        0.8863"
      ]
     },
     "execution_count": 24,
     "metadata": {},
     "output_type": "execute_result"
    }
   ],
   "source": [
    "loss_df = pd.DataFrame(model.history.history)\n",
    "loss_df.head()"
   ]
  },
  {
   "cell_type": "code",
   "execution_count": 25,
   "metadata": {},
   "outputs": [
    {
     "data": {
      "image/png": "[encoded data removed]",
      "text/plain": [
       "<Figure size 432x288 with 1 Axes>"
      ]
     },
     "metadata": {
      "needs_background": "light"
     },
     "output_type": "display_data"
    }
   ],
   "source": [
    "loss_df.plot();"
   ]
  },
  {
   "cell_type": "markdown",
   "metadata": {},
   "source": [
    "### Evaluating the Model\n",
    "\n",
    "**TASK 7: Show the accuracy,precision,recall,f1-score the model achieved on the x_test data set. Keep in mind, there are quite a few ways to do this, but we recommend following the same procedure we showed in the MNIST lecture.**"
   ]
  },
  {
   "cell_type": "code",
   "execution_count": 26,
   "metadata": {},
   "outputs": [
    {
     "data": {
      "text/plain": [
       "['loss', 'accuracy']"
      ]
     },
     "execution_count": 26,
     "metadata": {},
     "output_type": "execute_result"
    }
   ],
   "source": [
    "model.metrics_names"
   ]
  },
  {
   "cell_type": "code",
   "execution_count": 27,
   "metadata": {},
   "outputs": [
    {
     "name": "stdout",
     "output_type": "stream",
     "text": [
      "313/313 [==============================] - 1s 3ms/step - loss: 0.3400 - accuracy: 0.8903\n"
     ]
    },
    {
     "data": {
      "text/plain": [
       "[0.3400176465511322, 0.8902999758720398]"
      ]
     },
     "execution_count": 27,
     "metadata": {},
     "output_type": "execute_result"
    }
   ],
   "source": [
    "model.evaluate(x_test,y_cat_test)"
   ]
  },
  {
   "cell_type": "code",
   "execution_count": 28,
   "metadata": {},
   "outputs": [],
   "source": [
    "from sklearn.metrics import classification_report"
   ]
  },
  {
   "cell_type": "code",
   "execution_count": 29,
   "metadata": {},
   "outputs": [
    {
     "data": {
      "text/plain": [
       "array([[2.1910506e-07, 2.6234534e-10, 2.1005239e-07, ..., 1.2968591e-03,\n",
       "        9.4166882e-07, 9.9798405e-01],\n",
       "       [1.5873826e-07, 2.0955194e-18, 9.9999964e-01, ..., 1.4936892e-14,\n",
       "        2.1863072e-13, 8.8364777e-18],\n",
       "       [1.8688228e-08, 1.0000000e+00, 6.6326450e-12, ..., 2.0643333e-12,\n",
       "        6.6946249e-10, 3.3501112e-12],\n",
       "       ...,\n",
       "       [1.1644663e-07, 1.3411638e-21, 2.3189735e-09, ..., 1.3715091e-12,\n",
       "        9.9999988e-01, 4.7744007e-19],\n",
       "       [3.9363556e-07, 9.9995959e-01, 5.1435123e-09, ..., 2.4780489e-09,\n",
       "        4.7170744e-08, 1.0074029e-07],\n",
       "       [2.8417408e-03, 3.9288323e-04, 1.0000944e-02, ..., 3.5152897e-01,\n",
       "        3.1779636e-02, 2.2965614e-02]], dtype=float32)"
      ]
     },
     "execution_count": 29,
     "metadata": {},
     "output_type": "execute_result"
    }
   ],
   "source": [
    "predictions = model.predict(x_test)\n",
    "predictions"
   ]
  },
  {
   "cell_type": "code",
   "execution_count": 30,
   "metadata": {},
   "outputs": [
    {
     "data": {
      "text/plain": [
       "array([9, 2, 1, ..., 8, 1, 5], dtype=int64)"
      ]
     },
     "execution_count": 30,
     "metadata": {},
     "output_type": "execute_result"
    }
   ],
   "source": [
    "preds=np.argmax(predictions,axis=1)\n",
    "preds"
   ]
  },
  {
   "cell_type": "code",
   "execution_count": 31,
   "metadata": {},
   "outputs": [
    {
     "data": {
      "text/plain": [
       "(10000, 10)"
      ]
     },
     "execution_count": 31,
     "metadata": {},
     "output_type": "execute_result"
    }
   ],
   "source": [
    "y_cat_test.shape"
   ]
  },
  {
   "cell_type": "code",
   "execution_count": 32,
   "metadata": {},
   "outputs": [
    {
     "data": {
      "text/plain": [
       "array([0., 0., 0., 0., 0., 0., 0., 0., 0., 1.], dtype=float32)"
      ]
     },
     "execution_count": 32,
     "metadata": {},
     "output_type": "execute_result"
    }
   ],
   "source": [
    "y_cat_test[0]"
   ]
  },
  {
   "cell_type": "code",
   "execution_count": 33,
   "metadata": {},
   "outputs": [
    {
     "data": {
      "text/plain": [
       "9"
      ]
     },
     "execution_count": 33,
     "metadata": {},
     "output_type": "execute_result"
    }
   ],
   "source": [
    "np.argmax(predictions[0])"
   ]
  },
  {
   "cell_type": "code",
   "execution_count": 34,
   "metadata": {},
   "outputs": [
    {
     "data": {
      "text/plain": [
       "array([9, 2, 1, ..., 8, 1, 5], dtype=uint8)"
      ]
     },
     "execution_count": 34,
     "metadata": {},
     "output_type": "execute_result"
    }
   ],
   "source": [
    "y_test"
   ]
  },
  {
   "cell_type": "code",
   "execution_count": 35,
   "metadata": {
    "scrolled": false
   },
   "outputs": [
    {
     "name": "stdout",
     "output_type": "stream",
     "text": [
      "              precision    recall  f1-score   support\n",
      "\n",
      "           0       0.83      0.87      0.85      1000\n",
      "           1       0.99      0.97      0.98      1000\n",
      "           2       0.77      0.89      0.83      1000\n",
      "           3       0.87      0.94      0.90      1000\n",
      "           4       0.86      0.77      0.81      1000\n",
      "           5       0.98      0.94      0.96      1000\n",
      "           6       0.77      0.63      0.69      1000\n",
      "           7       0.89      0.99      0.94      1000\n",
      "           8       0.98      0.97      0.98      1000\n",
      "           9       0.98      0.93      0.95      1000\n",
      "\n",
      "    accuracy                           0.89     10000\n",
      "   macro avg       0.89      0.89      0.89     10000\n",
      "weighted avg       0.89      0.89      0.89     10000\n",
      "\n"
     ]
    }
   ],
   "source": [
    "print(classification_report(y_test,preds))"
   ]
  },
  {
   "cell_type": "code",
   "execution_count": 36,
   "metadata": {},
   "outputs": [
    {
     "data": {
      "text/plain": [
       "'Shirt'"
      ]
     },
     "execution_count": 36,
     "metadata": {},
     "output_type": "execute_result"
    }
   ],
   "source": [
    "classes[6]"
   ]
  },
  {
   "cell_type": "markdown",
   "metadata": {},
   "source": [
    "## Prediction"
   ]
  },
  {
   "cell_type": "code",
   "execution_count": 37,
   "metadata": {},
   "outputs": [],
   "source": [
    "samples=[x_test[19],x_test[15],x_test[12],x_test[14]]"
   ]
  },
  {
   "cell_type": "code",
   "execution_count": 134,
   "metadata": {},
   "outputs": [
    {
     "data": {
      "text/plain": [
       "<matplotlib.image.AxesImage at 0x21293b5d8e0>"
      ]
     },
     "execution_count": 134,
     "metadata": {},
     "output_type": "execute_result"
    },
    {
     "data": {
      "image/png": "[encoded data removed]",
      "text/plain": [
       "<Figure size 432x288 with 1 Axes>"
      ]
     },
     "metadata": {
      "needs_background": "light"
     },
     "output_type": "display_data"
    }
   ],
   "source": [
    "plt.imshow(samples[0])"
   ]
  },
  {
   "cell_type": "code",
   "execution_count": 39,
   "metadata": {},
   "outputs": [
    {
     "data": {
      "text/plain": [
       "array([[[0.        ],\n",
       "        [0.        ],\n",
       "        [0.        ],\n",
       "        [0.        ],\n",
       "        [0.        ],\n",
       "        [0.        ],\n",
       "        [0.        ],\n",
       "        [0.        ],\n",
       "        [0.        ],\n",
       "        [0.20392157],\n",
       "        [0.75294118],\n",
       "        [0.45098039],\n",
       "        [0.10588235],\n",
       "        [0.00392157],\n",
       "        [0.00392157],\n",
       "        [0.12156863],\n",
       "        [0.56078431],\n",
       "        [0.70196078],\n",
       "        [0.1254902 ],\n",
       "        [0.        ],\n",
       "        [0.        ],\n",
       "        [0.        ],\n",
       "        [0.        ],\n",
       "        [0.        ],\n",
       "        [0.        ],\n",
       "        [0.        ],\n",
       "        [0.        ],\n",
       "        [0.        ]],\n",
       "\n",
       "       [[0.        ],\n",
       "        [0.        ],\n",
       "        [0.        ],\n",
       "        [0.        ],\n",
       "        [0.        ],\n",
       "        [0.        ],\n",
       "        [0.01960784],\n",
       "        [0.44313725],\n",
       "        [0.7254902 ],\n",
       "        [0.84705882],\n",
       "        [0.74509804],\n",
       "        [0.89803922],\n",
       "        [0.92941176],\n",
       "        [0.8627451 ],\n",
       "        [0.85098039],\n",
       "        [0.94901961],\n",
       "        [0.78823529],\n",
       "        [0.74901961],\n",
       "        [0.87058824],\n",
       "        [0.65490196],\n",
       "        [0.34117647],\n",
       "        [0.        ],\n",
       "        [0.        ],\n",
       "        [0.        ],\n",
       "        [0.        ],\n",
       "        [0.        ],\n",
       "        [0.        ],\n",
       "        [0.        ]],\n",
       "\n",
       "       [[0.        ],\n",
       "        [0.        ],\n",
       "        [0.        ],\n",
       "        [0.        ],\n",
       "        [0.        ],\n",
       "        [0.19607843],\n",
       "        [0.68627451],\n",
       "        [0.76078431],\n",
       "        [0.74117647],\n",
       "        [0.72941176],\n",
       "        [0.7254902 ],\n",
       "        [0.73333333],\n",
       "        [0.78039216],\n",
       "        [0.7372549 ],\n",
       "        [0.72156863],\n",
       "        [0.75686275],\n",
       "        [0.7254902 ],\n",
       "        [0.7372549 ],\n",
       "        [0.71764706],\n",
       "        [0.73333333],\n",
       "        [0.75686275],\n",
       "        [0.82352941],\n",
       "        [0.05882353],\n",
       "        [0.        ],\n",
       "        [0.        ],\n",
       "        [0.        ],\n",
       "        [0.        ],\n",
       "        [0.        ]],\n",
       "\n",
       "       [[0.        ],\n",
       "        [0.        ],\n",
       "        [0.        ],\n",
       "        [0.        ],\n",
       "        [0.        ],\n",
       "        [0.78039216],\n",
       "        [0.76078431],\n",
       "        [0.70980392],\n",
       "        [0.7372549 ],\n",
       "        [0.74509804],\n",
       "        [0.74117647],\n",
       "        [0.7372549 ],\n",
       "        [0.75294118],\n",
       "        [0.78039216],\n",
       "        [0.77254902],\n",
       "        [0.76470588],\n",
       "        [0.75294118],\n",
       "        [0.74901961],\n",
       "        [0.7372549 ],\n",
       "        [0.72156863],\n",
       "        [0.69411765],\n",
       "        [0.74117647],\n",
       "        [0.69803922],\n",
       "        [0.        ],\n",
       "        [0.        ],\n",
       "        [0.        ],\n",
       "        [0.        ],\n",
       "        [0.        ]],\n",
       "\n",
       "       [[0.        ],\n",
       "        [0.        ],\n",
       "        [0.        ],\n",
       "        [0.        ],\n",
       "        [0.18823529],\n",
       "        [0.76078431],\n",
       "        [0.74117647],\n",
       "        [0.74117647],\n",
       "        [0.75686275],\n",
       "        [0.74117647],\n",
       "        [0.74117647],\n",
       "        [0.7372549 ],\n",
       "        [0.7372549 ],\n",
       "        [0.74901961],\n",
       "        [0.74901961],\n",
       "        [0.74509804],\n",
       "        [0.75686275],\n",
       "        [0.74509804],\n",
       "        [0.7372549 ],\n",
       "        [0.72941176],\n",
       "        [0.76078431],\n",
       "        [0.72156863],\n",
       "        [0.74117647],\n",
       "        [0.16470588],\n",
       "        [0.        ],\n",
       "        [0.        ],\n",
       "        [0.        ],\n",
       "        [0.        ]],\n",
       "\n",
       "       [[0.        ],\n",
       "        [0.        ],\n",
       "        [0.        ],\n",
       "        [0.        ],\n",
       "        [0.76078431],\n",
       "        [0.89411765],\n",
       "        [0.76862745],\n",
       "        [0.74509804],\n",
       "        [0.74117647],\n",
       "        [0.74901961],\n",
       "        [0.69411765],\n",
       "        [0.69411765],\n",
       "        [0.70980392],\n",
       "        [0.73333333],\n",
       "        [0.72941176],\n",
       "        [0.72156863],\n",
       "        [0.70588235],\n",
       "        [0.70980392],\n",
       "        [0.7372549 ],\n",
       "        [0.75294118],\n",
       "        [0.7372549 ],\n",
       "        [0.73333333],\n",
       "        [0.74901961],\n",
       "        [0.49411765],\n",
       "        [0.        ],\n",
       "        [0.        ],\n",
       "        [0.        ],\n",
       "        [0.        ]],\n",
       "\n",
       "       [[0.        ],\n",
       "        [0.        ],\n",
       "        [0.        ],\n",
       "        [0.        ],\n",
       "        [0.85882353],\n",
       "        [0.93333333],\n",
       "        [0.80392157],\n",
       "        [0.74509804],\n",
       "        [0.74509804],\n",
       "        [0.70196078],\n",
       "        [0.75294118],\n",
       "        [0.8627451 ],\n",
       "        [0.81960784],\n",
       "        [0.87843137],\n",
       "        [0.90588235],\n",
       "        [0.8627451 ],\n",
       "        [0.89019608],\n",
       "        [0.80784314],\n",
       "        [0.72156863],\n",
       "        [0.74117647],\n",
       "        [0.7372549 ],\n",
       "        [0.76862745],\n",
       "        [0.72941176],\n",
       "        [0.74509804],\n",
       "        [0.        ],\n",
       "        [0.        ],\n",
       "        [0.        ],\n",
       "        [0.        ]],\n",
       "\n",
       "       [[0.        ],\n",
       "        [0.        ],\n",
       "        [0.        ],\n",
       "        [0.25882353],\n",
       "        [0.92156863],\n",
       "        [0.88235294],\n",
       "        [0.79215686],\n",
       "        [0.7372549 ],\n",
       "        [0.74509804],\n",
       "        [0.86666667],\n",
       "        [0.83921569],\n",
       "        [0.74117647],\n",
       "        [0.63137255],\n",
       "        [0.6627451 ],\n",
       "        [0.74901961],\n",
       "        [0.69019608],\n",
       "        [0.81176471],\n",
       "        [0.76078431],\n",
       "        [0.9372549 ],\n",
       "        [0.74901961],\n",
       "        [0.7254902 ],\n",
       "        [0.76862745],\n",
       "        [0.72156863],\n",
       "        [0.69803922],\n",
       "        [0.18431373],\n",
       "        [0.        ],\n",
       "        [0.        ],\n",
       "        [0.        ]],\n",
       "\n",
       "       [[0.        ],\n",
       "        [0.        ],\n",
       "        [0.        ],\n",
       "        [0.51372549],\n",
       "        [0.95294118],\n",
       "        [0.85098039],\n",
       "        [0.77647059],\n",
       "        [0.73333333],\n",
       "        [0.89803922],\n",
       "        [0.70196078],\n",
       "        [0.67058824],\n",
       "        [0.64705882],\n",
       "        [0.63137255],\n",
       "        [0.67843137],\n",
       "        [0.68627451],\n",
       "        [0.61960784],\n",
       "        [0.68627451],\n",
       "        [0.46666667],\n",
       "        [0.70196078],\n",
       "        [0.9372549 ],\n",
       "        [0.70980392],\n",
       "        [0.75294118],\n",
       "        [0.74509804],\n",
       "        [0.76862745],\n",
       "        [0.45098039],\n",
       "        [0.        ],\n",
       "        [0.        ],\n",
       "        [0.        ]],\n",
       "\n",
       "       [[0.        ],\n",
       "        [0.        ],\n",
       "        [0.        ],\n",
       "        [0.        ],\n",
       "        [0.41960784],\n",
       "        [0.88235294],\n",
       "        [1.        ],\n",
       "        [0.7372549 ],\n",
       "        [0.82745098],\n",
       "        [0.68235294],\n",
       "        [0.48235294],\n",
       "        [0.8745098 ],\n",
       "        [0.86666667],\n",
       "        [0.89411765],\n",
       "        [0.94117647],\n",
       "        [0.85098039],\n",
       "        [0.82745098],\n",
       "        [0.58823529],\n",
       "        [0.8627451 ],\n",
       "        [0.83921569],\n",
       "        [0.7254902 ],\n",
       "        [0.84313725],\n",
       "        [0.81960784],\n",
       "        [0.27843137],\n",
       "        [0.        ],\n",
       "        [0.        ],\n",
       "        [0.        ],\n",
       "        [0.        ]],\n",
       "\n",
       "       [[0.        ],\n",
       "        [0.        ],\n",
       "        [0.        ],\n",
       "        [0.        ],\n",
       "        [0.        ],\n",
       "        [0.        ],\n",
       "        [0.38823529],\n",
       "        [0.85882353],\n",
       "        [0.72941176],\n",
       "        [0.88627451],\n",
       "        [0.92156863],\n",
       "        [0.88627451],\n",
       "        [0.77647059],\n",
       "        [0.74509804],\n",
       "        [0.72941176],\n",
       "        [0.76862745],\n",
       "        [0.82745098],\n",
       "        [0.87843137],\n",
       "        [0.90196078],\n",
       "        [0.72156863],\n",
       "        [0.81960784],\n",
       "        [0.45098039],\n",
       "        [0.        ],\n",
       "        [0.        ],\n",
       "        [0.        ],\n",
       "        [0.        ],\n",
       "        [0.        ],\n",
       "        [0.        ]],\n",
       "\n",
       "       [[0.        ],\n",
       "        [0.        ],\n",
       "        [0.        ],\n",
       "        [0.00392157],\n",
       "        [0.00784314],\n",
       "        [0.        ],\n",
       "        [0.        ],\n",
       "        [0.85882353],\n",
       "        [0.78039216],\n",
       "        [0.75686275],\n",
       "        [0.8       ],\n",
       "        [0.72156863],\n",
       "        [0.74509804],\n",
       "        [0.75294118],\n",
       "        [0.76470588],\n",
       "        [0.7372549 ],\n",
       "        [0.83137255],\n",
       "        [0.90588235],\n",
       "        [0.89019608],\n",
       "        [0.85098039],\n",
       "        [0.76470588],\n",
       "        [0.        ],\n",
       "        [0.        ],\n",
       "        [0.01176471],\n",
       "        [0.        ],\n",
       "        [0.        ],\n",
       "        [0.        ],\n",
       "        [0.        ]],\n",
       "\n",
       "       [[0.        ],\n",
       "        [0.        ],\n",
       "        [0.        ],\n",
       "        [0.        ],\n",
       "        [0.00784314],\n",
       "        [0.        ],\n",
       "        [0.        ],\n",
       "        [0.87058824],\n",
       "        [0.77647059],\n",
       "        [0.76862745],\n",
       "        [0.76470588],\n",
       "        [0.77254902],\n",
       "        [0.76078431],\n",
       "        [0.75686275],\n",
       "        [0.77647059],\n",
       "        [0.71764706],\n",
       "        [0.89411765],\n",
       "        [0.95686275],\n",
       "        [0.89019608],\n",
       "        [0.84705882],\n",
       "        [0.76470588],\n",
       "        [0.        ],\n",
       "        [0.        ],\n",
       "        [0.        ],\n",
       "        [0.        ],\n",
       "        [0.        ],\n",
       "        [0.        ],\n",
       "        [0.        ]],\n",
       "\n",
       "       [[0.        ],\n",
       "        [0.        ],\n",
       "        [0.        ],\n",
       "        [0.        ],\n",
       "        [0.00392157],\n",
       "        [0.        ],\n",
       "        [0.        ],\n",
       "        [0.85098039],\n",
       "        [0.77254902],\n",
       "        [0.76862745],\n",
       "        [0.78039216],\n",
       "        [0.77254902],\n",
       "        [0.76470588],\n",
       "        [0.77254902],\n",
       "        [0.76470588],\n",
       "        [0.76078431],\n",
       "        [0.78823529],\n",
       "        [0.90980392],\n",
       "        [0.89019608],\n",
       "        [0.81960784],\n",
       "        [0.71764706],\n",
       "        [0.        ],\n",
       "        [0.        ],\n",
       "        [0.00392157],\n",
       "        [0.        ],\n",
       "        [0.        ],\n",
       "        [0.        ],\n",
       "        [0.        ]],\n",
       "\n",
       "       [[0.        ],\n",
       "        [0.        ],\n",
       "        [0.        ],\n",
       "        [0.        ],\n",
       "        [0.00784314],\n",
       "        [0.        ],\n",
       "        [0.        ],\n",
       "        [0.85098039],\n",
       "        [0.77254902],\n",
       "        [0.77254902],\n",
       "        [0.78039216],\n",
       "        [0.77647059],\n",
       "        [0.77647059],\n",
       "        [0.78039216],\n",
       "        [0.76862745],\n",
       "        [0.79215686],\n",
       "        [0.74901961],\n",
       "        [0.75686275],\n",
       "        [0.76470588],\n",
       "        [0.77254902],\n",
       "        [0.72156863],\n",
       "        [0.        ],\n",
       "        [0.        ],\n",
       "        [0.        ],\n",
       "        [0.        ],\n",
       "        [0.        ],\n",
       "        [0.        ],\n",
       "        [0.        ]],\n",
       "\n",
       "       [[0.        ],\n",
       "        [0.        ],\n",
       "        [0.        ],\n",
       "        [0.        ],\n",
       "        [0.00784314],\n",
       "        [0.        ],\n",
       "        [0.        ],\n",
       "        [0.84313725],\n",
       "        [0.77647059],\n",
       "        [0.77647059],\n",
       "        [0.78039216],\n",
       "        [0.78039216],\n",
       "        [0.78823529],\n",
       "        [0.78823529],\n",
       "        [0.77647059],\n",
       "        [0.78823529],\n",
       "        [0.77254902],\n",
       "        [0.75686275],\n",
       "        [0.7254902 ],\n",
       "        [0.77647059],\n",
       "        [0.71764706],\n",
       "        [0.        ],\n",
       "        [0.        ],\n",
       "        [0.00392157],\n",
       "        [0.        ],\n",
       "        [0.        ],\n",
       "        [0.        ],\n",
       "        [0.        ]],\n",
       "\n",
       "       [[0.        ],\n",
       "        [0.        ],\n",
       "        [0.        ],\n",
       "        [0.        ],\n",
       "        [0.00784314],\n",
       "        [0.        ],\n",
       "        [0.        ],\n",
       "        [0.83137255],\n",
       "        [0.78039216],\n",
       "        [0.77647059],\n",
       "        [0.77647059],\n",
       "        [0.78823529],\n",
       "        [0.79215686],\n",
       "        [0.79215686],\n",
       "        [0.77254902],\n",
       "        [0.78039216],\n",
       "        [0.77647059],\n",
       "        [0.77647059],\n",
       "        [0.74509804],\n",
       "        [0.78039216],\n",
       "        [0.71764706],\n",
       "        [0.        ],\n",
       "        [0.        ],\n",
       "        [0.00392157],\n",
       "        [0.        ],\n",
       "        [0.        ],\n",
       "        [0.        ],\n",
       "        [0.        ]],\n",
       "\n",
       "       [[0.        ],\n",
       "        [0.        ],\n",
       "        [0.        ],\n",
       "        [0.        ],\n",
       "        [0.00784314],\n",
       "        [0.        ],\n",
       "        [0.        ],\n",
       "        [0.83921569],\n",
       "        [0.78823529],\n",
       "        [0.78039216],\n",
       "        [0.78039216],\n",
       "        [0.78823529],\n",
       "        [0.79215686],\n",
       "        [0.79215686],\n",
       "        [0.78039216],\n",
       "        [0.78823529],\n",
       "        [0.77647059],\n",
       "        [0.77254902],\n",
       "        [0.74901961],\n",
       "        [0.77647059],\n",
       "        [0.7254902 ],\n",
       "        [0.        ],\n",
       "        [0.        ],\n",
       "        [0.00392157],\n",
       "        [0.        ],\n",
       "        [0.        ],\n",
       "        [0.        ],\n",
       "        [0.        ]],\n",
       "\n",
       "       [[0.        ],\n",
       "        [0.        ],\n",
       "        [0.        ],\n",
       "        [0.        ],\n",
       "        [0.00784314],\n",
       "        [0.        ],\n",
       "        [0.        ],\n",
       "        [0.84705882],\n",
       "        [0.79607843],\n",
       "        [0.78039216],\n",
       "        [0.78823529],\n",
       "        [0.79215686],\n",
       "        [0.8       ],\n",
       "        [0.79215686],\n",
       "        [0.78039216],\n",
       "        [0.78823529],\n",
       "        [0.77647059],\n",
       "        [0.77254902],\n",
       "        [0.75686275],\n",
       "        [0.76862745],\n",
       "        [0.74901961],\n",
       "        [0.        ],\n",
       "        [0.        ],\n",
       "        [0.00392157],\n",
       "        [0.        ],\n",
       "        [0.        ],\n",
       "        [0.        ],\n",
       "        [0.        ]],\n",
       "\n",
       "       [[0.        ],\n",
       "        [0.        ],\n",
       "        [0.        ],\n",
       "        [0.        ],\n",
       "        [0.00784314],\n",
       "        [0.        ],\n",
       "        [0.        ],\n",
       "        [0.85098039],\n",
       "        [0.79215686],\n",
       "        [0.77254902],\n",
       "        [0.79607843],\n",
       "        [0.79215686],\n",
       "        [0.79215686],\n",
       "        [0.8       ],\n",
       "        [0.79607843],\n",
       "        [0.79215686],\n",
       "        [0.78823529],\n",
       "        [0.77647059],\n",
       "        [0.76470588],\n",
       "        [0.76470588],\n",
       "        [0.78823529],\n",
       "        [0.        ],\n",
       "        [0.        ],\n",
       "        [0.00392157],\n",
       "        [0.        ],\n",
       "        [0.        ],\n",
       "        [0.        ],\n",
       "        [0.        ]],\n",
       "\n",
       "       [[0.        ],\n",
       "        [0.        ],\n",
       "        [0.        ],\n",
       "        [0.        ],\n",
       "        [0.01176471],\n",
       "        [0.        ],\n",
       "        [0.        ],\n",
       "        [0.85098039],\n",
       "        [0.78039216],\n",
       "        [0.77254902],\n",
       "        [0.80392157],\n",
       "        [0.79607843],\n",
       "        [0.79607843],\n",
       "        [0.8       ],\n",
       "        [0.79215686],\n",
       "        [0.79215686],\n",
       "        [0.79215686],\n",
       "        [0.78039216],\n",
       "        [0.76470588],\n",
       "        [0.76470588],\n",
       "        [0.8       ],\n",
       "        [0.        ],\n",
       "        [0.        ],\n",
       "        [0.00392157],\n",
       "        [0.        ],\n",
       "        [0.        ],\n",
       "        [0.        ],\n",
       "        [0.        ]],\n",
       "\n",
       "       [[0.        ],\n",
       "        [0.        ],\n",
       "        [0.        ],\n",
       "        [0.        ],\n",
       "        [0.00784314],\n",
       "        [0.        ],\n",
       "        [0.        ],\n",
       "        [0.86666667],\n",
       "        [0.77647059],\n",
       "        [0.77647059],\n",
       "        [0.8       ],\n",
       "        [0.79215686],\n",
       "        [0.79215686],\n",
       "        [0.79607843],\n",
       "        [0.78823529],\n",
       "        [0.78039216],\n",
       "        [0.78823529],\n",
       "        [0.78039216],\n",
       "        [0.76470588],\n",
       "        [0.76862745],\n",
       "        [0.77647059],\n",
       "        [0.        ],\n",
       "        [0.        ],\n",
       "        [0.00392157],\n",
       "        [0.        ],\n",
       "        [0.        ],\n",
       "        [0.        ],\n",
       "        [0.        ]],\n",
       "\n",
       "       [[0.        ],\n",
       "        [0.        ],\n",
       "        [0.        ],\n",
       "        [0.        ],\n",
       "        [0.00784314],\n",
       "        [0.        ],\n",
       "        [0.        ],\n",
       "        [0.87843137],\n",
       "        [0.77647059],\n",
       "        [0.78823529],\n",
       "        [0.78823529],\n",
       "        [0.78039216],\n",
       "        [0.78039216],\n",
       "        [0.79215686],\n",
       "        [0.78823529],\n",
       "        [0.78039216],\n",
       "        [0.78039216],\n",
       "        [0.78039216],\n",
       "        [0.76470588],\n",
       "        [0.76862745],\n",
       "        [0.76078431],\n",
       "        [0.        ],\n",
       "        [0.        ],\n",
       "        [0.00392157],\n",
       "        [0.        ],\n",
       "        [0.        ],\n",
       "        [0.        ],\n",
       "        [0.        ]],\n",
       "\n",
       "       [[0.        ],\n",
       "        [0.        ],\n",
       "        [0.        ],\n",
       "        [0.        ],\n",
       "        [0.00784314],\n",
       "        [0.        ],\n",
       "        [0.04313725],\n",
       "        [0.74901961],\n",
       "        [0.76078431],\n",
       "        [0.79607843],\n",
       "        [0.78823529],\n",
       "        [0.78039216],\n",
       "        [0.77254902],\n",
       "        [0.77647059],\n",
       "        [0.78039216],\n",
       "        [0.77647059],\n",
       "        [0.77647059],\n",
       "        [0.77647059],\n",
       "        [0.78039216],\n",
       "        [0.77647059],\n",
       "        [0.76470588],\n",
       "        [0.        ],\n",
       "        [0.        ],\n",
       "        [0.00392157],\n",
       "        [0.        ],\n",
       "        [0.        ],\n",
       "        [0.        ],\n",
       "        [0.        ]],\n",
       "\n",
       "       [[0.        ],\n",
       "        [0.        ],\n",
       "        [0.        ],\n",
       "        [0.        ],\n",
       "        [0.00784314],\n",
       "        [0.        ],\n",
       "        [0.04313725],\n",
       "        [0.75686275],\n",
       "        [0.76862745],\n",
       "        [0.78823529],\n",
       "        [0.76862745],\n",
       "        [0.76862745],\n",
       "        [0.76862745],\n",
       "        [0.76862745],\n",
       "        [0.77254902],\n",
       "        [0.77647059],\n",
       "        [0.77647059],\n",
       "        [0.77254902],\n",
       "        [0.77647059],\n",
       "        [0.77647059],\n",
       "        [0.8       ],\n",
       "        [0.        ],\n",
       "        [0.        ],\n",
       "        [0.00392157],\n",
       "        [0.        ],\n",
       "        [0.        ],\n",
       "        [0.        ],\n",
       "        [0.        ]],\n",
       "\n",
       "       [[0.        ],\n",
       "        [0.        ],\n",
       "        [0.        ],\n",
       "        [0.        ],\n",
       "        [0.00784314],\n",
       "        [0.        ],\n",
       "        [0.03921569],\n",
       "        [0.74901961],\n",
       "        [0.76862745],\n",
       "        [0.75686275],\n",
       "        [0.75686275],\n",
       "        [0.76078431],\n",
       "        [0.77254902],\n",
       "        [0.76470588],\n",
       "        [0.76470588],\n",
       "        [0.77254902],\n",
       "        [0.77254902],\n",
       "        [0.76862745],\n",
       "        [0.76078431],\n",
       "        [0.77254902],\n",
       "        [0.78039216],\n",
       "        [0.        ],\n",
       "        [0.        ],\n",
       "        [0.00392157],\n",
       "        [0.        ],\n",
       "        [0.        ],\n",
       "        [0.        ],\n",
       "        [0.        ]],\n",
       "\n",
       "       [[0.        ],\n",
       "        [0.        ],\n",
       "        [0.        ],\n",
       "        [0.        ],\n",
       "        [0.01176471],\n",
       "        [0.        ],\n",
       "        [0.04313725],\n",
       "        [0.77647059],\n",
       "        [0.8       ],\n",
       "        [0.80392157],\n",
       "        [0.78823529],\n",
       "        [0.77254902],\n",
       "        [0.77647059],\n",
       "        [0.75686275],\n",
       "        [0.74901961],\n",
       "        [0.76470588],\n",
       "        [0.77647059],\n",
       "        [0.79215686],\n",
       "        [0.79607843],\n",
       "        [0.80784314],\n",
       "        [0.87058824],\n",
       "        [0.        ],\n",
       "        [0.        ],\n",
       "        [0.00392157],\n",
       "        [0.        ],\n",
       "        [0.        ],\n",
       "        [0.        ],\n",
       "        [0.        ]],\n",
       "\n",
       "       [[0.        ],\n",
       "        [0.        ],\n",
       "        [0.        ],\n",
       "        [0.        ],\n",
       "        [0.00784314],\n",
       "        [0.        ],\n",
       "        [0.        ],\n",
       "        [0.68627451],\n",
       "        [0.70588235],\n",
       "        [0.65882353],\n",
       "        [0.75686275],\n",
       "        [0.79215686],\n",
       "        [0.79215686],\n",
       "        [0.76078431],\n",
       "        [0.76470588],\n",
       "        [0.79215686],\n",
       "        [0.80784314],\n",
       "        [0.76470588],\n",
       "        [0.73333333],\n",
       "        [0.67843137],\n",
       "        [0.58039216],\n",
       "        [0.        ],\n",
       "        [0.        ],\n",
       "        [0.00392157],\n",
       "        [0.        ],\n",
       "        [0.        ],\n",
       "        [0.        ],\n",
       "        [0.        ]]])"
      ]
     },
     "execution_count": 39,
     "metadata": {},
     "output_type": "execute_result"
    }
   ],
   "source": [
    "samples[0]"
   ]
  },
  {
   "cell_type": "code",
   "execution_count": 40,
   "metadata": {},
   "outputs": [
    {
     "data": {
      "text/plain": [
       "(28, 28, 1)"
      ]
     },
     "execution_count": 40,
     "metadata": {},
     "output_type": "execute_result"
    }
   ],
   "source": [
    "img=samples[0]\n",
    "img.shape"
   ]
  },
  {
   "cell_type": "code",
   "execution_count": 41,
   "metadata": {},
   "outputs": [
    {
     "data": {
      "text/plain": [
       "numpy.ndarray"
      ]
     },
     "execution_count": 41,
     "metadata": {},
     "output_type": "execute_result"
    }
   ],
   "source": [
    "type(img)"
   ]
  },
  {
   "cell_type": "code",
   "execution_count": 42,
   "metadata": {},
   "outputs": [
    {
     "data": {
      "text/plain": [
       "(1, 28, 28, 1)"
      ]
     },
     "execution_count": 42,
     "metadata": {},
     "output_type": "execute_result"
    }
   ],
   "source": [
    "resized_img=np.expand_dims(img, axis=0)\n",
    "resized_img.shape"
   ]
  },
  {
   "cell_type": "code",
   "execution_count": 43,
   "metadata": {},
   "outputs": [
    {
     "data": {
      "text/plain": [
       "array([[9.7675061e-01, 3.5778577e-08, 2.6134812e-04, 7.3228247e-04,\n",
       "        3.5151615e-07, 7.1922086e-09, 2.2253470e-02, 5.5176033e-09,\n",
       "        1.8109581e-06, 6.8367687e-11]], dtype=float32)"
      ]
     },
     "execution_count": 43,
     "metadata": {},
     "output_type": "execute_result"
    }
   ],
   "source": [
    "model.predict(resized_img)"
   ]
  },
  {
   "cell_type": "code",
   "execution_count": 44,
   "metadata": {},
   "outputs": [
    {
     "data": {
      "text/plain": [
       "0"
      ]
     },
     "execution_count": 44,
     "metadata": {},
     "output_type": "execute_result"
    }
   ],
   "source": [
    "np.argmax(model.predict(resized_img))"
   ]
  },
  {
   "cell_type": "code",
   "execution_count": 45,
   "metadata": {},
   "outputs": [
    {
     "data": {
      "text/plain": [
       "'T-shirt/top'"
      ]
     },
     "execution_count": 45,
     "metadata": {},
     "output_type": "execute_result"
    }
   ],
   "source": [
    "classes[0]"
   ]
  },
  {
   "cell_type": "code",
   "execution_count": 46,
   "metadata": {},
   "outputs": [
    {
     "name": "stdout",
     "output_type": "stream",
     "text": [
      "T-shirt/top    0.977\n",
      "Trouser        0.000\n",
      "Pullover       0.000\n",
      "Dress          0.001\n",
      "Coat           0.000\n",
      "Sandal         0.000\n",
      "Shirt          0.022\n",
      "Sneaker        0.000\n",
      "Bag            0.000\n",
      "Ankle boot     0.000\n",
      "dtype: float32\n",
      "predicted class is : T-shirt/top\n",
      "\n",
      "T-shirt/top    0.000\n",
      "Trouser        0.999\n",
      "Pullover       0.000\n",
      "Dress          0.001\n",
      "Coat           0.000\n",
      "Sandal         0.000\n",
      "Shirt          0.000\n",
      "Sneaker        0.000\n",
      "Bag            0.000\n",
      "Ankle boot     0.000\n",
      "dtype: float32\n",
      "predicted class is : Trouser\n",
      "\n",
      "T-shirt/top    0.000\n",
      "Trouser        0.000\n",
      "Pullover       0.000\n",
      "Dress          0.000\n",
      "Coat           0.000\n",
      "Sandal         0.010\n",
      "Shirt          0.000\n",
      "Sneaker        0.604\n",
      "Bag            0.387\n",
      "Ankle boot     0.000\n",
      "dtype: float32\n",
      "predicted class is : Sneaker\n",
      "\n",
      "T-shirt/top    0.000\n",
      "Trouser        0.000\n",
      "Pullover       0.200\n",
      "Dress          0.000\n",
      "Coat           0.793\n",
      "Sandal         0.000\n",
      "Shirt          0.007\n",
      "Sneaker        0.000\n",
      "Bag            0.000\n",
      "Ankle boot     0.000\n",
      "dtype: float32\n",
      "predicted class is : Coat\n",
      "\n"
     ]
    }
   ],
   "source": [
    "\n",
    "for img in samples:\n",
    "    resized_img=np.expand_dims(img, axis=0)\n",
    "    print(pd.Series(model.predict(resized_img).flatten(), index = classes).round(3))\n",
    "    print(f\"predicted class is : {classes[np.argmax(model.predict(resized_img))]}\\n\")\n",
    "    "
   ]
  },
  {
   "cell_type": "markdown",
   "metadata": {},
   "source": [
    "# real life photo"
   ]
  },
  {
   "cell_type": "code",
   "execution_count": 213,
   "metadata": {},
   "outputs": [
    {
     "name": "stdout",
     "output_type": "stream",
     "text": [
      "(28, 28, 3)\n"
     ]
    },
    {
     "data": {
      "image/png": "[encoded data removed]",
      "text/plain": [
       "<PIL.Image.Image image mode=RGB size=28x28 at 0x212942331F0>"
      ]
     },
     "execution_count": 213,
     "metadata": {},
     "output_type": "execute_result"
    }
   ],
   "source": [
    "from tensorflow.keras.preprocessing import image\n",
    "imgGray = image.load_img(\"black.jpg\", target_size=(28, 28))\n",
    "print (np.array(imgGray).shape)\n",
    "imgGray\n"
   ]
  },
  {
   "cell_type": "code",
   "execution_count": 214,
   "metadata": {},
   "outputs": [],
   "source": [
    "import tensorflow as tf\n",
    "imgGray = tf.image.rgb_to_grayscale(imgGray)"
   ]
  },
  {
   "cell_type": "code",
   "execution_count": 215,
   "metadata": {
    "scrolled": true
   },
   "outputs": [
    {
     "data": {
      "text/plain": [
       "<tf.Tensor: shape=(28, 28, 1), dtype=uint8, numpy=\n",
       "array([[[  0],\n",
       "        [  0],\n",
       "        [  0],\n",
       "        [  0],\n",
       "        [  0],\n",
       "        [  0],\n",
       "        [  0],\n",
       "        [  0],\n",
       "        [  0],\n",
       "        [  0],\n",
       "        [  0],\n",
       "        [  0],\n",
       "        [  1],\n",
       "        [  0],\n",
       "        [  0],\n",
       "        [  0],\n",
       "        [  0],\n",
       "        [  1],\n",
       "        [  0],\n",
       "        [  1],\n",
       "        [  1],\n",
       "        [  1],\n",
       "        [  0],\n",
       "        [  0],\n",
       "        [  0],\n",
       "        [  0],\n",
       "        [  0],\n",
       "        [  0]],\n",
       "\n",
       "       [[  0],\n",
       "        [  0],\n",
       "        [  0],\n",
       "        [  0],\n",
       "        [  0],\n",
       "        [  0],\n",
       "        [  0],\n",
       "        [  5],\n",
       "        [  5],\n",
       "        [  0],\n",
       "        [111],\n",
       "        [112],\n",
       "        [ 70],\n",
       "        [ 96],\n",
       "        [122],\n",
       "        [ 92],\n",
       "        [ 83],\n",
       "        [ 89],\n",
       "        [  0],\n",
       "        [  0],\n",
       "        [  5],\n",
       "        [  3],\n",
       "        [  0],\n",
       "        [  0],\n",
       "        [  0],\n",
       "        [  0],\n",
       "        [  0],\n",
       "        [  0]],\n",
       "\n",
       "       [[  0],\n",
       "        [  0],\n",
       "        [  0],\n",
       "        [  0],\n",
       "        [  0],\n",
       "        [  1],\n",
       "        [  0],\n",
       "        [ 50],\n",
       "        [ 79],\n",
       "        [100],\n",
       "        [ 88],\n",
       "        [ 63],\n",
       "        [ 54],\n",
       "        [108],\n",
       "        [107],\n",
       "        [ 87],\n",
       "        [ 93],\n",
       "        [ 77],\n",
       "        [100],\n",
       "        [118],\n",
       "        [ 99],\n",
       "        [  2],\n",
       "        [  0],\n",
       "        [  0],\n",
       "        [  0],\n",
       "        [  0],\n",
       "        [  0],\n",
       "        [  0]],\n",
       "\n",
       "       [[  0],\n",
       "        [  0],\n",
       "        [  0],\n",
       "        [  0],\n",
       "        [  3],\n",
       "        [  4],\n",
       "        [ 93],\n",
       "        [ 69],\n",
       "        [ 91],\n",
       "        [ 83],\n",
       "        [116],\n",
       "        [119],\n",
       "        [ 95],\n",
       "        [104],\n",
       "        [118],\n",
       "        [ 68],\n",
       "        [116],\n",
       "        [108],\n",
       "        [ 86],\n",
       "        [ 93],\n",
       "        [ 96],\n",
       "        [109],\n",
       "        [  7],\n",
       "        [  0],\n",
       "        [  0],\n",
       "        [  0],\n",
       "        [  0],\n",
       "        [  0]],\n",
       "\n",
       "       [[  0],\n",
       "        [  0],\n",
       "        [  1],\n",
       "        [  1],\n",
       "        [ 17],\n",
       "        [ 91],\n",
       "        [ 70],\n",
       "        [ 94],\n",
       "        [ 86],\n",
       "        [104],\n",
       "        [101],\n",
       "        [117],\n",
       "        [ 85],\n",
       "        [ 88],\n",
       "        [ 70],\n",
       "        [ 53],\n",
       "        [105],\n",
       "        [109],\n",
       "        [122],\n",
       "        [ 88],\n",
       "        [114],\n",
       "        [104],\n",
       "        [ 70],\n",
       "        [ 89],\n",
       "        [  4],\n",
       "        [  0],\n",
       "        [  0],\n",
       "        [  0]],\n",
       "\n",
       "       [[  0],\n",
       "        [  0],\n",
       "        [  0],\n",
       "        [ 70],\n",
       "        [ 79],\n",
       "        [ 96],\n",
       "        [ 75],\n",
       "        [101],\n",
       "        [ 99],\n",
       "        [109],\n",
       "        [113],\n",
       "        [122],\n",
       "        [117],\n",
       "        [117],\n",
       "        [ 69],\n",
       "        [129],\n",
       "        [110],\n",
       "        [123],\n",
       "        [102],\n",
       "        [ 99],\n",
       "        [ 85],\n",
       "        [ 92],\n",
       "        [ 88],\n",
       "        [ 40],\n",
       "        [ 45],\n",
       "        [  0],\n",
       "        [  0],\n",
       "        [  0]],\n",
       "\n",
       "       [[  0],\n",
       "        [  0],\n",
       "        [  0],\n",
       "        [ 57],\n",
       "        [ 78],\n",
       "        [111],\n",
       "        [109],\n",
       "        [ 80],\n",
       "        [108],\n",
       "        [ 90],\n",
       "        [112],\n",
       "        [107],\n",
       "        [108],\n",
       "        [104],\n",
       "        [105],\n",
       "        [112],\n",
       "        [112],\n",
       "        [102],\n",
       "        [ 95],\n",
       "        [100],\n",
       "        [ 89],\n",
       "        [ 80],\n",
       "        [ 91],\n",
       "        [131],\n",
       "        [ 43],\n",
       "        [ 89],\n",
       "        [  0],\n",
       "        [  0]],\n",
       "\n",
       "       [[  0],\n",
       "        [  0],\n",
       "        [  0],\n",
       "        [ 63],\n",
       "        [ 27],\n",
       "        [ 34],\n",
       "        [ 69],\n",
       "        [107],\n",
       "        [ 71],\n",
       "        [ 50],\n",
       "        [ 49],\n",
       "        [ 81],\n",
       "        [ 97],\n",
       "        [ 91],\n",
       "        [ 98],\n",
       "        [ 89],\n",
       "        [100],\n",
       "        [113],\n",
       "        [112],\n",
       "        [ 72],\n",
       "        [ 98],\n",
       "        [136],\n",
       "        [ 54],\n",
       "        [125],\n",
       "        [110],\n",
       "        [ 10],\n",
       "        [  0],\n",
       "        [  0]],\n",
       "\n",
       "       [[  0],\n",
       "        [  0],\n",
       "        [  0],\n",
       "        [  4],\n",
       "        [ 35],\n",
       "        [ 87],\n",
       "        [ 84],\n",
       "        [ 77],\n",
       "        [ 74],\n",
       "        [ 90],\n",
       "        [ 71],\n",
       "        [ 49],\n",
       "        [ 54],\n",
       "        [ 59],\n",
       "        [ 76],\n",
       "        [107],\n",
       "        [112],\n",
       "        [ 96],\n",
       "        [ 99],\n",
       "        [ 87],\n",
       "        [ 84],\n",
       "        [ 35],\n",
       "        [ 66],\n",
       "        [ 56],\n",
       "        [ 20],\n",
       "        [  0],\n",
       "        [  0],\n",
       "        [  0]],\n",
       "\n",
       "       [[  0],\n",
       "        [  0],\n",
       "        [  0],\n",
       "        [  6],\n",
       "        [ 66],\n",
       "        [ 31],\n",
       "        [ 24],\n",
       "        [ 42],\n",
       "        [117],\n",
       "        [117],\n",
       "        [125],\n",
       "        [100],\n",
       "        [ 78],\n",
       "        [ 98],\n",
       "        [ 85],\n",
       "        [ 94],\n",
       "        [ 93],\n",
       "        [ 84],\n",
       "        [ 94],\n",
       "        [ 97],\n",
       "        [ 87],\n",
       "        [ 31],\n",
       "        [ 24],\n",
       "        [ 46],\n",
       "        [  3],\n",
       "        [  0],\n",
       "        [  0],\n",
       "        [  0]],\n",
       "\n",
       "       [[  0],\n",
       "        [  0],\n",
       "        [  0],\n",
       "        [  0],\n",
       "        [  0],\n",
       "        [  0],\n",
       "        [ 25],\n",
       "        [ 55],\n",
       "        [ 50],\n",
       "        [ 71],\n",
       "        [ 73],\n",
       "        [ 50],\n",
       "        [ 72],\n",
       "        [ 93],\n",
       "        [ 72],\n",
       "        [ 81],\n",
       "        [ 94],\n",
       "        [ 93],\n",
       "        [ 69],\n",
       "        [ 81],\n",
       "        [ 76],\n",
       "        [ 55],\n",
       "        [  6],\n",
       "        [  1],\n",
       "        [  0],\n",
       "        [  0],\n",
       "        [  0],\n",
       "        [  0]],\n",
       "\n",
       "       [[  0],\n",
       "        [  0],\n",
       "        [  0],\n",
       "        [  0],\n",
       "        [  0],\n",
       "        [  0],\n",
       "        [ 61],\n",
       "        [ 86],\n",
       "        [ 77],\n",
       "        [ 78],\n",
       "        [ 82],\n",
       "        [ 74],\n",
       "        [ 77],\n",
       "        [ 59],\n",
       "        [ 67],\n",
       "        [ 62],\n",
       "        [ 56],\n",
       "        [ 84],\n",
       "        [ 77],\n",
       "        [ 82],\n",
       "        [ 72],\n",
       "        [ 77],\n",
       "        [  0],\n",
       "        [  0],\n",
       "        [  0],\n",
       "        [  0],\n",
       "        [  0],\n",
       "        [  0]],\n",
       "\n",
       "       [[  0],\n",
       "        [  0],\n",
       "        [  0],\n",
       "        [  0],\n",
       "        [  0],\n",
       "        [  0],\n",
       "        [ 56],\n",
       "        [ 70],\n",
       "        [ 66],\n",
       "        [ 73],\n",
       "        [ 77],\n",
       "        [ 76],\n",
       "        [ 88],\n",
       "        [ 86],\n",
       "        [ 85],\n",
       "        [ 88],\n",
       "        [ 83],\n",
       "        [ 73],\n",
       "        [ 89],\n",
       "        [ 66],\n",
       "        [ 76],\n",
       "        [ 79],\n",
       "        [  2],\n",
       "        [  1],\n",
       "        [  0],\n",
       "        [  0],\n",
       "        [  0],\n",
       "        [  0]],\n",
       "\n",
       "       [[  0],\n",
       "        [  0],\n",
       "        [  0],\n",
       "        [  0],\n",
       "        [  0],\n",
       "        [  1],\n",
       "        [ 70],\n",
       "        [ 56],\n",
       "        [ 53],\n",
       "        [ 95],\n",
       "        [ 93],\n",
       "        [ 92],\n",
       "        [ 92],\n",
       "        [101],\n",
       "        [ 97],\n",
       "        [ 87],\n",
       "        [ 73],\n",
       "        [ 68],\n",
       "        [ 78],\n",
       "        [ 56],\n",
       "        [ 72],\n",
       "        [ 65],\n",
       "        [  4],\n",
       "        [  0],\n",
       "        [  0],\n",
       "        [  0],\n",
       "        [  0],\n",
       "        [  0]],\n",
       "\n",
       "       [[  0],\n",
       "        [  0],\n",
       "        [  0],\n",
       "        [  0],\n",
       "        [  0],\n",
       "        [  0],\n",
       "        [ 50],\n",
       "        [ 65],\n",
       "        [ 67],\n",
       "        [ 64],\n",
       "        [ 59],\n",
       "        [ 54],\n",
       "        [ 54],\n",
       "        [ 70],\n",
       "        [ 48],\n",
       "        [ 38],\n",
       "        [ 63],\n",
       "        [ 54],\n",
       "        [ 69],\n",
       "        [ 62],\n",
       "        [ 60],\n",
       "        [ 71],\n",
       "        [  0],\n",
       "        [  0],\n",
       "        [  0],\n",
       "        [  0],\n",
       "        [  0],\n",
       "        [  0]],\n",
       "\n",
       "       [[  0],\n",
       "        [  0],\n",
       "        [  0],\n",
       "        [  0],\n",
       "        [  0],\n",
       "        [  1],\n",
       "        [ 40],\n",
       "        [ 58],\n",
       "        [ 59],\n",
       "        [ 72],\n",
       "        [ 50],\n",
       "        [ 65],\n",
       "        [ 75],\n",
       "        [ 72],\n",
       "        [ 66],\n",
       "        [ 54],\n",
       "        [ 67],\n",
       "        [ 70],\n",
       "        [ 64],\n",
       "        [ 73],\n",
       "        [ 63],\n",
       "        [ 62],\n",
       "        [  0],\n",
       "        [  0],\n",
       "        [  0],\n",
       "        [  0],\n",
       "        [  0],\n",
       "        [  0]],\n",
       "\n",
       "       [[  0],\n",
       "        [  0],\n",
       "        [  0],\n",
       "        [  0],\n",
       "        [  0],\n",
       "        [  2],\n",
       "        [ 36],\n",
       "        [ 60],\n",
       "        [ 55],\n",
       "        [ 58],\n",
       "        [ 57],\n",
       "        [ 61],\n",
       "        [ 56],\n",
       "        [ 74],\n",
       "        [ 70],\n",
       "        [ 59],\n",
       "        [ 66],\n",
       "        [ 64],\n",
       "        [ 69],\n",
       "        [ 64],\n",
       "        [ 60],\n",
       "        [ 67],\n",
       "        [  0],\n",
       "        [  0],\n",
       "        [  0],\n",
       "        [  0],\n",
       "        [  0],\n",
       "        [  0]],\n",
       "\n",
       "       [[  0],\n",
       "        [  0],\n",
       "        [  0],\n",
       "        [  0],\n",
       "        [  0],\n",
       "        [  0],\n",
       "        [ 15],\n",
       "        [ 54],\n",
       "        [ 66],\n",
       "        [ 60],\n",
       "        [ 58],\n",
       "        [ 54],\n",
       "        [ 63],\n",
       "        [ 60],\n",
       "        [ 71],\n",
       "        [ 67],\n",
       "        [ 82],\n",
       "        [ 57],\n",
       "        [ 52],\n",
       "        [ 64],\n",
       "        [ 61],\n",
       "        [ 69],\n",
       "        [  1],\n",
       "        [  0],\n",
       "        [  0],\n",
       "        [  0],\n",
       "        [  0],\n",
       "        [  0]],\n",
       "\n",
       "       [[  0],\n",
       "        [  0],\n",
       "        [  0],\n",
       "        [  0],\n",
       "        [  0],\n",
       "        [  1],\n",
       "        [  0],\n",
       "        [ 54],\n",
       "        [ 53],\n",
       "        [ 54],\n",
       "        [ 46],\n",
       "        [ 51],\n",
       "        [ 63],\n",
       "        [ 48],\n",
       "        [ 69],\n",
       "        [ 53],\n",
       "        [ 58],\n",
       "        [ 60],\n",
       "        [ 62],\n",
       "        [ 63],\n",
       "        [ 64],\n",
       "        [ 64],\n",
       "        [  0],\n",
       "        [  0],\n",
       "        [  0],\n",
       "        [  0],\n",
       "        [  0],\n",
       "        [  0]],\n",
       "\n",
       "       [[  0],\n",
       "        [  0],\n",
       "        [  0],\n",
       "        [  0],\n",
       "        [  0],\n",
       "        [  1],\n",
       "        [  1],\n",
       "        [ 53],\n",
       "        [ 59],\n",
       "        [ 64],\n",
       "        [ 55],\n",
       "        [ 60],\n",
       "        [ 72],\n",
       "        [ 69],\n",
       "        [ 58],\n",
       "        [ 59],\n",
       "        [ 66],\n",
       "        [ 58],\n",
       "        [ 58],\n",
       "        [ 57],\n",
       "        [ 57],\n",
       "        [ 57],\n",
       "        [  0],\n",
       "        [  0],\n",
       "        [  0],\n",
       "        [  0],\n",
       "        [  0],\n",
       "        [  0]],\n",
       "\n",
       "       [[  0],\n",
       "        [  0],\n",
       "        [  0],\n",
       "        [  0],\n",
       "        [  0],\n",
       "        [  1],\n",
       "        [  1],\n",
       "        [ 57],\n",
       "        [ 63],\n",
       "        [ 49],\n",
       "        [ 44],\n",
       "        [ 53],\n",
       "        [ 63],\n",
       "        [ 64],\n",
       "        [ 78],\n",
       "        [ 61],\n",
       "        [ 61],\n",
       "        [ 64],\n",
       "        [ 60],\n",
       "        [ 55],\n",
       "        [ 56],\n",
       "        [ 63],\n",
       "        [  0],\n",
       "        [  0],\n",
       "        [  0],\n",
       "        [  0],\n",
       "        [  0],\n",
       "        [  0]],\n",
       "\n",
       "       [[  0],\n",
       "        [  0],\n",
       "        [  0],\n",
       "        [  0],\n",
       "        [  0],\n",
       "        [  0],\n",
       "        [  0],\n",
       "        [ 45],\n",
       "        [ 55],\n",
       "        [ 51],\n",
       "        [ 49],\n",
       "        [ 52],\n",
       "        [ 57],\n",
       "        [ 53],\n",
       "        [ 57],\n",
       "        [ 56],\n",
       "        [ 54],\n",
       "        [ 52],\n",
       "        [ 54],\n",
       "        [ 58],\n",
       "        [ 50],\n",
       "        [ 59],\n",
       "        [  0],\n",
       "        [  0],\n",
       "        [  0],\n",
       "        [  0],\n",
       "        [  0],\n",
       "        [  0]],\n",
       "\n",
       "       [[  0],\n",
       "        [  0],\n",
       "        [  0],\n",
       "        [  0],\n",
       "        [  0],\n",
       "        [  1],\n",
       "        [  0],\n",
       "        [ 43],\n",
       "        [ 49],\n",
       "        [ 50],\n",
       "        [ 44],\n",
       "        [ 49],\n",
       "        [ 50],\n",
       "        [ 53],\n",
       "        [ 57],\n",
       "        [ 52],\n",
       "        [ 56],\n",
       "        [ 56],\n",
       "        [ 58],\n",
       "        [ 58],\n",
       "        [ 56],\n",
       "        [ 63],\n",
       "        [  0],\n",
       "        [  0],\n",
       "        [  0],\n",
       "        [  0],\n",
       "        [  0],\n",
       "        [  0]],\n",
       "\n",
       "       [[  0],\n",
       "        [  0],\n",
       "        [  0],\n",
       "        [  0],\n",
       "        [  0],\n",
       "        [  1],\n",
       "        [  0],\n",
       "        [ 45],\n",
       "        [ 46],\n",
       "        [ 49],\n",
       "        [ 50],\n",
       "        [ 51],\n",
       "        [ 53],\n",
       "        [ 54],\n",
       "        [ 47],\n",
       "        [ 50],\n",
       "        [ 56],\n",
       "        [ 48],\n",
       "        [ 52],\n",
       "        [ 55],\n",
       "        [ 55],\n",
       "        [ 64],\n",
       "        [  0],\n",
       "        [  0],\n",
       "        [  0],\n",
       "        [  0],\n",
       "        [  0],\n",
       "        [  0]],\n",
       "\n",
       "       [[  0],\n",
       "        [  0],\n",
       "        [  0],\n",
       "        [  0],\n",
       "        [  0],\n",
       "        [  1],\n",
       "        [ 32],\n",
       "        [ 51],\n",
       "        [ 49],\n",
       "        [ 49],\n",
       "        [ 48],\n",
       "        [ 48],\n",
       "        [ 48],\n",
       "        [ 52],\n",
       "        [ 48],\n",
       "        [ 54],\n",
       "        [ 52],\n",
       "        [ 55],\n",
       "        [ 53],\n",
       "        [ 59],\n",
       "        [ 61],\n",
       "        [ 56],\n",
       "        [  2],\n",
       "        [  0],\n",
       "        [  0],\n",
       "        [  0],\n",
       "        [  0],\n",
       "        [  0]],\n",
       "\n",
       "       [[  0],\n",
       "        [  0],\n",
       "        [  0],\n",
       "        [  0],\n",
       "        [  0],\n",
       "        [  1],\n",
       "        [ 31],\n",
       "        [ 55],\n",
       "        [ 50],\n",
       "        [ 53],\n",
       "        [ 53],\n",
       "        [ 57],\n",
       "        [ 58],\n",
       "        [ 57],\n",
       "        [ 55],\n",
       "        [ 53],\n",
       "        [ 55],\n",
       "        [ 52],\n",
       "        [ 57],\n",
       "        [ 53],\n",
       "        [ 53],\n",
       "        [ 60],\n",
       "        [  0],\n",
       "        [  0],\n",
       "        [  0],\n",
       "        [  0],\n",
       "        [  0],\n",
       "        [  0]],\n",
       "\n",
       "       [[  0],\n",
       "        [  0],\n",
       "        [  0],\n",
       "        [  0],\n",
       "        [  0],\n",
       "        [  0],\n",
       "        [  3],\n",
       "        [  0],\n",
       "        [  2],\n",
       "        [  4],\n",
       "        [  3],\n",
       "        [  0],\n",
       "        [  0],\n",
       "        [  0],\n",
       "        [  2],\n",
       "        [  1],\n",
       "        [  3],\n",
       "        [  3],\n",
       "        [  2],\n",
       "        [  4],\n",
       "        [  1],\n",
       "        [  1],\n",
       "        [  0],\n",
       "        [  0],\n",
       "        [  0],\n",
       "        [  0],\n",
       "        [  0],\n",
       "        [  0]],\n",
       "\n",
       "       [[  0],\n",
       "        [  0],\n",
       "        [  0],\n",
       "        [  0],\n",
       "        [  0],\n",
       "        [  0],\n",
       "        [  0],\n",
       "        [  0],\n",
       "        [  0],\n",
       "        [  0],\n",
       "        [  0],\n",
       "        [  0],\n",
       "        [  0],\n",
       "        [  0],\n",
       "        [  0],\n",
       "        [  0],\n",
       "        [  0],\n",
       "        [  0],\n",
       "        [  0],\n",
       "        [  0],\n",
       "        [  0],\n",
       "        [  0],\n",
       "        [  0],\n",
       "        [  0],\n",
       "        [  0],\n",
       "        [  0],\n",
       "        [  0],\n",
       "        [  0]]], dtype=uint8)>"
      ]
     },
     "execution_count": 215,
     "metadata": {},
     "output_type": "execute_result"
    }
   ],
   "source": [
    "imgGray"
   ]
  },
  {
   "cell_type": "code",
   "execution_count": 216,
   "metadata": {},
   "outputs": [
    {
     "data": {
      "text/plain": [
       "<matplotlib.image.AxesImage at 0x212966a8bb0>"
      ]
     },
     "execution_count": 216,
     "metadata": {},
     "output_type": "execute_result"
    },
    {
     "data": {
      "image/png": "[encoded data removed]",
      "text/plain": [
       "<Figure size 432x288 with 1 Axes>"
      ]
     },
     "metadata": {
      "needs_background": "light"
     },
     "output_type": "display_data"
    }
   ],
   "source": [
    "plt.imshow(imgGray)"
   ]
  },
  {
   "cell_type": "code",
   "execution_count": 217,
   "metadata": {},
   "outputs": [
    {
     "data": {
      "text/plain": [
       "(0, 136)"
      ]
     },
     "execution_count": 217,
     "metadata": {},
     "output_type": "execute_result"
    }
   ],
   "source": [
    "np.array(imgGray).min(), np.array(imgGray).max()"
   ]
  },
  {
   "cell_type": "code",
   "execution_count": 218,
   "metadata": {},
   "outputs": [
    {
     "data": {
      "text/plain": [
       "TensorShape([28, 28, 1])"
      ]
     },
     "execution_count": 218,
     "metadata": {},
     "output_type": "execute_result"
    }
   ],
   "source": [
    "imgGray = imgGray/255\n",
    "imgGray.shape"
   ]
  },
  {
   "cell_type": "code",
   "execution_count": 219,
   "metadata": {},
   "outputs": [
    {
     "data": {
      "text/plain": [
       "<matplotlib.image.AxesImage at 0x212966eeca0>"
      ]
     },
     "execution_count": 219,
     "metadata": {},
     "output_type": "execute_result"
    },
    {
     "data": {
      "image/png": "[encoded data removed]",
      "text/plain": [
       "<Figure size 432x288 with 1 Axes>"
      ]
     },
     "metadata": {
      "needs_background": "light"
     },
     "output_type": "display_data"
    }
   ],
   "source": [
    "plt.imshow(imgGray)"
   ]
  },
  {
   "cell_type": "code",
   "execution_count": 220,
   "metadata": {},
   "outputs": [
    {
     "data": {
      "text/plain": [
       "(28, 28, 1)"
      ]
     },
     "execution_count": 220,
     "metadata": {},
     "output_type": "execute_result"
    }
   ],
   "source": [
    "imgGray = np.array(imgGray)\n",
    "imgGray.shape"
   ]
  },
  {
   "cell_type": "code",
   "execution_count": 221,
   "metadata": {},
   "outputs": [
    {
     "data": {
      "text/plain": [
       "(1, 28, 28, 1)"
      ]
     },
     "execution_count": 221,
     "metadata": {},
     "output_type": "execute_result"
    }
   ],
   "source": [
    "imgGray= np.expand_dims(imgGray, axis=0)\n",
    "imgGray.shape"
   ]
  },
  {
   "cell_type": "code",
   "execution_count": 146,
   "metadata": {},
   "outputs": [],
   "source": [
    "# imgGray = imgGray[None,:,:,:] # same process to add dimension without a function\n",
    "# imgGray.shape"
   ]
  },
  {
   "cell_type": "code",
   "execution_count": 222,
   "metadata": {},
   "outputs": [
    {
     "data": {
      "text/plain": [
       "0    0.494\n",
       "1    0.013\n",
       "2    0.043\n",
       "3    0.075\n",
       "4    0.021\n",
       "5    0.001\n",
       "6    0.330\n",
       "7    0.000\n",
       "8    0.022\n",
       "9    0.000\n",
       "dtype: float32"
      ]
     },
     "execution_count": 222,
     "metadata": {},
     "output_type": "execute_result"
    }
   ],
   "source": [
    "pd.Series(model.predict(imgGray).round(3).flatten())#.argmax()"
   ]
  },
  {
   "cell_type": "code",
   "execution_count": 223,
   "metadata": {},
   "outputs": [
    {
     "data": {
      "text/plain": [
       "0    T-shirt/top\n",
       "1        Trouser\n",
       "2       Pullover\n",
       "3          Dress\n",
       "4           Coat\n",
       "5         Sandal\n",
       "6          Shirt\n",
       "7        Sneaker\n",
       "8            Bag\n",
       "9     Ankle boot\n",
       "dtype: object"
      ]
     },
     "execution_count": 223,
     "metadata": {},
     "output_type": "execute_result"
    }
   ],
   "source": [
    "pd.Series(classes)"
   ]
  },
  {
   "cell_type": "code",
   "execution_count": null,
   "metadata": {},
   "outputs": [],
   "source": []
  },
  {
   "cell_type": "code",
   "execution_count": null,
   "metadata": {},
   "outputs": [],
   "source": []
  }
 ],
 "metadata": {
  "kernelspec": {
   "display_name": "Python 3.9 (tensorflow)",
   "language": "python",
   "name": "tensorflow"
  },
  "language_info": {
   "codemirror_mode": {
    "name": "ipython",
    "version": 3
   },
   "file_extension": ".py",
   "mimetype": "text/x-python",
   "name": "python",
   "nbconvert_exporter": "python",
   "pygments_lexer": "ipython3",
   "version": "3.9.7"
  }
 },
 "nbformat": 4,
 "nbformat_minor": 2
}
