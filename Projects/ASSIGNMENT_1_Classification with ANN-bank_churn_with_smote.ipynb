{
 "cells": [
  {
   "cell_type": "markdown",
   "metadata": {
    "id": "8TS6A5YoZ5in"
   },
   "source": [
    "___\n",
    "\n",
    "<p style=\"text-align: center;\"><img src=\"https://docs.google.com/uc?id=1lY0Uj5R04yMY3-ZppPWxqCr5pvBLYPnV\" class=\"img-fluid\" alt=\"CLRSWY\"></p>\n",
    "\n",
    "___"
   ]
  },
  {
   "cell_type": "markdown",
   "metadata": {
    "id": "RzXdw1fhZ5iu"
   },
   "source": [
    "<h1 style=\"text-align: center;\">Deep Learning<br><br>Classification with ANN<br>"
   ]
  },
  {
   "cell_type": "markdown",
   "metadata": {
    "id": "Xb1tDNkIZ5iv"
   },
   "source": [
    "# Keras Classification"
   ]
  },
  {
   "cell_type": "code",
   "execution_count": 1,
   "metadata": {
    "ExecuteTime": {
     "end_time": "2022-03-11T12:53:12.408910Z",
     "start_time": "2022-03-11T12:53:05.504323Z"
    },
    "id": "6VD4eWBQcze2"
   },
   "outputs": [],
   "source": [
    "import numpy as np\n",
    "import pandas as pd\n",
    "import matplotlib.pyplot as plt\n",
    "import seaborn as sns\n",
    "\n",
    "import warnings\n",
    "warnings.filterwarnings(\"ignore\")\n",
    "warnings.warn(\"this will not show\")\n",
    "\n",
    "plt.rcParams[\"figure.figsize\"] = (10,6)\n",
    "\n",
    "sns.set_style(\"whitegrid\")\n",
    "pd.set_option('display.float_format', lambda x: '%.3f' % x)\n",
    "\n",
    "# Set it None to display all rows in the dataframe\n",
    "# pd.set_option('display.max_rows', None)\n",
    "\n",
    "# Set it to None to display all columns in the dataframe\n",
    "pd.set_option('display.max_columns', None)"
   ]
  },
  {
   "cell_type": "code",
   "execution_count": 2,
   "metadata": {
    "ExecuteTime": {
     "end_time": "2022-03-11T12:53:13.866794Z",
     "start_time": "2022-03-11T12:53:13.797748Z"
    },
    "colab": {
     "base_uri": "https://localhost:8080/",
     "height": 305
    },
    "executionInfo": {
     "elapsed": 49,
     "status": "ok",
     "timestamp": 1646828987414,
     "user": {
      "displayName": "Steve Wallace",
      "photoUrl": "https://lh3.googleusercontent.com/a/default-user=s64",
      "userId": "06741533186265949524"
     },
     "user_tz": -180
    },
    "id": "zd9IN2mCZ5i5",
    "outputId": "73a44e73-b5dd-4f25-bc03-acde6117a265"
   },
   "outputs": [
    {
     "data": {
      "text/html": [
       "<div>\n",
       "<style scoped>\n",
       "    .dataframe tbody tr th:only-of-type {\n",
       "        vertical-align: middle;\n",
       "    }\n",
       "\n",
       "    .dataframe tbody tr th {\n",
       "        vertical-align: top;\n",
       "    }\n",
       "\n",
       "    .dataframe thead th {\n",
       "        text-align: right;\n",
       "    }\n",
       "</style>\n",
       "<table border=\"1\" class=\"dataframe\">\n",
       "  <thead>\n",
       "    <tr style=\"text-align: right;\">\n",
       "      <th></th>\n",
       "      <th>RowNumber</th>\n",
       "      <th>CustomerId</th>\n",
       "      <th>Surname</th>\n",
       "      <th>CreditScore</th>\n",
       "      <th>Geography</th>\n",
       "      <th>Gender</th>\n",
       "      <th>Age</th>\n",
       "      <th>Tenure</th>\n",
       "      <th>Balance</th>\n",
       "      <th>NumOfProducts</th>\n",
       "      <th>HasCrCard</th>\n",
       "      <th>IsActiveMember</th>\n",
       "      <th>EstimatedSalary</th>\n",
       "      <th>Exited</th>\n",
       "    </tr>\n",
       "  </thead>\n",
       "  <tbody>\n",
       "    <tr>\n",
       "      <th>0</th>\n",
       "      <td>1</td>\n",
       "      <td>15634602</td>\n",
       "      <td>Hargrave</td>\n",
       "      <td>619</td>\n",
       "      <td>France</td>\n",
       "      <td>Female</td>\n",
       "      <td>42</td>\n",
       "      <td>2</td>\n",
       "      <td>0.000</td>\n",
       "      <td>1</td>\n",
       "      <td>1</td>\n",
       "      <td>1</td>\n",
       "      <td>101348.880</td>\n",
       "      <td>1</td>\n",
       "    </tr>\n",
       "    <tr>\n",
       "      <th>1</th>\n",
       "      <td>2</td>\n",
       "      <td>15647311</td>\n",
       "      <td>Hill</td>\n",
       "      <td>608</td>\n",
       "      <td>Spain</td>\n",
       "      <td>Female</td>\n",
       "      <td>41</td>\n",
       "      <td>1</td>\n",
       "      <td>83807.860</td>\n",
       "      <td>1</td>\n",
       "      <td>0</td>\n",
       "      <td>1</td>\n",
       "      <td>112542.580</td>\n",
       "      <td>0</td>\n",
       "    </tr>\n",
       "    <tr>\n",
       "      <th>2</th>\n",
       "      <td>3</td>\n",
       "      <td>15619304</td>\n",
       "      <td>Onio</td>\n",
       "      <td>502</td>\n",
       "      <td>France</td>\n",
       "      <td>Female</td>\n",
       "      <td>42</td>\n",
       "      <td>8</td>\n",
       "      <td>159660.800</td>\n",
       "      <td>3</td>\n",
       "      <td>1</td>\n",
       "      <td>0</td>\n",
       "      <td>113931.570</td>\n",
       "      <td>1</td>\n",
       "    </tr>\n",
       "    <tr>\n",
       "      <th>3</th>\n",
       "      <td>4</td>\n",
       "      <td>15701354</td>\n",
       "      <td>Boni</td>\n",
       "      <td>699</td>\n",
       "      <td>France</td>\n",
       "      <td>Female</td>\n",
       "      <td>39</td>\n",
       "      <td>1</td>\n",
       "      <td>0.000</td>\n",
       "      <td>2</td>\n",
       "      <td>0</td>\n",
       "      <td>0</td>\n",
       "      <td>93826.630</td>\n",
       "      <td>0</td>\n",
       "    </tr>\n",
       "    <tr>\n",
       "      <th>4</th>\n",
       "      <td>5</td>\n",
       "      <td>15737888</td>\n",
       "      <td>Mitchell</td>\n",
       "      <td>850</td>\n",
       "      <td>Spain</td>\n",
       "      <td>Female</td>\n",
       "      <td>43</td>\n",
       "      <td>2</td>\n",
       "      <td>125510.820</td>\n",
       "      <td>1</td>\n",
       "      <td>1</td>\n",
       "      <td>1</td>\n",
       "      <td>79084.100</td>\n",
       "      <td>0</td>\n",
       "    </tr>\n",
       "    <tr>\n",
       "      <th>...</th>\n",
       "      <td>...</td>\n",
       "      <td>...</td>\n",
       "      <td>...</td>\n",
       "      <td>...</td>\n",
       "      <td>...</td>\n",
       "      <td>...</td>\n",
       "      <td>...</td>\n",
       "      <td>...</td>\n",
       "      <td>...</td>\n",
       "      <td>...</td>\n",
       "      <td>...</td>\n",
       "      <td>...</td>\n",
       "      <td>...</td>\n",
       "      <td>...</td>\n",
       "    </tr>\n",
       "    <tr>\n",
       "      <th>9995</th>\n",
       "      <td>9996</td>\n",
       "      <td>15606229</td>\n",
       "      <td>Obijiaku</td>\n",
       "      <td>771</td>\n",
       "      <td>France</td>\n",
       "      <td>Male</td>\n",
       "      <td>39</td>\n",
       "      <td>5</td>\n",
       "      <td>0.000</td>\n",
       "      <td>2</td>\n",
       "      <td>1</td>\n",
       "      <td>0</td>\n",
       "      <td>96270.640</td>\n",
       "      <td>0</td>\n",
       "    </tr>\n",
       "    <tr>\n",
       "      <th>9996</th>\n",
       "      <td>9997</td>\n",
       "      <td>15569892</td>\n",
       "      <td>Johnstone</td>\n",
       "      <td>516</td>\n",
       "      <td>France</td>\n",
       "      <td>Male</td>\n",
       "      <td>35</td>\n",
       "      <td>10</td>\n",
       "      <td>57369.610</td>\n",
       "      <td>1</td>\n",
       "      <td>1</td>\n",
       "      <td>1</td>\n",
       "      <td>101699.770</td>\n",
       "      <td>0</td>\n",
       "    </tr>\n",
       "    <tr>\n",
       "      <th>9997</th>\n",
       "      <td>9998</td>\n",
       "      <td>15584532</td>\n",
       "      <td>Liu</td>\n",
       "      <td>709</td>\n",
       "      <td>France</td>\n",
       "      <td>Female</td>\n",
       "      <td>36</td>\n",
       "      <td>7</td>\n",
       "      <td>0.000</td>\n",
       "      <td>1</td>\n",
       "      <td>0</td>\n",
       "      <td>1</td>\n",
       "      <td>42085.580</td>\n",
       "      <td>1</td>\n",
       "    </tr>\n",
       "    <tr>\n",
       "      <th>9998</th>\n",
       "      <td>9999</td>\n",
       "      <td>15682355</td>\n",
       "      <td>Sabbatini</td>\n",
       "      <td>772</td>\n",
       "      <td>Germany</td>\n",
       "      <td>Male</td>\n",
       "      <td>42</td>\n",
       "      <td>3</td>\n",
       "      <td>75075.310</td>\n",
       "      <td>2</td>\n",
       "      <td>1</td>\n",
       "      <td>0</td>\n",
       "      <td>92888.520</td>\n",
       "      <td>1</td>\n",
       "    </tr>\n",
       "    <tr>\n",
       "      <th>9999</th>\n",
       "      <td>10000</td>\n",
       "      <td>15628319</td>\n",
       "      <td>Walker</td>\n",
       "      <td>792</td>\n",
       "      <td>France</td>\n",
       "      <td>Female</td>\n",
       "      <td>28</td>\n",
       "      <td>4</td>\n",
       "      <td>130142.790</td>\n",
       "      <td>1</td>\n",
       "      <td>1</td>\n",
       "      <td>0</td>\n",
       "      <td>38190.780</td>\n",
       "      <td>0</td>\n",
       "    </tr>\n",
       "  </tbody>\n",
       "</table>\n",
       "<p>10000 rows × 14 columns</p>\n",
       "</div>"
      ],
      "text/plain": [
       "      RowNumber  CustomerId    Surname  CreditScore Geography  Gender  Age  \\\n",
       "0             1    15634602   Hargrave          619    France  Female   42   \n",
       "1             2    15647311       Hill          608     Spain  Female   41   \n",
       "2             3    15619304       Onio          502    France  Female   42   \n",
       "3             4    15701354       Boni          699    France  Female   39   \n",
       "4             5    15737888   Mitchell          850     Spain  Female   43   \n",
       "...         ...         ...        ...          ...       ...     ...  ...   \n",
       "9995       9996    15606229   Obijiaku          771    France    Male   39   \n",
       "9996       9997    15569892  Johnstone          516    France    Male   35   \n",
       "9997       9998    15584532        Liu          709    France  Female   36   \n",
       "9998       9999    15682355  Sabbatini          772   Germany    Male   42   \n",
       "9999      10000    15628319     Walker          792    France  Female   28   \n",
       "\n",
       "      Tenure    Balance  NumOfProducts  HasCrCard  IsActiveMember  \\\n",
       "0          2      0.000              1          1               1   \n",
       "1          1  83807.860              1          0               1   \n",
       "2          8 159660.800              3          1               0   \n",
       "3          1      0.000              2          0               0   \n",
       "4          2 125510.820              1          1               1   \n",
       "...      ...        ...            ...        ...             ...   \n",
       "9995       5      0.000              2          1               0   \n",
       "9996      10  57369.610              1          1               1   \n",
       "9997       7      0.000              1          0               1   \n",
       "9998       3  75075.310              2          1               0   \n",
       "9999       4 130142.790              1          1               0   \n",
       "\n",
       "      EstimatedSalary  Exited  \n",
       "0          101348.880       1  \n",
       "1          112542.580       0  \n",
       "2          113931.570       1  \n",
       "3           93826.630       0  \n",
       "4           79084.100       0  \n",
       "...               ...     ...  \n",
       "9995        96270.640       0  \n",
       "9996       101699.770       0  \n",
       "9997        42085.580       1  \n",
       "9998        92888.520       1  \n",
       "9999        38190.780       0  \n",
       "\n",
       "[10000 rows x 14 columns]"
      ]
     },
     "execution_count": 2,
     "metadata": {},
     "output_type": "execute_result"
    }
   ],
   "source": [
    "df=pd.read_csv(\"Churn_Modelling.csv\")\n",
    "df"
   ]
  },
  {
   "cell_type": "markdown",
   "metadata": {
    "id": "WV-1XzHIZ5i5"
   },
   "source": [
    "## Exploratory Data Analysis and Visualization"
   ]
  },
  {
   "cell_type": "code",
   "execution_count": 3,
   "metadata": {
    "ExecuteTime": {
     "end_time": "2022-03-11T12:53:15.252730Z",
     "start_time": "2022-03-11T12:53:15.241834Z"
    },
    "colab": {
     "base_uri": "https://localhost:8080/"
    },
    "executionInfo": {
     "elapsed": 48,
     "status": "ok",
     "timestamp": 1646828987415,
     "user": {
      "displayName": "Steve Wallace",
      "photoUrl": "https://lh3.googleusercontent.com/a/default-user=s64",
      "userId": "06741533186265949524"
     },
     "user_tz": -180
    },
    "id": "vPyMUnVWfM0o",
    "outputId": "60526e87-8d24-4d16-ccbb-911883584787"
   },
   "outputs": [
    {
     "data": {
      "text/plain": [
       "(10000, 14)"
      ]
     },
     "execution_count": 3,
     "metadata": {},
     "output_type": "execute_result"
    }
   ],
   "source": [
    "df.shape"
   ]
  },
  {
   "cell_type": "code",
   "execution_count": 4,
   "metadata": {
    "ExecuteTime": {
     "end_time": "2022-03-11T12:53:15.740565Z",
     "start_time": "2022-03-11T12:53:15.712964Z"
    },
    "colab": {
     "base_uri": "https://localhost:8080/"
    },
    "executionInfo": {
     "elapsed": 46,
     "status": "ok",
     "timestamp": 1646828987417,
     "user": {
      "displayName": "Steve Wallace",
      "photoUrl": "https://lh3.googleusercontent.com/a/default-user=s64",
      "userId": "06741533186265949524"
     },
     "user_tz": -180
    },
    "id": "9ROCQa9wf2uE",
    "outputId": "e304c323-b5b0-42f5-c090-4be0d02239ec"
   },
   "outputs": [
    {
     "name": "stdout",
     "output_type": "stream",
     "text": [
      "<class 'pandas.core.frame.DataFrame'>\n",
      "RangeIndex: 10000 entries, 0 to 9999\n",
      "Data columns (total 14 columns):\n",
      " #   Column           Non-Null Count  Dtype  \n",
      "---  ------           --------------  -----  \n",
      " 0   RowNumber        10000 non-null  int64  \n",
      " 1   CustomerId       10000 non-null  int64  \n",
      " 2   Surname          10000 non-null  object \n",
      " 3   CreditScore      10000 non-null  int64  \n",
      " 4   Geography        10000 non-null  object \n",
      " 5   Gender           10000 non-null  object \n",
      " 6   Age              10000 non-null  int64  \n",
      " 7   Tenure           10000 non-null  int64  \n",
      " 8   Balance          10000 non-null  float64\n",
      " 9   NumOfProducts    10000 non-null  int64  \n",
      " 10  HasCrCard        10000 non-null  int64  \n",
      " 11  IsActiveMember   10000 non-null  int64  \n",
      " 12  EstimatedSalary  10000 non-null  float64\n",
      " 13  Exited           10000 non-null  int64  \n",
      "dtypes: float64(2), int64(9), object(3)\n",
      "memory usage: 1.1+ MB\n"
     ]
    }
   ],
   "source": [
    "df.info()"
   ]
  },
  {
   "cell_type": "code",
   "execution_count": 5,
   "metadata": {
    "ExecuteTime": {
     "end_time": "2022-03-11T12:53:16.226594Z",
     "start_time": "2022-03-11T12:53:16.159679Z"
    },
    "colab": {
     "base_uri": "https://localhost:8080/",
     "height": 1000
    },
    "executionInfo": {
     "elapsed": 1645,
     "status": "ok",
     "timestamp": 1646828989019,
     "user": {
      "displayName": "Steve Wallace",
      "photoUrl": "https://lh3.googleusercontent.com/a/default-user=s64",
      "userId": "06741533186265949524"
     },
     "user_tz": -180
    },
    "id": "mdUkgZD-gCUx",
    "outputId": "6f1e4f50-4556-4fea-dcef-c6377ae84f16"
   },
   "outputs": [
    {
     "data": {
      "text/html": [
       "<div>\n",
       "<style scoped>\n",
       "    .dataframe tbody tr th:only-of-type {\n",
       "        vertical-align: middle;\n",
       "    }\n",
       "\n",
       "    .dataframe tbody tr th {\n",
       "        vertical-align: top;\n",
       "    }\n",
       "\n",
       "    .dataframe thead th {\n",
       "        text-align: right;\n",
       "    }\n",
       "</style>\n",
       "<table border=\"1\" class=\"dataframe\">\n",
       "  <thead>\n",
       "    <tr style=\"text-align: right;\">\n",
       "      <th></th>\n",
       "      <th>count</th>\n",
       "      <th>mean</th>\n",
       "      <th>std</th>\n",
       "      <th>min</th>\n",
       "      <th>25%</th>\n",
       "      <th>50%</th>\n",
       "      <th>75%</th>\n",
       "      <th>max</th>\n",
       "    </tr>\n",
       "  </thead>\n",
       "  <tbody>\n",
       "    <tr>\n",
       "      <th>RowNumber</th>\n",
       "      <td>10000.000</td>\n",
       "      <td>5000.500</td>\n",
       "      <td>2886.896</td>\n",
       "      <td>1.000</td>\n",
       "      <td>2500.750</td>\n",
       "      <td>5000.500</td>\n",
       "      <td>7500.250</td>\n",
       "      <td>10000.000</td>\n",
       "    </tr>\n",
       "    <tr>\n",
       "      <th>CustomerId</th>\n",
       "      <td>10000.000</td>\n",
       "      <td>15690940.569</td>\n",
       "      <td>71936.186</td>\n",
       "      <td>15565701.000</td>\n",
       "      <td>15628528.250</td>\n",
       "      <td>15690738.000</td>\n",
       "      <td>15753233.750</td>\n",
       "      <td>15815690.000</td>\n",
       "    </tr>\n",
       "    <tr>\n",
       "      <th>CreditScore</th>\n",
       "      <td>10000.000</td>\n",
       "      <td>650.529</td>\n",
       "      <td>96.653</td>\n",
       "      <td>350.000</td>\n",
       "      <td>584.000</td>\n",
       "      <td>652.000</td>\n",
       "      <td>718.000</td>\n",
       "      <td>850.000</td>\n",
       "    </tr>\n",
       "    <tr>\n",
       "      <th>Age</th>\n",
       "      <td>10000.000</td>\n",
       "      <td>38.922</td>\n",
       "      <td>10.488</td>\n",
       "      <td>18.000</td>\n",
       "      <td>32.000</td>\n",
       "      <td>37.000</td>\n",
       "      <td>44.000</td>\n",
       "      <td>92.000</td>\n",
       "    </tr>\n",
       "    <tr>\n",
       "      <th>Tenure</th>\n",
       "      <td>10000.000</td>\n",
       "      <td>5.013</td>\n",
       "      <td>2.892</td>\n",
       "      <td>0.000</td>\n",
       "      <td>3.000</td>\n",
       "      <td>5.000</td>\n",
       "      <td>7.000</td>\n",
       "      <td>10.000</td>\n",
       "    </tr>\n",
       "    <tr>\n",
       "      <th>Balance</th>\n",
       "      <td>10000.000</td>\n",
       "      <td>76485.889</td>\n",
       "      <td>62397.405</td>\n",
       "      <td>0.000</td>\n",
       "      <td>0.000</td>\n",
       "      <td>97198.540</td>\n",
       "      <td>127644.240</td>\n",
       "      <td>250898.090</td>\n",
       "    </tr>\n",
       "    <tr>\n",
       "      <th>NumOfProducts</th>\n",
       "      <td>10000.000</td>\n",
       "      <td>1.530</td>\n",
       "      <td>0.582</td>\n",
       "      <td>1.000</td>\n",
       "      <td>1.000</td>\n",
       "      <td>1.000</td>\n",
       "      <td>2.000</td>\n",
       "      <td>4.000</td>\n",
       "    </tr>\n",
       "    <tr>\n",
       "      <th>HasCrCard</th>\n",
       "      <td>10000.000</td>\n",
       "      <td>0.706</td>\n",
       "      <td>0.456</td>\n",
       "      <td>0.000</td>\n",
       "      <td>0.000</td>\n",
       "      <td>1.000</td>\n",
       "      <td>1.000</td>\n",
       "      <td>1.000</td>\n",
       "    </tr>\n",
       "    <tr>\n",
       "      <th>IsActiveMember</th>\n",
       "      <td>10000.000</td>\n",
       "      <td>0.515</td>\n",
       "      <td>0.500</td>\n",
       "      <td>0.000</td>\n",
       "      <td>0.000</td>\n",
       "      <td>1.000</td>\n",
       "      <td>1.000</td>\n",
       "      <td>1.000</td>\n",
       "    </tr>\n",
       "    <tr>\n",
       "      <th>EstimatedSalary</th>\n",
       "      <td>10000.000</td>\n",
       "      <td>100090.240</td>\n",
       "      <td>57510.493</td>\n",
       "      <td>11.580</td>\n",
       "      <td>51002.110</td>\n",
       "      <td>100193.915</td>\n",
       "      <td>149388.247</td>\n",
       "      <td>199992.480</td>\n",
       "    </tr>\n",
       "    <tr>\n",
       "      <th>Exited</th>\n",
       "      <td>10000.000</td>\n",
       "      <td>0.204</td>\n",
       "      <td>0.403</td>\n",
       "      <td>0.000</td>\n",
       "      <td>0.000</td>\n",
       "      <td>0.000</td>\n",
       "      <td>0.000</td>\n",
       "      <td>1.000</td>\n",
       "    </tr>\n",
       "  </tbody>\n",
       "</table>\n",
       "</div>"
      ],
      "text/plain": [
       "                    count         mean       std          min          25%  \\\n",
       "RowNumber       10000.000     5000.500  2886.896        1.000     2500.750   \n",
       "CustomerId      10000.000 15690940.569 71936.186 15565701.000 15628528.250   \n",
       "CreditScore     10000.000      650.529    96.653      350.000      584.000   \n",
       "Age             10000.000       38.922    10.488       18.000       32.000   \n",
       "Tenure          10000.000        5.013     2.892        0.000        3.000   \n",
       "Balance         10000.000    76485.889 62397.405        0.000        0.000   \n",
       "NumOfProducts   10000.000        1.530     0.582        1.000        1.000   \n",
       "HasCrCard       10000.000        0.706     0.456        0.000        0.000   \n",
       "IsActiveMember  10000.000        0.515     0.500        0.000        0.000   \n",
       "EstimatedSalary 10000.000   100090.240 57510.493       11.580    51002.110   \n",
       "Exited          10000.000        0.204     0.403        0.000        0.000   \n",
       "\n",
       "                         50%          75%          max  \n",
       "RowNumber           5000.500     7500.250    10000.000  \n",
       "CustomerId      15690738.000 15753233.750 15815690.000  \n",
       "CreditScore          652.000      718.000      850.000  \n",
       "Age                   37.000       44.000       92.000  \n",
       "Tenure                 5.000        7.000       10.000  \n",
       "Balance            97198.540   127644.240   250898.090  \n",
       "NumOfProducts          1.000        2.000        4.000  \n",
       "HasCrCard              1.000        1.000        1.000  \n",
       "IsActiveMember         1.000        1.000        1.000  \n",
       "EstimatedSalary   100193.915   149388.247   199992.480  \n",
       "Exited                 0.000        0.000        1.000  "
      ]
     },
     "execution_count": 5,
     "metadata": {},
     "output_type": "execute_result"
    }
   ],
   "source": [
    "df.describe().T"
   ]
  },
  {
   "cell_type": "code",
   "execution_count": 6,
   "metadata": {
    "ExecuteTime": {
     "end_time": "2022-03-11T12:53:16.647851Z",
     "start_time": "2022-03-11T12:53:16.618821Z"
    }
   },
   "outputs": [
    {
     "data": {
      "text/html": [
       "<div>\n",
       "<style scoped>\n",
       "    .dataframe tbody tr th:only-of-type {\n",
       "        vertical-align: middle;\n",
       "    }\n",
       "\n",
       "    .dataframe tbody tr th {\n",
       "        vertical-align: top;\n",
       "    }\n",
       "\n",
       "    .dataframe thead th {\n",
       "        text-align: right;\n",
       "    }\n",
       "</style>\n",
       "<table border=\"1\" class=\"dataframe\">\n",
       "  <thead>\n",
       "    <tr style=\"text-align: right;\">\n",
       "      <th></th>\n",
       "      <th>Surname</th>\n",
       "      <th>Geography</th>\n",
       "      <th>Gender</th>\n",
       "    </tr>\n",
       "  </thead>\n",
       "  <tbody>\n",
       "    <tr>\n",
       "      <th>count</th>\n",
       "      <td>10000</td>\n",
       "      <td>10000</td>\n",
       "      <td>10000</td>\n",
       "    </tr>\n",
       "    <tr>\n",
       "      <th>unique</th>\n",
       "      <td>2932</td>\n",
       "      <td>3</td>\n",
       "      <td>2</td>\n",
       "    </tr>\n",
       "    <tr>\n",
       "      <th>top</th>\n",
       "      <td>Smith</td>\n",
       "      <td>France</td>\n",
       "      <td>Male</td>\n",
       "    </tr>\n",
       "    <tr>\n",
       "      <th>freq</th>\n",
       "      <td>32</td>\n",
       "      <td>5014</td>\n",
       "      <td>5457</td>\n",
       "    </tr>\n",
       "  </tbody>\n",
       "</table>\n",
       "</div>"
      ],
      "text/plain": [
       "       Surname Geography Gender\n",
       "count    10000     10000  10000\n",
       "unique    2932         3      2\n",
       "top      Smith    France   Male\n",
       "freq        32      5014   5457"
      ]
     },
     "execution_count": 6,
     "metadata": {},
     "output_type": "execute_result"
    }
   ],
   "source": [
    "df.describe(include='O')"
   ]
  },
  {
   "cell_type": "raw",
   "metadata": {},
   "source": [
    "By looking at the statistics above, we can see that in geography, most people are from France. And most of them are males."
   ]
  },
  {
   "cell_type": "code",
   "execution_count": 8,
   "metadata": {
    "ExecuteTime": {
     "end_time": "2022-03-11T12:54:31.491480Z",
     "start_time": "2022-03-11T12:54:28.304243Z"
    }
   },
   "outputs": [
    {
     "data": {
      "image/png": "[encoded data removed]",
      "text/plain": [
       "<Figure size 864x432 with 8 Axes>"
      ]
     },
     "metadata": {},
     "output_type": "display_data"
    }
   ],
   "source": [
    "fig, axes = plt.subplots(2,4,figsize=(12,6))\n",
    "feats = ['CreditScore', 'Age', 'Tenure', 'Balance', 'NumOfProducts', 'HasCrCard', 'IsActiveMember', 'EstimatedSalary']\n",
    "for i, ax in enumerate(axes.flatten()):\n",
    "    ax.hist(df[feats[i]], bins=25, color='blue')\n",
    "    ax.set_title(str(feats[i])+' Distribution', color='brown')\n",
    "    ax.set_yscale('log')\n",
    "plt.tight_layout()"
   ]
  },
  {
   "cell_type": "code",
   "execution_count": 9,
   "metadata": {
    "ExecuteTime": {
     "end_time": "2022-03-11T12:54:40.531163Z",
     "start_time": "2022-03-11T12:54:40.511765Z"
    },
    "colab": {
     "base_uri": "https://localhost:8080/"
    },
    "executionInfo": {
     "elapsed": 40,
     "status": "ok",
     "timestamp": 1646828989021,
     "user": {
      "displayName": "Steve Wallace",
      "photoUrl": "https://lh3.googleusercontent.com/a/default-user=s64",
      "userId": "06741533186265949524"
     },
     "user_tz": -180
    },
    "id": "wc-ad5kPZ5i8",
    "outputId": "7e3a59e4-cb1e-44f4-a35d-754168629eef"
   },
   "outputs": [
    {
     "data": {
      "text/plain": [
       "0    7963\n",
       "1    2037\n",
       "Name: Exited, dtype: int64"
      ]
     },
     "execution_count": 9,
     "metadata": {},
     "output_type": "execute_result"
    }
   ],
   "source": [
    "df.Exited.value_counts()"
   ]
  },
  {
   "cell_type": "code",
   "execution_count": 10,
   "metadata": {
    "ExecuteTime": {
     "end_time": "2022-03-11T12:54:47.930368Z",
     "start_time": "2022-03-11T12:54:47.758208Z"
    },
    "colab": {
     "base_uri": "https://localhost:8080/",
     "height": 406
    },
    "executionInfo": {
     "elapsed": 36,
     "status": "ok",
     "timestamp": 1646828989023,
     "user": {
      "displayName": "Steve Wallace",
      "photoUrl": "https://lh3.googleusercontent.com/a/default-user=s64",
      "userId": "06741533186265949524"
     },
     "user_tz": -180
    },
    "id": "_7vHUi5Hgldj",
    "outputId": "c429edb8-ba08-4e56-9dd1-d72a413bc017"
   },
   "outputs": [
    {
     "data": {
      "text/plain": [
       "<AxesSubplot:xlabel='Exited', ylabel='count'>"
      ]
     },
     "execution_count": 10,
     "metadata": {},
     "output_type": "execute_result"
    },
    {
     "data": {
      "image/png": "[encoded data removed]",
      "text/plain": [
       "<Figure size 720x432 with 1 Axes>"
      ]
     },
     "metadata": {},
     "output_type": "display_data"
    }
   ],
   "source": [
    "sns.countplot(df[\"Exited\"])"
   ]
  },
  {
   "cell_type": "code",
   "execution_count": 12,
   "metadata": {
    "ExecuteTime": {
     "end_time": "2022-03-11T12:56:16.176715Z",
     "start_time": "2022-03-11T12:56:15.919579Z"
    }
   },
   "outputs": [
    {
     "data": {
      "image/png": "[encoded data removed]",
      "text/plain": [
       "<Figure size 1008x576 with 1 Axes>"
      ]
     },
     "metadata": {},
     "output_type": "display_data"
    }
   ],
   "source": [
    "plt.figure(figsize=(14,8))\n",
    "ax = sns.countplot(x=\"Geography\", hue=\"Exited\", data=df)\n",
    "ax.set_xlabel(\"Geography\",fontsize=15)  \n",
    "ax.set_ylabel(\"Count\",fontsize=15)\n",
    "ax.set_title('Exits by Country ',fontsize=15)\n",
    "plt.show()"
   ]
  },
  {
   "cell_type": "code",
   "execution_count": 15,
   "metadata": {
    "ExecuteTime": {
     "end_time": "2022-03-11T12:56:56.610114Z",
     "start_time": "2022-03-11T12:56:56.434481Z"
    }
   },
   "outputs": [
    {
     "data": {
      "image/png": "[encoded data removed]",
      "text/plain": [
       "<Figure size 720x432 with 1 Axes>"
      ]
     },
     "metadata": {},
     "output_type": "display_data"
    }
   ],
   "source": [
    "# Plotting the features of the dataset to see the correlation between them\n",
    "\n",
    "plt.hist(x = df.Gender, bins = 3, color = 'blue')\n",
    "plt.title('comparison of male and female')\n",
    "plt.xlabel('Gender')\n",
    "plt.ylabel('population')\n",
    "plt.show()"
   ]
  },
  {
   "cell_type": "code",
   "execution_count": 16,
   "metadata": {
    "ExecuteTime": {
     "end_time": "2022-03-11T12:57:42.505562Z",
     "start_time": "2022-03-11T12:57:42.316431Z"
    }
   },
   "outputs": [
    {
     "data": {
      "image/png": "[encoded data removed]",
      "text/plain": [
       "<Figure size 1008x576 with 1 Axes>"
      ]
     },
     "metadata": {},
     "output_type": "display_data"
    }
   ],
   "source": [
    "plt.figure(figsize=(14,8))\n",
    "ax = sns.countplot(x=\"Gender\", hue=\"Exited\", data=df)\n",
    "ax.set_xlabel(\"Gender\",fontsize=15)  \n",
    "ax.set_ylabel(\"Count\",fontsize=15)\n",
    "ax.set_title('Exits by Gender',fontsize=15)\n",
    "plt.show()"
   ]
  },
  {
   "cell_type": "code",
   "execution_count": 21,
   "metadata": {
    "ExecuteTime": {
     "end_time": "2022-03-11T13:00:19.881799Z",
     "start_time": "2022-03-11T13:00:19.666592Z"
    }
   },
   "outputs": [
    {
     "data": {
      "image/png": "[encoded data removed]",
      "text/plain": [
       "<Figure size 720x432 with 1 Axes>"
      ]
     },
     "metadata": {},
     "output_type": "display_data"
    }
   ],
   "source": [
    "# comparison of age in the dataset\n",
    "\n",
    "plt.hist(x = df.Age, bins = 10, color = 'blue')\n",
    "plt.title('Distribution of Age')\n",
    "plt.xlabel('Age')\n",
    "plt.ylabel('population')\n",
    "plt.show()"
   ]
  },
  {
   "cell_type": "code",
   "execution_count": 23,
   "metadata": {
    "ExecuteTime": {
     "end_time": "2022-03-11T13:00:44.265633Z",
     "start_time": "2022-03-11T13:00:44.069748Z"
    }
   },
   "outputs": [
    {
     "data": {
      "text/plain": [
       "<AxesSubplot:xlabel='Age', ylabel='Exited'>"
      ]
     },
     "execution_count": 23,
     "metadata": {},
     "output_type": "execute_result"
    },
    {
     "data": {
      "image/png": "[encoded data removed]",
      "text/plain": [
       "<Figure size 1080x576 with 1 Axes>"
      ]
     },
     "metadata": {},
     "output_type": "display_data"
    }
   ],
   "source": [
    "plt.figure(figsize=(15, 8))\n",
    "sns.boxplot(x=df.Age, y=df.Exited, orient='h')"
   ]
  },
  {
   "cell_type": "raw",
   "metadata": {},
   "source": [
    "From the above box plot, we can see that mostly older people are the one who churns."
   ]
  },
  {
   "cell_type": "code",
   "execution_count": 27,
   "metadata": {
    "ExecuteTime": {
     "end_time": "2022-03-11T13:02:07.901498Z",
     "start_time": "2022-03-11T13:02:07.675577Z"
    }
   },
   "outputs": [
    {
     "data": {
      "image/png": "[encoded data removed]",
      "text/plain": [
       "<Figure size 720x432 with 1 Axes>"
      ]
     },
     "metadata": {},
     "output_type": "display_data"
    }
   ],
   "source": [
    "# comparison of geography\n",
    "\n",
    "plt.hist(x = df.Geography, bins = 5, color = 'blue')\n",
    "plt.title('comparison of Geography')\n",
    "plt.xlabel('Geography')\n",
    "plt.ylabel('population')\n",
    "plt.show()"
   ]
  },
  {
   "cell_type": "code",
   "execution_count": 28,
   "metadata": {
    "ExecuteTime": {
     "end_time": "2022-03-11T13:02:17.550313Z",
     "start_time": "2022-03-11T13:02:17.314694Z"
    }
   },
   "outputs": [
    {
     "data": {
      "image/png": "[encoded data removed]",
      "text/plain": [
       "<Figure size 720x432 with 1 Axes>"
      ]
     },
     "metadata": {},
     "output_type": "display_data"
    }
   ],
   "source": [
    "# comparision of how many customers hold the credit card\n",
    "\n",
    "plt.hist(x = df.HasCrCard, bins = 3, color = 'blue')\n",
    "plt.title('how many people have or not have the credit card')\n",
    "plt.xlabel('customers holding credit card')\n",
    "plt.ylabel('population')\n",
    "plt.show()"
   ]
  },
  {
   "cell_type": "code",
   "execution_count": 29,
   "metadata": {
    "ExecuteTime": {
     "end_time": "2022-03-11T13:02:32.265796Z",
     "start_time": "2022-03-11T13:02:32.055791Z"
    }
   },
   "outputs": [
    {
     "data": {
      "image/png": "[encoded data removed]",
      "text/plain": [
       "<Figure size 1008x576 with 1 Axes>"
      ]
     },
     "metadata": {},
     "output_type": "display_data"
    }
   ],
   "source": [
    "plt.figure(figsize=(14,8))\n",
    "ax = sns.countplot(x=\"HasCrCard\", hue=\"Exited\", data=df)\n",
    "ax.set_xlabel(\"HasCrCard\",fontsize=15)  \n",
    "ax.set_ylabel(\"Count\",fontsize=15)\n",
    "ax.set_title('Comparison of HasCrCard and Exited columns ',fontsize=15)\n",
    "plt.show()"
   ]
  },
  {
   "cell_type": "code",
   "execution_count": 31,
   "metadata": {
    "ExecuteTime": {
     "end_time": "2022-03-11T13:02:59.999891Z",
     "start_time": "2022-03-11T13:02:59.748836Z"
    }
   },
   "outputs": [
    {
     "data": {
      "image/png": "[encoded data removed]",
      "text/plain": [
       "<Figure size 720x432 with 1 Axes>"
      ]
     },
     "metadata": {},
     "output_type": "display_data"
    }
   ],
   "source": [
    "# How many active member does the bank have ?\n",
    "\n",
    "plt.hist(x = df.IsActiveMember, bins = 3, color = 'blue')\n",
    "plt.title('Active Members')\n",
    "plt.xlabel('Customers')\n",
    "plt.ylabel('population')\n",
    "plt.show()"
   ]
  },
  {
   "cell_type": "code",
   "execution_count": 33,
   "metadata": {
    "ExecuteTime": {
     "end_time": "2022-03-11T13:03:25.842900Z",
     "start_time": "2022-03-11T13:03:25.592330Z"
    }
   },
   "outputs": [
    {
     "data": {
      "text/plain": [
       "<AxesSubplot:xlabel='HasCrCard'>"
      ]
     },
     "execution_count": 33,
     "metadata": {},
     "output_type": "execute_result"
    },
    {
     "data": {
      "image/png": "[encoded data removed]",
      "text/plain": [
       "<Figure size 432x432 with 1 Axes>"
      ]
     },
     "metadata": {},
     "output_type": "display_data"
    }
   ],
   "source": [
    "# comparison between geography and card holders\n",
    "\n",
    "HasCrCard = pd.crosstab(df['HasCrCard'], df['Geography'])\n",
    "HasCrCard.div(HasCrCard.sum(1).astype(float), axis = 0).plot(kind = 'bar',\n",
    "                                            stacked = True,figsize = (6, 6))"
   ]
  },
  {
   "cell_type": "code",
   "execution_count": 34,
   "metadata": {
    "ExecuteTime": {
     "end_time": "2022-03-11T13:03:50.839186Z",
     "start_time": "2022-03-11T13:03:50.597477Z"
    }
   },
   "outputs": [
    {
     "data": {
      "text/plain": [
       "<AxesSubplot:xlabel='IsActiveMember'>"
      ]
     },
     "execution_count": 34,
     "metadata": {},
     "output_type": "execute_result"
    },
    {
     "data": {
      "image/png": "[encoded data removed]",
      "text/plain": [
       "<Figure size 432x432 with 1 Axes>"
      ]
     },
     "metadata": {},
     "output_type": "display_data"
    }
   ],
   "source": [
    "# comparison of active member in differnt geographies\n",
    "\n",
    "IsActiveMember = pd.crosstab(df['IsActiveMember'], df['Geography'])\n",
    "IsActiveMember.div(IsActiveMember.sum(1).astype(float), axis = 0).plot(kind = 'bar', \n",
    "                                             stacked = True, figsize= (6, 6))"
   ]
  },
  {
   "cell_type": "code",
   "execution_count": 36,
   "metadata": {
    "ExecuteTime": {
     "end_time": "2022-03-11T13:04:39.321475Z",
     "start_time": "2022-03-11T13:04:37.650820Z"
    }
   },
   "outputs": [
    {
     "data": {
      "text/plain": [
       "<AxesSubplot:xlabel='Age'>"
      ]
     },
     "execution_count": 36,
     "metadata": {},
     "output_type": "execute_result"
    },
    {
     "data": {
      "image/png": "[encoded data removed]",
      "text/plain": [
       "<Figure size 1080x432 with 1 Axes>"
      ]
     },
     "metadata": {},
     "output_type": "display_data"
    }
   ],
   "source": [
    "# comparing ages in different geographies\n",
    "\n",
    "Age = pd.crosstab(df['Age'], df['Geography'])\n",
    "Age.div(Age.sum(1).astype(float), axis = 0).plot(kind = 'bar', \n",
    "                                           stacked = True, figsize = (15,6))"
   ]
  },
  {
   "cell_type": "code",
   "execution_count": 37,
   "metadata": {
    "ExecuteTime": {
     "end_time": "2022-03-11T13:05:22.429946Z",
     "start_time": "2022-03-11T13:05:22.399021Z"
    }
   },
   "outputs": [
    {
     "name": "stdout",
     "output_type": "stream",
     "text": [
      "Total Balance in France : 311332479.49\n",
      "Total Balance in Germany : 300402861.38\n",
      "Total Balance in Spain : 153123552.01\n"
     ]
    }
   ],
   "source": [
    "# calculating total balance in france, germany and spain\n",
    "\n",
    "total_france = df.Balance[df.Geography == 'France'].sum()\n",
    "total_germany = df.Balance[df.Geography == 'Germany'].sum()\n",
    "total_spain = df.Balance[df.Geography == 'Spain'].sum()\n",
    "\n",
    "print(\"Total Balance in France :\",total_france)\n",
    "print(\"Total Balance in Germany :\",total_germany)\n",
    "print(\"Total Balance in Spain :\",total_spain)"
   ]
  },
  {
   "cell_type": "code",
   "execution_count": 38,
   "metadata": {
    "ExecuteTime": {
     "end_time": "2022-03-11T13:05:28.847034Z",
     "start_time": "2022-03-11T13:05:28.686090Z"
    }
   },
   "outputs": [
    {
     "data": {
      "image/png": "[encoded data removed]",
      "text/plain": [
       "<Figure size 720x432 with 1 Axes>"
      ]
     },
     "metadata": {},
     "output_type": "display_data"
    }
   ],
   "source": [
    "# plotting a pie chart of total balance\n",
    "\n",
    "labels = 'France', 'Germany', 'Spain'\n",
    "colors = ['cyan', 'magenta', 'orange']\n",
    "sizes =  [311, 300, 153]\n",
    "explode = [ 0.01, 0.01, 0.01]\n",
    "\n",
    "plt.pie(sizes, colors = colors, labels = labels, explode = explode, shadow = True)\n",
    "\n",
    "plt.axis('equal')\n",
    "plt.show()"
   ]
  },
  {
   "cell_type": "code",
   "execution_count": 39,
   "metadata": {
    "ExecuteTime": {
     "end_time": "2022-03-11T13:05:37.026787Z",
     "start_time": "2022-03-11T13:05:36.518411Z"
    }
   },
   "outputs": [
    {
     "data": {
      "text/plain": [
       "<AxesSubplot:xlabel='Balance', ylabel='Exited'>"
      ]
     },
     "execution_count": 39,
     "metadata": {},
     "output_type": "execute_result"
    },
    {
     "data": {
      "image/png": "[encoded data removed]",
      "text/plain": [
       "<Figure size 1080x576 with 1 Axes>"
      ]
     },
     "metadata": {},
     "output_type": "display_data"
    }
   ],
   "source": [
    "plt.figure(figsize=(15, 8))\n",
    "sns.boxplot(x='Balance', y='Exited', data=df, orient='h')"
   ]
  },
  {
   "cell_type": "raw",
   "metadata": {},
   "source": [
    "From the above box plots, we can see that trend is almost the same. However, some of the churns are from people having balance reaching 250000."
   ]
  },
  {
   "cell_type": "code",
   "execution_count": 40,
   "metadata": {
    "ExecuteTime": {
     "end_time": "2022-03-11T13:06:16.638201Z",
     "start_time": "2022-03-11T13:06:16.183644Z"
    }
   },
   "outputs": [
    {
     "data": {
      "image/png": "[encoded data removed]",
      "text/plain": [
       "<Figure size 1080x576 with 1 Axes>"
      ]
     },
     "metadata": {},
     "output_type": "display_data"
    }
   ],
   "source": [
    "plt.figure(figsize=(15, 8))\n",
    "sns.distplot(df.CreditScore)\n",
    "plt.ylabel('Frequency', fontsize=15)\n",
    "plt.xlabel('Credit Score', fontsize=15)\n",
    "plt.title('Credit Score Frequency Distribution', fontsize=15)\n",
    "plt.show()"
   ]
  },
  {
   "cell_type": "raw",
   "metadata": {},
   "source": [
    "Most of the distributions are between 600 and 700. And the distribution is normal (i.e. not skewed)."
   ]
  },
  {
   "cell_type": "code",
   "execution_count": 41,
   "metadata": {
    "ExecuteTime": {
     "end_time": "2022-03-11T13:06:49.413736Z",
     "start_time": "2022-03-11T13:06:48.675019Z"
    },
    "colab": {
     "base_uri": "https://localhost:8080/",
     "height": 1000
    },
    "executionInfo": {
     "elapsed": 9214,
     "status": "ok",
     "timestamp": 1646828998206,
     "user": {
      "displayName": "Steve Wallace",
      "photoUrl": "https://lh3.googleusercontent.com/a/default-user=s64",
      "userId": "06741533186265949524"
     },
     "user_tz": -180
    },
    "id": "fNDK3HprhSU3",
    "outputId": "8be83969-c69c-493b-dda8-20d3bc4f15bb"
   },
   "outputs": [
    {
     "data": {
      "image/png": "[encoded data removed]",
      "text/plain": [
       "<Figure size 1440x1440 with 2 Axes>"
      ]
     },
     "metadata": {},
     "output_type": "display_data"
    }
   ],
   "source": [
    "plt.figure(figsize=(20,20))\n",
    "sns.heatmap(df.corr(), annot=True);"
   ]
  },
  {
   "cell_type": "raw",
   "metadata": {},
   "source": [
    "There appears to be very less correlation among all the columns. And no multicollinearity which is good."
   ]
  },
  {
   "cell_type": "code",
   "execution_count": 42,
   "metadata": {
    "ExecuteTime": {
     "end_time": "2022-03-11T13:06:51.423277Z",
     "start_time": "2022-03-11T13:06:51.398567Z"
    }
   },
   "outputs": [
    {
     "data": {
      "text/plain": [
       "(array(['France', 'Spain', 'Germany'], dtype=object),\n",
       " array(['Female', 'Male'], dtype=object),\n",
       " array([1, 3, 2, 4], dtype=int64),\n",
       " array([1, 0], dtype=int64),\n",
       " array([1, 0], dtype=int64))"
      ]
     },
     "execution_count": 42,
     "metadata": {},
     "output_type": "execute_result"
    }
   ],
   "source": [
    "df[\"Geography\"].unique(),df[\"Gender\"].unique(), df.NumOfProducts.unique(), df.HasCrCard.unique(), df.IsActiveMember.unique()"
   ]
  },
  {
   "cell_type": "code",
   "execution_count": 43,
   "metadata": {
    "ExecuteTime": {
     "end_time": "2022-03-11T13:06:54.445498Z",
     "start_time": "2022-03-11T13:06:54.415697Z"
    }
   },
   "outputs": [
    {
     "data": {
      "text/html": [
       "<div>\n",
       "<style scoped>\n",
       "    .dataframe tbody tr th:only-of-type {\n",
       "        vertical-align: middle;\n",
       "    }\n",
       "\n",
       "    .dataframe tbody tr th {\n",
       "        vertical-align: top;\n",
       "    }\n",
       "\n",
       "    .dataframe thead th {\n",
       "        text-align: right;\n",
       "    }\n",
       "</style>\n",
       "<table border=\"1\" class=\"dataframe\">\n",
       "  <thead>\n",
       "    <tr style=\"text-align: right;\">\n",
       "      <th></th>\n",
       "      <th>CreditScore</th>\n",
       "      <th>Geography</th>\n",
       "      <th>Gender</th>\n",
       "      <th>Age</th>\n",
       "      <th>Tenure</th>\n",
       "      <th>Balance</th>\n",
       "      <th>NumOfProducts</th>\n",
       "      <th>HasCrCard</th>\n",
       "      <th>IsActiveMember</th>\n",
       "      <th>EstimatedSalary</th>\n",
       "      <th>Exited</th>\n",
       "    </tr>\n",
       "  </thead>\n",
       "  <tbody>\n",
       "    <tr>\n",
       "      <th>0</th>\n",
       "      <td>619</td>\n",
       "      <td>France</td>\n",
       "      <td>Female</td>\n",
       "      <td>42</td>\n",
       "      <td>2</td>\n",
       "      <td>0.000</td>\n",
       "      <td>1</td>\n",
       "      <td>1</td>\n",
       "      <td>1</td>\n",
       "      <td>101348.880</td>\n",
       "      <td>1</td>\n",
       "    </tr>\n",
       "    <tr>\n",
       "      <th>1</th>\n",
       "      <td>608</td>\n",
       "      <td>Spain</td>\n",
       "      <td>Female</td>\n",
       "      <td>41</td>\n",
       "      <td>1</td>\n",
       "      <td>83807.860</td>\n",
       "      <td>1</td>\n",
       "      <td>0</td>\n",
       "      <td>1</td>\n",
       "      <td>112542.580</td>\n",
       "      <td>0</td>\n",
       "    </tr>\n",
       "    <tr>\n",
       "      <th>2</th>\n",
       "      <td>502</td>\n",
       "      <td>France</td>\n",
       "      <td>Female</td>\n",
       "      <td>42</td>\n",
       "      <td>8</td>\n",
       "      <td>159660.800</td>\n",
       "      <td>3</td>\n",
       "      <td>1</td>\n",
       "      <td>0</td>\n",
       "      <td>113931.570</td>\n",
       "      <td>1</td>\n",
       "    </tr>\n",
       "    <tr>\n",
       "      <th>3</th>\n",
       "      <td>699</td>\n",
       "      <td>France</td>\n",
       "      <td>Female</td>\n",
       "      <td>39</td>\n",
       "      <td>1</td>\n",
       "      <td>0.000</td>\n",
       "      <td>2</td>\n",
       "      <td>0</td>\n",
       "      <td>0</td>\n",
       "      <td>93826.630</td>\n",
       "      <td>0</td>\n",
       "    </tr>\n",
       "    <tr>\n",
       "      <th>4</th>\n",
       "      <td>850</td>\n",
       "      <td>Spain</td>\n",
       "      <td>Female</td>\n",
       "      <td>43</td>\n",
       "      <td>2</td>\n",
       "      <td>125510.820</td>\n",
       "      <td>1</td>\n",
       "      <td>1</td>\n",
       "      <td>1</td>\n",
       "      <td>79084.100</td>\n",
       "      <td>0</td>\n",
       "    </tr>\n",
       "  </tbody>\n",
       "</table>\n",
       "</div>"
      ],
      "text/plain": [
       "   CreditScore Geography  Gender  Age  Tenure    Balance  NumOfProducts  \\\n",
       "0          619    France  Female   42       2      0.000              1   \n",
       "1          608     Spain  Female   41       1  83807.860              1   \n",
       "2          502    France  Female   42       8 159660.800              3   \n",
       "3          699    France  Female   39       1      0.000              2   \n",
       "4          850     Spain  Female   43       2 125510.820              1   \n",
       "\n",
       "   HasCrCard  IsActiveMember  EstimatedSalary  Exited  \n",
       "0          1               1       101348.880       1  \n",
       "1          0               1       112542.580       0  \n",
       "2          1               0       113931.570       1  \n",
       "3          0               0        93826.630       0  \n",
       "4          1               1        79084.100       0  "
      ]
     },
     "execution_count": 43,
     "metadata": {},
     "output_type": "execute_result"
    }
   ],
   "source": [
    "df = df.drop(['CustomerId','RowNumber','Surname'], axis = \"columns\")     # axis=1\n",
    "df.head()"
   ]
  },
  {
   "cell_type": "code",
   "execution_count": 44,
   "metadata": {
    "ExecuteTime": {
     "end_time": "2022-03-11T13:06:55.998784Z",
     "start_time": "2022-03-11T13:06:55.988530Z"
    },
    "colab": {
     "base_uri": "https://localhost:8080/"
    },
    "executionInfo": {
     "elapsed": 39,
     "status": "ok",
     "timestamp": 1646828998210,
     "user": {
      "displayName": "Steve Wallace",
      "photoUrl": "https://lh3.googleusercontent.com/a/default-user=s64",
      "userId": "06741533186265949524"
     },
     "user_tz": -180
    },
    "id": "fnRFINNJjdYn",
    "outputId": "55b075cb-d8be-45bf-d7c4-749d4fb7ec98"
   },
   "outputs": [
    {
     "data": {
      "text/plain": [
       "(10000, 11)"
      ]
     },
     "execution_count": 44,
     "metadata": {},
     "output_type": "execute_result"
    }
   ],
   "source": [
    "df.shape"
   ]
  },
  {
   "cell_type": "code",
   "execution_count": 45,
   "metadata": {
    "ExecuteTime": {
     "end_time": "2022-03-11T13:06:57.403195Z",
     "start_time": "2022-03-11T13:06:57.085628Z"
    },
    "colab": {
     "base_uri": "https://localhost:8080/",
     "height": 592
    },
    "executionInfo": {
     "elapsed": 1169,
     "status": "ok",
     "timestamp": 1646828999347,
     "user": {
      "displayName": "Steve Wallace",
      "photoUrl": "https://lh3.googleusercontent.com/a/default-user=s64",
      "userId": "06741533186265949524"
     },
     "user_tz": -180
    },
    "id": "IasR3c8ajeC0",
    "outputId": "d3966ffe-ac5b-4e11-e1b5-cb18e5f241d4"
   },
   "outputs": [
    {
     "data": {
      "image/png": "[encoded data removed]",
      "text/plain": [
       "<Figure size 576x720 with 1 Axes>"
      ]
     },
     "metadata": {},
     "output_type": "display_data"
    }
   ],
   "source": [
    "plt.figure(figsize = (8,10))\n",
    "df.corr()['Exited'].sort_values().drop(\"Exited\").plot(kind = \"barh\");"
   ]
  },
  {
   "cell_type": "code",
   "execution_count": 46,
   "metadata": {
    "ExecuteTime": {
     "end_time": "2022-03-11T13:06:58.648866Z",
     "start_time": "2022-03-11T13:06:58.621908Z"
    }
   },
   "outputs": [],
   "source": [
    "df['Gender'].replace({'Female':1,'Male':0},inplace=True)"
   ]
  },
  {
   "cell_type": "code",
   "execution_count": 47,
   "metadata": {
    "ExecuteTime": {
     "end_time": "2022-03-11T13:07:05.164840Z",
     "start_time": "2022-03-11T13:07:05.139284Z"
    }
   },
   "outputs": [],
   "source": [
    "df = pd.get_dummies(df,columns = ['Geography'])"
   ]
  },
  {
   "cell_type": "raw",
   "metadata": {},
   "source": [
    "Geography_dummy = pd.get_dummies(df[\"Geography\"], prefix = \"Geography\")\n",
    "df = pd.concat([df, Geography_dummy], axis = 1)\n",
    "df.head()"
   ]
  },
  {
   "cell_type": "code",
   "execution_count": 48,
   "metadata": {
    "ExecuteTime": {
     "end_time": "2022-03-11T13:07:10.229825Z",
     "start_time": "2022-03-11T13:07:10.202205Z"
    }
   },
   "outputs": [
    {
     "data": {
      "text/html": [
       "<div>\n",
       "<style scoped>\n",
       "    .dataframe tbody tr th:only-of-type {\n",
       "        vertical-align: middle;\n",
       "    }\n",
       "\n",
       "    .dataframe tbody tr th {\n",
       "        vertical-align: top;\n",
       "    }\n",
       "\n",
       "    .dataframe thead th {\n",
       "        text-align: right;\n",
       "    }\n",
       "</style>\n",
       "<table border=\"1\" class=\"dataframe\">\n",
       "  <thead>\n",
       "    <tr style=\"text-align: right;\">\n",
       "      <th></th>\n",
       "      <th>CreditScore</th>\n",
       "      <th>Gender</th>\n",
       "      <th>Age</th>\n",
       "      <th>Tenure</th>\n",
       "      <th>Balance</th>\n",
       "      <th>NumOfProducts</th>\n",
       "      <th>HasCrCard</th>\n",
       "      <th>IsActiveMember</th>\n",
       "      <th>EstimatedSalary</th>\n",
       "      <th>Exited</th>\n",
       "      <th>Geography_France</th>\n",
       "      <th>Geography_Germany</th>\n",
       "      <th>Geography_Spain</th>\n",
       "    </tr>\n",
       "  </thead>\n",
       "  <tbody>\n",
       "    <tr>\n",
       "      <th>4787</th>\n",
       "      <td>529</td>\n",
       "      <td>0</td>\n",
       "      <td>42</td>\n",
       "      <td>1</td>\n",
       "      <td>157498.900</td>\n",
       "      <td>1</td>\n",
       "      <td>1</td>\n",
       "      <td>1</td>\n",
       "      <td>82276.620</td>\n",
       "      <td>0</td>\n",
       "      <td>1</td>\n",
       "      <td>0</td>\n",
       "      <td>0</td>\n",
       "    </tr>\n",
       "    <tr>\n",
       "      <th>4971</th>\n",
       "      <td>681</td>\n",
       "      <td>0</td>\n",
       "      <td>30</td>\n",
       "      <td>2</td>\n",
       "      <td>128393.290</td>\n",
       "      <td>1</td>\n",
       "      <td>1</td>\n",
       "      <td>1</td>\n",
       "      <td>180593.450</td>\n",
       "      <td>0</td>\n",
       "      <td>0</td>\n",
       "      <td>0</td>\n",
       "      <td>1</td>\n",
       "    </tr>\n",
       "    <tr>\n",
       "      <th>7213</th>\n",
       "      <td>484</td>\n",
       "      <td>1</td>\n",
       "      <td>55</td>\n",
       "      <td>8</td>\n",
       "      <td>149349.580</td>\n",
       "      <td>3</td>\n",
       "      <td>0</td>\n",
       "      <td>0</td>\n",
       "      <td>137519.920</td>\n",
       "      <td>1</td>\n",
       "      <td>0</td>\n",
       "      <td>1</td>\n",
       "      <td>0</td>\n",
       "    </tr>\n",
       "    <tr>\n",
       "      <th>8027</th>\n",
       "      <td>684</td>\n",
       "      <td>0</td>\n",
       "      <td>39</td>\n",
       "      <td>4</td>\n",
       "      <td>207034.960</td>\n",
       "      <td>2</td>\n",
       "      <td>0</td>\n",
       "      <td>0</td>\n",
       "      <td>157694.760</td>\n",
       "      <td>1</td>\n",
       "      <td>0</td>\n",
       "      <td>0</td>\n",
       "      <td>1</td>\n",
       "    </tr>\n",
       "    <tr>\n",
       "      <th>5840</th>\n",
       "      <td>616</td>\n",
       "      <td>0</td>\n",
       "      <td>71</td>\n",
       "      <td>4</td>\n",
       "      <td>0.000</td>\n",
       "      <td>2</td>\n",
       "      <td>1</td>\n",
       "      <td>1</td>\n",
       "      <td>173599.380</td>\n",
       "      <td>0</td>\n",
       "      <td>0</td>\n",
       "      <td>0</td>\n",
       "      <td>1</td>\n",
       "    </tr>\n",
       "  </tbody>\n",
       "</table>\n",
       "</div>"
      ],
      "text/plain": [
       "      CreditScore  Gender  Age  Tenure    Balance  NumOfProducts  HasCrCard  \\\n",
       "4787          529       0   42       1 157498.900              1          1   \n",
       "4971          681       0   30       2 128393.290              1          1   \n",
       "7213          484       1   55       8 149349.580              3          0   \n",
       "8027          684       0   39       4 207034.960              2          0   \n",
       "5840          616       0   71       4      0.000              2          1   \n",
       "\n",
       "      IsActiveMember  EstimatedSalary  Exited  Geography_France  \\\n",
       "4787               1        82276.620       0                 1   \n",
       "4971               1       180593.450       0                 0   \n",
       "7213               0       137519.920       1                 0   \n",
       "8027               0       157694.760       1                 0   \n",
       "5840               1       173599.380       0                 0   \n",
       "\n",
       "      Geography_Germany  Geography_Spain  \n",
       "4787                  0                0  \n",
       "4971                  0                1  \n",
       "7213                  1                0  \n",
       "8027                  0                1  \n",
       "5840                  0                1  "
      ]
     },
     "execution_count": 48,
     "metadata": {},
     "output_type": "execute_result"
    }
   ],
   "source": [
    "df.sample(5)"
   ]
  },
  {
   "cell_type": "markdown",
   "metadata": {
    "id": "H4NJrvueZ5i-"
   },
   "source": [
    "## Preprocessing of Data\n",
    "- Train | Test Split, Scalling"
   ]
  },
  {
   "cell_type": "code",
   "execution_count": 16,
   "metadata": {
    "ExecuteTime": {
     "end_time": "2022-03-11T10:00:34.507888Z",
     "start_time": "2022-03-11T10:00:33.466288Z"
    },
    "id": "DjY-ZSPWka7D"
   },
   "outputs": [],
   "source": [
    "from sklearn.model_selection import train_test_split\n",
    "from sklearn.preprocessing import MinMaxScaler"
   ]
  },
  {
   "cell_type": "code",
   "execution_count": 17,
   "metadata": {
    "ExecuteTime": {
     "end_time": "2022-03-11T10:00:35.301018Z",
     "start_time": "2022-03-11T10:00:35.280012Z"
    },
    "id": "kjyTH753lq7M"
   },
   "outputs": [],
   "source": [
    "X = df.drop('Exited', axis=1)\n",
    "y = df['Exited'].values"
   ]
  },
  {
   "cell_type": "code",
   "execution_count": 18,
   "metadata": {
    "ExecuteTime": {
     "end_time": "2022-03-11T10:02:00.654550Z",
     "start_time": "2022-03-11T10:02:00.638045Z"
    },
    "id": "WqTXuyYvZ5i_"
   },
   "outputs": [],
   "source": [
    "seed = 42"
   ]
  },
  {
   "cell_type": "code",
   "execution_count": 21,
   "metadata": {
    "ExecuteTime": {
     "end_time": "2022-03-11T10:15:09.273245Z",
     "start_time": "2022-03-11T10:15:09.096385Z"
    }
   },
   "outputs": [
    {
     "data": {
      "text/html": [
       "<div>\n",
       "<style scoped>\n",
       "    .dataframe tbody tr th:only-of-type {\n",
       "        vertical-align: middle;\n",
       "    }\n",
       "\n",
       "    .dataframe tbody tr th {\n",
       "        vertical-align: top;\n",
       "    }\n",
       "\n",
       "    .dataframe thead th {\n",
       "        text-align: right;\n",
       "    }\n",
       "</style>\n",
       "<table border=\"1\" class=\"dataframe\">\n",
       "  <thead>\n",
       "    <tr style=\"text-align: right;\">\n",
       "      <th></th>\n",
       "      <th>CreditScore</th>\n",
       "      <th>Gender</th>\n",
       "      <th>Age</th>\n",
       "      <th>Tenure</th>\n",
       "      <th>Balance</th>\n",
       "      <th>NumOfProducts</th>\n",
       "      <th>HasCrCard</th>\n",
       "      <th>IsActiveMember</th>\n",
       "      <th>EstimatedSalary</th>\n",
       "      <th>Exited</th>\n",
       "      <th>Geography_France</th>\n",
       "      <th>Geography_Germany</th>\n",
       "      <th>Geography_Spain</th>\n",
       "    </tr>\n",
       "  </thead>\n",
       "  <tbody>\n",
       "    <tr>\n",
       "      <th>0</th>\n",
       "      <td>619</td>\n",
       "      <td>1</td>\n",
       "      <td>42</td>\n",
       "      <td>2</td>\n",
       "      <td>0.000</td>\n",
       "      <td>1</td>\n",
       "      <td>1</td>\n",
       "      <td>1</td>\n",
       "      <td>101348.880</td>\n",
       "      <td>1</td>\n",
       "      <td>0</td>\n",
       "      <td>0</td>\n",
       "      <td>1</td>\n",
       "    </tr>\n",
       "    <tr>\n",
       "      <th>1</th>\n",
       "      <td>608</td>\n",
       "      <td>1</td>\n",
       "      <td>41</td>\n",
       "      <td>1</td>\n",
       "      <td>83807.860</td>\n",
       "      <td>1</td>\n",
       "      <td>0</td>\n",
       "      <td>1</td>\n",
       "      <td>112542.580</td>\n",
       "      <td>0</td>\n",
       "      <td>0</td>\n",
       "      <td>1</td>\n",
       "      <td>0</td>\n",
       "    </tr>\n",
       "    <tr>\n",
       "      <th>2</th>\n",
       "      <td>502</td>\n",
       "      <td>1</td>\n",
       "      <td>42</td>\n",
       "      <td>8</td>\n",
       "      <td>159660.800</td>\n",
       "      <td>3</td>\n",
       "      <td>1</td>\n",
       "      <td>0</td>\n",
       "      <td>113931.570</td>\n",
       "      <td>1</td>\n",
       "      <td>0</td>\n",
       "      <td>0</td>\n",
       "      <td>1</td>\n",
       "    </tr>\n",
       "    <tr>\n",
       "      <th>3</th>\n",
       "      <td>699</td>\n",
       "      <td>1</td>\n",
       "      <td>39</td>\n",
       "      <td>1</td>\n",
       "      <td>0.000</td>\n",
       "      <td>2</td>\n",
       "      <td>0</td>\n",
       "      <td>0</td>\n",
       "      <td>93826.630</td>\n",
       "      <td>1</td>\n",
       "      <td>0</td>\n",
       "      <td>0</td>\n",
       "      <td>0</td>\n",
       "    </tr>\n",
       "    <tr>\n",
       "      <th>4</th>\n",
       "      <td>850</td>\n",
       "      <td>1</td>\n",
       "      <td>43</td>\n",
       "      <td>2</td>\n",
       "      <td>125510.820</td>\n",
       "      <td>1</td>\n",
       "      <td>1</td>\n",
       "      <td>1</td>\n",
       "      <td>79084.100</td>\n",
       "      <td>0</td>\n",
       "      <td>0</td>\n",
       "      <td>1</td>\n",
       "      <td>0</td>\n",
       "    </tr>\n",
       "  </tbody>\n",
       "</table>\n",
       "</div>"
      ],
      "text/plain": [
       "   CreditScore  Gender  Age  Tenure    Balance  NumOfProducts  HasCrCard  \\\n",
       "0          619       1   42       2      0.000              1          1   \n",
       "1          608       1   41       1  83807.860              1          0   \n",
       "2          502       1   42       8 159660.800              3          1   \n",
       "3          699       1   39       1      0.000              2          0   \n",
       "4          850       1   43       2 125510.820              1          1   \n",
       "\n",
       "   IsActiveMember  EstimatedSalary  Exited  Geography_France  \\\n",
       "0               1       101348.880       1                 0   \n",
       "1               1       112542.580       0                 0   \n",
       "2               0       113931.570       1                 0   \n",
       "3               0        93826.630       1                 0   \n",
       "4               1        79084.100       0                 0   \n",
       "\n",
       "   Geography_Germany  Geography_Spain  \n",
       "0                  0                1  \n",
       "1                  1                0  \n",
       "2                  0                1  \n",
       "3                  0                0  \n",
       "4                  1                0  "
      ]
     },
     "execution_count": 21,
     "metadata": {},
     "output_type": "execute_result"
    }
   ],
   "source": [
    "# SMOTE PREPERATION\n",
    "from imblearn.over_sampling import SMOTE\n",
    "sm = SMOTE(random_state=seed)\n",
    "X1, y1 = sm.fit_resample(X, y)\n",
    "df2 = pd.concat([pd.DataFrame(X1), pd.Series(y1)], axis=1)\n",
    "df2.columns = df.columns\n",
    "df2.head()"
   ]
  },
  {
   "cell_type": "code",
   "execution_count": 22,
   "metadata": {
    "ExecuteTime": {
     "end_time": "2022-03-11T10:16:52.265373Z",
     "start_time": "2022-03-11T10:16:52.235028Z"
    }
   },
   "outputs": [
    {
     "name": "stdout",
     "output_type": "stream",
     "text": [
      "<class 'pandas.core.frame.DataFrame'>\n",
      "RangeIndex: 15926 entries, 0 to 15925\n",
      "Data columns (total 13 columns):\n",
      " #   Column             Non-Null Count  Dtype  \n",
      "---  ------             --------------  -----  \n",
      " 0   CreditScore        15926 non-null  int64  \n",
      " 1   Gender             15926 non-null  int64  \n",
      " 2   Age                15926 non-null  int64  \n",
      " 3   Tenure             15926 non-null  int64  \n",
      " 4   Balance            15926 non-null  float64\n",
      " 5   NumOfProducts      15926 non-null  int64  \n",
      " 6   HasCrCard          15926 non-null  int64  \n",
      " 7   IsActiveMember     15926 non-null  int64  \n",
      " 8   EstimatedSalary    15926 non-null  float64\n",
      " 9   Exited             15926 non-null  uint8  \n",
      " 10  Geography_France   15926 non-null  uint8  \n",
      " 11  Geography_Germany  15926 non-null  uint8  \n",
      " 12  Geography_Spain    15926 non-null  int64  \n",
      "dtypes: float64(2), int64(8), uint8(3)\n",
      "memory usage: 1.3 MB\n"
     ]
    }
   ],
   "source": [
    "df2.info()"
   ]
  },
  {
   "cell_type": "markdown",
   "metadata": {
    "id": "Ha9hDt_AoGaE"
   },
   "source": [
    "## Modelling & Model Performance"
   ]
  },
  {
   "cell_type": "code",
   "execution_count": 31,
   "metadata": {
    "ExecuteTime": {
     "end_time": "2022-03-11T10:24:40.607770Z",
     "start_time": "2022-03-11T10:24:40.586000Z"
    },
    "id": "YzzxpfNaoFyZ"
   },
   "outputs": [],
   "source": [
    "import tensorflow as tf\n",
    "from tensorflow.keras.models import Sequential\n",
    "from tensorflow.keras.layers import Dense, Activation\n",
    "from sklearn.metrics import classification_report, confusion_matrix\n",
    "from sklearn.metrics import plot_roc_curve, roc_auc_score, roc_curve\n",
    "from sklearn.model_selection import cross_val_score, cross_validate\n",
    "from sklearn.model_selection import GridSearchCV\n",
    "from tensorflow.keras.callbacks import EarlyStopping\n",
    "from tensorflow.keras.layers import Dropout\n",
    "from tensorflow.keras.optimizers import Adam"
   ]
  },
  {
   "cell_type": "markdown",
   "metadata": {},
   "source": [
    "## WITHOUT SMOTE"
   ]
  },
  {
   "cell_type": "code",
   "execution_count": 23,
   "metadata": {
    "ExecuteTime": {
     "end_time": "2022-03-11T10:18:54.435221Z",
     "start_time": "2022-03-11T10:18:54.416710Z"
    }
   },
   "outputs": [],
   "source": [
    "X = df.drop('Exited', axis=1)\n",
    "y = df['Exited'].values"
   ]
  },
  {
   "cell_type": "code",
   "execution_count": 24,
   "metadata": {
    "ExecuteTime": {
     "end_time": "2022-03-11T10:19:10.500229Z",
     "start_time": "2022-03-11T10:19:10.473924Z"
    },
    "id": "-U7qM3NxmKZX"
   },
   "outputs": [],
   "source": [
    "X_train, X_test, y_train, y_test = train_test_split(X, y, stratify = y, test_size = 0.15, random_state = seed)"
   ]
  },
  {
   "cell_type": "code",
   "execution_count": 25,
   "metadata": {
    "ExecuteTime": {
     "end_time": "2022-03-11T10:19:13.095968Z",
     "start_time": "2022-03-11T10:19:13.083212Z"
    },
    "id": "pyvxjBKcZ5jA"
   },
   "outputs": [],
   "source": [
    "scaler = MinMaxScaler()"
   ]
  },
  {
   "cell_type": "code",
   "execution_count": 26,
   "metadata": {
    "ExecuteTime": {
     "end_time": "2022-03-11T10:19:21.283598Z",
     "start_time": "2022-03-11T10:19:21.255398Z"
    },
    "id": "Fgy3D9SBmWcq"
   },
   "outputs": [],
   "source": [
    "X_train= scaler.fit_transform(X_train)\n",
    "X_test = scaler.transform(X_test)"
   ]
  },
  {
   "cell_type": "code",
   "execution_count": 28,
   "metadata": {
    "ExecuteTime": {
     "end_time": "2022-03-11T10:19:40.284757Z",
     "start_time": "2022-03-11T10:19:40.259303Z"
    },
    "colab": {
     "base_uri": "https://localhost:8080/"
    },
    "executionInfo": {
     "elapsed": 22,
     "status": "ok",
     "timestamp": 1646829000195,
     "user": {
      "displayName": "Steve Wallace",
      "photoUrl": "https://lh3.googleusercontent.com/a/default-user=s64",
      "userId": "06741533186265949524"
     },
     "user_tz": -180
    },
    "id": "53becHwOn549",
    "outputId": "1f3b1ec5-e408-4fed-b31d-07685cd93526"
   },
   "outputs": [
    {
     "data": {
      "text/plain": [
       "(8500, 12)"
      ]
     },
     "execution_count": 28,
     "metadata": {},
     "output_type": "execute_result"
    }
   ],
   "source": [
    "X_train.shape"
   ]
  },
  {
   "cell_type": "code",
   "execution_count": 29,
   "metadata": {
    "ExecuteTime": {
     "end_time": "2022-03-11T10:19:46.727008Z",
     "start_time": "2022-03-11T10:19:46.717041Z"
    },
    "colab": {
     "base_uri": "https://localhost:8080/"
    },
    "executionInfo": {
     "elapsed": 18,
     "status": "ok",
     "timestamp": 1646829000196,
     "user": {
      "displayName": "Steve Wallace",
      "photoUrl": "https://lh3.googleusercontent.com/a/default-user=s64",
      "userId": "06741533186265949524"
     },
     "user_tz": -180
    },
    "id": "TX7hyUw5rOZc",
    "outputId": "1b8e775a-117d-40f8-bc5f-145f0f503ade"
   },
   "outputs": [
    {
     "data": {
      "text/plain": [
       "(1500, 12)"
      ]
     },
     "execution_count": 29,
     "metadata": {},
     "output_type": "execute_result"
    }
   ],
   "source": [
    "X_test.shape"
   ]
  },
  {
   "cell_type": "code",
   "execution_count": 32,
   "metadata": {
    "ExecuteTime": {
     "end_time": "2022-03-11T10:24:46.674188Z",
     "start_time": "2022-03-11T10:24:46.624217Z"
    },
    "id": "GG2glFRNrQcv"
   },
   "outputs": [],
   "source": [
    "tf.random.set_seed(seed)\n",
    "\n",
    "model = Sequential()\n",
    "\n",
    "model.add(Dense(18, activation = \"relu\"))  \n",
    "# model.add(Dropout(0.3))\n",
    "model.add(Dense(9, activation = \"relu\"))\n",
    "# model.add(Dropout(0.3))\n",
    "model.add(Dense(1, activation = \"sigmoid\"))  # output binary olduğu için sigmoid \n",
    "\n",
    "opt = Adam(lr = 0.001)\n",
    "model.compile(optimizer = opt, loss = \"binary_crossentropy\", metrics = [\"accuracy\"])"
   ]
  },
  {
   "cell_type": "code",
   "execution_count": 33,
   "metadata": {
    "ExecuteTime": {
     "end_time": "2022-03-11T10:24:49.786291Z",
     "start_time": "2022-03-11T10:24:49.771822Z"
    }
   },
   "outputs": [],
   "source": [
    "early_stop = EarlyStopping(monitor = \"val_loss\", mode = \"auto\", verbose = 1, patience = 100)"
   ]
  },
  {
   "cell_type": "code",
   "execution_count": 34,
   "metadata": {
    "ExecuteTime": {
     "end_time": "2022-03-11T10:29:36.735626Z",
     "start_time": "2022-03-11T10:25:35.277672Z"
    },
    "colab": {
     "base_uri": "https://localhost:8080/"
    },
    "executionInfo": {
     "elapsed": 156545,
     "status": "ok",
     "timestamp": 1646829156727,
     "user": {
      "displayName": "Steve Wallace",
      "photoUrl": "https://lh3.googleusercontent.com/a/default-user=s64",
      "userId": "06741533186265949524"
     },
     "user_tz": -180
    },
    "id": "hw5J9o-mtbkj",
    "outputId": "89795d04-03ed-475d-8780-7684946c9619",
    "scrolled": true
   },
   "outputs": [
    {
     "name": "stdout",
     "output_type": "stream",
     "text": [
      "Epoch 1/300\n",
      "226/226 [==============================] - 6s 9ms/step - loss: 0.4901 - accuracy: 0.7956 - val_loss: 0.4682 - val_accuracy: 0.8008\n",
      "Epoch 2/300\n",
      "226/226 [==============================] - 1s 5ms/step - loss: 0.4625 - accuracy: 0.7978 - val_loss: 0.4542 - val_accuracy: 0.8118\n",
      "Epoch 3/300\n",
      "226/226 [==============================] - 1s 4ms/step - loss: 0.4490 - accuracy: 0.8065 - val_loss: 0.4436 - val_accuracy: 0.8173\n",
      "Epoch 4/300\n",
      "226/226 [==============================] - 1s 5ms/step - loss: 0.4379 - accuracy: 0.8113 - val_loss: 0.4343 - val_accuracy: 0.8212\n",
      "Epoch 5/300\n",
      "226/226 [==============================] - 1s 4ms/step - loss: 0.4269 - accuracy: 0.8156 - val_loss: 0.4253 - val_accuracy: 0.8227\n",
      "Epoch 6/300\n",
      "226/226 [==============================] - 1s 4ms/step - loss: 0.4192 - accuracy: 0.8173 - val_loss: 0.4195 - val_accuracy: 0.8275\n",
      "Epoch 7/300\n",
      "226/226 [==============================] - 1s 5ms/step - loss: 0.4113 - accuracy: 0.8183 - val_loss: 0.4110 - val_accuracy: 0.8251\n",
      "Epoch 8/300\n",
      "226/226 [==============================] - 1s 5ms/step - loss: 0.4048 - accuracy: 0.8208 - val_loss: 0.4058 - val_accuracy: 0.8267\n",
      "Epoch 9/300\n",
      "226/226 [==============================] - 1s 5ms/step - loss: 0.3985 - accuracy: 0.8221 - val_loss: 0.4018 - val_accuracy: 0.8298\n",
      "Epoch 10/300\n",
      "226/226 [==============================] - 1s 4ms/step - loss: 0.3941 - accuracy: 0.8230 - val_loss: 0.3960 - val_accuracy: 0.8298\n",
      "Epoch 11/300\n",
      "226/226 [==============================] - 1s 5ms/step - loss: 0.3886 - accuracy: 0.8252 - val_loss: 0.3885 - val_accuracy: 0.8361\n",
      "Epoch 12/300\n",
      "226/226 [==============================] - 1s 5ms/step - loss: 0.3825 - accuracy: 0.8309 - val_loss: 0.3846 - val_accuracy: 0.8369\n",
      "Epoch 13/300\n",
      "226/226 [==============================] - 1s 5ms/step - loss: 0.3798 - accuracy: 0.8356 - val_loss: 0.3778 - val_accuracy: 0.8447\n",
      "Epoch 14/300\n",
      "226/226 [==============================] - 1s 5ms/step - loss: 0.3754 - accuracy: 0.8379 - val_loss: 0.3732 - val_accuracy: 0.8486\n",
      "Epoch 15/300\n",
      "226/226 [==============================] - 1s 5ms/step - loss: 0.3722 - accuracy: 0.8415 - val_loss: 0.3712 - val_accuracy: 0.8494\n",
      "Epoch 16/300\n",
      "226/226 [==============================] - 1s 5ms/step - loss: 0.3685 - accuracy: 0.8440 - val_loss: 0.3674 - val_accuracy: 0.8549\n",
      "Epoch 17/300\n",
      "226/226 [==============================] - 1s 5ms/step - loss: 0.3659 - accuracy: 0.8443 - val_loss: 0.3637 - val_accuracy: 0.8502\n",
      "Epoch 18/300\n",
      "226/226 [==============================] - 1s 5ms/step - loss: 0.3638 - accuracy: 0.8469 - val_loss: 0.3586 - val_accuracy: 0.8604\n",
      "Epoch 19/300\n",
      "226/226 [==============================] - 1s 5ms/step - loss: 0.3611 - accuracy: 0.8458 - val_loss: 0.3547 - val_accuracy: 0.8643\n",
      "Epoch 20/300\n",
      "226/226 [==============================] - 1s 5ms/step - loss: 0.3614 - accuracy: 0.8476 - val_loss: 0.3538 - val_accuracy: 0.8643\n",
      "Epoch 21/300\n",
      "226/226 [==============================] - 1s 5ms/step - loss: 0.3590 - accuracy: 0.8498 - val_loss: 0.3534 - val_accuracy: 0.8627\n",
      "Epoch 22/300\n",
      "226/226 [==============================] - 1s 5ms/step - loss: 0.3571 - accuracy: 0.8502 - val_loss: 0.3502 - val_accuracy: 0.8635\n",
      "Epoch 23/300\n",
      "226/226 [==============================] - 1s 4ms/step - loss: 0.3545 - accuracy: 0.8530 - val_loss: 0.3490 - val_accuracy: 0.8604\n",
      "Epoch 24/300\n",
      "226/226 [==============================] - 1s 4ms/step - loss: 0.3529 - accuracy: 0.8530 - val_loss: 0.3479 - val_accuracy: 0.8635\n",
      "Epoch 25/300\n",
      "226/226 [==============================] - 1s 5ms/step - loss: 0.3521 - accuracy: 0.8534 - val_loss: 0.3466 - val_accuracy: 0.8651\n",
      "Epoch 26/300\n",
      "226/226 [==============================] - 1s 5ms/step - loss: 0.3508 - accuracy: 0.8551 - val_loss: 0.3459 - val_accuracy: 0.8659\n",
      "Epoch 27/300\n",
      "226/226 [==============================] - 1s 5ms/step - loss: 0.3494 - accuracy: 0.8552 - val_loss: 0.3503 - val_accuracy: 0.8620\n",
      "Epoch 28/300\n",
      "226/226 [==============================] - 1s 5ms/step - loss: 0.3495 - accuracy: 0.8569 - val_loss: 0.3446 - val_accuracy: 0.8706\n",
      "Epoch 29/300\n",
      "226/226 [==============================] - 1s 5ms/step - loss: 0.3467 - accuracy: 0.8559 - val_loss: 0.3424 - val_accuracy: 0.8737\n",
      "Epoch 30/300\n",
      "226/226 [==============================] - 1s 5ms/step - loss: 0.3461 - accuracy: 0.8552 - val_loss: 0.3401 - val_accuracy: 0.8659\n",
      "Epoch 31/300\n",
      "226/226 [==============================] - 1s 4ms/step - loss: 0.3463 - accuracy: 0.8576 - val_loss: 0.3415 - val_accuracy: 0.8651\n",
      "Epoch 32/300\n",
      "226/226 [==============================] - 1s 4ms/step - loss: 0.3467 - accuracy: 0.8570 - val_loss: 0.3390 - val_accuracy: 0.8675\n",
      "Epoch 33/300\n",
      "226/226 [==============================] - 1s 5ms/step - loss: 0.3451 - accuracy: 0.8585 - val_loss: 0.3403 - val_accuracy: 0.8698\n",
      "Epoch 34/300\n",
      "226/226 [==============================] - 1s 5ms/step - loss: 0.3444 - accuracy: 0.8584 - val_loss: 0.3382 - val_accuracy: 0.8651\n",
      "Epoch 35/300\n",
      "226/226 [==============================] - 1s 4ms/step - loss: 0.3441 - accuracy: 0.8574 - val_loss: 0.3396 - val_accuracy: 0.8659\n",
      "Epoch 36/300\n",
      "226/226 [==============================] - 1s 4ms/step - loss: 0.3441 - accuracy: 0.8580 - val_loss: 0.3378 - val_accuracy: 0.8675\n",
      "Epoch 37/300\n",
      "226/226 [==============================] - 1s 5ms/step - loss: 0.3424 - accuracy: 0.8585 - val_loss: 0.3539 - val_accuracy: 0.8643\n",
      "Epoch 38/300\n",
      "226/226 [==============================] - 1s 5ms/step - loss: 0.3422 - accuracy: 0.8579 - val_loss: 0.3387 - val_accuracy: 0.8698\n",
      "Epoch 39/300\n",
      "226/226 [==============================] - 1s 5ms/step - loss: 0.3406 - accuracy: 0.8577 - val_loss: 0.3370 - val_accuracy: 0.8714\n",
      "Epoch 40/300\n",
      "226/226 [==============================] - 1s 5ms/step - loss: 0.3410 - accuracy: 0.8599 - val_loss: 0.3350 - val_accuracy: 0.8737\n",
      "Epoch 41/300\n",
      "226/226 [==============================] - 1s 4ms/step - loss: 0.3405 - accuracy: 0.8558 - val_loss: 0.3350 - val_accuracy: 0.8706\n",
      "Epoch 42/300\n",
      "226/226 [==============================] - 1s 5ms/step - loss: 0.3422 - accuracy: 0.8569 - val_loss: 0.3350 - val_accuracy: 0.8682\n",
      "Epoch 43/300\n",
      "226/226 [==============================] - 1s 4ms/step - loss: 0.3392 - accuracy: 0.8617 - val_loss: 0.3371 - val_accuracy: 0.8682\n",
      "Epoch 44/300\n",
      "226/226 [==============================] - 1s 4ms/step - loss: 0.3402 - accuracy: 0.8576 - val_loss: 0.3372 - val_accuracy: 0.8667\n",
      "Epoch 45/300\n",
      "226/226 [==============================] - 1s 5ms/step - loss: 0.3386 - accuracy: 0.8585 - val_loss: 0.3407 - val_accuracy: 0.8627\n",
      "Epoch 46/300\n",
      "226/226 [==============================] - 1s 4ms/step - loss: 0.3377 - accuracy: 0.8606 - val_loss: 0.3382 - val_accuracy: 0.8659\n",
      "Epoch 47/300\n",
      "226/226 [==============================] - 1s 4ms/step - loss: 0.3375 - accuracy: 0.8599 - val_loss: 0.3391 - val_accuracy: 0.8627\n",
      "Epoch 48/300\n",
      "226/226 [==============================] - 1s 5ms/step - loss: 0.3387 - accuracy: 0.8612 - val_loss: 0.3328 - val_accuracy: 0.8698\n",
      "Epoch 49/300\n",
      "226/226 [==============================] - 1s 5ms/step - loss: 0.3374 - accuracy: 0.8623 - val_loss: 0.3349 - val_accuracy: 0.8667\n",
      "Epoch 50/300\n",
      "226/226 [==============================] - 1s 5ms/step - loss: 0.3377 - accuracy: 0.8592 - val_loss: 0.3346 - val_accuracy: 0.8643\n",
      "Epoch 51/300\n",
      "226/226 [==============================] - 1s 5ms/step - loss: 0.3371 - accuracy: 0.8609 - val_loss: 0.3360 - val_accuracy: 0.8659\n",
      "Epoch 52/300\n",
      "226/226 [==============================] - 1s 4ms/step - loss: 0.3368 - accuracy: 0.8619 - val_loss: 0.3336 - val_accuracy: 0.8690\n",
      "Epoch 53/300\n",
      "226/226 [==============================] - 1s 5ms/step - loss: 0.3365 - accuracy: 0.8616 - val_loss: 0.3314 - val_accuracy: 0.8659\n",
      "Epoch 54/300\n",
      "226/226 [==============================] - 1s 5ms/step - loss: 0.3364 - accuracy: 0.8609 - val_loss: 0.3347 - val_accuracy: 0.8627\n",
      "Epoch 55/300\n",
      "226/226 [==============================] - 1s 5ms/step - loss: 0.3355 - accuracy: 0.8624 - val_loss: 0.3321 - val_accuracy: 0.8667\n",
      "Epoch 56/300\n",
      "226/226 [==============================] - 1s 4ms/step - loss: 0.3358 - accuracy: 0.8616 - val_loss: 0.3336 - val_accuracy: 0.8659\n",
      "Epoch 57/300\n",
      "226/226 [==============================] - 1s 5ms/step - loss: 0.3351 - accuracy: 0.8620 - val_loss: 0.3339 - val_accuracy: 0.8659\n",
      "Epoch 58/300\n",
      "226/226 [==============================] - 1s 5ms/step - loss: 0.3356 - accuracy: 0.8620 - val_loss: 0.3325 - val_accuracy: 0.8659\n",
      "Epoch 59/300\n",
      "226/226 [==============================] - 1s 4ms/step - loss: 0.3357 - accuracy: 0.8605 - val_loss: 0.3338 - val_accuracy: 0.8635\n",
      "Epoch 60/300\n",
      "226/226 [==============================] - 1s 5ms/step - loss: 0.3354 - accuracy: 0.8606 - val_loss: 0.3328 - val_accuracy: 0.8667\n",
      "Epoch 61/300\n",
      "226/226 [==============================] - 1s 4ms/step - loss: 0.3340 - accuracy: 0.8601 - val_loss: 0.3314 - val_accuracy: 0.8651\n",
      "Epoch 62/300\n",
      "226/226 [==============================] - 1s 5ms/step - loss: 0.3351 - accuracy: 0.8621 - val_loss: 0.3383 - val_accuracy: 0.8620\n",
      "Epoch 63/300\n",
      "226/226 [==============================] - 1s 4ms/step - loss: 0.3334 - accuracy: 0.8623 - val_loss: 0.3326 - val_accuracy: 0.8651\n",
      "Epoch 64/300\n",
      "226/226 [==============================] - 1s 5ms/step - loss: 0.3348 - accuracy: 0.8613 - val_loss: 0.3329 - val_accuracy: 0.8682\n",
      "Epoch 65/300\n",
      "226/226 [==============================] - 1s 5ms/step - loss: 0.3344 - accuracy: 0.8606 - val_loss: 0.3371 - val_accuracy: 0.8643\n",
      "Epoch 66/300\n",
      "226/226 [==============================] - 1s 5ms/step - loss: 0.3340 - accuracy: 0.8612 - val_loss: 0.3326 - val_accuracy: 0.8627\n",
      "Epoch 67/300\n",
      "226/226 [==============================] - 1s 5ms/step - loss: 0.3341 - accuracy: 0.8616 - val_loss: 0.3339 - val_accuracy: 0.8659\n",
      "Epoch 68/300\n",
      "226/226 [==============================] - 1s 5ms/step - loss: 0.3341 - accuracy: 0.8628 - val_loss: 0.3376 - val_accuracy: 0.8635\n",
      "Epoch 69/300\n",
      "226/226 [==============================] - 1s 5ms/step - loss: 0.3336 - accuracy: 0.8639 - val_loss: 0.3308 - val_accuracy: 0.8643\n",
      "Epoch 70/300\n",
      "226/226 [==============================] - 1s 5ms/step - loss: 0.3340 - accuracy: 0.8624 - val_loss: 0.3341 - val_accuracy: 0.8635\n",
      "Epoch 71/300\n",
      "226/226 [==============================] - 1s 5ms/step - loss: 0.3335 - accuracy: 0.8605 - val_loss: 0.3327 - val_accuracy: 0.8643\n",
      "Epoch 72/300\n",
      "226/226 [==============================] - 1s 5ms/step - loss: 0.3334 - accuracy: 0.8613 - val_loss: 0.3319 - val_accuracy: 0.8659\n",
      "Epoch 73/300\n",
      "226/226 [==============================] - 1s 5ms/step - loss: 0.3328 - accuracy: 0.8635 - val_loss: 0.3350 - val_accuracy: 0.8627\n",
      "Epoch 74/300\n",
      "226/226 [==============================] - 1s 4ms/step - loss: 0.3335 - accuracy: 0.8617 - val_loss: 0.3337 - val_accuracy: 0.8643\n",
      "Epoch 75/300\n",
      "226/226 [==============================] - 1s 5ms/step - loss: 0.3345 - accuracy: 0.8620 - val_loss: 0.3337 - val_accuracy: 0.8667\n",
      "Epoch 76/300\n",
      "226/226 [==============================] - 1s 5ms/step - loss: 0.3329 - accuracy: 0.8610 - val_loss: 0.3342 - val_accuracy: 0.8651\n",
      "Epoch 77/300\n",
      "226/226 [==============================] - 1s 5ms/step - loss: 0.3327 - accuracy: 0.8645 - val_loss: 0.3316 - val_accuracy: 0.8635\n",
      "Epoch 78/300\n",
      "226/226 [==============================] - 1s 4ms/step - loss: 0.3320 - accuracy: 0.8623 - val_loss: 0.3311 - val_accuracy: 0.8635\n",
      "Epoch 79/300\n",
      "226/226 [==============================] - 1s 5ms/step - loss: 0.3323 - accuracy: 0.8637 - val_loss: 0.3340 - val_accuracy: 0.8627\n",
      "Epoch 80/300\n",
      "226/226 [==============================] - 1s 5ms/step - loss: 0.3327 - accuracy: 0.8624 - val_loss: 0.3363 - val_accuracy: 0.8659\n",
      "Epoch 81/300\n",
      "226/226 [==============================] - 1s 5ms/step - loss: 0.3336 - accuracy: 0.8615 - val_loss: 0.3306 - val_accuracy: 0.8635\n",
      "Epoch 82/300\n",
      "226/226 [==============================] - 1s 5ms/step - loss: 0.3322 - accuracy: 0.8633 - val_loss: 0.3333 - val_accuracy: 0.8651\n",
      "Epoch 83/300\n",
      "226/226 [==============================] - 1s 5ms/step - loss: 0.3326 - accuracy: 0.8624 - val_loss: 0.3299 - val_accuracy: 0.8627\n",
      "Epoch 84/300\n",
      "226/226 [==============================] - 1s 5ms/step - loss: 0.3321 - accuracy: 0.8631 - val_loss: 0.3306 - val_accuracy: 0.8635\n",
      "Epoch 85/300\n",
      "226/226 [==============================] - 1s 4ms/step - loss: 0.3319 - accuracy: 0.8615 - val_loss: 0.3316 - val_accuracy: 0.8659\n",
      "Epoch 86/300\n",
      "226/226 [==============================] - 1s 4ms/step - loss: 0.3308 - accuracy: 0.8644 - val_loss: 0.3363 - val_accuracy: 0.8714\n",
      "Epoch 87/300\n",
      "226/226 [==============================] - 1s 4ms/step - loss: 0.3317 - accuracy: 0.8639 - val_loss: 0.3334 - val_accuracy: 0.8667\n",
      "Epoch 88/300\n",
      "226/226 [==============================] - 1s 5ms/step - loss: 0.3320 - accuracy: 0.8615 - val_loss: 0.3359 - val_accuracy: 0.8706\n",
      "Epoch 89/300\n",
      "226/226 [==============================] - 1s 5ms/step - loss: 0.3321 - accuracy: 0.8633 - val_loss: 0.3314 - val_accuracy: 0.8612\n",
      "Epoch 90/300\n",
      "226/226 [==============================] - 1s 5ms/step - loss: 0.3317 - accuracy: 0.8641 - val_loss: 0.3334 - val_accuracy: 0.8667\n",
      "Epoch 91/300\n",
      "226/226 [==============================] - 1s 5ms/step - loss: 0.3300 - accuracy: 0.8642 - val_loss: 0.3336 - val_accuracy: 0.8698\n",
      "Epoch 92/300\n",
      "226/226 [==============================] - 1s 5ms/step - loss: 0.3325 - accuracy: 0.8635 - val_loss: 0.3317 - val_accuracy: 0.8675\n",
      "Epoch 93/300\n",
      "226/226 [==============================] - 1s 5ms/step - loss: 0.3321 - accuracy: 0.8619 - val_loss: 0.3324 - val_accuracy: 0.8635\n",
      "Epoch 94/300\n",
      "226/226 [==============================] - 1s 5ms/step - loss: 0.3314 - accuracy: 0.8637 - val_loss: 0.3340 - val_accuracy: 0.8620\n",
      "Epoch 95/300\n",
      "226/226 [==============================] - 1s 5ms/step - loss: 0.3315 - accuracy: 0.8628 - val_loss: 0.3356 - val_accuracy: 0.8643\n",
      "Epoch 96/300\n",
      "226/226 [==============================] - 1s 5ms/step - loss: 0.3303 - accuracy: 0.8621 - val_loss: 0.3327 - val_accuracy: 0.8667\n",
      "Epoch 97/300\n",
      "226/226 [==============================] - 1s 5ms/step - loss: 0.3306 - accuracy: 0.8626 - val_loss: 0.3355 - val_accuracy: 0.8667\n",
      "Epoch 98/300\n",
      "226/226 [==============================] - 1s 5ms/step - loss: 0.3314 - accuracy: 0.8626 - val_loss: 0.3356 - val_accuracy: 0.8643\n",
      "Epoch 99/300\n",
      "226/226 [==============================] - 1s 5ms/step - loss: 0.3311 - accuracy: 0.8642 - val_loss: 0.3308 - val_accuracy: 0.8635\n",
      "Epoch 100/300\n",
      "226/226 [==============================] - 1s 5ms/step - loss: 0.3297 - accuracy: 0.8633 - val_loss: 0.3293 - val_accuracy: 0.8651\n",
      "Epoch 101/300\n",
      "226/226 [==============================] - 1s 4ms/step - loss: 0.3325 - accuracy: 0.8635 - val_loss: 0.3295 - val_accuracy: 0.8635\n",
      "Epoch 102/300\n",
      "226/226 [==============================] - 1s 4ms/step - loss: 0.3307 - accuracy: 0.8646 - val_loss: 0.3283 - val_accuracy: 0.8651\n",
      "Epoch 103/300\n",
      "226/226 [==============================] - 1s 5ms/step - loss: 0.3300 - accuracy: 0.8601 - val_loss: 0.3297 - val_accuracy: 0.8682\n",
      "Epoch 104/300\n",
      "226/226 [==============================] - 1s 5ms/step - loss: 0.3295 - accuracy: 0.8671 - val_loss: 0.3278 - val_accuracy: 0.8659\n",
      "Epoch 105/300\n",
      "226/226 [==============================] - 1s 4ms/step - loss: 0.3302 - accuracy: 0.8648 - val_loss: 0.3295 - val_accuracy: 0.8675\n",
      "Epoch 106/300\n",
      "226/226 [==============================] - 1s 5ms/step - loss: 0.3297 - accuracy: 0.8634 - val_loss: 0.3351 - val_accuracy: 0.8620\n",
      "Epoch 107/300\n",
      "226/226 [==============================] - 1s 4ms/step - loss: 0.3299 - accuracy: 0.8634 - val_loss: 0.3326 - val_accuracy: 0.8690\n",
      "Epoch 108/300\n",
      "226/226 [==============================] - 1s 5ms/step - loss: 0.3295 - accuracy: 0.8635 - val_loss: 0.3286 - val_accuracy: 0.8643\n",
      "Epoch 109/300\n",
      "226/226 [==============================] - 1s 5ms/step - loss: 0.3299 - accuracy: 0.8642 - val_loss: 0.3281 - val_accuracy: 0.8643\n",
      "Epoch 110/300\n",
      "226/226 [==============================] - 1s 5ms/step - loss: 0.3297 - accuracy: 0.8635 - val_loss: 0.3343 - val_accuracy: 0.8596\n",
      "Epoch 111/300\n",
      "226/226 [==============================] - 1s 5ms/step - loss: 0.3298 - accuracy: 0.8651 - val_loss: 0.3293 - val_accuracy: 0.8604\n",
      "Epoch 112/300\n",
      "226/226 [==============================] - 1s 5ms/step - loss: 0.3305 - accuracy: 0.8627 - val_loss: 0.3295 - val_accuracy: 0.8682\n",
      "Epoch 113/300\n",
      "226/226 [==============================] - 1s 5ms/step - loss: 0.3295 - accuracy: 0.8630 - val_loss: 0.3292 - val_accuracy: 0.8627\n",
      "Epoch 114/300\n",
      "226/226 [==============================] - 1s 5ms/step - loss: 0.3297 - accuracy: 0.8649 - val_loss: 0.3285 - val_accuracy: 0.8667\n",
      "Epoch 115/300\n",
      "226/226 [==============================] - 1s 5ms/step - loss: 0.3300 - accuracy: 0.8628 - val_loss: 0.3284 - val_accuracy: 0.8675\n",
      "Epoch 116/300\n",
      "226/226 [==============================] - 1s 5ms/step - loss: 0.3296 - accuracy: 0.8646 - val_loss: 0.3286 - val_accuracy: 0.8659\n",
      "Epoch 117/300\n",
      "226/226 [==============================] - 1s 5ms/step - loss: 0.3294 - accuracy: 0.8631 - val_loss: 0.3286 - val_accuracy: 0.8620\n",
      "Epoch 118/300\n",
      "226/226 [==============================] - 1s 5ms/step - loss: 0.3294 - accuracy: 0.8620 - val_loss: 0.3283 - val_accuracy: 0.8643\n",
      "Epoch 119/300\n",
      "226/226 [==============================] - 1s 5ms/step - loss: 0.3291 - accuracy: 0.8631 - val_loss: 0.3282 - val_accuracy: 0.8667\n",
      "Epoch 120/300\n",
      "226/226 [==============================] - 1s 5ms/step - loss: 0.3282 - accuracy: 0.8610 - val_loss: 0.3365 - val_accuracy: 0.8635\n",
      "Epoch 121/300\n",
      "226/226 [==============================] - 1s 4ms/step - loss: 0.3292 - accuracy: 0.8652 - val_loss: 0.3315 - val_accuracy: 0.8682\n",
      "Epoch 122/300\n",
      "226/226 [==============================] - 1s 5ms/step - loss: 0.3298 - accuracy: 0.8638 - val_loss: 0.3263 - val_accuracy: 0.8659\n",
      "Epoch 123/300\n",
      "226/226 [==============================] - 1s 5ms/step - loss: 0.3295 - accuracy: 0.8653 - val_loss: 0.3299 - val_accuracy: 0.8675\n",
      "Epoch 124/300\n",
      "226/226 [==============================] - 1s 5ms/step - loss: 0.3290 - accuracy: 0.8633 - val_loss: 0.3276 - val_accuracy: 0.8682\n",
      "Epoch 125/300\n",
      "226/226 [==============================] - 1s 5ms/step - loss: 0.3292 - accuracy: 0.8642 - val_loss: 0.3289 - val_accuracy: 0.8651\n",
      "Epoch 126/300\n",
      "226/226 [==============================] - 1s 5ms/step - loss: 0.3284 - accuracy: 0.8642 - val_loss: 0.3294 - val_accuracy: 0.8643\n",
      "Epoch 127/300\n",
      "226/226 [==============================] - 1s 5ms/step - loss: 0.3301 - accuracy: 0.8645 - val_loss: 0.3283 - val_accuracy: 0.8651\n",
      "Epoch 128/300\n",
      "226/226 [==============================] - 1s 5ms/step - loss: 0.3286 - accuracy: 0.8635 - val_loss: 0.3276 - val_accuracy: 0.8706\n",
      "Epoch 129/300\n",
      "226/226 [==============================] - 1s 4ms/step - loss: 0.3290 - accuracy: 0.8641 - val_loss: 0.3281 - val_accuracy: 0.8643\n",
      "Epoch 130/300\n",
      "226/226 [==============================] - 1s 4ms/step - loss: 0.3277 - accuracy: 0.8662 - val_loss: 0.3290 - val_accuracy: 0.8675\n",
      "Epoch 131/300\n",
      "226/226 [==============================] - 1s 4ms/step - loss: 0.3283 - accuracy: 0.8673 - val_loss: 0.3306 - val_accuracy: 0.8620\n",
      "Epoch 132/300\n",
      "226/226 [==============================] - 1s 5ms/step - loss: 0.3282 - accuracy: 0.8648 - val_loss: 0.3281 - val_accuracy: 0.8675\n",
      "Epoch 133/300\n",
      "226/226 [==============================] - 1s 5ms/step - loss: 0.3280 - accuracy: 0.8639 - val_loss: 0.3297 - val_accuracy: 0.8612\n",
      "Epoch 134/300\n",
      "226/226 [==============================] - 1s 5ms/step - loss: 0.3286 - accuracy: 0.8645 - val_loss: 0.3370 - val_accuracy: 0.8667\n",
      "Epoch 135/300\n",
      "226/226 [==============================] - 1s 5ms/step - loss: 0.3291 - accuracy: 0.8633 - val_loss: 0.3321 - val_accuracy: 0.8643\n",
      "Epoch 136/300\n",
      "226/226 [==============================] - 1s 5ms/step - loss: 0.3286 - accuracy: 0.8649 - val_loss: 0.3275 - val_accuracy: 0.8643\n",
      "Epoch 137/300\n",
      "226/226 [==============================] - 1s 4ms/step - loss: 0.3287 - accuracy: 0.8641 - val_loss: 0.3288 - val_accuracy: 0.8651\n",
      "Epoch 138/300\n",
      "226/226 [==============================] - 1s 5ms/step - loss: 0.3270 - accuracy: 0.8641 - val_loss: 0.3343 - val_accuracy: 0.8643\n",
      "Epoch 139/300\n",
      "226/226 [==============================] - 1s 4ms/step - loss: 0.3286 - accuracy: 0.8619 - val_loss: 0.3331 - val_accuracy: 0.8667\n",
      "Epoch 140/300\n",
      "226/226 [==============================] - 1s 5ms/step - loss: 0.3278 - accuracy: 0.8656 - val_loss: 0.3289 - val_accuracy: 0.8651\n",
      "Epoch 141/300\n",
      "226/226 [==============================] - 1s 5ms/step - loss: 0.3275 - accuracy: 0.8648 - val_loss: 0.3277 - val_accuracy: 0.8643\n",
      "Epoch 142/300\n",
      "226/226 [==============================] - 1s 5ms/step - loss: 0.3277 - accuracy: 0.8633 - val_loss: 0.3313 - val_accuracy: 0.8627\n",
      "Epoch 143/300\n",
      "226/226 [==============================] - 1s 5ms/step - loss: 0.3274 - accuracy: 0.8663 - val_loss: 0.3294 - val_accuracy: 0.8651\n",
      "Epoch 144/300\n",
      "226/226 [==============================] - 1s 4ms/step - loss: 0.3283 - accuracy: 0.8653 - val_loss: 0.3286 - val_accuracy: 0.8643\n",
      "Epoch 145/300\n",
      "226/226 [==============================] - 1s 5ms/step - loss: 0.3271 - accuracy: 0.8648 - val_loss: 0.3302 - val_accuracy: 0.8651\n",
      "Epoch 146/300\n",
      "226/226 [==============================] - 1s 5ms/step - loss: 0.3263 - accuracy: 0.8642 - val_loss: 0.3308 - val_accuracy: 0.8651\n",
      "Epoch 147/300\n",
      "226/226 [==============================] - 1s 4ms/step - loss: 0.3269 - accuracy: 0.8648 - val_loss: 0.3289 - val_accuracy: 0.8651\n",
      "Epoch 148/300\n",
      "226/226 [==============================] - 1s 5ms/step - loss: 0.3264 - accuracy: 0.8639 - val_loss: 0.3277 - val_accuracy: 0.8627\n",
      "Epoch 149/300\n",
      "226/226 [==============================] - 1s 5ms/step - loss: 0.3267 - accuracy: 0.8651 - val_loss: 0.3285 - val_accuracy: 0.8651\n",
      "Epoch 150/300\n",
      "226/226 [==============================] - 1s 5ms/step - loss: 0.3280 - accuracy: 0.8633 - val_loss: 0.3289 - val_accuracy: 0.8651\n",
      "Epoch 151/300\n",
      "226/226 [==============================] - 1s 5ms/step - loss: 0.3269 - accuracy: 0.8626 - val_loss: 0.3310 - val_accuracy: 0.8659\n",
      "Epoch 152/300\n",
      "226/226 [==============================] - 1s 5ms/step - loss: 0.3263 - accuracy: 0.8630 - val_loss: 0.3291 - val_accuracy: 0.8667\n",
      "Epoch 153/300\n",
      "226/226 [==============================] - 1s 5ms/step - loss: 0.3268 - accuracy: 0.8657 - val_loss: 0.3291 - val_accuracy: 0.8643\n",
      "Epoch 154/300\n",
      "226/226 [==============================] - 1s 5ms/step - loss: 0.3270 - accuracy: 0.8653 - val_loss: 0.3286 - val_accuracy: 0.8651\n",
      "Epoch 155/300\n",
      "226/226 [==============================] - 1s 5ms/step - loss: 0.3263 - accuracy: 0.8626 - val_loss: 0.3277 - val_accuracy: 0.8643\n",
      "Epoch 156/300\n",
      "226/226 [==============================] - 1s 5ms/step - loss: 0.3262 - accuracy: 0.8652 - val_loss: 0.3297 - val_accuracy: 0.8643\n",
      "Epoch 157/300\n",
      "226/226 [==============================] - 1s 4ms/step - loss: 0.3266 - accuracy: 0.8641 - val_loss: 0.3286 - val_accuracy: 0.8651\n",
      "Epoch 158/300\n",
      "226/226 [==============================] - 1s 4ms/step - loss: 0.3266 - accuracy: 0.8664 - val_loss: 0.3297 - val_accuracy: 0.8667\n",
      "Epoch 159/300\n",
      "226/226 [==============================] - 1s 5ms/step - loss: 0.3266 - accuracy: 0.8656 - val_loss: 0.3311 - val_accuracy: 0.8604\n",
      "Epoch 160/300\n",
      "226/226 [==============================] - 1s 5ms/step - loss: 0.3272 - accuracy: 0.8626 - val_loss: 0.3308 - val_accuracy: 0.8620\n",
      "Epoch 161/300\n",
      "226/226 [==============================] - 1s 5ms/step - loss: 0.3268 - accuracy: 0.8657 - val_loss: 0.3288 - val_accuracy: 0.8651\n",
      "Epoch 162/300\n",
      "226/226 [==============================] - 1s 5ms/step - loss: 0.3256 - accuracy: 0.8648 - val_loss: 0.3314 - val_accuracy: 0.8643\n",
      "Epoch 163/300\n",
      "226/226 [==============================] - 1s 5ms/step - loss: 0.3270 - accuracy: 0.8644 - val_loss: 0.3323 - val_accuracy: 0.8659\n",
      "Epoch 164/300\n",
      "226/226 [==============================] - 1s 5ms/step - loss: 0.3253 - accuracy: 0.8667 - val_loss: 0.3295 - val_accuracy: 0.8651\n",
      "Epoch 165/300\n",
      "226/226 [==============================] - 1s 5ms/step - loss: 0.3262 - accuracy: 0.8657 - val_loss: 0.3312 - val_accuracy: 0.8651\n",
      "Epoch 166/300\n",
      "226/226 [==============================] - 1s 5ms/step - loss: 0.3255 - accuracy: 0.8655 - val_loss: 0.3278 - val_accuracy: 0.8651\n",
      "Epoch 167/300\n",
      "226/226 [==============================] - 1s 5ms/step - loss: 0.3260 - accuracy: 0.8644 - val_loss: 0.3271 - val_accuracy: 0.8667\n",
      "Epoch 168/300\n",
      "226/226 [==============================] - 1s 5ms/step - loss: 0.3260 - accuracy: 0.8651 - val_loss: 0.3301 - val_accuracy: 0.8596\n",
      "Epoch 169/300\n",
      "226/226 [==============================] - 1s 5ms/step - loss: 0.3260 - accuracy: 0.8637 - val_loss: 0.3296 - val_accuracy: 0.8651\n",
      "Epoch 170/300\n",
      "226/226 [==============================] - 1s 4ms/step - loss: 0.3250 - accuracy: 0.8638 - val_loss: 0.3298 - val_accuracy: 0.8604\n",
      "Epoch 171/300\n",
      "226/226 [==============================] - 1s 4ms/step - loss: 0.3258 - accuracy: 0.8649 - val_loss: 0.3265 - val_accuracy: 0.8651\n",
      "Epoch 172/300\n",
      "226/226 [==============================] - 1s 5ms/step - loss: 0.3265 - accuracy: 0.8639 - val_loss: 0.3308 - val_accuracy: 0.8635\n",
      "Epoch 173/300\n",
      "226/226 [==============================] - 1s 5ms/step - loss: 0.3269 - accuracy: 0.8660 - val_loss: 0.3325 - val_accuracy: 0.8635\n",
      "Epoch 174/300\n",
      "226/226 [==============================] - 1s 5ms/step - loss: 0.3255 - accuracy: 0.8653 - val_loss: 0.3283 - val_accuracy: 0.8627\n",
      "Epoch 175/300\n",
      "226/226 [==============================] - 1s 4ms/step - loss: 0.3246 - accuracy: 0.8637 - val_loss: 0.3291 - val_accuracy: 0.8698\n",
      "Epoch 176/300\n",
      "226/226 [==============================] - 1s 5ms/step - loss: 0.3267 - accuracy: 0.8639 - val_loss: 0.3313 - val_accuracy: 0.8651\n",
      "Epoch 177/300\n",
      "226/226 [==============================] - 1s 4ms/step - loss: 0.3250 - accuracy: 0.8621 - val_loss: 0.3301 - val_accuracy: 0.8643\n",
      "Epoch 178/300\n",
      "226/226 [==============================] - 1s 5ms/step - loss: 0.3260 - accuracy: 0.8671 - val_loss: 0.3315 - val_accuracy: 0.8612\n",
      "Epoch 179/300\n",
      "226/226 [==============================] - 1s 5ms/step - loss: 0.3254 - accuracy: 0.8675 - val_loss: 0.3400 - val_accuracy: 0.8580\n",
      "Epoch 180/300\n",
      "226/226 [==============================] - 1s 5ms/step - loss: 0.3262 - accuracy: 0.8648 - val_loss: 0.3490 - val_accuracy: 0.8635\n",
      "Epoch 181/300\n",
      "226/226 [==============================] - 1s 5ms/step - loss: 0.3272 - accuracy: 0.8644 - val_loss: 0.3279 - val_accuracy: 0.8627\n",
      "Epoch 182/300\n",
      "226/226 [==============================] - 1s 5ms/step - loss: 0.3257 - accuracy: 0.8634 - val_loss: 0.3270 - val_accuracy: 0.8643\n",
      "Epoch 183/300\n",
      "226/226 [==============================] - 1s 5ms/step - loss: 0.3254 - accuracy: 0.8626 - val_loss: 0.3290 - val_accuracy: 0.8667\n",
      "Epoch 184/300\n",
      "226/226 [==============================] - 1s 4ms/step - loss: 0.3257 - accuracy: 0.8634 - val_loss: 0.3283 - val_accuracy: 0.8627\n",
      "Epoch 185/300\n",
      "226/226 [==============================] - 1s 5ms/step - loss: 0.3246 - accuracy: 0.8671 - val_loss: 0.3332 - val_accuracy: 0.8627\n",
      "Epoch 186/300\n",
      "226/226 [==============================] - 1s 5ms/step - loss: 0.3245 - accuracy: 0.8655 - val_loss: 0.3310 - val_accuracy: 0.8604\n",
      "Epoch 187/300\n",
      "226/226 [==============================] - 1s 5ms/step - loss: 0.3252 - accuracy: 0.8642 - val_loss: 0.3317 - val_accuracy: 0.8627\n",
      "Epoch 188/300\n",
      "226/226 [==============================] - 1s 5ms/step - loss: 0.3258 - accuracy: 0.8659 - val_loss: 0.3320 - val_accuracy: 0.8627\n",
      "Epoch 189/300\n",
      "226/226 [==============================] - 1s 5ms/step - loss: 0.3258 - accuracy: 0.8638 - val_loss: 0.3323 - val_accuracy: 0.8651\n",
      "Epoch 190/300\n",
      "226/226 [==============================] - 1s 5ms/step - loss: 0.3250 - accuracy: 0.8659 - val_loss: 0.3303 - val_accuracy: 0.8643\n",
      "Epoch 191/300\n",
      "226/226 [==============================] - 1s 5ms/step - loss: 0.3252 - accuracy: 0.8645 - val_loss: 0.3288 - val_accuracy: 0.8635\n",
      "Epoch 192/300\n",
      "226/226 [==============================] - 1s 5ms/step - loss: 0.3246 - accuracy: 0.8649 - val_loss: 0.3300 - val_accuracy: 0.8651\n",
      "Epoch 193/300\n",
      "226/226 [==============================] - 1s 4ms/step - loss: 0.3244 - accuracy: 0.8634 - val_loss: 0.3298 - val_accuracy: 0.8651\n",
      "Epoch 194/300\n",
      "226/226 [==============================] - 1s 5ms/step - loss: 0.3258 - accuracy: 0.8652 - val_loss: 0.3295 - val_accuracy: 0.8612\n",
      "Epoch 195/300\n",
      "226/226 [==============================] - 1s 5ms/step - loss: 0.3248 - accuracy: 0.8657 - val_loss: 0.3319 - val_accuracy: 0.8612\n",
      "Epoch 196/300\n",
      "226/226 [==============================] - 1s 5ms/step - loss: 0.3255 - accuracy: 0.8638 - val_loss: 0.3310 - val_accuracy: 0.8643\n",
      "Epoch 197/300\n",
      "226/226 [==============================] - 1s 5ms/step - loss: 0.3247 - accuracy: 0.8656 - val_loss: 0.3289 - val_accuracy: 0.8635\n",
      "Epoch 198/300\n",
      "226/226 [==============================] - 1s 5ms/step - loss: 0.3232 - accuracy: 0.8655 - val_loss: 0.3309 - val_accuracy: 0.8620\n",
      "Epoch 199/300\n",
      "226/226 [==============================] - 1s 5ms/step - loss: 0.3243 - accuracy: 0.8662 - val_loss: 0.3285 - val_accuracy: 0.8620\n",
      "Epoch 200/300\n",
      "226/226 [==============================] - 1s 5ms/step - loss: 0.3245 - accuracy: 0.8649 - val_loss: 0.3365 - val_accuracy: 0.8620\n",
      "Epoch 201/300\n",
      "226/226 [==============================] - 1s 5ms/step - loss: 0.3240 - accuracy: 0.8638 - val_loss: 0.3320 - val_accuracy: 0.8627\n",
      "Epoch 202/300\n",
      "226/226 [==============================] - 1s 5ms/step - loss: 0.3235 - accuracy: 0.8649 - val_loss: 0.3363 - val_accuracy: 0.8612\n",
      "Epoch 203/300\n",
      "226/226 [==============================] - 1s 5ms/step - loss: 0.3242 - accuracy: 0.8642 - val_loss: 0.3305 - val_accuracy: 0.8620\n",
      "Epoch 204/300\n",
      "226/226 [==============================] - 1s 4ms/step - loss: 0.3230 - accuracy: 0.8638 - val_loss: 0.3299 - val_accuracy: 0.8620\n",
      "Epoch 205/300\n",
      "226/226 [==============================] - 1s 5ms/step - loss: 0.3230 - accuracy: 0.8645 - val_loss: 0.3291 - val_accuracy: 0.8580\n",
      "Epoch 206/300\n",
      "226/226 [==============================] - 1s 5ms/step - loss: 0.3243 - accuracy: 0.8666 - val_loss: 0.3288 - val_accuracy: 0.8643\n",
      "Epoch 207/300\n",
      "226/226 [==============================] - 1s 5ms/step - loss: 0.3228 - accuracy: 0.8638 - val_loss: 0.3336 - val_accuracy: 0.8643\n",
      "Epoch 208/300\n",
      "226/226 [==============================] - 1s 5ms/step - loss: 0.3243 - accuracy: 0.8630 - val_loss: 0.3326 - val_accuracy: 0.8620\n",
      "Epoch 209/300\n",
      "226/226 [==============================] - 1s 4ms/step - loss: 0.3237 - accuracy: 0.8660 - val_loss: 0.3330 - val_accuracy: 0.8604\n",
      "Epoch 210/300\n",
      "226/226 [==============================] - 1s 5ms/step - loss: 0.3244 - accuracy: 0.8633 - val_loss: 0.3281 - val_accuracy: 0.8667\n",
      "Epoch 211/300\n",
      "226/226 [==============================] - 1s 4ms/step - loss: 0.3236 - accuracy: 0.8623 - val_loss: 0.3342 - val_accuracy: 0.8627\n",
      "Epoch 212/300\n",
      "226/226 [==============================] - 1s 5ms/step - loss: 0.3220 - accuracy: 0.8657 - val_loss: 0.3300 - val_accuracy: 0.8643\n",
      "Epoch 213/300\n",
      "226/226 [==============================] - 1s 5ms/step - loss: 0.3232 - accuracy: 0.8652 - val_loss: 0.3318 - val_accuracy: 0.8643\n",
      "Epoch 214/300\n",
      "226/226 [==============================] - 1s 4ms/step - loss: 0.3237 - accuracy: 0.8657 - val_loss: 0.3376 - val_accuracy: 0.8643\n",
      "Epoch 215/300\n",
      "226/226 [==============================] - 1s 4ms/step - loss: 0.3228 - accuracy: 0.8656 - val_loss: 0.3337 - val_accuracy: 0.8612\n",
      "Epoch 216/300\n",
      "226/226 [==============================] - 1s 4ms/step - loss: 0.3243 - accuracy: 0.8652 - val_loss: 0.3299 - val_accuracy: 0.8588\n",
      "Epoch 217/300\n",
      "226/226 [==============================] - 1s 5ms/step - loss: 0.3227 - accuracy: 0.8662 - val_loss: 0.3296 - val_accuracy: 0.8643\n",
      "Epoch 218/300\n",
      "226/226 [==============================] - 1s 5ms/step - loss: 0.3226 - accuracy: 0.8657 - val_loss: 0.3326 - val_accuracy: 0.8612\n",
      "Epoch 219/300\n",
      "226/226 [==============================] - 1s 5ms/step - loss: 0.3217 - accuracy: 0.8677 - val_loss: 0.3316 - val_accuracy: 0.8620\n",
      "Epoch 220/300\n",
      "226/226 [==============================] - 1s 4ms/step - loss: 0.3230 - accuracy: 0.8642 - val_loss: 0.3311 - val_accuracy: 0.8612\n",
      "Epoch 221/300\n",
      "226/226 [==============================] - 1s 4ms/step - loss: 0.3224 - accuracy: 0.8634 - val_loss: 0.3310 - val_accuracy: 0.8627\n",
      "Epoch 222/300\n",
      "226/226 [==============================] - 1s 5ms/step - loss: 0.3230 - accuracy: 0.8649 - val_loss: 0.3321 - val_accuracy: 0.8604\n",
      "Epoch 00222: early stopping\n"
     ]
    },
    {
     "data": {
      "text/plain": [
       "<keras.callbacks.History at 0x13759a4d5b0>"
      ]
     },
     "execution_count": 34,
     "metadata": {},
     "output_type": "execute_result"
    }
   ],
   "source": [
    "model.fit(x = X_train, y = y_train, validation_split = 0.15, batch_size = 32, epochs = 300, verbose=1, callbacks = [early_stop])"
   ]
  },
  {
   "cell_type": "code",
   "execution_count": 35,
   "metadata": {
    "ExecuteTime": {
     "end_time": "2022-03-11T10:29:56.413224Z",
     "start_time": "2022-03-11T10:29:56.391289Z"
    },
    "colab": {
     "base_uri": "https://localhost:8080/"
    },
    "executionInfo": {
     "elapsed": 660,
     "status": "ok",
     "timestamp": 1646829157304,
     "user": {
      "displayName": "Steve Wallace",
      "photoUrl": "https://lh3.googleusercontent.com/a/default-user=s64",
      "userId": "06741533186265949524"
     },
     "user_tz": -180
    },
    "id": "lHf6VI6FZ5jC",
    "outputId": "cc13051e-c232-41ff-d210-3256e85a9e6b"
   },
   "outputs": [
    {
     "name": "stdout",
     "output_type": "stream",
     "text": [
      "Model: \"sequential_1\"\n",
      "_________________________________________________________________\n",
      " Layer (type)                Output Shape              Param #   \n",
      "=================================================================\n",
      " dense_3 (Dense)             (None, 18)                234       \n",
      "                                                                 \n",
      " dense_4 (Dense)             (None, 9)                 171       \n",
      "                                                                 \n",
      " dense_5 (Dense)             (None, 1)                 10        \n",
      "                                                                 \n",
      "=================================================================\n",
      "Total params: 415\n",
      "Trainable params: 415\n",
      "Non-trainable params: 0\n",
      "_________________________________________________________________\n"
     ]
    }
   ],
   "source": [
    "model.summary()"
   ]
  },
  {
   "cell_type": "code",
   "execution_count": 36,
   "metadata": {
    "ExecuteTime": {
     "end_time": "2022-03-11T10:30:23.348781Z",
     "start_time": "2022-03-11T10:30:23.314372Z"
    }
   },
   "outputs": [
    {
     "data": {
      "text/html": [
       "<div>\n",
       "<style scoped>\n",
       "    .dataframe tbody tr th:only-of-type {\n",
       "        vertical-align: middle;\n",
       "    }\n",
       "\n",
       "    .dataframe tbody tr th {\n",
       "        vertical-align: top;\n",
       "    }\n",
       "\n",
       "    .dataframe thead th {\n",
       "        text-align: right;\n",
       "    }\n",
       "</style>\n",
       "<table border=\"1\" class=\"dataframe\">\n",
       "  <thead>\n",
       "    <tr style=\"text-align: right;\">\n",
       "      <th></th>\n",
       "      <th>loss</th>\n",
       "      <th>accuracy</th>\n",
       "      <th>val_loss</th>\n",
       "      <th>val_accuracy</th>\n",
       "    </tr>\n",
       "  </thead>\n",
       "  <tbody>\n",
       "    <tr>\n",
       "      <th>0</th>\n",
       "      <td>0.490</td>\n",
       "      <td>0.796</td>\n",
       "      <td>0.468</td>\n",
       "      <td>0.801</td>\n",
       "    </tr>\n",
       "    <tr>\n",
       "      <th>1</th>\n",
       "      <td>0.462</td>\n",
       "      <td>0.798</td>\n",
       "      <td>0.454</td>\n",
       "      <td>0.812</td>\n",
       "    </tr>\n",
       "    <tr>\n",
       "      <th>2</th>\n",
       "      <td>0.449</td>\n",
       "      <td>0.807</td>\n",
       "      <td>0.444</td>\n",
       "      <td>0.817</td>\n",
       "    </tr>\n",
       "    <tr>\n",
       "      <th>3</th>\n",
       "      <td>0.438</td>\n",
       "      <td>0.811</td>\n",
       "      <td>0.434</td>\n",
       "      <td>0.821</td>\n",
       "    </tr>\n",
       "    <tr>\n",
       "      <th>4</th>\n",
       "      <td>0.427</td>\n",
       "      <td>0.816</td>\n",
       "      <td>0.425</td>\n",
       "      <td>0.823</td>\n",
       "    </tr>\n",
       "  </tbody>\n",
       "</table>\n",
       "</div>"
      ],
      "text/plain": [
       "   loss  accuracy  val_loss  val_accuracy\n",
       "0 0.490     0.796     0.468         0.801\n",
       "1 0.462     0.798     0.454         0.812\n",
       "2 0.449     0.807     0.444         0.817\n",
       "3 0.438     0.811     0.434         0.821\n",
       "4 0.427     0.816     0.425         0.823"
      ]
     },
     "execution_count": 36,
     "metadata": {},
     "output_type": "execute_result"
    }
   ],
   "source": [
    "loss_df = pd.DataFrame(model.history.history)\n",
    "loss_df.head()"
   ]
  },
  {
   "cell_type": "code",
   "execution_count": 37,
   "metadata": {
    "ExecuteTime": {
     "end_time": "2022-03-11T10:31:15.888038Z",
     "start_time": "2022-03-11T10:31:14.386424Z"
    }
   },
   "outputs": [
    {
     "data": {
      "image/png": "[encoded data removed]",
      "text/plain": [
       "<Figure size 720x432 with 1 Axes>"
      ]
     },
     "metadata": {},
     "output_type": "display_data"
    }
   ],
   "source": [
    "loss_df.plot();"
   ]
  },
  {
   "cell_type": "code",
   "execution_count": 38,
   "metadata": {
    "ExecuteTime": {
     "end_time": "2022-03-11T10:31:44.639625Z",
     "start_time": "2022-03-11T10:31:44.315681Z"
    }
   },
   "outputs": [
    {
     "data": {
      "text/plain": [
       "[0.34708261489868164, 0.8573333621025085]"
      ]
     },
     "execution_count": 38,
     "metadata": {},
     "output_type": "execute_result"
    }
   ],
   "source": [
    "model.evaluate(X_test, y_test, verbose=0)"
   ]
  },
  {
   "cell_type": "code",
   "execution_count": 39,
   "metadata": {
    "ExecuteTime": {
     "end_time": "2022-03-11T10:31:59.794181Z",
     "start_time": "2022-03-11T10:31:59.423470Z"
    }
   },
   "outputs": [
    {
     "name": "stdout",
     "output_type": "stream",
     "text": [
      "loss :  0.34708261489868164\n",
      "accuracy :  0.8573333621025085\n"
     ]
    }
   ],
   "source": [
    "loss, accuracy = model.evaluate(X_test, y_test, verbose=0)\n",
    "print(\"loss : \", loss)\n",
    "print(\"accuracy : \", accuracy)"
   ]
  },
  {
   "cell_type": "code",
   "execution_count": 40,
   "metadata": {
    "ExecuteTime": {
     "end_time": "2022-03-11T10:32:14.940301Z",
     "start_time": "2022-03-11T10:32:14.191294Z"
    }
   },
   "outputs": [
    {
     "name": "stdout",
     "output_type": "stream",
     "text": [
      "[[1120   74]\n",
      " [ 140  166]]\n",
      "              precision    recall  f1-score   support\n",
      "\n",
      "           0       0.89      0.94      0.91      1194\n",
      "           1       0.69      0.54      0.61       306\n",
      "\n",
      "    accuracy                           0.86      1500\n",
      "   macro avg       0.79      0.74      0.76      1500\n",
      "weighted avg       0.85      0.86      0.85      1500\n",
      "\n"
     ]
    }
   ],
   "source": [
    "y_pred = (model.predict(X_test) > 0.5).astype(\"int32\")  \n",
    "print(confusion_matrix(y_test, y_pred))\n",
    "print(classification_report(y_test, y_pred))"
   ]
  },
  {
   "cell_type": "markdown",
   "metadata": {
    "ExecuteTime": {
     "end_time": "2022-03-11T11:13:05.654405Z",
     "start_time": "2022-03-11T11:13:05.643500Z"
    }
   },
   "source": [
    "## WITHOUT SMOTE - WITH CLASS_WEIGHT"
   ]
  },
  {
   "cell_type": "code",
   "execution_count": 55,
   "metadata": {
    "ExecuteTime": {
     "end_time": "2022-03-11T11:21:15.732236Z",
     "start_time": "2022-03-11T11:21:15.679623Z"
    }
   },
   "outputs": [],
   "source": [
    "X = df.drop('Exited', axis=1)\n",
    "y = df['Exited'].values\n",
    "\n",
    "X_train, X_test, y_train, y_test = train_test_split(X, y, stratify = y, test_size = 0.15, random_state = seed)\n",
    "scaler = MinMaxScaler()\n",
    "\n",
    "X_train= scaler.fit_transform(X_train)\n",
    "X_test = scaler.transform(X_test)"
   ]
  },
  {
   "cell_type": "code",
   "execution_count": 57,
   "metadata": {
    "ExecuteTime": {
     "end_time": "2022-03-11T11:24:38.037054Z",
     "start_time": "2022-03-11T11:24:38.016705Z"
    }
   },
   "outputs": [
    {
     "data": {
      "text/plain": [
       "array([0.62786231, 2.45522819])"
      ]
     },
     "execution_count": 57,
     "metadata": {},
     "output_type": "execute_result"
    }
   ],
   "source": [
    "from sklearn.utils import class_weight\n",
    "class_weights = class_weight.compute_class_weight('balanced', np.unique(y_train), y_train)\n",
    "class_weights"
   ]
  },
  {
   "cell_type": "code",
   "execution_count": 58,
   "metadata": {
    "ExecuteTime": {
     "end_time": "2022-03-11T11:25:21.380322Z",
     "start_time": "2022-03-11T11:25:21.329151Z"
    }
   },
   "outputs": [],
   "source": [
    "tf.random.set_seed(seed)\n",
    "\n",
    "model_w = Sequential()\n",
    "\n",
    "model_w.add(Dense(18, activation = \"relu\"))  \n",
    "# model_w.add(Dropout(0.3))\n",
    "model_w.add(Dense(9, activation = \"relu\"))\n",
    "# mode_wl.add(Dropout(0.3))\n",
    "model_w.add(Dense(1, activation = \"sigmoid\"))  \n",
    "\n",
    "opt = Adam(lr = 0.001)\n",
    "model_w.compile(optimizer = opt, loss = \"binary_crossentropy\", metrics = [\"accuracy\"])"
   ]
  },
  {
   "cell_type": "code",
   "execution_count": 59,
   "metadata": {
    "ExecuteTime": {
     "end_time": "2022-03-11T11:25:27.359628Z",
     "start_time": "2022-03-11T11:25:27.338132Z"
    }
   },
   "outputs": [],
   "source": [
    "early_stop = EarlyStopping(monitor = \"val_loss\", mode = \"auto\", verbose = 1, patience = 100)"
   ]
  },
  {
   "cell_type": "code",
   "execution_count": 60,
   "metadata": {
    "ExecuteTime": {
     "end_time": "2022-03-11T11:31:27.221218Z",
     "start_time": "2022-03-11T11:25:44.046294Z"
    }
   },
   "outputs": [
    {
     "name": "stdout",
     "output_type": "stream",
     "text": [
      "Epoch 1/300\n",
      "226/226 [==============================] - 5s 9ms/step - loss: 0.6792 - accuracy: 0.6836 - val_loss: 0.6190 - val_accuracy: 0.6596\n",
      "Epoch 2/300\n",
      "226/226 [==============================] - 1s 5ms/step - loss: 0.6265 - accuracy: 0.6525 - val_loss: 0.6024 - val_accuracy: 0.6722\n",
      "Epoch 3/300\n",
      "226/226 [==============================] - 1s 5ms/step - loss: 0.6101 - accuracy: 0.6703 - val_loss: 0.5914 - val_accuracy: 0.6894\n",
      "Epoch 4/300\n",
      "226/226 [==============================] - 1s 5ms/step - loss: 0.5985 - accuracy: 0.6896 - val_loss: 0.6286 - val_accuracy: 0.6541\n",
      "Epoch 5/300\n",
      "226/226 [==============================] - 1s 5ms/step - loss: 0.5864 - accuracy: 0.6949 - val_loss: 0.5837 - val_accuracy: 0.6941\n",
      "Epoch 6/300\n",
      "226/226 [==============================] - 1s 5ms/step - loss: 0.5770 - accuracy: 0.7132 - val_loss: 0.6187 - val_accuracy: 0.6659\n",
      "Epoch 7/300\n",
      "226/226 [==============================] - 1s 5ms/step - loss: 0.5676 - accuracy: 0.7165 - val_loss: 0.5773 - val_accuracy: 0.7067\n",
      "Epoch 8/300\n",
      "226/226 [==============================] - 1s 5ms/step - loss: 0.5591 - accuracy: 0.7250 - val_loss: 0.5494 - val_accuracy: 0.7341\n",
      "Epoch 9/300\n",
      "226/226 [==============================] - 1s 5ms/step - loss: 0.5504 - accuracy: 0.7345 - val_loss: 0.5200 - val_accuracy: 0.7529\n",
      "Epoch 10/300\n",
      "226/226 [==============================] - 1s 5ms/step - loss: 0.5448 - accuracy: 0.7437 - val_loss: 0.5174 - val_accuracy: 0.7671\n",
      "Epoch 11/300\n",
      "226/226 [==============================] - 1s 5ms/step - loss: 0.5369 - accuracy: 0.7502 - val_loss: 0.5656 - val_accuracy: 0.7341\n",
      "Epoch 12/300\n",
      "226/226 [==============================] - 1s 5ms/step - loss: 0.5285 - accuracy: 0.7568 - val_loss: 0.5827 - val_accuracy: 0.7176\n",
      "Epoch 13/300\n",
      "226/226 [==============================] - 1s 5ms/step - loss: 0.5251 - accuracy: 0.7615 - val_loss: 0.5349 - val_accuracy: 0.7663\n",
      "Epoch 14/300\n",
      "226/226 [==============================] - 1s 6ms/step - loss: 0.5195 - accuracy: 0.7655 - val_loss: 0.5625 - val_accuracy: 0.7278\n",
      "Epoch 15/300\n",
      "226/226 [==============================] - 1s 5ms/step - loss: 0.5148 - accuracy: 0.7700 - val_loss: 0.4690 - val_accuracy: 0.8047\n",
      "Epoch 16/300\n",
      "226/226 [==============================] - 1s 5ms/step - loss: 0.5090 - accuracy: 0.7743 - val_loss: 0.5312 - val_accuracy: 0.7537\n",
      "Epoch 17/300\n",
      "226/226 [==============================] - 1s 5ms/step - loss: 0.5031 - accuracy: 0.7741 - val_loss: 0.5488 - val_accuracy: 0.7255\n",
      "Epoch 18/300\n",
      "226/226 [==============================] - 1s 5ms/step - loss: 0.4984 - accuracy: 0.7751 - val_loss: 0.4741 - val_accuracy: 0.7945\n",
      "Epoch 19/300\n",
      "226/226 [==============================] - 1s 5ms/step - loss: 0.4929 - accuracy: 0.7809 - val_loss: 0.4947 - val_accuracy: 0.7608\n",
      "Epoch 20/300\n",
      "226/226 [==============================] - 1s 5ms/step - loss: 0.4912 - accuracy: 0.7765 - val_loss: 0.4804 - val_accuracy: 0.7702\n",
      "Epoch 21/300\n",
      "226/226 [==============================] - 1s 5ms/step - loss: 0.4873 - accuracy: 0.7741 - val_loss: 0.4809 - val_accuracy: 0.7592\n",
      "Epoch 22/300\n",
      "226/226 [==============================] - 1s 5ms/step - loss: 0.4836 - accuracy: 0.7827 - val_loss: 0.4634 - val_accuracy: 0.7788\n",
      "Epoch 23/300\n",
      "226/226 [==============================] - 1s 5ms/step - loss: 0.4790 - accuracy: 0.7802 - val_loss: 0.4756 - val_accuracy: 0.7678\n",
      "Epoch 24/300\n",
      "226/226 [==============================] - 1s 5ms/step - loss: 0.4769 - accuracy: 0.7803 - val_loss: 0.4626 - val_accuracy: 0.7804\n",
      "Epoch 25/300\n",
      "226/226 [==============================] - 1s 5ms/step - loss: 0.4750 - accuracy: 0.7819 - val_loss: 0.4556 - val_accuracy: 0.7898oss: 0.4678 - accuracy\n",
      "Epoch 26/300\n",
      "226/226 [==============================] - 1s 5ms/step - loss: 0.4730 - accuracy: 0.7812 - val_loss: 0.4271 - val_accuracy: 0.8165\n",
      "Epoch 27/300\n",
      "226/226 [==============================] - 1s 5ms/step - loss: 0.4729 - accuracy: 0.7809 - val_loss: 0.4294 - val_accuracy: 0.8063\n",
      "Epoch 28/300\n",
      "226/226 [==============================] - 1s 5ms/step - loss: 0.4710 - accuracy: 0.7864 - val_loss: 0.5057 - val_accuracy: 0.7404\n",
      "Epoch 29/300\n",
      "226/226 [==============================] - 1s 5ms/step - loss: 0.4672 - accuracy: 0.7839 - val_loss: 0.4731 - val_accuracy: 0.7647\n",
      "Epoch 30/300\n",
      "226/226 [==============================] - 1s 5ms/step - loss: 0.4670 - accuracy: 0.7853 - val_loss: 0.4557 - val_accuracy: 0.7733\n",
      "Epoch 31/300\n",
      "226/226 [==============================] - 1s 5ms/step - loss: 0.4668 - accuracy: 0.7837 - val_loss: 0.4798 - val_accuracy: 0.7537\n",
      "Epoch 32/300\n",
      "226/226 [==============================] - 1s 5ms/step - loss: 0.4661 - accuracy: 0.7848 - val_loss: 0.4452 - val_accuracy: 0.7976\n",
      "Epoch 33/300\n",
      "226/226 [==============================] - 1s 5ms/step - loss: 0.4644 - accuracy: 0.7831 - val_loss: 0.4330 - val_accuracy: 0.8086\n",
      "Epoch 34/300\n",
      "226/226 [==============================] - 1s 5ms/step - loss: 0.4637 - accuracy: 0.7888 - val_loss: 0.4616 - val_accuracy: 0.7678\n",
      "Epoch 35/300\n",
      "226/226 [==============================] - 1s 5ms/step - loss: 0.4636 - accuracy: 0.7866 - val_loss: 0.5038 - val_accuracy: 0.7325\n",
      "Epoch 36/300\n",
      "226/226 [==============================] - 1s 5ms/step - loss: 0.4640 - accuracy: 0.7852 - val_loss: 0.4525 - val_accuracy: 0.7796\n",
      "Epoch 37/300\n",
      "226/226 [==============================] - 1s 5ms/step - loss: 0.4626 - accuracy: 0.7852 - val_loss: 0.3820 - val_accuracy: 0.8400\n",
      "Epoch 38/300\n",
      "226/226 [==============================] - 1s 5ms/step - loss: 0.4622 - accuracy: 0.7866 - val_loss: 0.4060 - val_accuracy: 0.8259\n",
      "Epoch 39/300\n",
      "226/226 [==============================] - 1s 5ms/step - loss: 0.4593 - accuracy: 0.7903 - val_loss: 0.4732 - val_accuracy: 0.7529\n",
      "Epoch 40/300\n",
      "226/226 [==============================] - 1s 5ms/step - loss: 0.4606 - accuracy: 0.7880 - val_loss: 0.4611 - val_accuracy: 0.7718\n",
      "Epoch 41/300\n",
      "226/226 [==============================] - 1s 5ms/step - loss: 0.4599 - accuracy: 0.7874 - val_loss: 0.4531 - val_accuracy: 0.7804\n",
      "Epoch 42/300\n",
      "226/226 [==============================] - 1s 6ms/step - loss: 0.4619 - accuracy: 0.7882 - val_loss: 0.4204 - val_accuracy: 0.8078\n",
      "Epoch 43/300\n",
      "226/226 [==============================] - 1s 5ms/step - loss: 0.4577 - accuracy: 0.7887 - val_loss: 0.4437 - val_accuracy: 0.7859\n",
      "Epoch 44/300\n",
      "226/226 [==============================] - 1s 5ms/step - loss: 0.4600 - accuracy: 0.7893 - val_loss: 0.4764 - val_accuracy: 0.7624\n",
      "Epoch 45/300\n",
      "226/226 [==============================] - 1s 5ms/step - loss: 0.4579 - accuracy: 0.7910 - val_loss: 0.5002 - val_accuracy: 0.7373\n",
      "Epoch 46/300\n",
      "226/226 [==============================] - 1s 5ms/step - loss: 0.4569 - accuracy: 0.7859 - val_loss: 0.3986 - val_accuracy: 0.8306\n",
      "Epoch 47/300\n",
      "226/226 [==============================] - 1s 5ms/step - loss: 0.4567 - accuracy: 0.7904 - val_loss: 0.4097 - val_accuracy: 0.8180\n",
      "Epoch 48/300\n",
      "226/226 [==============================] - 1s 5ms/step - loss: 0.4583 - accuracy: 0.7887 - val_loss: 0.4373 - val_accuracy: 0.7937\n",
      "Epoch 49/300\n",
      "226/226 [==============================] - 1s 5ms/step - loss: 0.4576 - accuracy: 0.7918 - val_loss: 0.4711 - val_accuracy: 0.7569\n",
      "Epoch 50/300\n",
      "226/226 [==============================] - 1s 5ms/step - loss: 0.4575 - accuracy: 0.7892 - val_loss: 0.4457 - val_accuracy: 0.7898\n",
      "Epoch 51/300\n",
      "226/226 [==============================] - 1s 5ms/step - loss: 0.4569 - accuracy: 0.7892 - val_loss: 0.4270 - val_accuracy: 0.8016\n",
      "Epoch 52/300\n",
      "226/226 [==============================] - 1s 5ms/step - loss: 0.4569 - accuracy: 0.7891 - val_loss: 0.4420 - val_accuracy: 0.7843\n",
      "Epoch 53/300\n",
      "226/226 [==============================] - 1s 5ms/step - loss: 0.4569 - accuracy: 0.7910 - val_loss: 0.4230 - val_accuracy: 0.8063\n",
      "Epoch 54/300\n",
      "226/226 [==============================] - 1s 5ms/step - loss: 0.4553 - accuracy: 0.7924 - val_loss: 0.4130 - val_accuracy: 0.8102\n",
      "Epoch 55/300\n",
      "226/226 [==============================] - 1s 5ms/step - loss: 0.4553 - accuracy: 0.7947 - val_loss: 0.4228 - val_accuracy: 0.8063\n",
      "Epoch 56/300\n",
      "226/226 [==============================] - 1s 5ms/step - loss: 0.4549 - accuracy: 0.7907 - val_loss: 0.4357 - val_accuracy: 0.7890\n",
      "Epoch 57/300\n",
      "226/226 [==============================] - 1s 5ms/step - loss: 0.4552 - accuracy: 0.7899 - val_loss: 0.4216 - val_accuracy: 0.8031\n",
      "Epoch 58/300\n",
      "226/226 [==============================] - 1s 5ms/step - loss: 0.4552 - accuracy: 0.7910 - val_loss: 0.4110 - val_accuracy: 0.8133\n",
      "Epoch 59/300\n",
      "226/226 [==============================] - 1s 5ms/step - loss: 0.4554 - accuracy: 0.7946 - val_loss: 0.4525 - val_accuracy: 0.7812\n",
      "Epoch 60/300\n",
      "226/226 [==============================] - 1s 5ms/step - loss: 0.4551 - accuracy: 0.7867 - val_loss: 0.4506 - val_accuracy: 0.7827\n",
      "Epoch 61/300\n",
      "226/226 [==============================] - 1s 5ms/step - loss: 0.4534 - accuracy: 0.7950 - val_loss: 0.4344 - val_accuracy: 0.8000\n",
      "Epoch 62/300\n",
      "226/226 [==============================] - 1s 5ms/step - loss: 0.4549 - accuracy: 0.7888 - val_loss: 0.5047 - val_accuracy: 0.7388\n",
      "Epoch 63/300\n",
      "226/226 [==============================] - 1s 5ms/step - loss: 0.4526 - accuracy: 0.7917 - val_loss: 0.4114 - val_accuracy: 0.8078\n",
      "Epoch 64/300\n",
      "226/226 [==============================] - 1s 5ms/step - loss: 0.4545 - accuracy: 0.7935 - val_loss: 0.4448 - val_accuracy: 0.7827\n",
      "Epoch 65/300\n",
      "226/226 [==============================] - 1s 5ms/step - loss: 0.4538 - accuracy: 0.7929 - val_loss: 0.3943 - val_accuracy: 0.8298\n",
      "Epoch 66/300\n",
      "226/226 [==============================] - 1s 5ms/step - loss: 0.4532 - accuracy: 0.7950 - val_loss: 0.4355 - val_accuracy: 0.7945\n",
      "Epoch 67/300\n",
      "226/226 [==============================] - 1s 5ms/step - loss: 0.4529 - accuracy: 0.7906 - val_loss: 0.4152 - val_accuracy: 0.8047\n",
      "Epoch 68/300\n",
      "226/226 [==============================] - 1s 5ms/step - loss: 0.4535 - accuracy: 0.7971 - val_loss: 0.4962 - val_accuracy: 0.7498\n",
      "Epoch 69/300\n",
      "226/226 [==============================] - 1s 5ms/step - loss: 0.4528 - accuracy: 0.7920 - val_loss: 0.4049 - val_accuracy: 0.8173\n",
      "Epoch 70/300\n",
      "226/226 [==============================] - 1s 5ms/step - loss: 0.4525 - accuracy: 0.7950 - val_loss: 0.4141 - val_accuracy: 0.8055\n",
      "Epoch 71/300\n",
      "226/226 [==============================] - 1s 5ms/step - loss: 0.4528 - accuracy: 0.7903 - val_loss: 0.4323 - val_accuracy: 0.7969\n",
      "Epoch 72/300\n",
      "226/226 [==============================] - 1s 5ms/step - loss: 0.4530 - accuracy: 0.7927 - val_loss: 0.4248 - val_accuracy: 0.8031\n",
      "Epoch 73/300\n",
      "226/226 [==============================] - 1s 5ms/step - loss: 0.4512 - accuracy: 0.7929 - val_loss: 0.4092 - val_accuracy: 0.8157\n",
      "Epoch 74/300\n",
      "226/226 [==============================] - 1s 5ms/step - loss: 0.4524 - accuracy: 0.7971 - val_loss: 0.4673 - val_accuracy: 0.7647\n",
      "Epoch 75/300\n",
      "226/226 [==============================] - 1s 5ms/step - loss: 0.4527 - accuracy: 0.7927 - val_loss: 0.4625 - val_accuracy: 0.7710\n",
      "Epoch 76/300\n",
      "226/226 [==============================] - 1s 5ms/step - loss: 0.4499 - accuracy: 0.7957 - val_loss: 0.4961 - val_accuracy: 0.7443\n",
      "Epoch 77/300\n",
      "226/226 [==============================] - 1s 5ms/step - loss: 0.4518 - accuracy: 0.7891 - val_loss: 0.4349 - val_accuracy: 0.7945\n",
      "Epoch 78/300\n",
      "226/226 [==============================] - 1s 5ms/step - loss: 0.4508 - accuracy: 0.7985 - val_loss: 0.4570 - val_accuracy: 0.7749\n",
      "Epoch 79/300\n",
      "226/226 [==============================] - 1s 5ms/step - loss: 0.4502 - accuracy: 0.7940 - val_loss: 0.4151 - val_accuracy: 0.8078\n",
      "Epoch 80/300\n",
      "226/226 [==============================] - 1s 5ms/step - loss: 0.4518 - accuracy: 0.7920 - val_loss: 0.3969 - val_accuracy: 0.8235\n",
      "Epoch 81/300\n",
      "226/226 [==============================] - 1s 5ms/step - loss: 0.4527 - accuracy: 0.7940 - val_loss: 0.4297 - val_accuracy: 0.7961\n",
      "Epoch 82/300\n",
      "226/226 [==============================] - 1s 5ms/step - loss: 0.4507 - accuracy: 0.7943 - val_loss: 0.3955 - val_accuracy: 0.8227\n",
      "Epoch 83/300\n",
      "226/226 [==============================] - 1s 5ms/step - loss: 0.4511 - accuracy: 0.7907 - val_loss: 0.4446 - val_accuracy: 0.7890\n",
      "Epoch 84/300\n",
      "226/226 [==============================] - 1s 5ms/step - loss: 0.4511 - accuracy: 0.7924 - val_loss: 0.4280 - val_accuracy: 0.8000\n",
      "Epoch 85/300\n",
      "226/226 [==============================] - 1s 5ms/step - loss: 0.4516 - accuracy: 0.7971 - val_loss: 0.4592 - val_accuracy: 0.7749\n",
      "Epoch 86/300\n",
      "226/226 [==============================] - 1s 5ms/step - loss: 0.4488 - accuracy: 0.7947 - val_loss: 0.3930 - val_accuracy: 0.8282\n",
      "Epoch 87/300\n",
      "226/226 [==============================] - 1s 5ms/step - loss: 0.4501 - accuracy: 0.7925 - val_loss: 0.4105 - val_accuracy: 0.8125\n",
      "Epoch 88/300\n",
      "226/226 [==============================] - 1s 5ms/step - loss: 0.4506 - accuracy: 0.7956 - val_loss: 0.3969 - val_accuracy: 0.8243\n",
      "Epoch 89/300\n",
      "226/226 [==============================] - 1s 5ms/step - loss: 0.4509 - accuracy: 0.7917 - val_loss: 0.4444 - val_accuracy: 0.7875\n",
      "Epoch 90/300\n",
      "226/226 [==============================] - 1s 5ms/step - loss: 0.4504 - accuracy: 0.7936 - val_loss: 0.4750 - val_accuracy: 0.7678\n",
      "Epoch 91/300\n",
      "226/226 [==============================] - 1s 5ms/step - loss: 0.4483 - accuracy: 0.7927 - val_loss: 0.4192 - val_accuracy: 0.8071 - loss: 0.4510 - accu\n",
      "Epoch 92/300\n",
      "226/226 [==============================] - 1s 5ms/step - loss: 0.4493 - accuracy: 0.7939 - val_loss: 0.4425 - val_accuracy: 0.7875\n",
      "Epoch 93/300\n",
      "226/226 [==============================] - 1s 5ms/step - loss: 0.4518 - accuracy: 0.7913 - val_loss: 0.4117 - val_accuracy: 0.8133\n",
      "Epoch 94/300\n",
      "226/226 [==============================] - 1s 5ms/step - loss: 0.4498 - accuracy: 0.7961 - val_loss: 0.4887 - val_accuracy: 0.7553\n",
      "Epoch 95/300\n",
      "226/226 [==============================] - 1s 6ms/step - loss: 0.4506 - accuracy: 0.7940 - val_loss: 0.3926 - val_accuracy: 0.8220\n",
      "Epoch 96/300\n",
      "226/226 [==============================] - 1s 5ms/step - loss: 0.4484 - accuracy: 0.7945 - val_loss: 0.4016 - val_accuracy: 0.8173\n",
      "Epoch 97/300\n",
      "226/226 [==============================] - 1s 5ms/step - loss: 0.4492 - accuracy: 0.7928 - val_loss: 0.3939 - val_accuracy: 0.8259\n",
      "Epoch 98/300\n",
      "226/226 [==============================] - 1s 5ms/step - loss: 0.4494 - accuracy: 0.7942 - val_loss: 0.3901 - val_accuracy: 0.8243\n",
      "Epoch 99/300\n",
      "226/226 [==============================] - 1s 5ms/step - loss: 0.4499 - accuracy: 0.7945 - val_loss: 0.4202 - val_accuracy: 0.8063\n",
      "Epoch 100/300\n",
      "226/226 [==============================] - 1s 5ms/step - loss: 0.4483 - accuracy: 0.7938 - val_loss: 0.4378 - val_accuracy: 0.7961\n",
      "Epoch 101/300\n",
      "226/226 [==============================] - 1s 5ms/step - loss: 0.4522 - accuracy: 0.7935 - val_loss: 0.4668 - val_accuracy: 0.7710\n",
      "Epoch 102/300\n",
      "226/226 [==============================] - 1s 5ms/step - loss: 0.4500 - accuracy: 0.7956 - val_loss: 0.4298 - val_accuracy: 0.7969\n",
      "Epoch 103/300\n",
      "226/226 [==============================] - 1s 5ms/step - loss: 0.4491 - accuracy: 0.7945 - val_loss: 0.4136 - val_accuracy: 0.8078\n",
      "Epoch 104/300\n",
      "226/226 [==============================] - 1s 5ms/step - loss: 0.4490 - accuracy: 0.7903 - val_loss: 0.4651 - val_accuracy: 0.7725\n",
      "Epoch 105/300\n",
      "226/226 [==============================] - 1s 5ms/step - loss: 0.4496 - accuracy: 0.7954 - val_loss: 0.4034 - val_accuracy: 0.8220\n",
      "Epoch 106/300\n",
      "226/226 [==============================] - 1s 5ms/step - loss: 0.4478 - accuracy: 0.7967 - val_loss: 0.4699 - val_accuracy: 0.7647\n",
      "Epoch 107/300\n",
      "226/226 [==============================] - 1s 5ms/step - loss: 0.4488 - accuracy: 0.7943 - val_loss: 0.4198 - val_accuracy: 0.8078\n",
      "Epoch 108/300\n",
      "226/226 [==============================] - 1s 5ms/step - loss: 0.4480 - accuracy: 0.7972 - val_loss: 0.4317 - val_accuracy: 0.7953\n",
      "Epoch 109/300\n",
      "226/226 [==============================] - 1s 5ms/step - loss: 0.4488 - accuracy: 0.7938 - val_loss: 0.4525 - val_accuracy: 0.7812\n",
      "Epoch 110/300\n",
      "226/226 [==============================] - 1s 5ms/step - loss: 0.4485 - accuracy: 0.7950 - val_loss: 0.5048 - val_accuracy: 0.7435\n",
      "Epoch 111/300\n",
      "226/226 [==============================] - 1s 4ms/step - loss: 0.4487 - accuracy: 0.7932 - val_loss: 0.4793 - val_accuracy: 0.7639\n",
      "Epoch 112/300\n",
      "226/226 [==============================] - 1s 5ms/step - loss: 0.4492 - accuracy: 0.7942 - val_loss: 0.4419 - val_accuracy: 0.7914\n",
      "Epoch 113/300\n",
      "226/226 [==============================] - 1s 5ms/step - loss: 0.4486 - accuracy: 0.7956 - val_loss: 0.4179 - val_accuracy: 0.8102\n",
      "Epoch 114/300\n",
      "226/226 [==============================] - 1s 5ms/step - loss: 0.4482 - accuracy: 0.7942 - val_loss: 0.4108 - val_accuracy: 0.8118\n",
      "Epoch 115/300\n",
      "226/226 [==============================] - 1s 5ms/step - loss: 0.4496 - accuracy: 0.7921 - val_loss: 0.4341 - val_accuracy: 0.7961\n",
      "Epoch 116/300\n",
      "226/226 [==============================] - 1s 5ms/step - loss: 0.4478 - accuracy: 0.7921 - val_loss: 0.4870 - val_accuracy: 0.7600\n",
      "Epoch 117/300\n",
      "226/226 [==============================] - 1s 5ms/step - loss: 0.4478 - accuracy: 0.7940 - val_loss: 0.4101 - val_accuracy: 0.8102\n",
      "Epoch 118/300\n",
      "226/226 [==============================] - 1s 5ms/step - loss: 0.4485 - accuracy: 0.7921 - val_loss: 0.4624 - val_accuracy: 0.7718\n",
      "Epoch 119/300\n",
      "226/226 [==============================] - 1s 5ms/step - loss: 0.4478 - accuracy: 0.7940 - val_loss: 0.4449 - val_accuracy: 0.7867\n",
      "Epoch 120/300\n",
      "226/226 [==============================] - 1s 4ms/step - loss: 0.4469 - accuracy: 0.7892 - val_loss: 0.3931 - val_accuracy: 0.8251\n",
      "Epoch 121/300\n",
      "226/226 [==============================] - 1s 5ms/step - loss: 0.4480 - accuracy: 0.7939 - val_loss: 0.4179 - val_accuracy: 0.8094\n",
      "Epoch 122/300\n",
      "226/226 [==============================] - 1s 5ms/step - loss: 0.4483 - accuracy: 0.7957 - val_loss: 0.4578 - val_accuracy: 0.7718\n",
      "Epoch 123/300\n",
      "226/226 [==============================] - 1s 5ms/step - loss: 0.4487 - accuracy: 0.7909 - val_loss: 0.4058 - val_accuracy: 0.8149\n",
      "Epoch 124/300\n",
      "226/226 [==============================] - 1s 5ms/step - loss: 0.4483 - accuracy: 0.7943 - val_loss: 0.4452 - val_accuracy: 0.7914\n",
      "Epoch 125/300\n",
      "226/226 [==============================] - 1s 5ms/step - loss: 0.4483 - accuracy: 0.7946 - val_loss: 0.4528 - val_accuracy: 0.7780\n",
      "Epoch 126/300\n",
      "226/226 [==============================] - 1s 5ms/step - loss: 0.4458 - accuracy: 0.7945 - val_loss: 0.4552 - val_accuracy: 0.7835\n",
      "Epoch 127/300\n",
      "226/226 [==============================] - 1s 5ms/step - loss: 0.4496 - accuracy: 0.7949 - val_loss: 0.4730 - val_accuracy: 0.7631\n",
      "Epoch 128/300\n",
      "226/226 [==============================] - 1s 5ms/step - loss: 0.4477 - accuracy: 0.7929 - val_loss: 0.3996 - val_accuracy: 0.8220\n",
      "Epoch 129/300\n",
      "226/226 [==============================] - 1s 5ms/step - loss: 0.4481 - accuracy: 0.7985 - val_loss: 0.4263 - val_accuracy: 0.8063\n",
      "Epoch 130/300\n",
      "226/226 [==============================] - 1s 5ms/step - loss: 0.4465 - accuracy: 0.7952 - val_loss: 0.4264 - val_accuracy: 0.8031\n",
      "Epoch 131/300\n",
      "226/226 [==============================] - 1s 5ms/step - loss: 0.4473 - accuracy: 0.7950 - val_loss: 0.4162 - val_accuracy: 0.8110\n",
      "Epoch 132/300\n",
      "226/226 [==============================] - 1s 5ms/step - loss: 0.4471 - accuracy: 0.7958 - val_loss: 0.4444 - val_accuracy: 0.7820\n",
      "Epoch 133/300\n",
      "226/226 [==============================] - 1s 5ms/step - loss: 0.4463 - accuracy: 0.7949 - val_loss: 0.4181 - val_accuracy: 0.8039\n",
      "Epoch 134/300\n",
      "226/226 [==============================] - 1s 5ms/step - loss: 0.4481 - accuracy: 0.7936 - val_loss: 0.3812 - val_accuracy: 0.8376\n",
      "Epoch 135/300\n",
      "226/226 [==============================] - 1s 5ms/step - loss: 0.4491 - accuracy: 0.7945 - val_loss: 0.4159 - val_accuracy: 0.8118\n",
      "Epoch 136/300\n",
      "226/226 [==============================] - 1s 5ms/step - loss: 0.4476 - accuracy: 0.7947 - val_loss: 0.4417 - val_accuracy: 0.7914\n",
      "Epoch 137/300\n",
      "226/226 [==============================] - 1s 5ms/step - loss: 0.4489 - accuracy: 0.7920 - val_loss: 0.4204 - val_accuracy: 0.8055\n",
      "Epoch 138/300\n",
      "226/226 [==============================] - 1s 5ms/step - loss: 0.4460 - accuracy: 0.7964 - val_loss: 0.4051 - val_accuracy: 0.8212\n",
      "Epoch 139/300\n",
      "226/226 [==============================] - 1s 5ms/step - loss: 0.4481 - accuracy: 0.7945 - val_loss: 0.3941 - val_accuracy: 0.8243\n",
      "Epoch 140/300\n",
      "226/226 [==============================] - 1s 5ms/step - loss: 0.4477 - accuracy: 0.7938 - val_loss: 0.4388 - val_accuracy: 0.7922\n",
      "Epoch 141/300\n",
      "226/226 [==============================] - 1s 5ms/step - loss: 0.4469 - accuracy: 0.7963 - val_loss: 0.4190 - val_accuracy: 0.8039\n",
      "Epoch 142/300\n",
      "226/226 [==============================] - 1s 5ms/step - loss: 0.4467 - accuracy: 0.7970 - val_loss: 0.4388 - val_accuracy: 0.7969\n",
      "Epoch 143/300\n",
      "226/226 [==============================] - 1s 5ms/step - loss: 0.4466 - accuracy: 0.7949 - val_loss: 0.4163 - val_accuracy: 0.8118\n",
      "Epoch 144/300\n",
      "226/226 [==============================] - 1s 5ms/step - loss: 0.4486 - accuracy: 0.7970 - val_loss: 0.4652 - val_accuracy: 0.7725\n",
      "Epoch 145/300\n",
      "226/226 [==============================] - 1s 5ms/step - loss: 0.4461 - accuracy: 0.7954 - val_loss: 0.4404 - val_accuracy: 0.7875\n",
      "Epoch 146/300\n",
      "226/226 [==============================] - 1s 5ms/step - loss: 0.4455 - accuracy: 0.7961 - val_loss: 0.4061 - val_accuracy: 0.8149\n",
      "Epoch 147/300\n",
      "226/226 [==============================] - 1s 5ms/step - loss: 0.4463 - accuracy: 0.7952 - val_loss: 0.4181 - val_accuracy: 0.8110\n",
      "Epoch 148/300\n",
      "226/226 [==============================] - 1s 5ms/step - loss: 0.4454 - accuracy: 0.7938 - val_loss: 0.4329 - val_accuracy: 0.7969\n",
      "Epoch 149/300\n",
      "226/226 [==============================] - 1s 5ms/step - loss: 0.4453 - accuracy: 0.7970 - val_loss: 0.4522 - val_accuracy: 0.7827\n",
      "Epoch 150/300\n",
      "226/226 [==============================] - 1s 5ms/step - loss: 0.4482 - accuracy: 0.7938 - val_loss: 0.4310 - val_accuracy: 0.7961\n",
      "Epoch 151/300\n",
      "226/226 [==============================] - 1s 5ms/step - loss: 0.4467 - accuracy: 0.7979 - val_loss: 0.4406 - val_accuracy: 0.7992\n",
      "Epoch 152/300\n",
      "226/226 [==============================] - 1s 5ms/step - loss: 0.4450 - accuracy: 0.7954 - val_loss: 0.4575 - val_accuracy: 0.7773\n",
      "Epoch 153/300\n",
      "226/226 [==============================] - 1s 5ms/step - loss: 0.4456 - accuracy: 0.7916 - val_loss: 0.4617 - val_accuracy: 0.7733\n",
      "Epoch 154/300\n",
      "226/226 [==============================] - 1s 5ms/step - loss: 0.4463 - accuracy: 0.7928 - val_loss: 0.4610 - val_accuracy: 0.7812\n",
      "Epoch 155/300\n",
      "226/226 [==============================] - 1s 5ms/step - loss: 0.4465 - accuracy: 0.7971 - val_loss: 0.4486 - val_accuracy: 0.7859\n",
      "Epoch 156/300\n",
      "226/226 [==============================] - 1s 5ms/step - loss: 0.4456 - accuracy: 0.7928 - val_loss: 0.4247 - val_accuracy: 0.8078\n",
      "Epoch 157/300\n",
      "226/226 [==============================] - 1s 5ms/step - loss: 0.4466 - accuracy: 0.7934 - val_loss: 0.4323 - val_accuracy: 0.7961\n",
      "Epoch 158/300\n",
      "226/226 [==============================] - 1s 6ms/step - loss: 0.4460 - accuracy: 0.7964 - val_loss: 0.4219 - val_accuracy: 0.8031\n",
      "Epoch 159/300\n",
      "226/226 [==============================] - 1s 5ms/step - loss: 0.4463 - accuracy: 0.7949 - val_loss: 0.4753 - val_accuracy: 0.7678\n",
      "Epoch 160/300\n",
      "226/226 [==============================] - 1s 5ms/step - loss: 0.4471 - accuracy: 0.7924 - val_loss: 0.4303 - val_accuracy: 0.7976\n",
      "Epoch 161/300\n",
      "226/226 [==============================] - 1s 5ms/step - loss: 0.4464 - accuracy: 0.7942 - val_loss: 0.4063 - val_accuracy: 0.8149\n",
      "Epoch 162/300\n",
      "226/226 [==============================] - 1s 5ms/step - loss: 0.4457 - accuracy: 0.7971 - val_loss: 0.4640 - val_accuracy: 0.7749\n",
      "Epoch 163/300\n",
      "226/226 [==============================] - 1s 5ms/step - loss: 0.4460 - accuracy: 0.7979 - val_loss: 0.4270 - val_accuracy: 0.8063\n",
      "Epoch 164/300\n",
      "226/226 [==============================] - 1s 5ms/step - loss: 0.4442 - accuracy: 0.7971 - val_loss: 0.4149 - val_accuracy: 0.8110\n",
      "Epoch 165/300\n",
      "226/226 [==============================] - 1s 5ms/step - loss: 0.4460 - accuracy: 0.7961 - val_loss: 0.4153 - val_accuracy: 0.8102\n",
      "Epoch 166/300\n",
      "226/226 [==============================] - 1s 5ms/step - loss: 0.4432 - accuracy: 0.7971 - val_loss: 0.4170 - val_accuracy: 0.8008\n",
      "Epoch 167/300\n",
      "226/226 [==============================] - 1s 5ms/step - loss: 0.4455 - accuracy: 0.7999 - val_loss: 0.4439 - val_accuracy: 0.7867\n",
      "Epoch 168/300\n",
      "226/226 [==============================] - 1s 5ms/step - loss: 0.4463 - accuracy: 0.7943 - val_loss: 0.4221 - val_accuracy: 0.8031\n",
      "Epoch 169/300\n",
      "226/226 [==============================] - 1s 5ms/step - loss: 0.4447 - accuracy: 0.7961 - val_loss: 0.4116 - val_accuracy: 0.8118\n",
      "Epoch 170/300\n",
      "226/226 [==============================] - 1s 5ms/step - loss: 0.4444 - accuracy: 0.7988 - val_loss: 0.4422 - val_accuracy: 0.7898\n",
      "Epoch 171/300\n",
      "226/226 [==============================] - 1s 5ms/step - loss: 0.4446 - accuracy: 0.7978 - val_loss: 0.4312 - val_accuracy: 0.7929\n",
      "Epoch 172/300\n",
      "226/226 [==============================] - 1s 5ms/step - loss: 0.4466 - accuracy: 0.7963 - val_loss: 0.4670 - val_accuracy: 0.7671\n",
      "Epoch 173/300\n",
      "226/226 [==============================] - 1s 5ms/step - loss: 0.4460 - accuracy: 0.7999 - val_loss: 0.4129 - val_accuracy: 0.8086\n",
      "Epoch 174/300\n",
      "226/226 [==============================] - 1s 5ms/step - loss: 0.4444 - accuracy: 0.7958 - val_loss: 0.4227 - val_accuracy: 0.7992\n",
      "Epoch 175/300\n",
      "226/226 [==============================] - 1s 5ms/step - loss: 0.4435 - accuracy: 0.7974 - val_loss: 0.4386 - val_accuracy: 0.7906\n",
      "Epoch 176/300\n",
      "226/226 [==============================] - 1s 5ms/step - loss: 0.4463 - accuracy: 0.7975 - val_loss: 0.4116 - val_accuracy: 0.8141\n",
      "Epoch 177/300\n",
      "226/226 [==============================] - 1s 5ms/step - loss: 0.4432 - accuracy: 0.8001 - val_loss: 0.4695 - val_accuracy: 0.7631\n",
      "Epoch 178/300\n",
      "226/226 [==============================] - 1s 5ms/step - loss: 0.4456 - accuracy: 0.7949 - val_loss: 0.4799 - val_accuracy: 0.7545\n",
      "Epoch 179/300\n",
      "226/226 [==============================] - 1s 5ms/step - loss: 0.4454 - accuracy: 0.7963 - val_loss: 0.5059 - val_accuracy: 0.7451\n",
      "Epoch 180/300\n",
      "226/226 [==============================] - 1s 5ms/step - loss: 0.4451 - accuracy: 0.7963 - val_loss: 0.3809 - val_accuracy: 0.8306\n",
      "Epoch 181/300\n",
      "226/226 [==============================] - 1s 5ms/step - loss: 0.4481 - accuracy: 0.7975 - val_loss: 0.4426 - val_accuracy: 0.7843\n",
      "Epoch 182/300\n",
      "226/226 [==============================] - 1s 5ms/step - loss: 0.4450 - accuracy: 0.7954 - val_loss: 0.4157 - val_accuracy: 0.8039\n",
      "Epoch 183/300\n",
      "226/226 [==============================] - 1s 5ms/step - loss: 0.4446 - accuracy: 0.7976 - val_loss: 0.4208 - val_accuracy: 0.8071\n",
      "Epoch 184/300\n",
      "226/226 [==============================] - 1s 6ms/step - loss: 0.4443 - accuracy: 0.7936 - val_loss: 0.4472 - val_accuracy: 0.7827\n",
      "Epoch 185/300\n",
      "226/226 [==============================] - 1s 5ms/step - loss: 0.4439 - accuracy: 0.7968 - val_loss: 0.4192 - val_accuracy: 0.8086\n",
      "Epoch 186/300\n",
      "226/226 [==============================] - 1s 5ms/step - loss: 0.4426 - accuracy: 0.7971 - val_loss: 0.4828 - val_accuracy: 0.7569\n",
      "Epoch 187/300\n",
      "226/226 [==============================] - 1s 5ms/step - loss: 0.4449 - accuracy: 0.7970 - val_loss: 0.4702 - val_accuracy: 0.7718\n",
      "Epoch 188/300\n",
      "226/226 [==============================] - 1s 5ms/step - loss: 0.4449 - accuracy: 0.7965 - val_loss: 0.4046 - val_accuracy: 0.8204\n",
      "Epoch 189/300\n",
      "226/226 [==============================] - 1s 5ms/step - loss: 0.4452 - accuracy: 0.7950 - val_loss: 0.4220 - val_accuracy: 0.8055\n",
      "Epoch 190/300\n",
      "226/226 [==============================] - 1s 5ms/step - loss: 0.4441 - accuracy: 0.7989 - val_loss: 0.4043 - val_accuracy: 0.8173\n",
      "Epoch 191/300\n",
      "226/226 [==============================] - 1s 5ms/step - loss: 0.4445 - accuracy: 0.7996 - val_loss: 0.4693 - val_accuracy: 0.7694\n",
      "Epoch 192/300\n",
      "226/226 [==============================] - 1s 5ms/step - loss: 0.4444 - accuracy: 0.7976 - val_loss: 0.4485 - val_accuracy: 0.7875\n",
      "Epoch 193/300\n",
      "226/226 [==============================] - 1s 5ms/step - loss: 0.4440 - accuracy: 0.8000 - val_loss: 0.4391 - val_accuracy: 0.7875\n",
      "Epoch 194/300\n",
      "226/226 [==============================] - 1s 5ms/step - loss: 0.4450 - accuracy: 0.7965 - val_loss: 0.4326 - val_accuracy: 0.7929\n",
      "Epoch 195/300\n",
      "226/226 [==============================] - 1s 5ms/step - loss: 0.4452 - accuracy: 0.8004 - val_loss: 0.4702 - val_accuracy: 0.7663\n",
      "Epoch 196/300\n",
      "226/226 [==============================] - 1s 5ms/step - loss: 0.4442 - accuracy: 0.7979 - val_loss: 0.4048 - val_accuracy: 0.8157\n",
      "Epoch 197/300\n",
      "226/226 [==============================] - 1s 5ms/step - loss: 0.4451 - accuracy: 0.7953 - val_loss: 0.4542 - val_accuracy: 0.7773\n",
      "Epoch 198/300\n",
      "226/226 [==============================] - 1s 5ms/step - loss: 0.4428 - accuracy: 0.7985 - val_loss: 0.4583 - val_accuracy: 0.7757\n",
      "Epoch 199/300\n",
      "226/226 [==============================] - 1s 5ms/step - loss: 0.4435 - accuracy: 0.7968 - val_loss: 0.4457 - val_accuracy: 0.7867\n",
      "Epoch 200/300\n",
      "226/226 [==============================] - 1s 5ms/step - loss: 0.4439 - accuracy: 0.7985 - val_loss: 0.3881 - val_accuracy: 0.8267\n",
      "Epoch 201/300\n",
      "226/226 [==============================] - 1s 5ms/step - loss: 0.4432 - accuracy: 0.7960 - val_loss: 0.3916 - val_accuracy: 0.8251\n",
      "Epoch 202/300\n",
      "226/226 [==============================] - 1s 5ms/step - loss: 0.4432 - accuracy: 0.7982 - val_loss: 0.3878 - val_accuracy: 0.8298\n",
      "Epoch 203/300\n",
      "226/226 [==============================] - 1s 4ms/step - loss: 0.4433 - accuracy: 0.7992 - val_loss: 0.4086 - val_accuracy: 0.8212\n",
      "Epoch 204/300\n",
      "226/226 [==============================] - 1s 5ms/step - loss: 0.4421 - accuracy: 0.7971 - val_loss: 0.4457 - val_accuracy: 0.7843\n",
      "Epoch 205/300\n",
      "226/226 [==============================] - 1s 4ms/step - loss: 0.4425 - accuracy: 0.7988 - val_loss: 0.4560 - val_accuracy: 0.7757\n",
      "Epoch 206/300\n",
      "226/226 [==============================] - 1s 5ms/step - loss: 0.4447 - accuracy: 0.7975 - val_loss: 0.4227 - val_accuracy: 0.7992\n",
      "Epoch 207/300\n",
      "226/226 [==============================] - 1s 5ms/step - loss: 0.4417 - accuracy: 0.8007 - val_loss: 0.4759 - val_accuracy: 0.7639\n",
      "Epoch 208/300\n",
      "226/226 [==============================] - 1s 5ms/step - loss: 0.4433 - accuracy: 0.7914 - val_loss: 0.3931 - val_accuracy: 0.8267\n",
      "Epoch 209/300\n",
      "226/226 [==============================] - 1s 5ms/step - loss: 0.4442 - accuracy: 0.7986 - val_loss: 0.4716 - val_accuracy: 0.7686\n",
      "Epoch 210/300\n",
      "226/226 [==============================] - 1s 5ms/step - loss: 0.4442 - accuracy: 0.7918 - val_loss: 0.4286 - val_accuracy: 0.7969\n",
      "Epoch 211/300\n",
      "226/226 [==============================] - 1s 5ms/step - loss: 0.4434 - accuracy: 0.7956 - val_loss: 0.4070 - val_accuracy: 0.8133\n",
      "Epoch 212/300\n",
      "226/226 [==============================] - 1s 5ms/step - loss: 0.4420 - accuracy: 0.8001 - val_loss: 0.4196 - val_accuracy: 0.8055\n",
      "Epoch 213/300\n",
      "226/226 [==============================] - 1s 5ms/step - loss: 0.4425 - accuracy: 0.7974 - val_loss: 0.4777 - val_accuracy: 0.7671\n",
      "Epoch 214/300\n",
      "226/226 [==============================] - 1s 5ms/step - loss: 0.4432 - accuracy: 0.7974 - val_loss: 0.3806 - val_accuracy: 0.8353\n",
      "Epoch 215/300\n",
      "226/226 [==============================] - 1s 5ms/step - loss: 0.4421 - accuracy: 0.7990 - val_loss: 0.4012 - val_accuracy: 0.8196\n",
      "Epoch 216/300\n",
      "226/226 [==============================] - 1s 5ms/step - loss: 0.4454 - accuracy: 0.7975 - val_loss: 0.4603 - val_accuracy: 0.7741\n",
      "Epoch 217/300\n",
      "226/226 [==============================] - 1s 5ms/step - loss: 0.4420 - accuracy: 0.7981 - val_loss: 0.4213 - val_accuracy: 0.8008\n",
      "Epoch 218/300\n",
      "226/226 [==============================] - 1s 5ms/step - loss: 0.4428 - accuracy: 0.7979 - val_loss: 0.4251 - val_accuracy: 0.8047\n",
      "Epoch 219/300\n",
      "226/226 [==============================] - 1s 5ms/step - loss: 0.4423 - accuracy: 0.7943 - val_loss: 0.4217 - val_accuracy: 0.8031\n",
      "Epoch 220/300\n",
      "226/226 [==============================] - 1s 5ms/step - loss: 0.4429 - accuracy: 0.8021 - val_loss: 0.4133 - val_accuracy: 0.8071\n",
      "Epoch 221/300\n",
      "226/226 [==============================] - 1s 5ms/step - loss: 0.4415 - accuracy: 0.7983 - val_loss: 0.4132 - val_accuracy: 0.8063\n",
      "Epoch 222/300\n",
      "226/226 [==============================] - 1s 5ms/step - loss: 0.4434 - accuracy: 0.7986 - val_loss: 0.4614 - val_accuracy: 0.7718\n",
      "Epoch 223/300\n",
      "226/226 [==============================] - 1s 5ms/step - loss: 0.4428 - accuracy: 0.7953 - val_loss: 0.3811 - val_accuracy: 0.8376\n",
      "Epoch 224/300\n",
      "226/226 [==============================] - 1s 5ms/step - loss: 0.4428 - accuracy: 0.7963 - val_loss: 0.4195 - val_accuracy: 0.8000\n",
      "Epoch 225/300\n",
      "226/226 [==============================] - 1s 5ms/step - loss: 0.4419 - accuracy: 0.7956 - val_loss: 0.4170 - val_accuracy: 0.8008\n",
      "Epoch 226/300\n",
      "226/226 [==============================] - 1s 5ms/step - loss: 0.4417 - accuracy: 0.7972 - val_loss: 0.4204 - val_accuracy: 0.8024\n",
      "Epoch 227/300\n",
      "226/226 [==============================] - 1s 5ms/step - loss: 0.4422 - accuracy: 0.7986 - val_loss: 0.4182 - val_accuracy: 0.8031\n",
      "Epoch 228/300\n",
      "226/226 [==============================] - 1s 5ms/step - loss: 0.4433 - accuracy: 0.7986 - val_loss: 0.4233 - val_accuracy: 0.8008\n",
      "Epoch 229/300\n",
      "226/226 [==============================] - 1s 5ms/step - loss: 0.4431 - accuracy: 0.7940 - val_loss: 0.4199 - val_accuracy: 0.8016\n",
      "Epoch 230/300\n",
      "226/226 [==============================] - 1s 5ms/step - loss: 0.4418 - accuracy: 0.7976 - val_loss: 0.4114 - val_accuracy: 0.8102\n",
      "Epoch 231/300\n",
      "226/226 [==============================] - 1s 5ms/step - loss: 0.4433 - accuracy: 0.7978 - val_loss: 0.4350 - val_accuracy: 0.7922\n",
      "Epoch 232/300\n",
      "226/226 [==============================] - 1s 5ms/step - loss: 0.4415 - accuracy: 0.7958 - val_loss: 0.4643 - val_accuracy: 0.7671\n",
      "Epoch 233/300\n",
      "226/226 [==============================] - 1s 5ms/step - loss: 0.4406 - accuracy: 0.7986 - val_loss: 0.4363 - val_accuracy: 0.7906\n",
      "Epoch 234/300\n",
      "226/226 [==============================] - 1s 5ms/step - loss: 0.4407 - accuracy: 0.8011 - val_loss: 0.4182 - val_accuracy: 0.8031\n",
      "Epoch 235/300\n",
      "226/226 [==============================] - 1s 5ms/step - loss: 0.4424 - accuracy: 0.7985 - val_loss: 0.4089 - val_accuracy: 0.8133\n",
      "Epoch 236/300\n",
      "226/226 [==============================] - 1s 5ms/step - loss: 0.4428 - accuracy: 0.7978 - val_loss: 0.4528 - val_accuracy: 0.7780\n",
      "Epoch 237/300\n",
      "226/226 [==============================] - 1s 5ms/step - loss: 0.4422 - accuracy: 0.7994 - val_loss: 0.4255 - val_accuracy: 0.7969\n",
      "Epoch 238/300\n",
      "226/226 [==============================] - 1s 5ms/step - loss: 0.4418 - accuracy: 0.7979 - val_loss: 0.4460 - val_accuracy: 0.7851\n",
      "Epoch 239/300\n",
      "226/226 [==============================] - 1s 5ms/step - loss: 0.4420 - accuracy: 0.8010 - val_loss: 0.4695 - val_accuracy: 0.7694\n",
      "Epoch 240/300\n",
      "226/226 [==============================] - 1s 5ms/step - loss: 0.4403 - accuracy: 0.7985 - val_loss: 0.4298 - val_accuracy: 0.7945\n",
      "Epoch 241/300\n",
      "226/226 [==============================] - 1s 5ms/step - loss: 0.4423 - accuracy: 0.7956 - val_loss: 0.4889 - val_accuracy: 0.7529\n",
      "Epoch 242/300\n",
      "226/226 [==============================] - 1s 5ms/step - loss: 0.4407 - accuracy: 0.7986 - val_loss: 0.4470 - val_accuracy: 0.7820\n",
      "Epoch 243/300\n",
      "226/226 [==============================] - 1s 5ms/step - loss: 0.4425 - accuracy: 0.7981 - val_loss: 0.4207 - val_accuracy: 0.7976\n",
      "Epoch 244/300\n",
      "226/226 [==============================] - 1s 5ms/step - loss: 0.4410 - accuracy: 0.7993 - val_loss: 0.4590 - val_accuracy: 0.7702\n",
      "Epoch 245/300\n",
      "226/226 [==============================] - 1s 5ms/step - loss: 0.4413 - accuracy: 0.7971 - val_loss: 0.4381 - val_accuracy: 0.7937\n",
      "Epoch 246/300\n",
      "226/226 [==============================] - 1s 5ms/step - loss: 0.4407 - accuracy: 0.8004 - val_loss: 0.4446 - val_accuracy: 0.7843\n",
      "Epoch 247/300\n",
      "226/226 [==============================] - 1s 5ms/step - loss: 0.4413 - accuracy: 0.8001 - val_loss: 0.4355 - val_accuracy: 0.7922\n",
      "Epoch 248/300\n",
      "226/226 [==============================] - 1s 5ms/step - loss: 0.4414 - accuracy: 0.7968 - val_loss: 0.4570 - val_accuracy: 0.7749\n",
      "Epoch 249/300\n",
      "226/226 [==============================] - 1s 5ms/step - loss: 0.4421 - accuracy: 0.7945 - val_loss: 0.4241 - val_accuracy: 0.7976\n",
      "Epoch 250/300\n",
      "226/226 [==============================] - 1s 5ms/step - loss: 0.4414 - accuracy: 0.7974 - val_loss: 0.3914 - val_accuracy: 0.8220\n",
      "Epoch 251/300\n",
      "226/226 [==============================] - 1s 5ms/step - loss: 0.4421 - accuracy: 0.7979 - val_loss: 0.4273 - val_accuracy: 0.7953\n",
      "Epoch 252/300\n",
      "226/226 [==============================] - 1s 5ms/step - loss: 0.4427 - accuracy: 0.7999 - val_loss: 0.4230 - val_accuracy: 0.8008\n",
      "Epoch 253/300\n",
      "226/226 [==============================] - 1s 5ms/step - loss: 0.4418 - accuracy: 0.7997 - val_loss: 0.4324 - val_accuracy: 0.7937\n",
      "Epoch 254/300\n",
      "226/226 [==============================] - 1s 5ms/step - loss: 0.4409 - accuracy: 0.7952 - val_loss: 0.4598 - val_accuracy: 0.7694\n",
      "Epoch 255/300\n",
      "226/226 [==============================] - 1s 5ms/step - loss: 0.4409 - accuracy: 0.8040 - val_loss: 0.4081 - val_accuracy: 0.8133\n",
      "Epoch 256/300\n",
      "226/226 [==============================] - 1s 5ms/step - loss: 0.4408 - accuracy: 0.7947 - val_loss: 0.4410 - val_accuracy: 0.7890\n",
      "Epoch 257/300\n",
      "226/226 [==============================] - 1s 5ms/step - loss: 0.4423 - accuracy: 0.7989 - val_loss: 0.4335 - val_accuracy: 0.7929\n",
      "Epoch 258/300\n",
      "226/226 [==============================] - 1s 5ms/step - loss: 0.4401 - accuracy: 0.8000 - val_loss: 0.4301 - val_accuracy: 0.7929\n",
      "Epoch 259/300\n",
      "226/226 [==============================] - 1s 5ms/step - loss: 0.4404 - accuracy: 0.8021 - val_loss: 0.4584 - val_accuracy: 0.7718\n",
      "Epoch 260/300\n",
      "226/226 [==============================] - 1s 5ms/step - loss: 0.4425 - accuracy: 0.7978 - val_loss: 0.4285 - val_accuracy: 0.7992\n",
      "Epoch 261/300\n",
      "226/226 [==============================] - 1s 5ms/step - loss: 0.4409 - accuracy: 0.7961 - val_loss: 0.4253 - val_accuracy: 0.8016\n",
      "Epoch 262/300\n",
      "226/226 [==============================] - 1s 5ms/step - loss: 0.4413 - accuracy: 0.7986 - val_loss: 0.4524 - val_accuracy: 0.7788\n",
      "Epoch 263/300\n",
      "226/226 [==============================] - 1s 5ms/step - loss: 0.4417 - accuracy: 0.7975 - val_loss: 0.4243 - val_accuracy: 0.8024\n",
      "Epoch 264/300\n",
      "226/226 [==============================] - 1s 5ms/step - loss: 0.4418 - accuracy: 0.7938 - val_loss: 0.4483 - val_accuracy: 0.7843\n",
      "Epoch 265/300\n",
      "226/226 [==============================] - 1s 5ms/step - loss: 0.4401 - accuracy: 0.8008 - val_loss: 0.4411 - val_accuracy: 0.7867\n",
      "Epoch 266/300\n",
      "226/226 [==============================] - 1s 5ms/step - loss: 0.4429 - accuracy: 0.7988 - val_loss: 0.4862 - val_accuracy: 0.7576\n",
      "Epoch 267/300\n",
      "226/226 [==============================] - 1s 5ms/step - loss: 0.4394 - accuracy: 0.7989 - val_loss: 0.4366 - val_accuracy: 0.7867\n",
      "Epoch 268/300\n",
      "226/226 [==============================] - 1s 5ms/step - loss: 0.4395 - accuracy: 0.7990 - val_loss: 0.4000 - val_accuracy: 0.8141\n",
      "Epoch 269/300\n",
      "226/226 [==============================] - 1s 5ms/step - loss: 0.4397 - accuracy: 0.7979 - val_loss: 0.4597 - val_accuracy: 0.7718\n",
      "Epoch 270/300\n",
      "226/226 [==============================] - 1s 5ms/step - loss: 0.4420 - accuracy: 0.7947 - val_loss: 0.4070 - val_accuracy: 0.8118\n",
      "Epoch 271/300\n",
      "226/226 [==============================] - 1s 5ms/step - loss: 0.4408 - accuracy: 0.7993 - val_loss: 0.4320 - val_accuracy: 0.7906\n",
      "Epoch 272/300\n",
      "226/226 [==============================] - 1s 6ms/step - loss: 0.4411 - accuracy: 0.7960 - val_loss: 0.4232 - val_accuracy: 0.7961\n",
      "Epoch 273/300\n",
      "226/226 [==============================] - 1s 5ms/step - loss: 0.4402 - accuracy: 0.7982 - val_loss: 0.4186 - val_accuracy: 0.8008\n",
      "Epoch 274/300\n",
      "226/226 [==============================] - 1s 5ms/step - loss: 0.4404 - accuracy: 0.8012 - val_loss: 0.4230 - val_accuracy: 0.8016\n",
      "Epoch 275/300\n",
      "226/226 [==============================] - 1s 5ms/step - loss: 0.4405 - accuracy: 0.8001 - val_loss: 0.4374 - val_accuracy: 0.7906\n",
      "Epoch 276/300\n",
      "226/226 [==============================] - 1s 5ms/step - loss: 0.4400 - accuracy: 0.8003 - val_loss: 0.4511 - val_accuracy: 0.7812\n",
      "Epoch 277/300\n",
      "226/226 [==============================] - 1s 5ms/step - loss: 0.4416 - accuracy: 0.7985 - val_loss: 0.4225 - val_accuracy: 0.8000\n",
      "Epoch 278/300\n",
      "226/226 [==============================] - 1s 5ms/step - loss: 0.4392 - accuracy: 0.7985 - val_loss: 0.4212 - val_accuracy: 0.7984\n",
      "Epoch 279/300\n",
      "226/226 [==============================] - 1s 5ms/step - loss: 0.4390 - accuracy: 0.8014 - val_loss: 0.4468 - val_accuracy: 0.7867\n",
      "Epoch 280/300\n",
      "226/226 [==============================] - 1s 5ms/step - loss: 0.4393 - accuracy: 0.7986 - val_loss: 0.4161 - val_accuracy: 0.7992\n",
      "Epoch 281/300\n",
      "226/226 [==============================] - 1s 5ms/step - loss: 0.4405 - accuracy: 0.7979 - val_loss: 0.4155 - val_accuracy: 0.8047\n",
      "Epoch 282/300\n",
      "226/226 [==============================] - 1s 5ms/step - loss: 0.4387 - accuracy: 0.8003 - val_loss: 0.5070 - val_accuracy: 0.7498\n",
      "Epoch 283/300\n",
      "226/226 [==============================] - 1s 5ms/step - loss: 0.4412 - accuracy: 0.8014 - val_loss: 0.4601 - val_accuracy: 0.7710\n",
      "Epoch 284/300\n",
      "226/226 [==============================] - 1s 5ms/step - loss: 0.4385 - accuracy: 0.7958 - val_loss: 0.3885 - val_accuracy: 0.8165\n",
      "Epoch 285/300\n",
      "226/226 [==============================] - 1s 5ms/step - loss: 0.4388 - accuracy: 0.8021 - val_loss: 0.4339 - val_accuracy: 0.7882\n",
      "Epoch 286/300\n",
      "226/226 [==============================] - 1s 5ms/step - loss: 0.4390 - accuracy: 0.7999 - val_loss: 0.4741 - val_accuracy: 0.7647\n",
      "Epoch 287/300\n",
      "226/226 [==============================] - 1s 5ms/step - loss: 0.4403 - accuracy: 0.8011 - val_loss: 0.4625 - val_accuracy: 0.7686\n",
      "Epoch 288/300\n",
      "226/226 [==============================] - 1s 5ms/step - loss: 0.4393 - accuracy: 0.7982 - val_loss: 0.5083 - val_accuracy: 0.7482\n",
      "Epoch 289/300\n",
      "226/226 [==============================] - 1s 5ms/step - loss: 0.4398 - accuracy: 0.7970 - val_loss: 0.4625 - val_accuracy: 0.7725\n",
      "Epoch 290/300\n",
      "226/226 [==============================] - 1s 5ms/step - loss: 0.4393 - accuracy: 0.7992 - val_loss: 0.4104 - val_accuracy: 0.8110\n",
      "Epoch 291/300\n",
      "226/226 [==============================] - 1s 5ms/step - loss: 0.4384 - accuracy: 0.7999 - val_loss: 0.4187 - val_accuracy: 0.8055\n",
      "Epoch 292/300\n",
      "226/226 [==============================] - 1s 5ms/step - loss: 0.4406 - accuracy: 0.7954 - val_loss: 0.3875 - val_accuracy: 0.8212\n",
      "Epoch 293/300\n",
      "226/226 [==============================] - 1s 5ms/step - loss: 0.4393 - accuracy: 0.7986 - val_loss: 0.4594 - val_accuracy: 0.7702\n",
      "Epoch 294/300\n",
      "226/226 [==============================] - 1s 5ms/step - loss: 0.4406 - accuracy: 0.8010 - val_loss: 0.4647 - val_accuracy: 0.7678\n",
      "Epoch 295/300\n",
      "226/226 [==============================] - 1s 5ms/step - loss: 0.4386 - accuracy: 0.8006 - val_loss: 0.4290 - val_accuracy: 0.8000\n",
      "Epoch 296/300\n",
      "226/226 [==============================] - 1s 5ms/step - loss: 0.4377 - accuracy: 0.7997 - val_loss: 0.4997 - val_accuracy: 0.7498\n",
      "Epoch 297/300\n",
      "226/226 [==============================] - 1s 5ms/step - loss: 0.4393 - accuracy: 0.7986 - val_loss: 0.5061 - val_accuracy: 0.7451\n",
      "Epoch 298/300\n",
      "226/226 [==============================] - 1s 5ms/step - loss: 0.4395 - accuracy: 0.7999 - val_loss: 0.4657 - val_accuracy: 0.7694\n",
      "Epoch 299/300\n",
      "226/226 [==============================] - 1s 5ms/step - loss: 0.4367 - accuracy: 0.7979 - val_loss: 0.4029 - val_accuracy: 0.8235\n",
      "Epoch 300/300\n",
      "226/226 [==============================] - 1s 5ms/step - loss: 0.4383 - accuracy: 0.7983 - val_loss: 0.4846 - val_accuracy: 0.7553\n"
     ]
    },
    {
     "data": {
      "text/plain": [
       "<keras.callbacks.History at 0x1375d3461c0>"
      ]
     },
     "execution_count": 60,
     "metadata": {},
     "output_type": "execute_result"
    }
   ],
   "source": [
    "model_w.fit(x = X_train, y = y_train, validation_split = 0.15, batch_size = 32, epochs = 300, verbose=1,\n",
    "          callbacks = [early_stop], class_weight={0: 0.62787777, 1: 2.45499182})"
   ]
  },
  {
   "cell_type": "code",
   "execution_count": 61,
   "metadata": {
    "ExecuteTime": {
     "end_time": "2022-03-11T11:31:31.913986Z",
     "start_time": "2022-03-11T11:31:31.897566Z"
    }
   },
   "outputs": [
    {
     "name": "stdout",
     "output_type": "stream",
     "text": [
      "Model: \"sequential_3\"\n",
      "_________________________________________________________________\n",
      " Layer (type)                Output Shape              Param #   \n",
      "=================================================================\n",
      " dense_9 (Dense)             (None, 18)                234       \n",
      "                                                                 \n",
      " dense_10 (Dense)            (None, 9)                 171       \n",
      "                                                                 \n",
      " dense_11 (Dense)            (None, 1)                 10        \n",
      "                                                                 \n",
      "=================================================================\n",
      "Total params: 415\n",
      "Trainable params: 415\n",
      "Non-trainable params: 0\n",
      "_________________________________________________________________\n"
     ]
    }
   ],
   "source": [
    "model_w.summary()"
   ]
  },
  {
   "cell_type": "code",
   "execution_count": 62,
   "metadata": {
    "ExecuteTime": {
     "end_time": "2022-03-11T11:31:38.284297Z",
     "start_time": "2022-03-11T11:31:38.252656Z"
    }
   },
   "outputs": [
    {
     "data": {
      "text/html": [
       "<div>\n",
       "<style scoped>\n",
       "    .dataframe tbody tr th:only-of-type {\n",
       "        vertical-align: middle;\n",
       "    }\n",
       "\n",
       "    .dataframe tbody tr th {\n",
       "        vertical-align: top;\n",
       "    }\n",
       "\n",
       "    .dataframe thead th {\n",
       "        text-align: right;\n",
       "    }\n",
       "</style>\n",
       "<table border=\"1\" class=\"dataframe\">\n",
       "  <thead>\n",
       "    <tr style=\"text-align: right;\">\n",
       "      <th></th>\n",
       "      <th>loss</th>\n",
       "      <th>accuracy</th>\n",
       "      <th>val_loss</th>\n",
       "      <th>val_accuracy</th>\n",
       "    </tr>\n",
       "  </thead>\n",
       "  <tbody>\n",
       "    <tr>\n",
       "      <th>295</th>\n",
       "      <td>0.438</td>\n",
       "      <td>0.800</td>\n",
       "      <td>0.500</td>\n",
       "      <td>0.750</td>\n",
       "    </tr>\n",
       "    <tr>\n",
       "      <th>296</th>\n",
       "      <td>0.439</td>\n",
       "      <td>0.799</td>\n",
       "      <td>0.506</td>\n",
       "      <td>0.745</td>\n",
       "    </tr>\n",
       "    <tr>\n",
       "      <th>297</th>\n",
       "      <td>0.439</td>\n",
       "      <td>0.800</td>\n",
       "      <td>0.466</td>\n",
       "      <td>0.769</td>\n",
       "    </tr>\n",
       "    <tr>\n",
       "      <th>298</th>\n",
       "      <td>0.437</td>\n",
       "      <td>0.798</td>\n",
       "      <td>0.403</td>\n",
       "      <td>0.824</td>\n",
       "    </tr>\n",
       "    <tr>\n",
       "      <th>299</th>\n",
       "      <td>0.438</td>\n",
       "      <td>0.798</td>\n",
       "      <td>0.485</td>\n",
       "      <td>0.755</td>\n",
       "    </tr>\n",
       "  </tbody>\n",
       "</table>\n",
       "</div>"
      ],
      "text/plain": [
       "     loss  accuracy  val_loss  val_accuracy\n",
       "295 0.438     0.800     0.500         0.750\n",
       "296 0.439     0.799     0.506         0.745\n",
       "297 0.439     0.800     0.466         0.769\n",
       "298 0.437     0.798     0.403         0.824\n",
       "299 0.438     0.798     0.485         0.755"
      ]
     },
     "execution_count": 62,
     "metadata": {},
     "output_type": "execute_result"
    }
   ],
   "source": [
    "loss_df = pd.DataFrame(model_w.history.history)\n",
    "loss_df.tail()"
   ]
  },
  {
   "cell_type": "code",
   "execution_count": 63,
   "metadata": {
    "ExecuteTime": {
     "end_time": "2022-03-11T11:31:42.749756Z",
     "start_time": "2022-03-11T11:31:41.366654Z"
    }
   },
   "outputs": [
    {
     "data": {
      "image/png": "[encoded data removed]",
      "text/plain": [
       "<Figure size 720x432 with 1 Axes>"
      ]
     },
     "metadata": {},
     "output_type": "display_data"
    }
   ],
   "source": [
    "loss_df.plot();"
   ]
  },
  {
   "cell_type": "code",
   "execution_count": 64,
   "metadata": {
    "ExecuteTime": {
     "end_time": "2022-03-11T11:31:55.708087Z",
     "start_time": "2022-03-11T11:31:55.359973Z"
    }
   },
   "outputs": [
    {
     "data": {
      "text/plain": [
       "[0.5236498117446899, 0.7306666374206543]"
      ]
     },
     "execution_count": 64,
     "metadata": {},
     "output_type": "execute_result"
    }
   ],
   "source": [
    "model_w.evaluate(X_test, y_test, verbose=0)"
   ]
  },
  {
   "cell_type": "code",
   "execution_count": 65,
   "metadata": {
    "ExecuteTime": {
     "end_time": "2022-03-11T11:31:59.432654Z",
     "start_time": "2022-03-11T11:31:59.114712Z"
    }
   },
   "outputs": [
    {
     "name": "stdout",
     "output_type": "stream",
     "text": [
      "loss :  0.5236498117446899\n",
      "accuracy :  0.7306666374206543\n"
     ]
    }
   ],
   "source": [
    "loss, accuracy = model_w.evaluate(X_test, y_test, verbose=0)\n",
    "print(\"loss : \", loss)\n",
    "print(\"accuracy : \", accuracy)"
   ]
  },
  {
   "cell_type": "code",
   "execution_count": 66,
   "metadata": {
    "ExecuteTime": {
     "end_time": "2022-03-11T11:32:02.668653Z",
     "start_time": "2022-03-11T11:32:02.228879Z"
    }
   },
   "outputs": [
    {
     "name": "stdout",
     "output_type": "stream",
     "text": [
      "[[853 341]\n",
      " [ 63 243]]\n",
      "              precision    recall  f1-score   support\n",
      "\n",
      "           0       0.93      0.71      0.81      1194\n",
      "           1       0.42      0.79      0.55       306\n",
      "\n",
      "    accuracy                           0.73      1500\n",
      "   macro avg       0.67      0.75      0.68      1500\n",
      "weighted avg       0.83      0.73      0.75      1500\n",
      "\n"
     ]
    }
   ],
   "source": [
    "y_pred = (model_w.predict(X_test) > 0.5).astype(\"int32\")\n",
    "print(confusion_matrix(y_test, y_pred))\n",
    "print(classification_report(y_test, y_pred))"
   ]
  },
  {
   "cell_type": "markdown",
   "metadata": {},
   "source": [
    "## WITH SMOTE  (NO ADDITIONAL CLASS_WEIGHT)"
   ]
  },
  {
   "cell_type": "code",
   "execution_count": 42,
   "metadata": {
    "ExecuteTime": {
     "end_time": "2022-03-11T10:56:00.530337Z",
     "start_time": "2022-03-11T10:56:00.477877Z"
    }
   },
   "outputs": [],
   "source": [
    "X = df2.drop('Exited', axis=1)\n",
    "y = df2['Exited'].values\n",
    "\n",
    "X_train, X_test, y_train, y_test = train_test_split(X, y, stratify = y, test_size = 0.15, random_state = seed)\n",
    "scaler = MinMaxScaler()\n",
    "\n",
    "X_train= scaler.fit_transform(X_train)\n",
    "X_test = scaler.transform(X_test)"
   ]
  },
  {
   "cell_type": "code",
   "execution_count": 43,
   "metadata": {
    "ExecuteTime": {
     "end_time": "2022-03-11T10:56:05.181966Z",
     "start_time": "2022-03-11T10:56:05.159013Z"
    }
   },
   "outputs": [
    {
     "data": {
      "text/plain": [
       "(13537, 12)"
      ]
     },
     "execution_count": 43,
     "metadata": {},
     "output_type": "execute_result"
    }
   ],
   "source": [
    "X_train.shape"
   ]
  },
  {
   "cell_type": "code",
   "execution_count": 44,
   "metadata": {
    "ExecuteTime": {
     "end_time": "2022-03-11T10:56:06.014837Z",
     "start_time": "2022-03-11T10:56:05.995888Z"
    }
   },
   "outputs": [
    {
     "data": {
      "text/plain": [
       "(2389, 12)"
      ]
     },
     "execution_count": 44,
     "metadata": {},
     "output_type": "execute_result"
    }
   ],
   "source": [
    "X_test.shape"
   ]
  },
  {
   "cell_type": "code",
   "execution_count": 45,
   "metadata": {
    "ExecuteTime": {
     "end_time": "2022-03-11T10:56:24.552441Z",
     "start_time": "2022-03-11T10:56:24.497774Z"
    }
   },
   "outputs": [],
   "source": [
    "tf.random.set_seed(seed)\n",
    "\n",
    "model = Sequential()\n",
    "\n",
    "model.add(Dense(18, activation = \"relu\"))  \n",
    "# model.add(Dropout(0.3))\n",
    "model.add(Dense(9, activation = \"relu\"))\n",
    "# model.add(Dropout(0.3))\n",
    "model.add(Dense(1, activation = \"sigmoid\"))  \n",
    "\n",
    "opt = Adam(lr = 0.001)\n",
    "model.compile(optimizer = opt, loss = \"binary_crossentropy\", metrics = [\"accuracy\"])\n"
   ]
  },
  {
   "cell_type": "code",
   "execution_count": 46,
   "metadata": {
    "ExecuteTime": {
     "end_time": "2022-03-11T11:01:13.128438Z",
     "start_time": "2022-03-11T10:56:27.083230Z"
    }
   },
   "outputs": [
    {
     "name": "stdout",
     "output_type": "stream",
     "text": [
      "Epoch 1/300\n",
      "360/360 [==============================] - 5s 6ms/step - loss: 0.4041 - accuracy: 0.8285 - val_loss: 0.2312 - val_accuracy: 0.9000\n",
      "Epoch 2/300\n",
      "360/360 [==============================] - 2s 4ms/step - loss: 0.2098 - accuracy: 0.8978 - val_loss: 0.1960 - val_accuracy: 0.8966\n",
      "Epoch 3/300\n",
      "360/360 [==============================] - 1s 4ms/step - loss: 0.1982 - accuracy: 0.8998 - val_loss: 0.1886 - val_accuracy: 0.9030\n",
      "Epoch 4/300\n",
      "360/360 [==============================] - 2s 4ms/step - loss: 0.1966 - accuracy: 0.8982 - val_loss: 0.1882 - val_accuracy: 0.9040\n",
      "Epoch 5/300\n",
      "360/360 [==============================] - 2s 5ms/step - loss: 0.1938 - accuracy: 0.8990 - val_loss: 0.1870 - val_accuracy: 0.9040\n",
      "Epoch 6/300\n",
      "360/360 [==============================] - 2s 5ms/step - loss: 0.1916 - accuracy: 0.9040 - val_loss: 0.1847 - val_accuracy: 0.9020\n",
      "Epoch 7/300\n",
      "360/360 [==============================] - 2s 5ms/step - loss: 0.1919 - accuracy: 0.9021 - val_loss: 0.1839 - val_accuracy: 0.9065\n",
      "Epoch 8/300\n",
      "360/360 [==============================] - 2s 5ms/step - loss: 0.1910 - accuracy: 0.9036 - val_loss: 0.1862 - val_accuracy: 0.8991\n",
      "Epoch 9/300\n",
      "360/360 [==============================] - 2s 5ms/step - loss: 0.1911 - accuracy: 0.9006 - val_loss: 0.1909 - val_accuracy: 0.8961\n",
      "Epoch 10/300\n",
      "360/360 [==============================] - 2s 5ms/step - loss: 0.1907 - accuracy: 0.9032 - val_loss: 0.1830 - val_accuracy: 0.9035\n",
      "Epoch 11/300\n",
      "360/360 [==============================] - 1s 4ms/step - loss: 0.1913 - accuracy: 0.9012 - val_loss: 0.1835 - val_accuracy: 0.9069\n",
      "Epoch 12/300\n",
      "360/360 [==============================] - 2s 5ms/step - loss: 0.1905 - accuracy: 0.8997 - val_loss: 0.1855 - val_accuracy: 0.9025\n",
      "Epoch 13/300\n",
      "360/360 [==============================] - 2s 4ms/step - loss: 0.1898 - accuracy: 0.9019 - val_loss: 0.2004 - val_accuracy: 0.8912\n",
      "Epoch 14/300\n",
      "360/360 [==============================] - 2s 4ms/step - loss: 0.1903 - accuracy: 0.9034 - val_loss: 0.1935 - val_accuracy: 0.8976\n",
      "Epoch 15/300\n",
      "360/360 [==============================] - 2s 4ms/step - loss: 0.1897 - accuracy: 0.9017 - val_loss: 0.1847 - val_accuracy: 0.9030\n",
      "Epoch 16/300\n",
      "360/360 [==============================] - 2s 5ms/step - loss: 0.1890 - accuracy: 0.9033 - val_loss: 0.1827 - val_accuracy: 0.9055\n",
      "Epoch 17/300\n",
      "360/360 [==============================] - 2s 4ms/step - loss: 0.1897 - accuracy: 0.9014 - val_loss: 0.1980 - val_accuracy: 0.8971\n",
      "Epoch 18/300\n",
      "360/360 [==============================] - 2s 4ms/step - loss: 0.1885 - accuracy: 0.9020 - val_loss: 0.1835 - val_accuracy: 0.9005\n",
      "Epoch 19/300\n",
      "360/360 [==============================] - 2s 5ms/step - loss: 0.1886 - accuracy: 0.9020 - val_loss: 0.1884 - val_accuracy: 0.8981\n",
      "Epoch 20/300\n",
      "360/360 [==============================] - 2s 5ms/step - loss: 0.1880 - accuracy: 0.9029 - val_loss: 0.1836 - val_accuracy: 0.9065\n",
      "Epoch 21/300\n",
      "360/360 [==============================] - 2s 5ms/step - loss: 0.1881 - accuracy: 0.9047 - val_loss: 0.1826 - val_accuracy: 0.9040\n",
      "Epoch 22/300\n",
      "360/360 [==============================] - 2s 4ms/step - loss: 0.1881 - accuracy: 0.9013 - val_loss: 0.1831 - val_accuracy: 0.9055\n",
      "Epoch 23/300\n",
      "360/360 [==============================] - 2s 4ms/step - loss: 0.1881 - accuracy: 0.9027 - val_loss: 0.1814 - val_accuracy: 0.9084\n",
      "Epoch 24/300\n",
      "360/360 [==============================] - 2s 4ms/step - loss: 0.1883 - accuracy: 0.9029 - val_loss: 0.1838 - val_accuracy: 0.9035\n",
      "Epoch 25/300\n",
      "360/360 [==============================] - 2s 4ms/step - loss: 0.1872 - accuracy: 0.9037 - val_loss: 0.1822 - val_accuracy: 0.9020\n",
      "Epoch 26/300\n",
      "360/360 [==============================] - 1s 4ms/step - loss: 0.1893 - accuracy: 0.9009 - val_loss: 0.1819 - val_accuracy: 0.9074\n",
      "Epoch 27/300\n",
      "360/360 [==============================] - 1s 4ms/step - loss: 0.1865 - accuracy: 0.9028 - val_loss: 0.1821 - val_accuracy: 0.9040\n",
      "Epoch 28/300\n",
      "360/360 [==============================] - 2s 5ms/step - loss: 0.1860 - accuracy: 0.9023 - val_loss: 0.1817 - val_accuracy: 0.9074\n",
      "Epoch 29/300\n",
      "360/360 [==============================] - 2s 5ms/step - loss: 0.1867 - accuracy: 0.9021 - val_loss: 0.1825 - val_accuracy: 0.9025\n",
      "Epoch 30/300\n",
      "360/360 [==============================] - 2s 5ms/step - loss: 0.1869 - accuracy: 0.9036 - val_loss: 0.1826 - val_accuracy: 0.8981\n",
      "Epoch 31/300\n",
      "360/360 [==============================] - 2s 4ms/step - loss: 0.1856 - accuracy: 0.9024 - val_loss: 0.1858 - val_accuracy: 0.8961\n",
      "Epoch 32/300\n",
      "360/360 [==============================] - 2s 4ms/step - loss: 0.1863 - accuracy: 0.9035 - val_loss: 0.1832 - val_accuracy: 0.9025\n",
      "Epoch 33/300\n",
      "360/360 [==============================] - 2s 5ms/step - loss: 0.1853 - accuracy: 0.9040 - val_loss: 0.1802 - val_accuracy: 0.9005\n",
      "Epoch 34/300\n",
      "360/360 [==============================] - 2s 4ms/step - loss: 0.1854 - accuracy: 0.9037 - val_loss: 0.1813 - val_accuracy: 0.9025\n",
      "Epoch 35/300\n",
      "360/360 [==============================] - 2s 4ms/step - loss: 0.1846 - accuracy: 0.9040 - val_loss: 0.1794 - val_accuracy: 0.9094\n",
      "Epoch 36/300\n",
      "360/360 [==============================] - 2s 4ms/step - loss: 0.1850 - accuracy: 0.9030 - val_loss: 0.1832 - val_accuracy: 0.8996\n",
      "Epoch 37/300\n",
      "360/360 [==============================] - 2s 4ms/step - loss: 0.1857 - accuracy: 0.9030 - val_loss: 0.1816 - val_accuracy: 0.9005\n",
      "Epoch 38/300\n",
      "360/360 [==============================] - 2s 5ms/step - loss: 0.1834 - accuracy: 0.9063 - val_loss: 0.1832 - val_accuracy: 0.8971\n",
      "Epoch 39/300\n",
      "360/360 [==============================] - 2s 5ms/step - loss: 0.1845 - accuracy: 0.9032 - val_loss: 0.1791 - val_accuracy: 0.9079\n",
      "Epoch 40/300\n",
      "360/360 [==============================] - 2s 4ms/step - loss: 0.1837 - accuracy: 0.9044 - val_loss: 0.1824 - val_accuracy: 0.8986\n",
      "Epoch 41/300\n",
      "360/360 [==============================] - 2s 4ms/step - loss: 0.1859 - accuracy: 0.9031 - val_loss: 0.1810 - val_accuracy: 0.8986\n",
      "Epoch 42/300\n",
      "360/360 [==============================] - 2s 5ms/step - loss: 0.1842 - accuracy: 0.9052 - val_loss: 0.1790 - val_accuracy: 0.9060\n",
      "Epoch 43/300\n",
      "360/360 [==============================] - 2s 4ms/step - loss: 0.1838 - accuracy: 0.9053 - val_loss: 0.1780 - val_accuracy: 0.9069\n",
      "Epoch 44/300\n",
      "360/360 [==============================] - 2s 4ms/step - loss: 0.1843 - accuracy: 0.9041 - val_loss: 0.1786 - val_accuracy: 0.9084\n",
      "Epoch 45/300\n",
      "360/360 [==============================] - 2s 4ms/step - loss: 0.1838 - accuracy: 0.9059 - val_loss: 0.1923 - val_accuracy: 0.8966\n",
      "Epoch 46/300\n",
      "360/360 [==============================] - 2s 5ms/step - loss: 0.1836 - accuracy: 0.9030 - val_loss: 0.1809 - val_accuracy: 0.8991\n",
      "Epoch 47/300\n",
      "360/360 [==============================] - 2s 5ms/step - loss: 0.1834 - accuracy: 0.9063 - val_loss: 0.1801 - val_accuracy: 0.8986\n",
      "Epoch 48/300\n",
      "360/360 [==============================] - 2s 4ms/step - loss: 0.1826 - accuracy: 0.9040 - val_loss: 0.1843 - val_accuracy: 0.8991\n",
      "Epoch 49/300\n",
      "360/360 [==============================] - 2s 4ms/step - loss: 0.1833 - accuracy: 0.9046 - val_loss: 0.1824 - val_accuracy: 0.9074\n",
      "Epoch 50/300\n",
      "360/360 [==============================] - 2s 5ms/step - loss: 0.1838 - accuracy: 0.9056 - val_loss: 0.1815 - val_accuracy: 0.9010\n",
      "Epoch 51/300\n",
      "360/360 [==============================] - 2s 4ms/step - loss: 0.1830 - accuracy: 0.9036 - val_loss: 0.1780 - val_accuracy: 0.9035\n",
      "Epoch 52/300\n",
      "360/360 [==============================] - 2s 4ms/step - loss: 0.1823 - accuracy: 0.9046 - val_loss: 0.1786 - val_accuracy: 0.9060\n",
      "Epoch 53/300\n",
      "360/360 [==============================] - 2s 5ms/step - loss: 0.1827 - accuracy: 0.9052 - val_loss: 0.1784 - val_accuracy: 0.9035\n",
      "Epoch 54/300\n",
      "360/360 [==============================] - 2s 5ms/step - loss: 0.1830 - accuracy: 0.9058 - val_loss: 0.1777 - val_accuracy: 0.9060\n",
      "Epoch 55/300\n",
      "360/360 [==============================] - 2s 5ms/step - loss: 0.1829 - accuracy: 0.9047 - val_loss: 0.1826 - val_accuracy: 0.8986\n",
      "Epoch 56/300\n",
      "360/360 [==============================] - 2s 5ms/step - loss: 0.1832 - accuracy: 0.9066 - val_loss: 0.1778 - val_accuracy: 0.9055\n",
      "Epoch 57/300\n",
      "360/360 [==============================] - 2s 5ms/step - loss: 0.1818 - accuracy: 0.9048 - val_loss: 0.1774 - val_accuracy: 0.9055\n",
      "Epoch 58/300\n",
      "360/360 [==============================] - 2s 5ms/step - loss: 0.1816 - accuracy: 0.9054 - val_loss: 0.1799 - val_accuracy: 0.9065\n",
      "Epoch 59/300\n",
      "360/360 [==============================] - 2s 5ms/step - loss: 0.1824 - accuracy: 0.9056 - val_loss: 0.1770 - val_accuracy: 0.9055\n",
      "Epoch 60/300\n",
      "360/360 [==============================] - 2s 5ms/step - loss: 0.1815 - accuracy: 0.9058 - val_loss: 0.1804 - val_accuracy: 0.9000\n",
      "Epoch 61/300\n",
      "360/360 [==============================] - 2s 4ms/step - loss: 0.1821 - accuracy: 0.9038 - val_loss: 0.1799 - val_accuracy: 0.9010\n",
      "Epoch 62/300\n",
      "360/360 [==============================] - 2s 5ms/step - loss: 0.1816 - accuracy: 0.9063 - val_loss: 0.1774 - val_accuracy: 0.9050\n",
      "Epoch 63/300\n",
      "360/360 [==============================] - 2s 5ms/step - loss: 0.1823 - accuracy: 0.9057 - val_loss: 0.1790 - val_accuracy: 0.9035\n",
      "Epoch 64/300\n",
      "360/360 [==============================] - 2s 4ms/step - loss: 0.1819 - accuracy: 0.9042 - val_loss: 0.1766 - val_accuracy: 0.9099\n",
      "Epoch 65/300\n",
      "360/360 [==============================] - 2s 4ms/step - loss: 0.1823 - accuracy: 0.9060 - val_loss: 0.1823 - val_accuracy: 0.9020\n",
      "Epoch 66/300\n",
      "360/360 [==============================] - 2s 5ms/step - loss: 0.1810 - accuracy: 0.9055 - val_loss: 0.1831 - val_accuracy: 0.9050\n",
      "Epoch 67/300\n",
      "360/360 [==============================] - 2s 5ms/step - loss: 0.1816 - accuracy: 0.9019 - val_loss: 0.1778 - val_accuracy: 0.9050\n",
      "Epoch 68/300\n",
      "360/360 [==============================] - 2s 4ms/step - loss: 0.1817 - accuracy: 0.9074 - val_loss: 0.1788 - val_accuracy: 0.9035\n",
      "Epoch 69/300\n",
      "360/360 [==============================] - 2s 4ms/step - loss: 0.1811 - accuracy: 0.9059 - val_loss: 0.1784 - val_accuracy: 0.9035\n",
      "Epoch 70/300\n",
      "360/360 [==============================] - 2s 5ms/step - loss: 0.1817 - accuracy: 0.9065 - val_loss: 0.1772 - val_accuracy: 0.9060\n",
      "Epoch 71/300\n",
      "360/360 [==============================] - 2s 4ms/step - loss: 0.1822 - accuracy: 0.9041 - val_loss: 0.1779 - val_accuracy: 0.9025\n",
      "Epoch 72/300\n",
      "360/360 [==============================] - 2s 4ms/step - loss: 0.1812 - accuracy: 0.9057 - val_loss: 0.1798 - val_accuracy: 0.9030\n",
      "Epoch 73/300\n",
      "360/360 [==============================] - 2s 4ms/step - loss: 0.1814 - accuracy: 0.9067 - val_loss: 0.1767 - val_accuracy: 0.9045\n",
      "Epoch 74/300\n",
      "360/360 [==============================] - 2s 4ms/step - loss: 0.1817 - accuracy: 0.9044 - val_loss: 0.1768 - val_accuracy: 0.9030\n",
      "Epoch 75/300\n",
      "360/360 [==============================] - 2s 5ms/step - loss: 0.1812 - accuracy: 0.9051 - val_loss: 0.1776 - val_accuracy: 0.9040\n",
      "Epoch 76/300\n",
      "360/360 [==============================] - 2s 4ms/step - loss: 0.1819 - accuracy: 0.9035 - val_loss: 0.1760 - val_accuracy: 0.9050\n",
      "Epoch 77/300\n",
      "360/360 [==============================] - 2s 4ms/step - loss: 0.1810 - accuracy: 0.9060 - val_loss: 0.1774 - val_accuracy: 0.9035\n",
      "Epoch 78/300\n",
      "360/360 [==============================] - 2s 4ms/step - loss: 0.1808 - accuracy: 0.9050 - val_loss: 0.1811 - val_accuracy: 0.9000\n",
      "Epoch 79/300\n",
      "360/360 [==============================] - 2s 4ms/step - loss: 0.1814 - accuracy: 0.9041 - val_loss: 0.1784 - val_accuracy: 0.9015\n",
      "Epoch 80/300\n",
      "360/360 [==============================] - 2s 4ms/step - loss: 0.1804 - accuracy: 0.9056 - val_loss: 0.1782 - val_accuracy: 0.9000\n",
      "Epoch 81/300\n",
      "360/360 [==============================] - 2s 4ms/step - loss: 0.1811 - accuracy: 0.9040 - val_loss: 0.1778 - val_accuracy: 0.9030\n",
      "Epoch 82/300\n",
      "360/360 [==============================] - 2s 5ms/step - loss: 0.1808 - accuracy: 0.9055 - val_loss: 0.1778 - val_accuracy: 0.9025\n",
      "Epoch 83/300\n",
      "360/360 [==============================] - 2s 4ms/step - loss: 0.1804 - accuracy: 0.9060 - val_loss: 0.1853 - val_accuracy: 0.9000\n",
      "Epoch 84/300\n",
      "360/360 [==============================] - 2s 4ms/step - loss: 0.1810 - accuracy: 0.9054 - val_loss: 0.1770 - val_accuracy: 0.9060\n",
      "Epoch 85/300\n",
      "360/360 [==============================] - 2s 4ms/step - loss: 0.1802 - accuracy: 0.9071 - val_loss: 0.1765 - val_accuracy: 0.9065\n",
      "Epoch 86/300\n",
      "360/360 [==============================] - 2s 5ms/step - loss: 0.1820 - accuracy: 0.9056 - val_loss: 0.1771 - val_accuracy: 0.9060\n",
      "Epoch 87/300\n",
      "360/360 [==============================] - 2s 5ms/step - loss: 0.1813 - accuracy: 0.9050 - val_loss: 0.1784 - val_accuracy: 0.9055\n",
      "Epoch 88/300\n",
      "360/360 [==============================] - 2s 4ms/step - loss: 0.1803 - accuracy: 0.9043 - val_loss: 0.1819 - val_accuracy: 0.8996\n",
      "Epoch 89/300\n",
      "360/360 [==============================] - 2s 4ms/step - loss: 0.1812 - accuracy: 0.9047 - val_loss: 0.1804 - val_accuracy: 0.8996\n",
      "Epoch 90/300\n",
      "360/360 [==============================] - 2s 4ms/step - loss: 0.1801 - accuracy: 0.9060 - val_loss: 0.1894 - val_accuracy: 0.8971\n",
      "Epoch 91/300\n",
      "360/360 [==============================] - 2s 4ms/step - loss: 0.1803 - accuracy: 0.9060 - val_loss: 0.1777 - val_accuracy: 0.9025\n",
      "Epoch 92/300\n",
      "360/360 [==============================] - 2s 4ms/step - loss: 0.1806 - accuracy: 0.9063 - val_loss: 0.1793 - val_accuracy: 0.9035\n",
      "Epoch 93/300\n",
      "360/360 [==============================] - 2s 4ms/step - loss: 0.1806 - accuracy: 0.9061 - val_loss: 0.1781 - val_accuracy: 0.9030\n",
      "Epoch 94/300\n",
      "360/360 [==============================] - 2s 4ms/step - loss: 0.1811 - accuracy: 0.9048 - val_loss: 0.1799 - val_accuracy: 0.9010\n",
      "Epoch 95/300\n",
      "360/360 [==============================] - 2s 4ms/step - loss: 0.1796 - accuracy: 0.9084 - val_loss: 0.1817 - val_accuracy: 0.9030\n",
      "Epoch 96/300\n",
      "360/360 [==============================] - 2s 4ms/step - loss: 0.1800 - accuracy: 0.9060 - val_loss: 0.1792 - val_accuracy: 0.9030\n",
      "Epoch 97/300\n",
      "360/360 [==============================] - 2s 5ms/step - loss: 0.1811 - accuracy: 0.9041 - val_loss: 0.1790 - val_accuracy: 0.9030\n",
      "Epoch 98/300\n",
      "360/360 [==============================] - 2s 4ms/step - loss: 0.1804 - accuracy: 0.9060 - val_loss: 0.1770 - val_accuracy: 0.9045\n",
      "Epoch 99/300\n",
      "360/360 [==============================] - 2s 5ms/step - loss: 0.1800 - accuracy: 0.9070 - val_loss: 0.1784 - val_accuracy: 0.9035\n",
      "Epoch 100/300\n",
      "360/360 [==============================] - 2s 4ms/step - loss: 0.1798 - accuracy: 0.9068 - val_loss: 0.1787 - val_accuracy: 0.9050\n",
      "Epoch 101/300\n",
      "360/360 [==============================] - 2s 4ms/step - loss: 0.1795 - accuracy: 0.9048 - val_loss: 0.1802 - val_accuracy: 0.9015\n",
      "Epoch 102/300\n",
      "360/360 [==============================] - 2s 4ms/step - loss: 0.1798 - accuracy: 0.9054 - val_loss: 0.1770 - val_accuracy: 0.9045\n",
      "Epoch 103/300\n",
      "360/360 [==============================] - 1s 4ms/step - loss: 0.1804 - accuracy: 0.9053 - val_loss: 0.1777 - val_accuracy: 0.9025\n",
      "Epoch 104/300\n",
      "360/360 [==============================] - 2s 4ms/step - loss: 0.1807 - accuracy: 0.9051 - val_loss: 0.1772 - val_accuracy: 0.9040\n",
      "Epoch 105/300\n",
      "360/360 [==============================] - 2s 4ms/step - loss: 0.1807 - accuracy: 0.9051 - val_loss: 0.1792 - val_accuracy: 0.9045\n",
      "Epoch 106/300\n",
      "360/360 [==============================] - 2s 4ms/step - loss: 0.1800 - accuracy: 0.9054 - val_loss: 0.1769 - val_accuracy: 0.9050\n",
      "Epoch 107/300\n",
      "360/360 [==============================] - 2s 4ms/step - loss: 0.1788 - accuracy: 0.9069 - val_loss: 0.1779 - val_accuracy: 0.9060\n",
      "Epoch 108/300\n",
      "360/360 [==============================] - 2s 4ms/step - loss: 0.1800 - accuracy: 0.9067 - val_loss: 0.1763 - val_accuracy: 0.9030\n",
      "Epoch 109/300\n",
      "360/360 [==============================] - 2s 4ms/step - loss: 0.1805 - accuracy: 0.9047 - val_loss: 0.1771 - val_accuracy: 0.9035\n",
      "Epoch 110/300\n",
      "360/360 [==============================] - 2s 5ms/step - loss: 0.1793 - accuracy: 0.9056 - val_loss: 0.1777 - val_accuracy: 0.9030\n",
      "Epoch 111/300\n",
      "360/360 [==============================] - 2s 4ms/step - loss: 0.1801 - accuracy: 0.9069 - val_loss: 0.1795 - val_accuracy: 0.9015\n",
      "Epoch 112/300\n",
      "360/360 [==============================] - 2s 4ms/step - loss: 0.1796 - accuracy: 0.9062 - val_loss: 0.1770 - val_accuracy: 0.9025\n",
      "Epoch 113/300\n",
      "360/360 [==============================] - 2s 4ms/step - loss: 0.1795 - accuracy: 0.9058 - val_loss: 0.1788 - val_accuracy: 0.9025\n",
      "Epoch 114/300\n",
      "360/360 [==============================] - 1s 4ms/step - loss: 0.1796 - accuracy: 0.9079 - val_loss: 0.1841 - val_accuracy: 0.9005\n",
      "Epoch 115/300\n",
      "360/360 [==============================] - 2s 4ms/step - loss: 0.1802 - accuracy: 0.9059 - val_loss: 0.1829 - val_accuracy: 0.9000\n",
      "Epoch 116/300\n",
      "360/360 [==============================] - 2s 4ms/step - loss: 0.1796 - accuracy: 0.9060 - val_loss: 0.1778 - val_accuracy: 0.9030\n",
      "Epoch 117/300\n",
      "360/360 [==============================] - 2s 4ms/step - loss: 0.1800 - accuracy: 0.9059 - val_loss: 0.1805 - val_accuracy: 0.9035\n",
      "Epoch 118/300\n",
      "360/360 [==============================] - 2s 4ms/step - loss: 0.1796 - accuracy: 0.9065 - val_loss: 0.1783 - val_accuracy: 0.9035\n",
      "Epoch 119/300\n",
      "360/360 [==============================] - 2s 4ms/step - loss: 0.1799 - accuracy: 0.9059 - val_loss: 0.1779 - val_accuracy: 0.9035\n",
      "Epoch 120/300\n",
      "360/360 [==============================] - 2s 4ms/step - loss: 0.1798 - accuracy: 0.9091 - val_loss: 0.1784 - val_accuracy: 0.9045\n",
      "Epoch 121/300\n",
      "360/360 [==============================] - 2s 5ms/step - loss: 0.1800 - accuracy: 0.9086 - val_loss: 0.1787 - val_accuracy: 0.9035\n",
      "Epoch 122/300\n",
      "360/360 [==============================] - 2s 4ms/step - loss: 0.1794 - accuracy: 0.9066 - val_loss: 0.1882 - val_accuracy: 0.8991\n",
      "Epoch 123/300\n",
      "360/360 [==============================] - 2s 5ms/step - loss: 0.1795 - accuracy: 0.9077 - val_loss: 0.1793 - val_accuracy: 0.9005\n",
      "Epoch 124/300\n",
      "360/360 [==============================] - 2s 4ms/step - loss: 0.1794 - accuracy: 0.9058 - val_loss: 0.1787 - val_accuracy: 0.9065\n",
      "Epoch 125/300\n",
      "360/360 [==============================] - 2s 4ms/step - loss: 0.1794 - accuracy: 0.9061 - val_loss: 0.1789 - val_accuracy: 0.9020\n",
      "Epoch 126/300\n",
      "360/360 [==============================] - 2s 4ms/step - loss: 0.1789 - accuracy: 0.9066 - val_loss: 0.1805 - val_accuracy: 0.9000- accuracy: \n",
      "Epoch 127/300\n",
      "360/360 [==============================] - 2s 4ms/step - loss: 0.1793 - accuracy: 0.9087 - val_loss: 0.1778 - val_accuracy: 0.9010\n",
      "Epoch 128/300\n",
      "360/360 [==============================] - 2s 5ms/step - loss: 0.1795 - accuracy: 0.9079 - val_loss: 0.1785 - val_accuracy: 0.9040\n",
      "Epoch 129/300\n",
      "360/360 [==============================] - 2s 5ms/step - loss: 0.1795 - accuracy: 0.9070 - val_loss: 0.1793 - val_accuracy: 0.9030\n",
      "Epoch 130/300\n",
      "360/360 [==============================] - 2s 5ms/step - loss: 0.1797 - accuracy: 0.9071 - val_loss: 0.1793 - val_accuracy: 0.9020\n",
      "Epoch 131/300\n",
      "360/360 [==============================] - 2s 4ms/step - loss: 0.1785 - accuracy: 0.9055 - val_loss: 0.1766 - val_accuracy: 0.9055\n",
      "Epoch 132/300\n",
      "360/360 [==============================] - 2s 4ms/step - loss: 0.1789 - accuracy: 0.9078 - val_loss: 0.1790 - val_accuracy: 0.9025\n",
      "Epoch 133/300\n",
      "360/360 [==============================] - 2s 4ms/step - loss: 0.1794 - accuracy: 0.9077 - val_loss: 0.1834 - val_accuracy: 0.9040\n",
      "Epoch 134/300\n",
      "360/360 [==============================] - 2s 4ms/step - loss: 0.1799 - accuracy: 0.9060 - val_loss: 0.1786 - val_accuracy: 0.9030\n",
      "Epoch 135/300\n",
      "360/360 [==============================] - 2s 4ms/step - loss: 0.1789 - accuracy: 0.9069 - val_loss: 0.1805 - val_accuracy: 0.9030\n",
      "Epoch 136/300\n",
      "360/360 [==============================] - 2s 4ms/step - loss: 0.1790 - accuracy: 0.9070 - val_loss: 0.1781 - val_accuracy: 0.9030\n",
      "Epoch 137/300\n",
      "360/360 [==============================] - 2s 4ms/step - loss: 0.1780 - accuracy: 0.9060 - val_loss: 0.1762 - val_accuracy: 0.9084\n",
      "Epoch 138/300\n",
      "360/360 [==============================] - 1s 4ms/step - loss: 0.1791 - accuracy: 0.9047 - val_loss: 0.1786 - val_accuracy: 0.9045\n",
      "Epoch 139/300\n",
      "360/360 [==============================] - 2s 4ms/step - loss: 0.1783 - accuracy: 0.9089 - val_loss: 0.1771 - val_accuracy: 0.9050\n",
      "Epoch 140/300\n",
      "360/360 [==============================] - 2s 5ms/step - loss: 0.1790 - accuracy: 0.9057 - val_loss: 0.1789 - val_accuracy: 0.9010\n",
      "Epoch 141/300\n",
      "360/360 [==============================] - 2s 5ms/step - loss: 0.1787 - accuracy: 0.9064 - val_loss: 0.1832 - val_accuracy: 0.8991\n",
      "Epoch 142/300\n",
      "360/360 [==============================] - 2s 5ms/step - loss: 0.1790 - accuracy: 0.9071 - val_loss: 0.1767 - val_accuracy: 0.9069\n",
      "Epoch 143/300\n",
      "360/360 [==============================] - 2s 5ms/step - loss: 0.1792 - accuracy: 0.9071 - val_loss: 0.1776 - val_accuracy: 0.9050\n",
      "Epoch 144/300\n",
      "360/360 [==============================] - 2s 4ms/step - loss: 0.1789 - accuracy: 0.9080 - val_loss: 0.1765 - val_accuracy: 0.9074\n",
      "Epoch 145/300\n",
      "360/360 [==============================] - 2s 4ms/step - loss: 0.1790 - accuracy: 0.9074 - val_loss: 0.1801 - val_accuracy: 0.9040\n",
      "Epoch 146/300\n",
      "360/360 [==============================] - 2s 4ms/step - loss: 0.1789 - accuracy: 0.9073 - val_loss: 0.1773 - val_accuracy: 0.9040\n",
      "Epoch 147/300\n",
      "360/360 [==============================] - 2s 4ms/step - loss: 0.1791 - accuracy: 0.9080 - val_loss: 0.1788 - val_accuracy: 0.9035\n",
      "Epoch 148/300\n",
      "360/360 [==============================] - 2s 4ms/step - loss: 0.1786 - accuracy: 0.9056 - val_loss: 0.1771 - val_accuracy: 0.9040\n",
      "Epoch 149/300\n",
      "360/360 [==============================] - 2s 4ms/step - loss: 0.1782 - accuracy: 0.9072 - val_loss: 0.1783 - val_accuracy: 0.9025\n",
      "Epoch 150/300\n",
      "360/360 [==============================] - 2s 4ms/step - loss: 0.1784 - accuracy: 0.9065 - val_loss: 0.1805 - val_accuracy: 0.8991\n",
      "Epoch 151/300\n",
      "360/360 [==============================] - 2s 4ms/step - loss: 0.1776 - accuracy: 0.9080 - val_loss: 0.1773 - val_accuracy: 0.9015\n",
      "Epoch 152/300\n",
      "360/360 [==============================] - 2s 4ms/step - loss: 0.1781 - accuracy: 0.9076 - val_loss: 0.1774 - val_accuracy: 0.9020\n",
      "Epoch 153/300\n",
      "360/360 [==============================] - 2s 4ms/step - loss: 0.1785 - accuracy: 0.9067 - val_loss: 0.1777 - val_accuracy: 0.9020\n",
      "Epoch 154/300\n",
      "360/360 [==============================] - 2s 4ms/step - loss: 0.1782 - accuracy: 0.9087 - val_loss: 0.1781 - val_accuracy: 0.9050\n",
      "Epoch 155/300\n",
      "360/360 [==============================] - 2s 4ms/step - loss: 0.1783 - accuracy: 0.9055 - val_loss: 0.1774 - val_accuracy: 0.9055\n",
      "Epoch 156/300\n",
      "360/360 [==============================] - 2s 4ms/step - loss: 0.1781 - accuracy: 0.9060 - val_loss: 0.1776 - val_accuracy: 0.9045\n",
      "Epoch 157/300\n",
      "360/360 [==============================] - 2s 5ms/step - loss: 0.1781 - accuracy: 0.9083 - val_loss: 0.1784 - val_accuracy: 0.9025\n",
      "Epoch 158/300\n",
      "360/360 [==============================] - 2s 4ms/step - loss: 0.1776 - accuracy: 0.9073 - val_loss: 0.1810 - val_accuracy: 0.9055\n",
      "Epoch 159/300\n",
      "360/360 [==============================] - 2s 5ms/step - loss: 0.1779 - accuracy: 0.9090 - val_loss: 0.1770 - val_accuracy: 0.9035\n",
      "Epoch 160/300\n",
      "360/360 [==============================] - 2s 4ms/step - loss: 0.1783 - accuracy: 0.9079 - val_loss: 0.1782 - val_accuracy: 0.9010\n",
      "Epoch 161/300\n",
      "360/360 [==============================] - 2s 4ms/step - loss: 0.1778 - accuracy: 0.9083 - val_loss: 0.1803 - val_accuracy: 0.9025\n",
      "Epoch 162/300\n",
      "360/360 [==============================] - 2s 4ms/step - loss: 0.1787 - accuracy: 0.9067 - val_loss: 0.1771 - val_accuracy: 0.9055\n",
      "Epoch 163/300\n",
      "360/360 [==============================] - 2s 4ms/step - loss: 0.1777 - accuracy: 0.9087 - val_loss: 0.1790 - val_accuracy: 0.9055\n",
      "Epoch 164/300\n",
      "360/360 [==============================] - 2s 5ms/step - loss: 0.1783 - accuracy: 0.9070 - val_loss: 0.1783 - val_accuracy: 0.9020\n",
      "Epoch 165/300\n",
      "360/360 [==============================] - 2s 4ms/step - loss: 0.1780 - accuracy: 0.9074 - val_loss: 0.1787 - val_accuracy: 0.9025\n",
      "Epoch 166/300\n",
      "360/360 [==============================] - 2s 4ms/step - loss: 0.1775 - accuracy: 0.9087 - val_loss: 0.1768 - val_accuracy: 0.9055\n",
      "Epoch 167/300\n",
      "360/360 [==============================] - 2s 5ms/step - loss: 0.1777 - accuracy: 0.9080 - val_loss: 0.1767 - val_accuracy: 0.9025\n",
      "Epoch 168/300\n",
      "360/360 [==============================] - 2s 5ms/step - loss: 0.1768 - accuracy: 0.9106 - val_loss: 0.1820 - val_accuracy: 0.9015\n",
      "Epoch 169/300\n",
      "360/360 [==============================] - 2s 4ms/step - loss: 0.1778 - accuracy: 0.9090 - val_loss: 0.1823 - val_accuracy: 0.9020\n",
      "Epoch 170/300\n",
      "360/360 [==============================] - 2s 4ms/step - loss: 0.1774 - accuracy: 0.9087 - val_loss: 0.1768 - val_accuracy: 0.9084\n",
      "Epoch 171/300\n",
      "360/360 [==============================] - 2s 4ms/step - loss: 0.1776 - accuracy: 0.9087 - val_loss: 0.1763 - val_accuracy: 0.9055\n",
      "Epoch 172/300\n",
      "360/360 [==============================] - 2s 4ms/step - loss: 0.1779 - accuracy: 0.9091 - val_loss: 0.1782 - val_accuracy: 0.9035\n",
      "Epoch 173/300\n",
      "360/360 [==============================] - 2s 5ms/step - loss: 0.1767 - accuracy: 0.9082 - val_loss: 0.1771 - val_accuracy: 0.9035\n",
      "Epoch 174/300\n",
      "360/360 [==============================] - 2s 5ms/step - loss: 0.1768 - accuracy: 0.9086 - val_loss: 0.1783 - val_accuracy: 0.9030\n",
      "Epoch 175/300\n",
      "360/360 [==============================] - 2s 4ms/step - loss: 0.1776 - accuracy: 0.9080 - val_loss: 0.1783 - val_accuracy: 0.9055\n",
      "Epoch 176/300\n",
      "360/360 [==============================] - 1s 4ms/step - loss: 0.1773 - accuracy: 0.9082 - val_loss: 0.1830 - val_accuracy: 0.9035\n",
      "Epoch 00176: early stopping\n"
     ]
    },
    {
     "data": {
      "text/plain": [
       "<keras.callbacks.History at 0x1375c013640>"
      ]
     },
     "execution_count": 46,
     "metadata": {},
     "output_type": "execute_result"
    }
   ],
   "source": [
    "early_stop = EarlyStopping(monitor = \"val_loss\", mode = \"auto\", verbose = 1, patience = 100)\n",
    "model.fit(x = X_train, y = y_train, validation_split = 0.15, batch_size = 32, epochs = 300, verbose=1, callbacks = [early_stop])"
   ]
  },
  {
   "cell_type": "code",
   "execution_count": 47,
   "metadata": {
    "ExecuteTime": {
     "end_time": "2022-03-11T11:01:22.427746Z",
     "start_time": "2022-03-11T11:01:22.415404Z"
    }
   },
   "outputs": [
    {
     "name": "stdout",
     "output_type": "stream",
     "text": [
      "Model: \"sequential_2\"\n",
      "_________________________________________________________________\n",
      " Layer (type)                Output Shape              Param #   \n",
      "=================================================================\n",
      " dense_6 (Dense)             (None, 18)                234       \n",
      "                                                                 \n",
      " dense_7 (Dense)             (None, 9)                 171       \n",
      "                                                                 \n",
      " dense_8 (Dense)             (None, 1)                 10        \n",
      "                                                                 \n",
      "=================================================================\n",
      "Total params: 415\n",
      "Trainable params: 415\n",
      "Non-trainable params: 0\n",
      "_________________________________________________________________\n"
     ]
    }
   ],
   "source": [
    "model.summary()"
   ]
  },
  {
   "cell_type": "code",
   "execution_count": 48,
   "metadata": {
    "ExecuteTime": {
     "end_time": "2022-03-11T11:01:26.686709Z",
     "start_time": "2022-03-11T11:01:26.656364Z"
    }
   },
   "outputs": [
    {
     "data": {
      "text/html": [
       "<div>\n",
       "<style scoped>\n",
       "    .dataframe tbody tr th:only-of-type {\n",
       "        vertical-align: middle;\n",
       "    }\n",
       "\n",
       "    .dataframe tbody tr th {\n",
       "        vertical-align: top;\n",
       "    }\n",
       "\n",
       "    .dataframe thead th {\n",
       "        text-align: right;\n",
       "    }\n",
       "</style>\n",
       "<table border=\"1\" class=\"dataframe\">\n",
       "  <thead>\n",
       "    <tr style=\"text-align: right;\">\n",
       "      <th></th>\n",
       "      <th>loss</th>\n",
       "      <th>accuracy</th>\n",
       "      <th>val_loss</th>\n",
       "      <th>val_accuracy</th>\n",
       "    </tr>\n",
       "  </thead>\n",
       "  <tbody>\n",
       "    <tr>\n",
       "      <th>0</th>\n",
       "      <td>0.404</td>\n",
       "      <td>0.829</td>\n",
       "      <td>0.231</td>\n",
       "      <td>0.900</td>\n",
       "    </tr>\n",
       "    <tr>\n",
       "      <th>1</th>\n",
       "      <td>0.210</td>\n",
       "      <td>0.898</td>\n",
       "      <td>0.196</td>\n",
       "      <td>0.897</td>\n",
       "    </tr>\n",
       "    <tr>\n",
       "      <th>2</th>\n",
       "      <td>0.198</td>\n",
       "      <td>0.900</td>\n",
       "      <td>0.189</td>\n",
       "      <td>0.903</td>\n",
       "    </tr>\n",
       "    <tr>\n",
       "      <th>3</th>\n",
       "      <td>0.197</td>\n",
       "      <td>0.898</td>\n",
       "      <td>0.188</td>\n",
       "      <td>0.904</td>\n",
       "    </tr>\n",
       "    <tr>\n",
       "      <th>4</th>\n",
       "      <td>0.194</td>\n",
       "      <td>0.899</td>\n",
       "      <td>0.187</td>\n",
       "      <td>0.904</td>\n",
       "    </tr>\n",
       "  </tbody>\n",
       "</table>\n",
       "</div>"
      ],
      "text/plain": [
       "   loss  accuracy  val_loss  val_accuracy\n",
       "0 0.404     0.829     0.231         0.900\n",
       "1 0.210     0.898     0.196         0.897\n",
       "2 0.198     0.900     0.189         0.903\n",
       "3 0.197     0.898     0.188         0.904\n",
       "4 0.194     0.899     0.187         0.904"
      ]
     },
     "execution_count": 48,
     "metadata": {},
     "output_type": "execute_result"
    }
   ],
   "source": [
    "loss_df = pd.DataFrame(model.history.history)\n",
    "loss_df.head()"
   ]
  },
  {
   "cell_type": "code",
   "execution_count": 49,
   "metadata": {
    "ExecuteTime": {
     "end_time": "2022-03-11T11:01:40.643568Z",
     "start_time": "2022-03-11T11:01:38.982453Z"
    }
   },
   "outputs": [
    {
     "data": {
      "image/png": "[encoded data removed]",
      "text/plain": [
       "<Figure size 720x432 with 1 Axes>"
      ]
     },
     "metadata": {},
     "output_type": "display_data"
    }
   ],
   "source": [
    "loss_df.plot();"
   ]
  },
  {
   "cell_type": "code",
   "execution_count": 50,
   "metadata": {
    "ExecuteTime": {
     "end_time": "2022-03-11T11:01:48.364481Z",
     "start_time": "2022-03-11T11:01:47.985838Z"
    }
   },
   "outputs": [
    {
     "data": {
      "text/plain": [
       "[0.19109293818473816, 0.8982837796211243]"
      ]
     },
     "execution_count": 50,
     "metadata": {},
     "output_type": "execute_result"
    }
   ],
   "source": [
    "model.evaluate(X_test, y_test, verbose=0)"
   ]
  },
  {
   "cell_type": "code",
   "execution_count": 51,
   "metadata": {
    "ExecuteTime": {
     "end_time": "2022-03-11T11:01:53.593053Z",
     "start_time": "2022-03-11T11:01:53.214143Z"
    }
   },
   "outputs": [
    {
     "name": "stdout",
     "output_type": "stream",
     "text": [
      "loss :  0.19109293818473816\n",
      "accuracy :  0.8982837796211243\n"
     ]
    }
   ],
   "source": [
    "loss, accuracy = model.evaluate(X_test, y_test, verbose=0)\n",
    "print(\"loss : \", loss)\n",
    "print(\"accuracy : \", accuracy)"
   ]
  },
  {
   "cell_type": "code",
   "execution_count": 52,
   "metadata": {
    "ExecuteTime": {
     "end_time": "2022-03-11T11:01:57.112541Z",
     "start_time": "2022-03-11T11:01:56.494872Z"
    }
   },
   "outputs": [
    {
     "name": "stdout",
     "output_type": "stream",
     "text": [
      "[[1398   63]\n",
      " [ 180  748]]\n",
      "              precision    recall  f1-score   support\n",
      "\n",
      "           0       0.89      0.96      0.92      1461\n",
      "           1       0.92      0.81      0.86       928\n",
      "\n",
      "    accuracy                           0.90      2389\n",
      "   macro avg       0.90      0.88      0.89      2389\n",
      "weighted avg       0.90      0.90      0.90      2389\n",
      "\n"
     ]
    }
   ],
   "source": [
    "y_pred = (model.predict(X_test) > 0.5).astype(\"int32\")  \n",
    "print(confusion_matrix(y_test, y_pred))\n",
    "print(classification_report(y_test, y_pred))"
   ]
  },
  {
   "cell_type": "code",
   "execution_count": 53,
   "metadata": {
    "ExecuteTime": {
     "end_time": "2022-03-11T11:06:21.290703Z",
     "start_time": "2022-03-11T11:06:20.922385Z"
    }
   },
   "outputs": [
    {
     "data": {
      "text/plain": [
       "array([[9.9982560e-01],\n",
       "       [1.4866805e-01],\n",
       "       [9.3000710e-02],\n",
       "       ...,\n",
       "       [7.7203532e-10],\n",
       "       [5.4496431e-01],\n",
       "       [9.9961680e-01]], dtype=float32)"
      ]
     },
     "execution_count": 53,
     "metadata": {},
     "output_type": "execute_result"
    }
   ],
   "source": [
    "# model.predict(X_test)"
   ]
  },
  {
   "cell_type": "code",
   "execution_count": null,
   "metadata": {
    "ExecuteTime": {
     "end_time": "2022-03-10T08:45:38.602538Z",
     "start_time": "2022-03-10T08:45:38.487017Z"
    }
   },
   "outputs": [],
   "source": [
    "# model.predict(X_test)>0.5"
   ]
  },
  {
   "cell_type": "markdown",
   "metadata": {
    "id": "rL3b_h6vZ5jJ"
   },
   "source": [
    "## GridSearchCV FOR SMOTE OPTION\n",
    "\n",
    "https://machinelearningmastery.com/grid-search-hyperparameters-deep-learning-models-python-keras/"
   ]
  },
  {
   "cell_type": "code",
   "execution_count": 72,
   "metadata": {
    "ExecuteTime": {
     "end_time": "2022-03-11T11:45:19.526272Z",
     "start_time": "2022-03-11T11:45:19.507643Z"
    }
   },
   "outputs": [],
   "source": [
    "from keras.models import Sequential\n",
    "from keras.layers import Dense\n",
    "from keras.wrappers.scikit_learn import KerasClassifier\n",
    "from sklearn.model_selection import StratifiedKFold\n",
    "from sklearn.model_selection import cross_val_score\n",
    "from tensorflow.keras.optimizers import Adam, Adadelta, RMSprop, Nadam"
   ]
  },
  {
   "cell_type": "code",
   "execution_count": 73,
   "metadata": {
    "ExecuteTime": {
     "end_time": "2022-03-11T11:45:20.961927Z",
     "start_time": "2022-03-11T11:45:20.907500Z"
    }
   },
   "outputs": [],
   "source": [
    "X = df2.drop('Exited', axis=1)\n",
    "y = df2['Exited'].values\n",
    "\n",
    "X_train, X_test, y_train, y_test = train_test_split(X, y, stratify = y, test_size = 0.15, random_state = seed)\n",
    "scaler = MinMaxScaler()\n",
    "\n",
    "X_train= scaler.fit_transform(X_train)\n",
    "X_test = scaler.transform(X_test)"
   ]
  },
  {
   "cell_type": "code",
   "execution_count": 74,
   "metadata": {
    "ExecuteTime": {
     "end_time": "2022-03-11T11:45:35.866137Z",
     "start_time": "2022-03-11T11:45:35.843656Z"
    },
    "id": "nXQpWQuhZ5jK"
   },
   "outputs": [],
   "source": [
    "def build_classifier(optimizer, learn_rate):\n",
    "    classifier = Sequential()\n",
    "    classifier.add(Dense(units = 18, activation = 'relu'))\n",
    "    classifier.add(Dense(units = 9, activation = 'relu'))\n",
    "    classifier.add(Dense(units = 1, activation = 'sigmoid'))\n",
    "    classifier.compile(optimizer = optimizer(learn_rate), loss = 'binary_crossentropy', metrics = ['accuracy'])\n",
    "    return classifier"
   ]
  },
  {
   "cell_type": "code",
   "execution_count": 75,
   "metadata": {
    "ExecuteTime": {
     "end_time": "2022-03-11T11:45:38.296994Z",
     "start_time": "2022-03-11T11:45:38.276065Z"
    },
    "id": "hx1ar_wFZ5jK"
   },
   "outputs": [],
   "source": [
    "early_stop = EarlyStopping(monitor = \"val_accuracy\", mode = \"auto\", verbose = 1, patience = 50)"
   ]
  },
  {
   "cell_type": "code",
   "execution_count": 76,
   "metadata": {
    "ExecuteTime": {
     "end_time": "2022-03-11T11:57:00.495553Z",
     "start_time": "2022-03-11T11:45:40.174196Z"
    },
    "colab": {
     "base_uri": "https://localhost:8080/"
    },
    "executionInfo": {
     "elapsed": 561766,
     "status": "ok",
     "timestamp": 1646830338795,
     "user": {
      "displayName": "Steve Wallace",
      "photoUrl": "https://lh3.googleusercontent.com/a/default-user=s64",
      "userId": "06741533186265949524"
     },
     "user_tz": -180
    },
    "id": "FTvPHlOdZ5jL",
    "outputId": "5e4134bf-ac68-4af4-ec69-8df20ec5d4fb",
    "scrolled": true
   },
   "outputs": [
    {
     "name": "stdout",
     "output_type": "stream",
     "text": [
      "Fitting 3 folds for each of 12 candidates, totalling 36 fits\n",
      "Epoch 1/250\n",
      "180/180 [==============================] - 1s 2ms/step - loss: 0.5008 - accuracy: 0.7739 - val_loss: 0.3344 - val_accuracy: 0.9010\n",
      "Epoch 2/250\n",
      "180/180 [==============================] - 0s 2ms/step - loss: 0.2588 - accuracy: 0.8981 - val_loss: 0.2100 - val_accuracy: 0.8996\n",
      "Epoch 3/250\n",
      "180/180 [==============================] - 0s 1ms/step - loss: 0.2073 - accuracy: 0.9003 - val_loss: 0.1955 - val_accuracy: 0.9015\n",
      "Epoch 4/250\n",
      "180/180 [==============================] - 0s 1ms/step - loss: 0.2010 - accuracy: 0.8974 - val_loss: 0.1928 - val_accuracy: 0.9015\n",
      "Epoch 5/250\n",
      "180/180 [==============================] - 0s 941us/step - loss: 0.1968 - accuracy: 0.8995 - val_loss: 0.1894 - val_accuracy: 0.9025\n",
      "Epoch 6/250\n",
      "180/180 [==============================] - 0s 906us/step - loss: 0.1946 - accuracy: 0.9014 - val_loss: 0.1921 - val_accuracy: 0.8951\n",
      "Epoch 7/250\n",
      "180/180 [==============================] - 0s 1ms/step - loss: 0.1945 - accuracy: 0.9003 - val_loss: 0.1863 - val_accuracy: 0.9025\n",
      "Epoch 8/250\n",
      "180/180 [==============================] - 0s 1ms/step - loss: 0.1938 - accuracy: 0.9007 - val_loss: 0.1870 - val_accuracy: 0.9010\n",
      "Epoch 9/250\n",
      "180/180 [==============================] - 0s 915us/step - loss: 0.1921 - accuracy: 0.9018 - val_loss: 0.1889 - val_accuracy: 0.8951\n",
      "Epoch 10/250\n",
      "180/180 [==============================] - 0s 950us/step - loss: 0.1925 - accuracy: 0.9015 - val_loss: 0.1850 - val_accuracy: 0.9069\n",
      "Epoch 11/250\n",
      "180/180 [==============================] - 0s 964us/step - loss: 0.1917 - accuracy: 0.9036 - val_loss: 0.1859 - val_accuracy: 0.9035\n",
      "Epoch 12/250\n",
      "180/180 [==============================] - 0s 1ms/step - loss: 0.1906 - accuracy: 0.9018 - val_loss: 0.1855 - val_accuracy: 0.9065\n",
      "Epoch 13/250\n",
      "180/180 [==============================] - 0s 1ms/step - loss: 0.1911 - accuracy: 0.9005 - val_loss: 0.1913 - val_accuracy: 0.8922\n",
      "Epoch 14/250\n",
      "180/180 [==============================] - 0s 1ms/step - loss: 0.1913 - accuracy: 0.9022 - val_loss: 0.1858 - val_accuracy: 0.9035\n",
      "Epoch 15/250\n",
      "180/180 [==============================] - 0s 1ms/step - loss: 0.1903 - accuracy: 0.9021 - val_loss: 0.1857 - val_accuracy: 0.9045\n",
      "Epoch 16/250\n",
      "180/180 [==============================] - 0s 1ms/step - loss: 0.1898 - accuracy: 0.9025 - val_loss: 0.1844 - val_accuracy: 0.9040\n",
      "Epoch 17/250\n",
      "180/180 [==============================] - 0s 1ms/step - loss: 0.1905 - accuracy: 0.9018 - val_loss: 0.1862 - val_accuracy: 0.9025\n",
      "Epoch 18/250\n",
      "180/180 [==============================] - 0s 1ms/step - loss: 0.1903 - accuracy: 0.9027 - val_loss: 0.1841 - val_accuracy: 0.9069\n",
      "Epoch 19/250\n",
      "180/180 [==============================] - 0s 1ms/step - loss: 0.1895 - accuracy: 0.9020 - val_loss: 0.1964 - val_accuracy: 0.8946\n",
      "Epoch 20/250\n",
      "180/180 [==============================] - 0s 1ms/step - loss: 0.1899 - accuracy: 0.9019 - val_loss: 0.1856 - val_accuracy: 0.9015\n",
      "Epoch 21/250\n",
      "180/180 [==============================] - 0s 1ms/step - loss: 0.1893 - accuracy: 0.9040 - val_loss: 0.1840 - val_accuracy: 0.9055\n",
      "Epoch 22/250\n",
      "180/180 [==============================] - 0s 1ms/step - loss: 0.1896 - accuracy: 0.9027 - val_loss: 0.1856 - val_accuracy: 0.9045\n",
      "Epoch 23/250\n",
      "180/180 [==============================] - 0s 1ms/step - loss: 0.1895 - accuracy: 0.9038 - val_loss: 0.1841 - val_accuracy: 0.9045\n",
      "Epoch 24/250\n",
      "180/180 [==============================] - 0s 1ms/step - loss: 0.1894 - accuracy: 0.9025 - val_loss: 0.1853 - val_accuracy: 0.9065\n",
      "Epoch 25/250\n",
      "180/180 [==============================] - 0s 1ms/step - loss: 0.1887 - accuracy: 0.9037 - val_loss: 0.1840 - val_accuracy: 0.9025\n",
      "Epoch 26/250\n",
      "180/180 [==============================] - 0s 1ms/step - loss: 0.1902 - accuracy: 0.9024 - val_loss: 0.1846 - val_accuracy: 0.9040\n",
      "Epoch 27/250\n",
      "180/180 [==============================] - 0s 1ms/step - loss: 0.1887 - accuracy: 0.9017 - val_loss: 0.1871 - val_accuracy: 0.9020\n",
      "Epoch 28/250\n",
      "180/180 [==============================] - 0s 1ms/step - loss: 0.1883 - accuracy: 0.9034 - val_loss: 0.1847 - val_accuracy: 0.9055\n",
      "Epoch 29/250\n",
      "180/180 [==============================] - 0s 1ms/step - loss: 0.1887 - accuracy: 0.9025 - val_loss: 0.1855 - val_accuracy: 0.8991\n",
      "Epoch 30/250\n",
      "180/180 [==============================] - 0s 1ms/step - loss: 0.1885 - accuracy: 0.9030 - val_loss: 0.1849 - val_accuracy: 0.9035\n",
      "Epoch 31/250\n",
      "180/180 [==============================] - 0s 1ms/step - loss: 0.1894 - accuracy: 0.9021 - val_loss: 0.1856 - val_accuracy: 0.8971\n",
      "Epoch 32/250\n",
      "180/180 [==============================] - 0s 2ms/step - loss: 0.1880 - accuracy: 0.9045 - val_loss: 0.1845 - val_accuracy: 0.9040\n",
      "Epoch 33/250\n",
      "180/180 [==============================] - 0s 2ms/step - loss: 0.1883 - accuracy: 0.9031 - val_loss: 0.1826 - val_accuracy: 0.9060\n",
      "Epoch 34/250\n",
      "180/180 [==============================] - 0s 1ms/step - loss: 0.1882 - accuracy: 0.9038 - val_loss: 0.1826 - val_accuracy: 0.9045\n",
      "Epoch 35/250\n",
      "180/180 [==============================] - 0s 2ms/step - loss: 0.1875 - accuracy: 0.9032 - val_loss: 0.1845 - val_accuracy: 0.9015\n",
      "Epoch 36/250\n",
      "180/180 [==============================] - 0s 1ms/step - loss: 0.1880 - accuracy: 0.9024 - val_loss: 0.1831 - val_accuracy: 0.9060\n",
      "Epoch 37/250\n",
      "180/180 [==============================] - 0s 1ms/step - loss: 0.1881 - accuracy: 0.9029 - val_loss: 0.1849 - val_accuracy: 0.9010\n",
      "Epoch 38/250\n",
      "180/180 [==============================] - 0s 1ms/step - loss: 0.1868 - accuracy: 0.9041 - val_loss: 0.1833 - val_accuracy: 0.8981\n",
      "Epoch 39/250\n",
      "180/180 [==============================] - 0s 1ms/step - loss: 0.1874 - accuracy: 0.9034 - val_loss: 0.1820 - val_accuracy: 0.9065\n",
      "Epoch 40/250\n",
      "180/180 [==============================] - 0s 1ms/step - loss: 0.1870 - accuracy: 0.9042 - val_loss: 0.1856 - val_accuracy: 0.9005\n",
      "Epoch 41/250\n",
      "180/180 [==============================] - 0s 1ms/step - loss: 0.1879 - accuracy: 0.9025 - val_loss: 0.1838 - val_accuracy: 0.9005\n",
      "Epoch 42/250\n",
      "180/180 [==============================] - 0s 1ms/step - loss: 0.1878 - accuracy: 0.9042 - val_loss: 0.1877 - val_accuracy: 0.8966\n",
      "Epoch 43/250\n",
      "180/180 [==============================] - 0s 1ms/step - loss: 0.1868 - accuracy: 0.9032 - val_loss: 0.1818 - val_accuracy: 0.9050\n",
      "Epoch 44/250\n",
      "180/180 [==============================] - 0s 1ms/step - loss: 0.1869 - accuracy: 0.9019 - val_loss: 0.1819 - val_accuracy: 0.9050\n",
      "Epoch 45/250\n",
      "180/180 [==============================] - 0s 1ms/step - loss: 0.1867 - accuracy: 0.9027 - val_loss: 0.1863 - val_accuracy: 0.9000\n",
      "Epoch 46/250\n",
      "180/180 [==============================] - 0s 1ms/step - loss: 0.1872 - accuracy: 0.9023 - val_loss: 0.1824 - val_accuracy: 0.9035\n",
      "Epoch 47/250\n",
      "180/180 [==============================] - 0s 1ms/step - loss: 0.1862 - accuracy: 0.9041 - val_loss: 0.1830 - val_accuracy: 0.9030\n",
      "Epoch 48/250\n",
      "180/180 [==============================] - 0s 1ms/step - loss: 0.1864 - accuracy: 0.9044 - val_loss: 0.1845 - val_accuracy: 0.9015\n",
      "Epoch 49/250\n",
      "180/180 [==============================] - 0s 1ms/step - loss: 0.1856 - accuracy: 0.9027 - val_loss: 0.1837 - val_accuracy: 0.9050\n",
      "Epoch 50/250\n",
      "180/180 [==============================] - 0s 2ms/step - loss: 0.1865 - accuracy: 0.9043 - val_loss: 0.1828 - val_accuracy: 0.9040\n",
      "Epoch 51/250\n",
      "180/180 [==============================] - 0s 1ms/step - loss: 0.1869 - accuracy: 0.9014 - val_loss: 0.1822 - val_accuracy: 0.9025\n",
      "Epoch 52/250\n",
      "180/180 [==============================] - 0s 2ms/step - loss: 0.1854 - accuracy: 0.9060 - val_loss: 0.1828 - val_accuracy: 0.9065\n",
      "Epoch 53/250\n",
      "180/180 [==============================] - 0s 1ms/step - loss: 0.1855 - accuracy: 0.9039 - val_loss: 0.1813 - val_accuracy: 0.9069\n",
      "Epoch 54/250\n",
      "180/180 [==============================] - 0s 1ms/step - loss: 0.1859 - accuracy: 0.9047 - val_loss: 0.1807 - val_accuracy: 0.9069\n",
      "Epoch 55/250\n",
      "180/180 [==============================] - 0s 1ms/step - loss: 0.1864 - accuracy: 0.9033 - val_loss: 0.1803 - val_accuracy: 0.9050\n",
      "Epoch 56/250\n",
      "180/180 [==============================] - 0s 1ms/step - loss: 0.1860 - accuracy: 0.9044 - val_loss: 0.1812 - val_accuracy: 0.9020\n",
      "Epoch 57/250\n",
      "180/180 [==============================] - 0s 1ms/step - loss: 0.1843 - accuracy: 0.9041 - val_loss: 0.1811 - val_accuracy: 0.9060\n",
      "Epoch 58/250\n",
      "180/180 [==============================] - 0s 1ms/step - loss: 0.1853 - accuracy: 0.9031 - val_loss: 0.1852 - val_accuracy: 0.9005\n",
      "Epoch 59/250\n",
      "180/180 [==============================] - 0s 1ms/step - loss: 0.1848 - accuracy: 0.9053 - val_loss: 0.1837 - val_accuracy: 0.9005\n",
      "Epoch 60/250\n",
      "180/180 [==============================] - 0s 1ms/step - loss: 0.1843 - accuracy: 0.9041 - val_loss: 0.1832 - val_accuracy: 0.8991\n",
      "Epoch 00060: early stopping\n"
     ]
    },
    {
     "data": {
      "text/plain": [
       "GridSearchCV(cv=3,\n",
       "             estimator=<keras.wrappers.scikit_learn.KerasClassifier object at 0x000001375E5A6A30>,\n",
       "             n_jobs=-1,\n",
       "             param_grid={'batch_size': [32, 64], 'learn_rate': [0.001, 0.003],\n",
       "                         'optimizer': [<class 'keras.optimizer_v2.adam.Adam'>,\n",
       "                                       <class 'keras.optimizer_v2.rmsprop.RMSprop'>,\n",
       "                                       <class 'keras.optimizer_v2.nadam.Nadam'>]},\n",
       "             scoring='accuracy', verbose=1)"
      ]
     },
     "execution_count": 76,
     "metadata": {},
     "output_type": "execute_result"
    }
   ],
   "source": [
    "tf.random.set_seed(seed)\n",
    "\n",
    "classifier_model = KerasClassifier(build_fn = build_classifier, validation_split = 0.15, epochs = 250)\n",
    "\n",
    "parameters = {'batch_size': [32, 64],\n",
    "              'optimizer': [Adam, RMSprop, Nadam],\n",
    "              'learn_rate': [0.001, 0.003]}\n",
    "\n",
    "grid_model = GridSearchCV(estimator = classifier_model,\n",
    "                          param_grid = parameters,\n",
    "                          scoring = 'accuracy',\n",
    "                          cv = 3,\n",
    "                          n_jobs = -1,\n",
    "                          verbose = 1)\n",
    "\n",
    "grid_model.fit(X_train, y_train, callbacks = [early_stop])"
   ]
  },
  {
   "cell_type": "code",
   "execution_count": 77,
   "metadata": {
    "ExecuteTime": {
     "end_time": "2022-03-11T11:59:40.443958Z",
     "start_time": "2022-03-11T11:59:40.436031Z"
    },
    "colab": {
     "base_uri": "https://localhost:8080/"
    },
    "executionInfo": {
     "elapsed": 240,
     "status": "ok",
     "timestamp": 1646830561674,
     "user": {
      "displayName": "Steve Wallace",
      "photoUrl": "https://lh3.googleusercontent.com/a/default-user=s64",
      "userId": "06741533186265949524"
     },
     "user_tz": -180
    },
    "id": "McJimk0bZ5jL",
    "outputId": "1ca98c27-7cc8-4804-9c48-cd3d5f1b9e33"
   },
   "outputs": [
    {
     "data": {
      "text/plain": [
       "0.9038932020132018"
      ]
     },
     "execution_count": 77,
     "metadata": {},
     "output_type": "execute_result"
    }
   ],
   "source": [
    "grid_model.best_score_"
   ]
  },
  {
   "cell_type": "code",
   "execution_count": 78,
   "metadata": {
    "ExecuteTime": {
     "end_time": "2022-03-11T11:59:42.989891Z",
     "start_time": "2022-03-11T11:59:42.974307Z"
    },
    "colab": {
     "base_uri": "https://localhost:8080/"
    },
    "executionInfo": {
     "elapsed": 271,
     "status": "ok",
     "timestamp": 1646830563753,
     "user": {
      "displayName": "Steve Wallace",
      "photoUrl": "https://lh3.googleusercontent.com/a/default-user=s64",
      "userId": "06741533186265949524"
     },
     "user_tz": -180
    },
    "id": "XdoRRGbXZ5jL",
    "outputId": "5753a1a7-0992-4ce6-c00e-93a0b074f23c"
   },
   "outputs": [
    {
     "data": {
      "text/plain": [
       "{'batch_size': 64,\n",
       " 'learn_rate': 0.001,\n",
       " 'optimizer': keras.optimizer_v2.adam.Adam}"
      ]
     },
     "execution_count": 78,
     "metadata": {},
     "output_type": "execute_result"
    }
   ],
   "source": [
    "grid_model.best_params_"
   ]
  },
  {
   "cell_type": "code",
   "execution_count": 77,
   "metadata": {
    "ExecuteTime": {
     "end_time": "2022-03-09T18:30:47.444430Z",
     "start_time": "2022-03-09T18:30:47.430028Z"
    },
    "id": "mT8kKwoaZ5jL"
   },
   "outputs": [],
   "source": [
    "# grid_model.cv_results_"
   ]
  },
  {
   "cell_type": "code",
   "execution_count": 79,
   "metadata": {
    "ExecuteTime": {
     "end_time": "2022-03-11T12:00:02.652596Z",
     "start_time": "2022-03-11T12:00:02.607280Z"
    },
    "colab": {
     "base_uri": "https://localhost:8080/",
     "height": 802
    },
    "executionInfo": {
     "elapsed": 276,
     "status": "ok",
     "timestamp": 1646830573049,
     "user": {
      "displayName": "Steve Wallace",
      "photoUrl": "https://lh3.googleusercontent.com/a/default-user=s64",
      "userId": "06741533186265949524"
     },
     "user_tz": -180
    },
    "id": "fy-f5p4nZ5jM",
    "outputId": "86b38ad9-48f6-435f-fb73-10b41a2cccf7"
   },
   "outputs": [
    {
     "data": {
      "text/html": [
       "<div>\n",
       "<style scoped>\n",
       "    .dataframe tbody tr th:only-of-type {\n",
       "        vertical-align: middle;\n",
       "    }\n",
       "\n",
       "    .dataframe tbody tr th {\n",
       "        vertical-align: top;\n",
       "    }\n",
       "\n",
       "    .dataframe thead th {\n",
       "        text-align: right;\n",
       "    }\n",
       "</style>\n",
       "<table border=\"1\" class=\"dataframe\">\n",
       "  <thead>\n",
       "    <tr style=\"text-align: right;\">\n",
       "      <th></th>\n",
       "      <th>mean_test_score</th>\n",
       "      <th>std_test_score</th>\n",
       "      <th>rank_test_score</th>\n",
       "      <th>params</th>\n",
       "    </tr>\n",
       "  </thead>\n",
       "  <tbody>\n",
       "    <tr>\n",
       "      <th>6</th>\n",
       "      <td>0.904</td>\n",
       "      <td>0.002</td>\n",
       "      <td>1</td>\n",
       "      <td>{'batch_size': 64, 'learn_rate': 0.001, 'optim...</td>\n",
       "    </tr>\n",
       "    <tr>\n",
       "      <th>3</th>\n",
       "      <td>0.904</td>\n",
       "      <td>0.002</td>\n",
       "      <td>2</td>\n",
       "      <td>{'batch_size': 32, 'learn_rate': 0.003, 'optim...</td>\n",
       "    </tr>\n",
       "    <tr>\n",
       "      <th>4</th>\n",
       "      <td>0.903</td>\n",
       "      <td>0.003</td>\n",
       "      <td>3</td>\n",
       "      <td>{'batch_size': 32, 'learn_rate': 0.003, 'optim...</td>\n",
       "    </tr>\n",
       "    <tr>\n",
       "      <th>2</th>\n",
       "      <td>0.903</td>\n",
       "      <td>0.001</td>\n",
       "      <td>4</td>\n",
       "      <td>{'batch_size': 32, 'learn_rate': 0.001, 'optim...</td>\n",
       "    </tr>\n",
       "    <tr>\n",
       "      <th>8</th>\n",
       "      <td>0.903</td>\n",
       "      <td>0.002</td>\n",
       "      <td>5</td>\n",
       "      <td>{'batch_size': 64, 'learn_rate': 0.001, 'optim...</td>\n",
       "    </tr>\n",
       "    <tr>\n",
       "      <th>1</th>\n",
       "      <td>0.903</td>\n",
       "      <td>0.001</td>\n",
       "      <td>6</td>\n",
       "      <td>{'batch_size': 32, 'learn_rate': 0.001, 'optim...</td>\n",
       "    </tr>\n",
       "    <tr>\n",
       "      <th>9</th>\n",
       "      <td>0.903</td>\n",
       "      <td>0.000</td>\n",
       "      <td>7</td>\n",
       "      <td>{'batch_size': 64, 'learn_rate': 0.003, 'optim...</td>\n",
       "    </tr>\n",
       "    <tr>\n",
       "      <th>11</th>\n",
       "      <td>0.903</td>\n",
       "      <td>0.002</td>\n",
       "      <td>8</td>\n",
       "      <td>{'batch_size': 64, 'learn_rate': 0.003, 'optim...</td>\n",
       "    </tr>\n",
       "    <tr>\n",
       "      <th>10</th>\n",
       "      <td>0.902</td>\n",
       "      <td>0.002</td>\n",
       "      <td>9</td>\n",
       "      <td>{'batch_size': 64, 'learn_rate': 0.003, 'optim...</td>\n",
       "    </tr>\n",
       "    <tr>\n",
       "      <th>0</th>\n",
       "      <td>0.901</td>\n",
       "      <td>0.005</td>\n",
       "      <td>10</td>\n",
       "      <td>{'batch_size': 32, 'learn_rate': 0.001, 'optim...</td>\n",
       "    </tr>\n",
       "    <tr>\n",
       "      <th>5</th>\n",
       "      <td>0.901</td>\n",
       "      <td>0.001</td>\n",
       "      <td>11</td>\n",
       "      <td>{'batch_size': 32, 'learn_rate': 0.003, 'optim...</td>\n",
       "    </tr>\n",
       "    <tr>\n",
       "      <th>7</th>\n",
       "      <td>0.901</td>\n",
       "      <td>0.001</td>\n",
       "      <td>12</td>\n",
       "      <td>{'batch_size': 64, 'learn_rate': 0.001, 'optim...</td>\n",
       "    </tr>\n",
       "  </tbody>\n",
       "</table>\n",
       "</div>"
      ],
      "text/plain": [
       "    mean_test_score  std_test_score  rank_test_score  \\\n",
       "6             0.904           0.002                1   \n",
       "3             0.904           0.002                2   \n",
       "4             0.903           0.003                3   \n",
       "2             0.903           0.001                4   \n",
       "8             0.903           0.002                5   \n",
       "1             0.903           0.001                6   \n",
       "9             0.903           0.000                7   \n",
       "11            0.903           0.002                8   \n",
       "10            0.902           0.002                9   \n",
       "0             0.901           0.005               10   \n",
       "5             0.901           0.001               11   \n",
       "7             0.901           0.001               12   \n",
       "\n",
       "                                               params  \n",
       "6   {'batch_size': 64, 'learn_rate': 0.001, 'optim...  \n",
       "3   {'batch_size': 32, 'learn_rate': 0.003, 'optim...  \n",
       "4   {'batch_size': 32, 'learn_rate': 0.003, 'optim...  \n",
       "2   {'batch_size': 32, 'learn_rate': 0.001, 'optim...  \n",
       "8   {'batch_size': 64, 'learn_rate': 0.001, 'optim...  \n",
       "1   {'batch_size': 32, 'learn_rate': 0.001, 'optim...  \n",
       "9   {'batch_size': 64, 'learn_rate': 0.003, 'optim...  \n",
       "11  {'batch_size': 64, 'learn_rate': 0.003, 'optim...  \n",
       "10  {'batch_size': 64, 'learn_rate': 0.003, 'optim...  \n",
       "0   {'batch_size': 32, 'learn_rate': 0.001, 'optim...  \n",
       "5   {'batch_size': 32, 'learn_rate': 0.003, 'optim...  \n",
       "7   {'batch_size': 64, 'learn_rate': 0.001, 'optim...  "
      ]
     },
     "execution_count": 79,
     "metadata": {},
     "output_type": "execute_result"
    }
   ],
   "source": [
    "grid_result = pd.DataFrame(grid_model.cv_results_)[[\"mean_test_score\", \"std_test_score\", \"rank_test_score\", \"params\"]]\n",
    "grid_result.sort_values(by='rank_test_score')"
   ]
  },
  {
   "cell_type": "markdown",
   "metadata": {
    "id": "_92o09aYZ5jM"
   },
   "source": [
    "Your results may vary given the stochastic nature of the algorithm or evaluation procedure, or differences in numerical precision. Consider running the example a few times and compare the average outcome."
   ]
  },
  {
   "cell_type": "markdown",
   "metadata": {
    "id": "ygx5APpyZ5jM"
   },
   "source": [
    "## ROC (Receiver Operating Curve) and AUC (Area Under Curve) for grid_model"
   ]
  },
  {
   "cell_type": "markdown",
   "metadata": {
    "id": "nGkdp7jpZ5jM"
   },
   "source": [
    "### for keras models"
   ]
  },
  {
   "cell_type": "code",
   "execution_count": 81,
   "metadata": {
    "ExecuteTime": {
     "end_time": "2022-03-09T18:45:00.067927Z",
     "start_time": "2022-03-09T18:45:00.051620Z"
    },
    "id": "k8PPlbcfZ5jM"
   },
   "outputs": [],
   "source": [
    "#plot_roc_curve(model, X_test, y_test); # it gives an error because of the Sequential model"
   ]
  },
  {
   "cell_type": "code",
   "execution_count": 92,
   "metadata": {
    "ExecuteTime": {
     "end_time": "2022-03-11T12:22:18.659190Z",
     "start_time": "2022-03-11T12:22:18.412396Z"
    },
    "colab": {
     "base_uri": "https://localhost:8080/",
     "height": 404
    },
    "executionInfo": {
     "elapsed": 806,
     "status": "ok",
     "timestamp": 1646830591594,
     "user": {
      "displayName": "Steve Wallace",
      "photoUrl": "https://lh3.googleusercontent.com/a/default-user=s64",
      "userId": "06741533186265949524"
     },
     "user_tz": -180
    },
    "id": "2jolIn-wZ5jM",
    "outputId": "fdb51511-e825-4cbd-af3b-880e58520113"
   },
   "outputs": [
    {
     "data": {
      "image/png": "[encoded data removed]",
      "text/plain": [
       "<Figure size 720x432 with 1 Axes>"
      ]
     },
     "metadata": {},
     "output_type": "display_data"
    }
   ],
   "source": [
    "y_pred_proba = model.predict(X_test)\n",
    "fpr, tpr, thresholds = roc_curve(y_test, y_pred_proba)\n",
    "plt.plot([0,1],[0,1],'k--')\n",
    "plt.plot(fpr,tpr, label='ANN')\n",
    "plt.xlabel('fpr')\n",
    "plt.ylabel('tpr')\n",
    "plt.title('ROC curve')\n",
    "plt.show()"
   ]
  },
  {
   "cell_type": "code",
   "execution_count": 81,
   "metadata": {
    "ExecuteTime": {
     "end_time": "2022-03-11T12:01:47.040228Z",
     "start_time": "2022-03-11T12:01:47.000917Z"
    },
    "colab": {
     "base_uri": "https://localhost:8080/"
    },
    "executionInfo": {
     "elapsed": 13,
     "status": "ok",
     "timestamp": 1646830591597,
     "user": {
      "displayName": "Steve Wallace",
      "photoUrl": "https://lh3.googleusercontent.com/a/default-user=s64",
      "userId": "06741533186265949524"
     },
     "user_tz": -180
    },
    "id": "YoSPk1z7Z5jN",
    "outputId": "ce153591-4ffd-4398-edf9-d7131dd8abe3"
   },
   "outputs": [
    {
     "data": {
      "text/plain": [
       "0.8874693171894547"
      ]
     },
     "execution_count": 81,
     "metadata": {},
     "output_type": "execute_result"
    }
   ],
   "source": [
    "roc_auc_score(y_test, y_pred_proba)"
   ]
  },
  {
   "cell_type": "markdown",
   "metadata": {
    "id": "pqK7CUfUZ5jN"
   },
   "source": [
    "### for gridsearchcv model"
   ]
  },
  {
   "cell_type": "code",
   "execution_count": 82,
   "metadata": {
    "ExecuteTime": {
     "end_time": "2022-03-11T12:02:47.511753Z",
     "start_time": "2022-03-11T12:02:47.285367Z"
    },
    "colab": {
     "base_uri": "https://localhost:8080/",
     "height": 404
    },
    "executionInfo": {
     "elapsed": 458,
     "status": "ok",
     "timestamp": 1646830592044,
     "user": {
      "displayName": "Steve Wallace",
      "photoUrl": "https://lh3.googleusercontent.com/a/default-user=s64",
      "userId": "06741533186265949524"
     },
     "user_tz": -180
    },
    "id": "H9kHruBIZ5jN",
    "outputId": "df9b2ae2-34f3-4e99-ab69-89a6da8bedbd"
   },
   "outputs": [
    {
     "data": {
      "image/png": "[encoded data removed]",
      "text/plain": [
       "<Figure size 720x432 with 1 Axes>"
      ]
     },
     "metadata": {},
     "output_type": "display_data"
    }
   ],
   "source": [
    "y_pred_proba = grid_model.predict_proba(X_test)[:,1]       \n",
    "fpr, tpr, thresholds = roc_curve(y_test, y_pred_proba)\n",
    "plt.plot([0,1],[0,1],'k--')\n",
    "plt.plot(fpr,tpr, label='ANN')\n",
    "plt.xlabel('fpr')\n",
    "plt.ylabel('tpr')\n",
    "plt.title('ROC curve')\n",
    "plt.show()"
   ]
  },
  {
   "cell_type": "code",
   "execution_count": 83,
   "metadata": {
    "ExecuteTime": {
     "end_time": "2022-03-11T12:02:56.880077Z",
     "start_time": "2022-03-11T12:02:56.871854Z"
    },
    "colab": {
     "base_uri": "https://localhost:8080/"
    },
    "executionInfo": {
     "elapsed": 16,
     "status": "ok",
     "timestamp": 1646830592046,
     "user": {
      "displayName": "Steve Wallace",
      "photoUrl": "https://lh3.googleusercontent.com/a/default-user=s64",
      "userId": "06741533186265949524"
     },
     "user_tz": -180
    },
    "id": "-a-Dj5P0Z5jN",
    "outputId": "dc01e017-8ea2-4657-c420-0f64801da7b1"
   },
   "outputs": [
    {
     "data": {
      "text/plain": [
       "0.9713646770044135"
      ]
     },
     "execution_count": 83,
     "metadata": {},
     "output_type": "execute_result"
    }
   ],
   "source": [
    "roc_auc_score(y_test, y_pred_proba)"
   ]
  },
  {
   "cell_type": "markdown",
   "metadata": {
    "id": "8lAti7NCZ5jN"
   },
   "source": [
    "## Saving Final Model and Scaler"
   ]
  },
  {
   "cell_type": "code",
   "execution_count": 85,
   "metadata": {
    "ExecuteTime": {
     "end_time": "2022-03-11T12:15:34.521976Z",
     "start_time": "2022-03-11T12:15:34.490252Z"
    }
   },
   "outputs": [],
   "source": [
    "X = df2.drop('Exited', axis=1)\n",
    "y = df2['Exited'].values\n",
    "\n",
    "X_train, X_test, y_train, y_test = train_test_split(X, y, stratify = y, test_size = 0.15, random_state = seed)\n",
    "scaler = MinMaxScaler()\n",
    "\n",
    "X_train= scaler.fit_transform(X_train)\n",
    "X_test = scaler.transform(X_test)"
   ]
  },
  {
   "cell_type": "code",
   "execution_count": 84,
   "metadata": {
    "ExecuteTime": {
     "end_time": "2022-03-11T12:06:28.420846Z",
     "start_time": "2022-03-11T12:06:28.409193Z"
    },
    "id": "_MLqbuDhZ5jO"
   },
   "outputs": [],
   "source": [
    "import pickle\n",
    "pickle.dump(scaler, open(\"Churn_Modelling\", 'wb'))"
   ]
  },
  {
   "cell_type": "code",
   "execution_count": 86,
   "metadata": {
    "ExecuteTime": {
     "end_time": "2022-03-11T12:19:11.892064Z",
     "start_time": "2022-03-11T12:19:11.835854Z"
    },
    "id": "CrB-zOaCZ5jO"
   },
   "outputs": [],
   "source": [
    "tf.random.set_seed(seed)\n",
    "\n",
    "model = Sequential()\n",
    "\n",
    "model.add(Dense(18, activation = \"relu\", input_dim = X_train.shape[1]))\n",
    "model.add(Dense(9, activation = \"relu\"))\n",
    "model.add(Dense(1, activation = \"sigmoid\"))\n",
    "opt = Adam(lr = 0.001)\n",
    "model.compile(optimizer = opt, loss = \"binary_crossentropy\", metrics = [\"accuracy\"])"
   ]
  },
  {
   "cell_type": "code",
   "execution_count": 100,
   "metadata": {
    "ExecuteTime": {
     "end_time": "2022-03-11T12:31:29.683623Z",
     "start_time": "2022-03-11T12:31:29.674643Z"
    },
    "id": "j3YPFC24Z5jO"
   },
   "outputs": [],
   "source": [
    "early_stop = EarlyStopping(monitor = \"val_loss\", mode = \"auto\", verbose = 1, patience = 50)"
   ]
  },
  {
   "cell_type": "code",
   "execution_count": 88,
   "metadata": {
    "ExecuteTime": {
     "end_time": "2022-03-11T12:20:57.020705Z",
     "start_time": "2022-03-11T12:19:45.471267Z"
    },
    "colab": {
     "base_uri": "https://localhost:8080/"
    },
    "executionInfo": {
     "elapsed": 6197,
     "status": "ok",
     "timestamp": 1646830642820,
     "user": {
      "displayName": "Steve Wallace",
      "photoUrl": "https://lh3.googleusercontent.com/a/default-user=s64",
      "userId": "06741533186265949524"
     },
     "user_tz": -180
    },
    "id": "Du5oqFxnZ5jO",
    "outputId": "6978fbcd-09ab-4c6e-97b0-9a4effa23ca7",
    "scrolled": true
   },
   "outputs": [
    {
     "name": "stdout",
     "output_type": "stream",
     "text": [
      "Epoch 1/300\n",
      "212/212 [==============================] - 1s 2ms/step - loss: 0.4750 - accuracy: 0.7902 - val_loss: 0.3015 - val_accuracy: 0.8970\n",
      "Epoch 2/300\n",
      "212/212 [==============================] - 0s 1ms/step - loss: 0.2448 - accuracy: 0.8978 - val_loss: 0.2137 - val_accuracy: 0.8924\n",
      "Epoch 3/300\n",
      "212/212 [==============================] - 0s 1ms/step - loss: 0.2067 - accuracy: 0.9001 - val_loss: 0.2007 - val_accuracy: 0.8970\n",
      "Epoch 4/300\n",
      "212/212 [==============================] - 0s 1ms/step - loss: 0.1984 - accuracy: 0.9009 - val_loss: 0.1976 - val_accuracy: 0.9021\n",
      "Epoch 5/300\n",
      "212/212 [==============================] - 0s 1ms/step - loss: 0.1953 - accuracy: 0.9000 - val_loss: 0.1941 - val_accuracy: 0.8958\n",
      "Epoch 6/300\n",
      "212/212 [==============================] - 0s 1ms/step - loss: 0.1938 - accuracy: 0.8996 - val_loss: 0.1940 - val_accuracy: 0.9016\n",
      "Epoch 7/300\n",
      "212/212 [==============================] - 0s 1ms/step - loss: 0.1931 - accuracy: 0.9002 - val_loss: 0.1933 - val_accuracy: 0.9004\n",
      "Epoch 8/300\n",
      "212/212 [==============================] - 0s 1ms/step - loss: 0.1924 - accuracy: 0.9002 - val_loss: 0.1948 - val_accuracy: 0.9000\n",
      "Epoch 9/300\n",
      "212/212 [==============================] - 0s 1ms/step - loss: 0.1924 - accuracy: 0.9011 - val_loss: 0.1914 - val_accuracy: 0.8983\n",
      "Epoch 10/300\n",
      "212/212 [==============================] - 0s 1ms/step - loss: 0.1918 - accuracy: 0.9014 - val_loss: 0.1922 - val_accuracy: 0.8987\n",
      "Epoch 11/300\n",
      "212/212 [==============================] - 0s 990us/step - loss: 0.1912 - accuracy: 0.9020 - val_loss: 0.1909 - val_accuracy: 0.8941\n",
      "Epoch 12/300\n",
      "212/212 [==============================] - 0s 1ms/step - loss: 0.1907 - accuracy: 0.9020 - val_loss: 0.1925 - val_accuracy: 0.8920\n",
      "Epoch 13/300\n",
      "212/212 [==============================] - 0s 1ms/step - loss: 0.1898 - accuracy: 0.9027 - val_loss: 0.1911 - val_accuracy: 0.8954\n",
      "Epoch 14/300\n",
      "212/212 [==============================] - 0s 1ms/step - loss: 0.1898 - accuracy: 0.9017 - val_loss: 0.1914 - val_accuracy: 0.9021\n",
      "Epoch 15/300\n",
      "212/212 [==============================] - 0s 1ms/step - loss: 0.1899 - accuracy: 0.9019 - val_loss: 0.1913 - val_accuracy: 0.8979\n",
      "Epoch 16/300\n",
      "212/212 [==============================] - 0s 1ms/step - loss: 0.1894 - accuracy: 0.9034 - val_loss: 0.1940 - val_accuracy: 0.8907\n",
      "Epoch 17/300\n",
      "212/212 [==============================] - 0s 1ms/step - loss: 0.1891 - accuracy: 0.9028 - val_loss: 0.1900 - val_accuracy: 0.8949\n",
      "Epoch 18/300\n",
      "212/212 [==============================] - 0s 1ms/step - loss: 0.1898 - accuracy: 0.9023 - val_loss: 0.1895 - val_accuracy: 0.8945\n",
      "Epoch 19/300\n",
      "212/212 [==============================] - 0s 1ms/step - loss: 0.1881 - accuracy: 0.9018 - val_loss: 0.1907 - val_accuracy: 0.8966\n",
      "Epoch 20/300\n",
      "212/212 [==============================] - 0s 1ms/step - loss: 0.1884 - accuracy: 0.9026 - val_loss: 0.1902 - val_accuracy: 0.8962\n",
      "Epoch 21/300\n",
      "212/212 [==============================] - 0s 1ms/step - loss: 0.1881 - accuracy: 0.9020 - val_loss: 0.1901 - val_accuracy: 0.8933\n",
      "Epoch 22/300\n",
      "212/212 [==============================] - 0s 1ms/step - loss: 0.1893 - accuracy: 0.9020 - val_loss: 0.1902 - val_accuracy: 0.8974\n",
      "Epoch 23/300\n",
      "212/212 [==============================] - 0s 1ms/step - loss: 0.1881 - accuracy: 0.9022 - val_loss: 0.1927 - val_accuracy: 0.8916\n",
      "Epoch 24/300\n",
      "212/212 [==============================] - 0s 1ms/step - loss: 0.1879 - accuracy: 0.9025 - val_loss: 0.1899 - val_accuracy: 0.8987\n",
      "Epoch 25/300\n",
      "212/212 [==============================] - 0s 1ms/step - loss: 0.1876 - accuracy: 0.9028 - val_loss: 0.1900 - val_accuracy: 0.8987\n",
      "Epoch 26/300\n",
      "212/212 [==============================] - 0s 1ms/step - loss: 0.1872 - accuracy: 0.9021 - val_loss: 0.1908 - val_accuracy: 0.8958\n",
      "Epoch 27/300\n",
      "212/212 [==============================] - 0s 1ms/step - loss: 0.1868 - accuracy: 0.9046 - val_loss: 0.1896 - val_accuracy: 0.8958\n",
      "Epoch 28/300\n",
      "212/212 [==============================] - 0s 1ms/step - loss: 0.1868 - accuracy: 0.9044 - val_loss: 0.1897 - val_accuracy: 0.8974\n",
      "Epoch 29/300\n",
      "212/212 [==============================] - 0s 1ms/step - loss: 0.1865 - accuracy: 0.9040 - val_loss: 0.1897 - val_accuracy: 0.8954\n",
      "Epoch 30/300\n",
      "212/212 [==============================] - 0s 1ms/step - loss: 0.1862 - accuracy: 0.9042 - val_loss: 0.1911 - val_accuracy: 0.8966\n",
      "Epoch 31/300\n",
      "212/212 [==============================] - 0s 1ms/step - loss: 0.1864 - accuracy: 0.9037 - val_loss: 0.1898 - val_accuracy: 0.8945\n",
      "Epoch 32/300\n",
      "212/212 [==============================] - 0s 1ms/step - loss: 0.1861 - accuracy: 0.9037 - val_loss: 0.1906 - val_accuracy: 0.8945\n",
      "Epoch 33/300\n",
      "212/212 [==============================] - 0s 1ms/step - loss: 0.1857 - accuracy: 0.9039 - val_loss: 0.1889 - val_accuracy: 0.8958\n",
      "Epoch 34/300\n",
      "212/212 [==============================] - 0s 1ms/step - loss: 0.1860 - accuracy: 0.9037 - val_loss: 0.1880 - val_accuracy: 0.8954\n",
      "Epoch 35/300\n",
      "212/212 [==============================] - 0s 1ms/step - loss: 0.1849 - accuracy: 0.9057 - val_loss: 0.1878 - val_accuracy: 0.8933\n",
      "Epoch 36/300\n",
      "212/212 [==============================] - 0s 1ms/step - loss: 0.1857 - accuracy: 0.9034 - val_loss: 0.1878 - val_accuracy: 0.8970\n",
      "Epoch 37/300\n",
      "212/212 [==============================] - 0s 1ms/step - loss: 0.1857 - accuracy: 0.9045 - val_loss: 0.1879 - val_accuracy: 0.8945\n",
      "Epoch 38/300\n",
      "212/212 [==============================] - 0s 1ms/step - loss: 0.1854 - accuracy: 0.9043 - val_loss: 0.1885 - val_accuracy: 0.8974\n",
      "Epoch 39/300\n",
      "212/212 [==============================] - 0s 1ms/step - loss: 0.1851 - accuracy: 0.9035 - val_loss: 0.1880 - val_accuracy: 0.8941\n",
      "Epoch 40/300\n",
      "212/212 [==============================] - 0s 1ms/step - loss: 0.1841 - accuracy: 0.9039 - val_loss: 0.1878 - val_accuracy: 0.8949\n",
      "Epoch 41/300\n",
      "212/212 [==============================] - 0s 1ms/step - loss: 0.1842 - accuracy: 0.9049 - val_loss: 0.1896 - val_accuracy: 0.8974\n",
      "Epoch 42/300\n",
      "212/212 [==============================] - 0s 1ms/step - loss: 0.1848 - accuracy: 0.9035 - val_loss: 0.1944 - val_accuracy: 0.8928\n",
      "Epoch 43/300\n",
      "212/212 [==============================] - 0s 1ms/step - loss: 0.1847 - accuracy: 0.9043 - val_loss: 0.1888 - val_accuracy: 0.8928\n",
      "Epoch 44/300\n",
      "212/212 [==============================] - 0s 1ms/step - loss: 0.1848 - accuracy: 0.9038 - val_loss: 0.1881 - val_accuracy: 0.8958\n",
      "Epoch 45/300\n",
      "212/212 [==============================] - 0s 1ms/step - loss: 0.1840 - accuracy: 0.9032 - val_loss: 0.1872 - val_accuracy: 0.8949\n",
      "Epoch 46/300\n",
      "212/212 [==============================] - 0s 1ms/step - loss: 0.1838 - accuracy: 0.9051 - val_loss: 0.1886 - val_accuracy: 0.8937\n",
      "Epoch 47/300\n",
      "212/212 [==============================] - 0s 1ms/step - loss: 0.1831 - accuracy: 0.9063 - val_loss: 0.1879 - val_accuracy: 0.8979\n",
      "Epoch 48/300\n",
      "212/212 [==============================] - 0s 1ms/step - loss: 0.1839 - accuracy: 0.9028 - val_loss: 0.1900 - val_accuracy: 0.8933\n",
      "Epoch 49/300\n",
      "212/212 [==============================] - 0s 1ms/step - loss: 0.1837 - accuracy: 0.9042 - val_loss: 0.1872 - val_accuracy: 0.8949\n",
      "Epoch 50/300\n",
      "212/212 [==============================] - 0s 1ms/step - loss: 0.1838 - accuracy: 0.9041 - val_loss: 0.1896 - val_accuracy: 0.8995\n",
      "Epoch 51/300\n",
      "212/212 [==============================] - 0s 1ms/step - loss: 0.1833 - accuracy: 0.9049 - val_loss: 0.1883 - val_accuracy: 0.8954\n",
      "Epoch 52/300\n",
      "212/212 [==============================] - 0s 1ms/step - loss: 0.1847 - accuracy: 0.9026 - val_loss: 0.1869 - val_accuracy: 0.8970\n",
      "Epoch 53/300\n",
      "212/212 [==============================] - 0s 1ms/step - loss: 0.1842 - accuracy: 0.9040 - val_loss: 0.1879 - val_accuracy: 0.8970\n",
      "Epoch 54/300\n",
      "212/212 [==============================] - 0s 1ms/step - loss: 0.1824 - accuracy: 0.9051 - val_loss: 0.1874 - val_accuracy: 0.8974\n",
      "Epoch 55/300\n",
      "212/212 [==============================] - 0s 1ms/step - loss: 0.1842 - accuracy: 0.9034 - val_loss: 0.1902 - val_accuracy: 0.8941\n",
      "Epoch 56/300\n",
      "212/212 [==============================] - 0s 1ms/step - loss: 0.1828 - accuracy: 0.9041 - val_loss: 0.1873 - val_accuracy: 0.8970\n",
      "Epoch 57/300\n",
      "212/212 [==============================] - 0s 1ms/step - loss: 0.1828 - accuracy: 0.9069 - val_loss: 0.1882 - val_accuracy: 0.8966\n",
      "Epoch 58/300\n",
      "212/212 [==============================] - 0s 1ms/step - loss: 0.1830 - accuracy: 0.9065 - val_loss: 0.1876 - val_accuracy: 0.8979\n",
      "Epoch 59/300\n",
      "212/212 [==============================] - 0s 1ms/step - loss: 0.1828 - accuracy: 0.9054 - val_loss: 0.1895 - val_accuracy: 0.8962\n",
      "Epoch 60/300\n",
      "212/212 [==============================] - 0s 1ms/step - loss: 0.1828 - accuracy: 0.9058 - val_loss: 0.1876 - val_accuracy: 0.8958\n",
      "Epoch 61/300\n",
      "212/212 [==============================] - 0s 1ms/step - loss: 0.1827 - accuracy: 0.9071 - val_loss: 0.1869 - val_accuracy: 0.8958\n",
      "Epoch 62/300\n",
      "212/212 [==============================] - 0s 1ms/step - loss: 0.1841 - accuracy: 0.9037 - val_loss: 0.1896 - val_accuracy: 0.8920\n",
      "Epoch 63/300\n",
      "212/212 [==============================] - 0s 1ms/step - loss: 0.1827 - accuracy: 0.9044 - val_loss: 0.1877 - val_accuracy: 0.8974\n",
      "Epoch 64/300\n",
      "212/212 [==============================] - 0s 968us/step - loss: 0.1819 - accuracy: 0.9054 - val_loss: 0.1920 - val_accuracy: 0.8995\n",
      "Epoch 65/300\n",
      "212/212 [==============================] - 0s 1ms/step - loss: 0.1825 - accuracy: 0.9057 - val_loss: 0.1886 - val_accuracy: 0.8949\n",
      "Epoch 66/300\n",
      "212/212 [==============================] - 0s 1ms/step - loss: 0.1833 - accuracy: 0.9049 - val_loss: 0.1887 - val_accuracy: 0.8949\n",
      "Epoch 67/300\n",
      "212/212 [==============================] - 0s 1ms/step - loss: 0.1823 - accuracy: 0.9031 - val_loss: 0.1868 - val_accuracy: 0.8966\n",
      "Epoch 68/300\n",
      "212/212 [==============================] - 0s 1ms/step - loss: 0.1821 - accuracy: 0.9051 - val_loss: 0.1870 - val_accuracy: 0.8966\n",
      "Epoch 69/300\n",
      "212/212 [==============================] - 0s 1ms/step - loss: 0.1832 - accuracy: 0.9031 - val_loss: 0.1951 - val_accuracy: 0.8962\n",
      "Epoch 70/300\n",
      "212/212 [==============================] - 0s 1ms/step - loss: 0.1818 - accuracy: 0.9057 - val_loss: 0.1869 - val_accuracy: 0.8966\n",
      "Epoch 71/300\n",
      "212/212 [==============================] - 0s 1ms/step - loss: 0.1816 - accuracy: 0.9047 - val_loss: 0.1869 - val_accuracy: 0.8962\n",
      "Epoch 72/300\n",
      "212/212 [==============================] - 0s 1ms/step - loss: 0.1816 - accuracy: 0.9058 - val_loss: 0.1868 - val_accuracy: 0.8966\n",
      "Epoch 73/300\n",
      "212/212 [==============================] - 0s 1ms/step - loss: 0.1822 - accuracy: 0.9059 - val_loss: 0.1866 - val_accuracy: 0.8958\n",
      "Epoch 74/300\n",
      "212/212 [==============================] - 0s 1ms/step - loss: 0.1810 - accuracy: 0.9052 - val_loss: 0.1865 - val_accuracy: 0.8995\n",
      "Epoch 75/300\n",
      "212/212 [==============================] - 0s 989us/step - loss: 0.1814 - accuracy: 0.9060 - val_loss: 0.1868 - val_accuracy: 0.9008\n",
      "Epoch 76/300\n",
      "212/212 [==============================] - 0s 1ms/step - loss: 0.1815 - accuracy: 0.9059 - val_loss: 0.1890 - val_accuracy: 0.9000\n",
      "Epoch 77/300\n",
      "212/212 [==============================] - 0s 1ms/step - loss: 0.1819 - accuracy: 0.9062 - val_loss: 0.1875 - val_accuracy: 0.8991\n",
      "Epoch 78/300\n",
      "212/212 [==============================] - 0s 1ms/step - loss: 0.1815 - accuracy: 0.9051 - val_loss: 0.1870 - val_accuracy: 0.8979\n",
      "Epoch 79/300\n",
      "212/212 [==============================] - 0s 1ms/step - loss: 0.1810 - accuracy: 0.9051 - val_loss: 0.1890 - val_accuracy: 0.8962\n",
      "Epoch 80/300\n",
      "212/212 [==============================] - 0s 1ms/step - loss: 0.1807 - accuracy: 0.9067 - val_loss: 0.1911 - val_accuracy: 0.8966\n",
      "Epoch 81/300\n",
      "212/212 [==============================] - 0s 1ms/step - loss: 0.1813 - accuracy: 0.9063 - val_loss: 0.1872 - val_accuracy: 0.8974\n",
      "Epoch 82/300\n",
      "212/212 [==============================] - 0s 996us/step - loss: 0.1805 - accuracy: 0.9060 - val_loss: 0.1859 - val_accuracy: 0.8974\n",
      "Epoch 83/300\n",
      "212/212 [==============================] - 0s 1ms/step - loss: 0.1818 - accuracy: 0.9052 - val_loss: 0.1871 - val_accuracy: 0.8974\n",
      "Epoch 84/300\n",
      "212/212 [==============================] - 0s 1ms/step - loss: 0.1815 - accuracy: 0.9060 - val_loss: 0.1881 - val_accuracy: 0.8974\n",
      "Epoch 85/300\n",
      "212/212 [==============================] - 0s 1ms/step - loss: 0.1811 - accuracy: 0.9061 - val_loss: 0.1917 - val_accuracy: 0.8958\n",
      "Epoch 86/300\n",
      "212/212 [==============================] - 0s 1ms/step - loss: 0.1816 - accuracy: 0.9051 - val_loss: 0.1868 - val_accuracy: 0.8987\n",
      "Epoch 87/300\n",
      "212/212 [==============================] - 0s 1ms/step - loss: 0.1803 - accuracy: 0.9064 - val_loss: 0.1883 - val_accuracy: 0.8954\n",
      "Epoch 88/300\n",
      "212/212 [==============================] - 0s 1ms/step - loss: 0.1802 - accuracy: 0.9070 - val_loss: 0.1861 - val_accuracy: 0.8979\n",
      "Epoch 89/300\n",
      "212/212 [==============================] - 0s 1ms/step - loss: 0.1800 - accuracy: 0.9043 - val_loss: 0.1869 - val_accuracy: 0.8995\n",
      "Epoch 90/300\n",
      "212/212 [==============================] - 0s 1ms/step - loss: 0.1804 - accuracy: 0.9057 - val_loss: 0.1875 - val_accuracy: 0.8983\n",
      "Epoch 91/300\n",
      "212/212 [==============================] - 0s 1ms/step - loss: 0.1805 - accuracy: 0.9057 - val_loss: 0.1879 - val_accuracy: 0.8970\n",
      "Epoch 92/300\n",
      "212/212 [==============================] - 0s 976us/step - loss: 0.1801 - accuracy: 0.9046 - val_loss: 0.1866 - val_accuracy: 0.9000\n",
      "Epoch 93/300\n",
      "212/212 [==============================] - 0s 1ms/step - loss: 0.1808 - accuracy: 0.9052 - val_loss: 0.1878 - val_accuracy: 0.9004\n",
      "Epoch 94/300\n",
      "212/212 [==============================] - 0s 1ms/step - loss: 0.1798 - accuracy: 0.9068 - val_loss: 0.1865 - val_accuracy: 0.8995\n",
      "Epoch 95/300\n",
      "212/212 [==============================] - 0s 1ms/step - loss: 0.1805 - accuracy: 0.9057 - val_loss: 0.1867 - val_accuracy: 0.8979\n",
      "Epoch 96/300\n",
      "212/212 [==============================] - 0s 1ms/step - loss: 0.1804 - accuracy: 0.9066 - val_loss: 0.1858 - val_accuracy: 0.9004\n",
      "Epoch 97/300\n",
      "212/212 [==============================] - 0s 1ms/step - loss: 0.1811 - accuracy: 0.9051 - val_loss: 0.1891 - val_accuracy: 0.8966\n",
      "Epoch 98/300\n",
      "212/212 [==============================] - 0s 1ms/step - loss: 0.1800 - accuracy: 0.9043 - val_loss: 0.1864 - val_accuracy: 0.9008\n",
      "Epoch 99/300\n",
      "212/212 [==============================] - 0s 1ms/step - loss: 0.1805 - accuracy: 0.9063 - val_loss: 0.1880 - val_accuracy: 0.8949\n",
      "Epoch 100/300\n",
      "212/212 [==============================] - 0s 1ms/step - loss: 0.1808 - accuracy: 0.9054 - val_loss: 0.1857 - val_accuracy: 0.8979\n",
      "Epoch 101/300\n",
      "212/212 [==============================] - 0s 1ms/step - loss: 0.1800 - accuracy: 0.9071 - val_loss: 0.1874 - val_accuracy: 0.8979\n",
      "Epoch 102/300\n",
      "212/212 [==============================] - 0s 1ms/step - loss: 0.1797 - accuracy: 0.9074 - val_loss: 0.1867 - val_accuracy: 0.8974\n",
      "Epoch 103/300\n",
      "212/212 [==============================] - 0s 1ms/step - loss: 0.1805 - accuracy: 0.9063 - val_loss: 0.1922 - val_accuracy: 0.8974\n",
      "Epoch 104/300\n",
      "212/212 [==============================] - 0s 1ms/step - loss: 0.1796 - accuracy: 0.9066 - val_loss: 0.1884 - val_accuracy: 0.8979\n",
      "Epoch 105/300\n",
      "212/212 [==============================] - 0s 1ms/step - loss: 0.1805 - accuracy: 0.9054 - val_loss: 0.1866 - val_accuracy: 0.8991\n",
      "Epoch 106/300\n",
      "212/212 [==============================] - 0s 1ms/step - loss: 0.1800 - accuracy: 0.9060 - val_loss: 0.1891 - val_accuracy: 0.8987\n",
      "Epoch 107/300\n",
      "212/212 [==============================] - 0s 1ms/step - loss: 0.1804 - accuracy: 0.9066 - val_loss: 0.1871 - val_accuracy: 0.9008\n",
      "Epoch 108/300\n",
      "212/212 [==============================] - 0s 1ms/step - loss: 0.1798 - accuracy: 0.9067 - val_loss: 0.1862 - val_accuracy: 0.8970\n",
      "Epoch 109/300\n",
      "212/212 [==============================] - 0s 1ms/step - loss: 0.1796 - accuracy: 0.9053 - val_loss: 0.1874 - val_accuracy: 0.8966\n",
      "Epoch 110/300\n",
      "212/212 [==============================] - 0s 1ms/step - loss: 0.1805 - accuracy: 0.9057 - val_loss: 0.1859 - val_accuracy: 0.9000\n",
      "Epoch 111/300\n",
      "212/212 [==============================] - 0s 1ms/step - loss: 0.1798 - accuracy: 0.9060 - val_loss: 0.1874 - val_accuracy: 0.8991\n",
      "Epoch 112/300\n",
      "212/212 [==============================] - 0s 1ms/step - loss: 0.1794 - accuracy: 0.9064 - val_loss: 0.1895 - val_accuracy: 0.8966\n",
      "Epoch 113/300\n",
      "212/212 [==============================] - 0s 1ms/step - loss: 0.1793 - accuracy: 0.9060 - val_loss: 0.1861 - val_accuracy: 0.9000\n",
      "Epoch 114/300\n",
      "212/212 [==============================] - 0s 1ms/step - loss: 0.1790 - accuracy: 0.9078 - val_loss: 0.1868 - val_accuracy: 0.9000\n",
      "Epoch 115/300\n",
      "212/212 [==============================] - 0s 1ms/step - loss: 0.1796 - accuracy: 0.9060 - val_loss: 0.1863 - val_accuracy: 0.8970\n",
      "Epoch 116/300\n",
      "212/212 [==============================] - 0s 1ms/step - loss: 0.1800 - accuracy: 0.9063 - val_loss: 0.1869 - val_accuracy: 0.8970\n",
      "Epoch 117/300\n",
      "212/212 [==============================] - 0s 1ms/step - loss: 0.1796 - accuracy: 0.9064 - val_loss: 0.1900 - val_accuracy: 0.8979\n",
      "Epoch 118/300\n",
      "212/212 [==============================] - 0s 1ms/step - loss: 0.1808 - accuracy: 0.9043 - val_loss: 0.1887 - val_accuracy: 0.8979\n",
      "Epoch 119/300\n",
      "212/212 [==============================] - 0s 1ms/step - loss: 0.1800 - accuracy: 0.9054 - val_loss: 0.1892 - val_accuracy: 0.8974\n",
      "Epoch 120/300\n",
      "212/212 [==============================] - 0s 1ms/step - loss: 0.1788 - accuracy: 0.9071 - val_loss: 0.1866 - val_accuracy: 0.8991\n",
      "Epoch 121/300\n",
      "212/212 [==============================] - 0s 1ms/step - loss: 0.1799 - accuracy: 0.9049 - val_loss: 0.1859 - val_accuracy: 0.9008\n",
      "Epoch 122/300\n",
      "212/212 [==============================] - 0s 1ms/step - loss: 0.1795 - accuracy: 0.9066 - val_loss: 0.1861 - val_accuracy: 0.8983\n",
      "Epoch 123/300\n",
      "212/212 [==============================] - 0s 1ms/step - loss: 0.1794 - accuracy: 0.9068 - val_loss: 0.1864 - val_accuracy: 0.9000\n",
      "Epoch 124/300\n",
      "212/212 [==============================] - 0s 985us/step - loss: 0.1794 - accuracy: 0.9067 - val_loss: 0.1902 - val_accuracy: 0.8974\n",
      "Epoch 125/300\n",
      "212/212 [==============================] - 0s 1ms/step - loss: 0.1803 - accuracy: 0.9071 - val_loss: 0.1860 - val_accuracy: 0.8966\n",
      "Epoch 126/300\n",
      "212/212 [==============================] - 0s 1ms/step - loss: 0.1793 - accuracy: 0.9061 - val_loss: 0.1855 - val_accuracy: 0.8966\n",
      "Epoch 127/300\n",
      "212/212 [==============================] - 0s 1ms/step - loss: 0.1802 - accuracy: 0.9068 - val_loss: 0.1863 - val_accuracy: 0.8979\n",
      "Epoch 128/300\n",
      "212/212 [==============================] - 0s 1ms/step - loss: 0.1789 - accuracy: 0.9069 - val_loss: 0.1854 - val_accuracy: 0.8987\n",
      "Epoch 129/300\n",
      "212/212 [==============================] - 0s 1ms/step - loss: 0.1788 - accuracy: 0.9082 - val_loss: 0.1858 - val_accuracy: 0.8995\n",
      "Epoch 130/300\n",
      "212/212 [==============================] - 0s 1ms/step - loss: 0.1793 - accuracy: 0.9058 - val_loss: 0.1859 - val_accuracy: 0.8987\n",
      "Epoch 131/300\n",
      "212/212 [==============================] - 0s 1ms/step - loss: 0.1795 - accuracy: 0.9059 - val_loss: 0.1923 - val_accuracy: 0.8966\n",
      "Epoch 132/300\n",
      "212/212 [==============================] - 0s 987us/step - loss: 0.1803 - accuracy: 0.9041 - val_loss: 0.1876 - val_accuracy: 0.8991\n",
      "Epoch 133/300\n",
      "212/212 [==============================] - 0s 1ms/step - loss: 0.1789 - accuracy: 0.9072 - val_loss: 0.1863 - val_accuracy: 0.9012\n",
      "Epoch 134/300\n",
      "212/212 [==============================] - 0s 1ms/step - loss: 0.1793 - accuracy: 0.9046 - val_loss: 0.1870 - val_accuracy: 0.9000\n",
      "Epoch 135/300\n",
      "212/212 [==============================] - 0s 1ms/step - loss: 0.1800 - accuracy: 0.9054 - val_loss: 0.1871 - val_accuracy: 0.8949\n",
      "Epoch 136/300\n",
      "212/212 [==============================] - 0s 996us/step - loss: 0.1789 - accuracy: 0.9074 - val_loss: 0.1857 - val_accuracy: 0.9012\n",
      "Epoch 137/300\n",
      "212/212 [==============================] - 0s 1ms/step - loss: 0.1798 - accuracy: 0.9062 - val_loss: 0.1867 - val_accuracy: 0.9016\n",
      "Epoch 138/300\n",
      "212/212 [==============================] - 0s 1ms/step - loss: 0.1792 - accuracy: 0.9061 - val_loss: 0.1849 - val_accuracy: 0.9016\n",
      "Epoch 139/300\n",
      "212/212 [==============================] - 0s 1ms/step - loss: 0.1795 - accuracy: 0.9063 - val_loss: 0.1884 - val_accuracy: 0.8970\n",
      "Epoch 140/300\n",
      "212/212 [==============================] - 0s 1ms/step - loss: 0.1795 - accuracy: 0.9067 - val_loss: 0.1861 - val_accuracy: 0.9008\n",
      "Epoch 141/300\n",
      "212/212 [==============================] - 0s 1ms/step - loss: 0.1791 - accuracy: 0.9069 - val_loss: 0.1856 - val_accuracy: 0.9008\n",
      "Epoch 142/300\n",
      "212/212 [==============================] - 0s 1ms/step - loss: 0.1794 - accuracy: 0.9076 - val_loss: 0.1869 - val_accuracy: 0.8974\n",
      "Epoch 143/300\n",
      "212/212 [==============================] - 0s 1ms/step - loss: 0.1796 - accuracy: 0.9072 - val_loss: 0.1865 - val_accuracy: 0.8974\n",
      "Epoch 144/300\n",
      "212/212 [==============================] - 0s 1ms/step - loss: 0.1790 - accuracy: 0.9082 - val_loss: 0.1859 - val_accuracy: 0.9016\n",
      "Epoch 145/300\n",
      "212/212 [==============================] - 0s 1ms/step - loss: 0.1792 - accuracy: 0.9065 - val_loss: 0.1855 - val_accuracy: 0.9025\n",
      "Epoch 146/300\n",
      "212/212 [==============================] - 0s 1ms/step - loss: 0.1797 - accuracy: 0.9057 - val_loss: 0.1869 - val_accuracy: 0.8962\n",
      "Epoch 147/300\n",
      "212/212 [==============================] - 0s 1ms/step - loss: 0.1807 - accuracy: 0.9051 - val_loss: 0.1858 - val_accuracy: 0.9012\n",
      "Epoch 148/300\n",
      "212/212 [==============================] - 0s 1ms/step - loss: 0.1795 - accuracy: 0.9054 - val_loss: 0.1872 - val_accuracy: 0.8974\n",
      "Epoch 149/300\n",
      "212/212 [==============================] - 0s 1ms/step - loss: 0.1793 - accuracy: 0.9060 - val_loss: 0.1852 - val_accuracy: 0.9033\n",
      "Epoch 150/300\n",
      "212/212 [==============================] - 0s 1ms/step - loss: 0.1792 - accuracy: 0.9057 - val_loss: 0.1876 - val_accuracy: 0.8974\n",
      "Epoch 151/300\n",
      "212/212 [==============================] - 0s 1ms/step - loss: 0.1795 - accuracy: 0.9056 - val_loss: 0.1865 - val_accuracy: 0.9008\n",
      "Epoch 152/300\n",
      "212/212 [==============================] - 0s 1ms/step - loss: 0.1788 - accuracy: 0.9068 - val_loss: 0.1866 - val_accuracy: 0.8945\n",
      "Epoch 153/300\n",
      "212/212 [==============================] - 0s 1ms/step - loss: 0.1787 - accuracy: 0.9067 - val_loss: 0.1854 - val_accuracy: 0.9004\n",
      "Epoch 154/300\n",
      "212/212 [==============================] - 0s 1ms/step - loss: 0.1797 - accuracy: 0.9066 - val_loss: 0.1875 - val_accuracy: 0.8974\n",
      "Epoch 155/300\n",
      "212/212 [==============================] - 0s 1ms/step - loss: 0.1786 - accuracy: 0.9088 - val_loss: 0.1857 - val_accuracy: 0.8979\n",
      "Epoch 156/300\n",
      "212/212 [==============================] - 0s 1ms/step - loss: 0.1792 - accuracy: 0.9062 - val_loss: 0.1853 - val_accuracy: 0.9029\n",
      "Epoch 157/300\n",
      "212/212 [==============================] - 0s 1ms/step - loss: 0.1792 - accuracy: 0.9065 - val_loss: 0.1845 - val_accuracy: 0.9008\n",
      "Epoch 158/300\n",
      "212/212 [==============================] - 0s 1ms/step - loss: 0.1791 - accuracy: 0.9092 - val_loss: 0.1877 - val_accuracy: 0.8987\n",
      "Epoch 159/300\n",
      "212/212 [==============================] - 0s 1ms/step - loss: 0.1796 - accuracy: 0.9060 - val_loss: 0.1855 - val_accuracy: 0.9008\n",
      "Epoch 160/300\n",
      "212/212 [==============================] - 0s 1ms/step - loss: 0.1794 - accuracy: 0.9079 - val_loss: 0.1855 - val_accuracy: 0.9021\n",
      "Epoch 161/300\n",
      "212/212 [==============================] - 0s 1ms/step - loss: 0.1787 - accuracy: 0.9068 - val_loss: 0.1856 - val_accuracy: 0.9004\n",
      "Epoch 162/300\n",
      "212/212 [==============================] - 0s 1ms/step - loss: 0.1785 - accuracy: 0.9067 - val_loss: 0.1849 - val_accuracy: 0.9016\n",
      "Epoch 163/300\n",
      "212/212 [==============================] - 0s 1ms/step - loss: 0.1794 - accuracy: 0.9071 - val_loss: 0.1876 - val_accuracy: 0.9004\n",
      "Epoch 164/300\n",
      "212/212 [==============================] - 0s 1ms/step - loss: 0.1789 - accuracy: 0.9066 - val_loss: 0.1869 - val_accuracy: 0.8995\n",
      "Epoch 165/300\n",
      "212/212 [==============================] - 0s 1ms/step - loss: 0.1784 - accuracy: 0.9084 - val_loss: 0.1861 - val_accuracy: 0.9004\n",
      "Epoch 166/300\n",
      "212/212 [==============================] - 0s 1ms/step - loss: 0.1783 - accuracy: 0.9067 - val_loss: 0.1914 - val_accuracy: 0.8970\n",
      "Epoch 167/300\n",
      "212/212 [==============================] - 0s 1ms/step - loss: 0.1792 - accuracy: 0.9066 - val_loss: 0.1862 - val_accuracy: 0.9029\n",
      "Epoch 168/300\n",
      "212/212 [==============================] - 0s 1ms/step - loss: 0.1790 - accuracy: 0.9061 - val_loss: 0.1884 - val_accuracy: 0.8983\n",
      "Epoch 169/300\n",
      "212/212 [==============================] - 0s 1ms/step - loss: 0.1789 - accuracy: 0.9091 - val_loss: 0.1879 - val_accuracy: 0.8966\n",
      "Epoch 170/300\n",
      "212/212 [==============================] - 0s 1ms/step - loss: 0.1792 - accuracy: 0.9071 - val_loss: 0.1859 - val_accuracy: 0.9008\n",
      "Epoch 171/300\n",
      "212/212 [==============================] - 0s 1ms/step - loss: 0.1787 - accuracy: 0.9058 - val_loss: 0.1842 - val_accuracy: 0.9016\n",
      "Epoch 172/300\n",
      "212/212 [==============================] - 0s 1ms/step - loss: 0.1790 - accuracy: 0.9067 - val_loss: 0.1849 - val_accuracy: 0.9041\n",
      "Epoch 173/300\n",
      "212/212 [==============================] - 0s 1ms/step - loss: 0.1787 - accuracy: 0.9074 - val_loss: 0.1860 - val_accuracy: 0.8966\n",
      "Epoch 174/300\n",
      "212/212 [==============================] - 0s 1ms/step - loss: 0.1789 - accuracy: 0.9083 - val_loss: 0.1875 - val_accuracy: 0.8991\n",
      "Epoch 175/300\n",
      "212/212 [==============================] - 0s 1ms/step - loss: 0.1794 - accuracy: 0.9077 - val_loss: 0.1848 - val_accuracy: 0.9012\n",
      "Epoch 176/300\n",
      "212/212 [==============================] - 0s 1ms/step - loss: 0.1791 - accuracy: 0.9077 - val_loss: 0.1846 - val_accuracy: 0.9012\n",
      "Epoch 177/300\n",
      "212/212 [==============================] - 0s 1ms/step - loss: 0.1794 - accuracy: 0.9071 - val_loss: 0.1852 - val_accuracy: 0.9004\n",
      "Epoch 178/300\n",
      "212/212 [==============================] - 0s 1ms/step - loss: 0.1791 - accuracy: 0.9067 - val_loss: 0.1855 - val_accuracy: 0.9021\n",
      "Epoch 179/300\n",
      "212/212 [==============================] - 0s 1ms/step - loss: 0.1785 - accuracy: 0.9073 - val_loss: 0.1901 - val_accuracy: 0.8966\n",
      "Epoch 180/300\n",
      "212/212 [==============================] - 0s 1ms/step - loss: 0.1784 - accuracy: 0.9070 - val_loss: 0.1856 - val_accuracy: 0.9025\n",
      "Epoch 181/300\n",
      "212/212 [==============================] - 0s 1ms/step - loss: 0.1787 - accuracy: 0.9078 - val_loss: 0.1865 - val_accuracy: 0.9016\n",
      "Epoch 182/300\n",
      "212/212 [==============================] - 0s 1ms/step - loss: 0.1784 - accuracy: 0.9074 - val_loss: 0.1870 - val_accuracy: 0.9012\n",
      "Epoch 183/300\n",
      "212/212 [==============================] - 0s 1ms/step - loss: 0.1795 - accuracy: 0.9075 - val_loss: 0.1886 - val_accuracy: 0.8962\n",
      "Epoch 184/300\n",
      "212/212 [==============================] - 0s 1ms/step - loss: 0.1793 - accuracy: 0.9068 - val_loss: 0.1930 - val_accuracy: 0.8970\n",
      "Epoch 185/300\n",
      "212/212 [==============================] - 0s 1ms/step - loss: 0.1792 - accuracy: 0.9064 - val_loss: 0.1848 - val_accuracy: 0.9033\n",
      "Epoch 186/300\n",
      "212/212 [==============================] - 0s 1ms/step - loss: 0.1799 - accuracy: 0.9051 - val_loss: 0.1887 - val_accuracy: 0.8979\n",
      "Epoch 187/300\n",
      "212/212 [==============================] - 0s 1ms/step - loss: 0.1787 - accuracy: 0.9070 - val_loss: 0.1948 - val_accuracy: 0.8962\n",
      "Epoch 188/300\n",
      "212/212 [==============================] - 0s 1ms/step - loss: 0.1796 - accuracy: 0.9069 - val_loss: 0.1848 - val_accuracy: 0.9008\n",
      "Epoch 189/300\n",
      "212/212 [==============================] - 0s 1ms/step - loss: 0.1792 - accuracy: 0.9077 - val_loss: 0.1862 - val_accuracy: 0.8991\n",
      "Epoch 190/300\n",
      "212/212 [==============================] - 0s 1ms/step - loss: 0.1786 - accuracy: 0.9071 - val_loss: 0.1850 - val_accuracy: 0.9029\n",
      "Epoch 191/300\n",
      "212/212 [==============================] - 0s 1ms/step - loss: 0.1782 - accuracy: 0.9081 - val_loss: 0.1849 - val_accuracy: 0.9004\n",
      "Epoch 192/300\n",
      "212/212 [==============================] - 0s 1ms/step - loss: 0.1782 - accuracy: 0.9075 - val_loss: 0.1850 - val_accuracy: 0.9050\n",
      "Epoch 193/300\n",
      "212/212 [==============================] - 0s 1ms/step - loss: 0.1789 - accuracy: 0.9077 - val_loss: 0.1855 - val_accuracy: 0.9012\n",
      "Epoch 194/300\n",
      "212/212 [==============================] - 0s 1ms/step - loss: 0.1787 - accuracy: 0.9072 - val_loss: 0.1858 - val_accuracy: 0.8995\n",
      "Epoch 195/300\n",
      "212/212 [==============================] - 0s 1ms/step - loss: 0.1790 - accuracy: 0.9068 - val_loss: 0.1856 - val_accuracy: 0.8995\n",
      "Epoch 196/300\n",
      "212/212 [==============================] - 0s 1ms/step - loss: 0.1789 - accuracy: 0.9074 - val_loss: 0.1858 - val_accuracy: 0.9012\n",
      "Epoch 197/300\n",
      "212/212 [==============================] - 0s 1ms/step - loss: 0.1783 - accuracy: 0.9084 - val_loss: 0.1859 - val_accuracy: 0.9021\n",
      "Epoch 198/300\n",
      "212/212 [==============================] - 0s 1ms/step - loss: 0.1789 - accuracy: 0.9078 - val_loss: 0.1861 - val_accuracy: 0.9029\n",
      "Epoch 199/300\n",
      "212/212 [==============================] - 0s 1ms/step - loss: 0.1784 - accuracy: 0.9062 - val_loss: 0.1871 - val_accuracy: 0.9008\n",
      "Epoch 200/300\n",
      "212/212 [==============================] - 0s 1ms/step - loss: 0.1784 - accuracy: 0.9085 - val_loss: 0.1845 - val_accuracy: 0.9025\n",
      "Epoch 201/300\n",
      "212/212 [==============================] - 0s 1ms/step - loss: 0.1788 - accuracy: 0.9080 - val_loss: 0.1844 - val_accuracy: 0.9041\n",
      "Epoch 202/300\n",
      "212/212 [==============================] - 0s 1ms/step - loss: 0.1782 - accuracy: 0.9070 - val_loss: 0.1846 - val_accuracy: 0.9058\n",
      "Epoch 203/300\n",
      "212/212 [==============================] - 0s 1ms/step - loss: 0.1782 - accuracy: 0.9075 - val_loss: 0.1854 - val_accuracy: 0.9004\n",
      "Epoch 204/300\n",
      "212/212 [==============================] - 0s 1ms/step - loss: 0.1784 - accuracy: 0.9073 - val_loss: 0.1841 - val_accuracy: 0.9025\n",
      "Epoch 205/300\n",
      "212/212 [==============================] - 0s 1ms/step - loss: 0.1789 - accuracy: 0.9077 - val_loss: 0.1869 - val_accuracy: 0.9004\n",
      "Epoch 206/300\n",
      "212/212 [==============================] - 0s 1ms/step - loss: 0.1782 - accuracy: 0.9083 - val_loss: 0.1871 - val_accuracy: 0.8974\n",
      "Epoch 207/300\n",
      "212/212 [==============================] - 0s 1ms/step - loss: 0.1786 - accuracy: 0.9072 - val_loss: 0.1864 - val_accuracy: 0.9004\n",
      "Epoch 208/300\n",
      "212/212 [==============================] - 0s 1ms/step - loss: 0.1788 - accuracy: 0.9083 - val_loss: 0.1839 - val_accuracy: 0.9025\n",
      "Epoch 209/300\n",
      "212/212 [==============================] - 0s 1ms/step - loss: 0.1782 - accuracy: 0.9083 - val_loss: 0.1843 - val_accuracy: 0.9050\n",
      "Epoch 210/300\n",
      "212/212 [==============================] - 0s 1ms/step - loss: 0.1779 - accuracy: 0.9083 - val_loss: 0.1858 - val_accuracy: 0.9016\n",
      "Epoch 211/300\n",
      "212/212 [==============================] - 0s 1ms/step - loss: 0.1780 - accuracy: 0.9075 - val_loss: 0.1856 - val_accuracy: 0.9008\n",
      "Epoch 212/300\n",
      "212/212 [==============================] - 0s 1ms/step - loss: 0.1782 - accuracy: 0.9085 - val_loss: 0.1847 - val_accuracy: 0.9021\n",
      "Epoch 213/300\n",
      "212/212 [==============================] - 0s 1ms/step - loss: 0.1781 - accuracy: 0.9070 - val_loss: 0.1869 - val_accuracy: 0.9012\n",
      "Epoch 214/300\n",
      "212/212 [==============================] - 0s 1ms/step - loss: 0.1781 - accuracy: 0.9082 - val_loss: 0.1854 - val_accuracy: 0.8983\n",
      "Epoch 215/300\n",
      "212/212 [==============================] - 0s 1ms/step - loss: 0.1781 - accuracy: 0.9077 - val_loss: 0.1862 - val_accuracy: 0.8991\n",
      "Epoch 216/300\n",
      "212/212 [==============================] - 0s 1ms/step - loss: 0.1779 - accuracy: 0.9088 - val_loss: 0.1872 - val_accuracy: 0.9000\n",
      "Epoch 217/300\n",
      "212/212 [==============================] - 0s 1ms/step - loss: 0.1782 - accuracy: 0.9073 - val_loss: 0.1837 - val_accuracy: 0.9029\n",
      "Epoch 218/300\n",
      "212/212 [==============================] - 0s 1ms/step - loss: 0.1778 - accuracy: 0.9077 - val_loss: 0.1854 - val_accuracy: 0.8995\n",
      "Epoch 219/300\n",
      "212/212 [==============================] - 0s 1ms/step - loss: 0.1785 - accuracy: 0.9080 - val_loss: 0.1842 - val_accuracy: 0.9025\n",
      "Epoch 220/300\n",
      "212/212 [==============================] - 0s 1ms/step - loss: 0.1783 - accuracy: 0.9073 - val_loss: 0.1840 - val_accuracy: 0.9021\n",
      "Epoch 221/300\n",
      "212/212 [==============================] - 0s 1ms/step - loss: 0.1780 - accuracy: 0.9090 - val_loss: 0.1857 - val_accuracy: 0.8983\n",
      "Epoch 222/300\n",
      "212/212 [==============================] - 0s 1ms/step - loss: 0.1793 - accuracy: 0.9056 - val_loss: 0.1855 - val_accuracy: 0.8974\n",
      "Epoch 223/300\n",
      "212/212 [==============================] - 0s 1ms/step - loss: 0.1781 - accuracy: 0.9085 - val_loss: 0.1908 - val_accuracy: 0.8962\n",
      "Epoch 224/300\n",
      "212/212 [==============================] - 0s 1ms/step - loss: 0.1782 - accuracy: 0.9085 - val_loss: 0.1853 - val_accuracy: 0.8987\n",
      "Epoch 225/300\n",
      "212/212 [==============================] - 0s 1ms/step - loss: 0.1776 - accuracy: 0.9080 - val_loss: 0.1837 - val_accuracy: 0.9050\n",
      "Epoch 226/300\n",
      "212/212 [==============================] - 0s 1ms/step - loss: 0.1776 - accuracy: 0.9071 - val_loss: 0.1867 - val_accuracy: 0.9004\n",
      "Epoch 227/300\n",
      "212/212 [==============================] - 0s 1ms/step - loss: 0.1787 - accuracy: 0.9084 - val_loss: 0.1856 - val_accuracy: 0.9016\n",
      "Epoch 228/300\n",
      "212/212 [==============================] - 0s 1ms/step - loss: 0.1785 - accuracy: 0.9078 - val_loss: 0.1845 - val_accuracy: 0.8995\n",
      "Epoch 229/300\n",
      "212/212 [==============================] - 0s 1ms/step - loss: 0.1775 - accuracy: 0.9100 - val_loss: 0.1861 - val_accuracy: 0.9008\n",
      "Epoch 230/300\n",
      "212/212 [==============================] - 0s 1ms/step - loss: 0.1780 - accuracy: 0.9090 - val_loss: 0.1841 - val_accuracy: 0.9054\n",
      "Epoch 231/300\n",
      "212/212 [==============================] - 0s 1ms/step - loss: 0.1778 - accuracy: 0.9080 - val_loss: 0.1856 - val_accuracy: 0.8995\n",
      "Epoch 232/300\n",
      "212/212 [==============================] - 0s 1ms/step - loss: 0.1779 - accuracy: 0.9063 - val_loss: 0.1854 - val_accuracy: 0.9000\n",
      "Epoch 233/300\n",
      "212/212 [==============================] - 0s 1ms/step - loss: 0.1777 - accuracy: 0.9074 - val_loss: 0.1879 - val_accuracy: 0.8974\n",
      "Epoch 234/300\n",
      "212/212 [==============================] - 0s 1ms/step - loss: 0.1779 - accuracy: 0.9080 - val_loss: 0.1852 - val_accuracy: 0.9041\n",
      "Epoch 235/300\n",
      "212/212 [==============================] - 0s 1ms/step - loss: 0.1779 - accuracy: 0.9069 - val_loss: 0.1834 - val_accuracy: 0.9037\n",
      "Epoch 236/300\n",
      "212/212 [==============================] - 0s 1ms/step - loss: 0.1771 - accuracy: 0.9094 - val_loss: 0.1858 - val_accuracy: 0.8983\n",
      "Epoch 237/300\n",
      "212/212 [==============================] - 0s 1ms/step - loss: 0.1779 - accuracy: 0.9088 - val_loss: 0.1843 - val_accuracy: 0.9016\n",
      "Epoch 238/300\n",
      "212/212 [==============================] - 0s 1ms/step - loss: 0.1770 - accuracy: 0.9084 - val_loss: 0.1856 - val_accuracy: 0.9000\n",
      "Epoch 239/300\n",
      "212/212 [==============================] - 0s 1ms/step - loss: 0.1770 - accuracy: 0.9095 - val_loss: 0.1870 - val_accuracy: 0.9021\n",
      "Epoch 240/300\n",
      "212/212 [==============================] - 0s 971us/step - loss: 0.1776 - accuracy: 0.9082 - val_loss: 0.1835 - val_accuracy: 0.9046\n",
      "Epoch 241/300\n",
      "212/212 [==============================] - 0s 1ms/step - loss: 0.1777 - accuracy: 0.9085 - val_loss: 0.1839 - val_accuracy: 0.9029\n",
      "Epoch 242/300\n",
      "212/212 [==============================] - 0s 1ms/step - loss: 0.1772 - accuracy: 0.9087 - val_loss: 0.1858 - val_accuracy: 0.8987\n",
      "Epoch 243/300\n",
      "212/212 [==============================] - 0s 1ms/step - loss: 0.1777 - accuracy: 0.9082 - val_loss: 0.1843 - val_accuracy: 0.9021\n",
      "Epoch 244/300\n",
      "212/212 [==============================] - 0s 1ms/step - loss: 0.1777 - accuracy: 0.9076 - val_loss: 0.1842 - val_accuracy: 0.8995\n",
      "Epoch 245/300\n",
      "212/212 [==============================] - 0s 1ms/step - loss: 0.1772 - accuracy: 0.9077 - val_loss: 0.1849 - val_accuracy: 0.9033\n",
      "Epoch 246/300\n",
      "212/212 [==============================] - 0s 1ms/step - loss: 0.1775 - accuracy: 0.9095 - val_loss: 0.1853 - val_accuracy: 0.9000\n",
      "Epoch 247/300\n",
      "212/212 [==============================] - 0s 1ms/step - loss: 0.1779 - accuracy: 0.9075 - val_loss: 0.1836 - val_accuracy: 0.9021\n",
      "Epoch 248/300\n",
      "212/212 [==============================] - 0s 1ms/step - loss: 0.1779 - accuracy: 0.9087 - val_loss: 0.1845 - val_accuracy: 0.9033\n",
      "Epoch 249/300\n",
      "212/212 [==============================] - 0s 1ms/step - loss: 0.1775 - accuracy: 0.9087 - val_loss: 0.1840 - val_accuracy: 0.9021\n",
      "Epoch 250/300\n",
      "212/212 [==============================] - 0s 1ms/step - loss: 0.1774 - accuracy: 0.9091 - val_loss: 0.1859 - val_accuracy: 0.9004\n",
      "Epoch 251/300\n",
      "212/212 [==============================] - 0s 1ms/step - loss: 0.1774 - accuracy: 0.9096 - val_loss: 0.1862 - val_accuracy: 0.9021\n",
      "Epoch 252/300\n",
      "212/212 [==============================] - 0s 1ms/step - loss: 0.1772 - accuracy: 0.9082 - val_loss: 0.1856 - val_accuracy: 0.9008\n",
      "Epoch 253/300\n",
      "212/212 [==============================] - 0s 1ms/step - loss: 0.1778 - accuracy: 0.9062 - val_loss: 0.1860 - val_accuracy: 0.9025\n",
      "Epoch 254/300\n",
      "212/212 [==============================] - 0s 1ms/step - loss: 0.1776 - accuracy: 0.9083 - val_loss: 0.1846 - val_accuracy: 0.8995\n",
      "Epoch 255/300\n",
      "212/212 [==============================] - 0s 1ms/step - loss: 0.1776 - accuracy: 0.9079 - val_loss: 0.1852 - val_accuracy: 0.9037\n",
      "Epoch 256/300\n",
      "212/212 [==============================] - 0s 1ms/step - loss: 0.1772 - accuracy: 0.9092 - val_loss: 0.1849 - val_accuracy: 0.9012\n",
      "Epoch 257/300\n",
      "212/212 [==============================] - 0s 1ms/step - loss: 0.1774 - accuracy: 0.9084 - val_loss: 0.1836 - val_accuracy: 0.9037\n",
      "Epoch 258/300\n",
      "212/212 [==============================] - 0s 1ms/step - loss: 0.1771 - accuracy: 0.9086 - val_loss: 0.1847 - val_accuracy: 0.9033\n",
      "Epoch 259/300\n",
      "212/212 [==============================] - 0s 1ms/step - loss: 0.1775 - accuracy: 0.9071 - val_loss: 0.1854 - val_accuracy: 0.9029\n",
      "Epoch 260/300\n",
      "212/212 [==============================] - 0s 1ms/step - loss: 0.1776 - accuracy: 0.9101 - val_loss: 0.1839 - val_accuracy: 0.9021\n",
      "Epoch 261/300\n",
      "212/212 [==============================] - 0s 1ms/step - loss: 0.1772 - accuracy: 0.9103 - val_loss: 0.1876 - val_accuracy: 0.8995\n",
      "Epoch 262/300\n",
      "212/212 [==============================] - 0s 1ms/step - loss: 0.1770 - accuracy: 0.9088 - val_loss: 0.1839 - val_accuracy: 0.9016\n",
      "Epoch 263/300\n",
      "212/212 [==============================] - 0s 1ms/step - loss: 0.1772 - accuracy: 0.9092 - val_loss: 0.1838 - val_accuracy: 0.9012\n",
      "Epoch 264/300\n",
      "212/212 [==============================] - 0s 1ms/step - loss: 0.1775 - accuracy: 0.9056 - val_loss: 0.1839 - val_accuracy: 0.9033\n",
      "Epoch 265/300\n",
      "212/212 [==============================] - 0s 1ms/step - loss: 0.1772 - accuracy: 0.9085 - val_loss: 0.1870 - val_accuracy: 0.9000\n",
      "Epoch 266/300\n",
      "212/212 [==============================] - 0s 1ms/step - loss: 0.1768 - accuracy: 0.9081 - val_loss: 0.1837 - val_accuracy: 0.9012\n",
      "Epoch 267/300\n",
      "212/212 [==============================] - 0s 1ms/step - loss: 0.1775 - accuracy: 0.9080 - val_loss: 0.1837 - val_accuracy: 0.9033\n",
      "Epoch 268/300\n",
      "212/212 [==============================] - 0s 1ms/step - loss: 0.1772 - accuracy: 0.9083 - val_loss: 0.1840 - val_accuracy: 0.9037\n",
      "Epoch 269/300\n",
      "212/212 [==============================] - 0s 1ms/step - loss: 0.1778 - accuracy: 0.9078 - val_loss: 0.1842 - val_accuracy: 0.9054\n",
      "Epoch 270/300\n",
      "212/212 [==============================] - 0s 1ms/step - loss: 0.1765 - accuracy: 0.9091 - val_loss: 0.1869 - val_accuracy: 0.9012\n",
      "Epoch 271/300\n",
      "212/212 [==============================] - 0s 1ms/step - loss: 0.1776 - accuracy: 0.9071 - val_loss: 0.1856 - val_accuracy: 0.9025\n",
      "Epoch 272/300\n",
      "212/212 [==============================] - 0s 1ms/step - loss: 0.1770 - accuracy: 0.9092 - val_loss: 0.1836 - val_accuracy: 0.9041\n",
      "Epoch 273/300\n",
      "212/212 [==============================] - 0s 1ms/step - loss: 0.1772 - accuracy: 0.9081 - val_loss: 0.1834 - val_accuracy: 0.9037\n",
      "Epoch 274/300\n",
      "212/212 [==============================] - 0s 1ms/step - loss: 0.1768 - accuracy: 0.9088 - val_loss: 0.1851 - val_accuracy: 0.9025\n",
      "Epoch 275/300\n",
      "212/212 [==============================] - 0s 1ms/step - loss: 0.1767 - accuracy: 0.9097 - val_loss: 0.1845 - val_accuracy: 0.9021\n",
      "Epoch 276/300\n",
      "212/212 [==============================] - 0s 990us/step - loss: 0.1767 - accuracy: 0.9085 - val_loss: 0.1843 - val_accuracy: 0.9037\n",
      "Epoch 277/300\n",
      "212/212 [==============================] - 0s 1ms/step - loss: 0.1768 - accuracy: 0.9092 - val_loss: 0.1859 - val_accuracy: 0.9004\n",
      "Epoch 278/300\n",
      "212/212 [==============================] - 0s 1ms/step - loss: 0.1773 - accuracy: 0.9071 - val_loss: 0.1839 - val_accuracy: 0.9033\n",
      "Epoch 279/300\n",
      "212/212 [==============================] - 0s 1ms/step - loss: 0.1772 - accuracy: 0.9087 - val_loss: 0.1834 - val_accuracy: 0.9029\n",
      "Epoch 280/300\n",
      "212/212 [==============================] - 0s 1ms/step - loss: 0.1766 - accuracy: 0.9094 - val_loss: 0.1831 - val_accuracy: 0.9025\n",
      "Epoch 281/300\n",
      "212/212 [==============================] - 0s 1ms/step - loss: 0.1766 - accuracy: 0.9095 - val_loss: 0.1842 - val_accuracy: 0.9029\n",
      "Epoch 282/300\n",
      "212/212 [==============================] - 0s 1ms/step - loss: 0.1771 - accuracy: 0.9095 - val_loss: 0.1838 - val_accuracy: 0.9021\n",
      "Epoch 283/300\n",
      "212/212 [==============================] - 0s 1ms/step - loss: 0.1768 - accuracy: 0.9098 - val_loss: 0.1840 - val_accuracy: 0.9029\n",
      "Epoch 284/300\n",
      "212/212 [==============================] - 0s 1ms/step - loss: 0.1769 - accuracy: 0.9093 - val_loss: 0.1842 - val_accuracy: 0.9067\n",
      "Epoch 285/300\n",
      "212/212 [==============================] - 0s 1ms/step - loss: 0.1769 - accuracy: 0.9093 - val_loss: 0.1844 - val_accuracy: 0.9025\n",
      "Epoch 286/300\n",
      "212/212 [==============================] - 0s 1ms/step - loss: 0.1769 - accuracy: 0.9083 - val_loss: 0.1869 - val_accuracy: 0.8979\n",
      "Epoch 287/300\n",
      "212/212 [==============================] - 0s 1ms/step - loss: 0.1767 - accuracy: 0.9109 - val_loss: 0.1848 - val_accuracy: 0.9021\n",
      "Epoch 288/300\n",
      "212/212 [==============================] - 0s 1ms/step - loss: 0.1767 - accuracy: 0.9096 - val_loss: 0.1841 - val_accuracy: 0.9025\n",
      "Epoch 289/300\n",
      "212/212 [==============================] - 0s 1ms/step - loss: 0.1764 - accuracy: 0.9085 - val_loss: 0.1859 - val_accuracy: 0.9004\n",
      "Epoch 290/300\n",
      "212/212 [==============================] - 0s 1ms/step - loss: 0.1769 - accuracy: 0.9078 - val_loss: 0.1840 - val_accuracy: 0.9037\n",
      "Epoch 291/300\n",
      "212/212 [==============================] - 0s 1ms/step - loss: 0.1763 - accuracy: 0.9076 - val_loss: 0.1837 - val_accuracy: 0.9037\n",
      "Epoch 292/300\n",
      "212/212 [==============================] - 0s 1ms/step - loss: 0.1763 - accuracy: 0.9092 - val_loss: 0.1844 - val_accuracy: 0.9046\n",
      "Epoch 293/300\n",
      "212/212 [==============================] - 0s 1ms/step - loss: 0.1763 - accuracy: 0.9096 - val_loss: 0.1866 - val_accuracy: 0.9008\n",
      "Epoch 294/300\n",
      "212/212 [==============================] - 0s 1ms/step - loss: 0.1769 - accuracy: 0.9099 - val_loss: 0.1855 - val_accuracy: 0.9012\n",
      "Epoch 295/300\n",
      "212/212 [==============================] - 0s 1ms/step - loss: 0.1766 - accuracy: 0.9094 - val_loss: 0.1840 - val_accuracy: 0.9008\n",
      "Epoch 296/300\n",
      "212/212 [==============================] - 0s 1ms/step - loss: 0.1769 - accuracy: 0.9105 - val_loss: 0.1848 - val_accuracy: 0.9025\n",
      "Epoch 297/300\n",
      "212/212 [==============================] - 0s 1ms/step - loss: 0.1764 - accuracy: 0.9097 - val_loss: 0.1845 - val_accuracy: 0.9012\n",
      "Epoch 298/300\n",
      "212/212 [==============================] - 0s 1ms/step - loss: 0.1759 - accuracy: 0.9094 - val_loss: 0.1840 - val_accuracy: 0.9025\n",
      "Epoch 299/300\n",
      "212/212 [==============================] - 0s 1ms/step - loss: 0.1758 - accuracy: 0.9114 - val_loss: 0.1842 - val_accuracy: 0.9046\n",
      "Epoch 300/300\n",
      "212/212 [==============================] - 0s 1ms/step - loss: 0.1758 - accuracy: 0.9097 - val_loss: 0.1839 - val_accuracy: 0.9012\n"
     ]
    },
    {
     "data": {
      "text/plain": [
       "<keras.callbacks.History at 0x1375eb92790>"
      ]
     },
     "execution_count": 88,
     "metadata": {},
     "output_type": "execute_result"
    }
   ],
   "source": [
    "model.fit(x = X_train, y = y_train, validation_data = (X_test, y_test), batch_size = 64, epochs = 300, verbose = 1,\n",
    "          callbacks = [early_stop])"
   ]
  },
  {
   "cell_type": "code",
   "execution_count": 89,
   "metadata": {
    "ExecuteTime": {
     "end_time": "2022-03-11T12:21:35.612240Z",
     "start_time": "2022-03-11T12:21:35.420096Z"
    },
    "colab": {
     "base_uri": "https://localhost:8080/",
     "height": 391
    },
    "executionInfo": {
     "elapsed": 755,
     "status": "ok",
     "timestamp": 1646830645265,
     "user": {
      "displayName": "Steve Wallace",
      "photoUrl": "https://lh3.googleusercontent.com/a/default-user=s64",
      "userId": "06741533186265949524"
     },
     "user_tz": -180
    },
    "id": "xPls6wabZ5jO",
    "outputId": "e24ce827-0fa3-472a-d342-496784830894"
   },
   "outputs": [
    {
     "data": {
      "text/plain": [
       "<AxesSubplot:>"
      ]
     },
     "execution_count": 89,
     "metadata": {},
     "output_type": "execute_result"
    },
    {
     "data": {
      "image/png": "[encoded data removed]",
      "text/plain": [
       "<Figure size 720x432 with 1 Axes>"
      ]
     },
     "metadata": {},
     "output_type": "display_data"
    }
   ],
   "source": [
    "loss_df = pd.DataFrame(model.history.history)\n",
    "loss_df.plot()"
   ]
  },
  {
   "cell_type": "code",
   "execution_count": 94,
   "metadata": {
    "ExecuteTime": {
     "end_time": "2022-03-11T12:25:21.765060Z",
     "start_time": "2022-03-11T12:25:21.662751Z"
    }
   },
   "outputs": [
    {
     "name": "stdout",
     "output_type": "stream",
     "text": [
      "loss :  0.18602310121059418\n",
      "accuracy :  0.9037253856658936\n"
     ]
    }
   ],
   "source": [
    "loss, accuracy = model.evaluate(X_test, y_test, verbose=0)\n",
    "print(\"loss : \", loss)\n",
    "print(\"accuracy : \", accuracy)"
   ]
  },
  {
   "cell_type": "code",
   "execution_count": 95,
   "metadata": {
    "ExecuteTime": {
     "end_time": "2022-03-11T12:26:08.291981Z",
     "start_time": "2022-03-11T12:26:08.179067Z"
    }
   },
   "outputs": [
    {
     "name": "stdout",
     "output_type": "stream",
     "text": [
      "[[1362   99]\n",
      " [ 131  797]]\n",
      "              precision    recall  f1-score   support\n",
      "\n",
      "           0       0.91      0.93      0.92      1461\n",
      "           1       0.89      0.86      0.87       928\n",
      "\n",
      "    accuracy                           0.90      2389\n",
      "   macro avg       0.90      0.90      0.90      2389\n",
      "weighted avg       0.90      0.90      0.90      2389\n",
      "\n"
     ]
    }
   ],
   "source": [
    "y_pred = (model.predict(X_test) > 0.5).astype(\"int32\")\n",
    "#y_pred = model.predict_classes(X_test)\n",
    "print(confusion_matrix(y_test, y_pred))\n",
    "print(classification_report(y_test, y_pred))"
   ]
  },
  {
   "cell_type": "code",
   "execution_count": 108,
   "metadata": {
    "ExecuteTime": {
     "end_time": "2022-03-11T12:40:35.338186Z",
     "start_time": "2022-03-11T12:40:35.261886Z"
    },
    "id": "Mp93em4EZ5jP"
   },
   "outputs": [],
   "source": [
    "model.save('Churn_Modelling.h5')"
   ]
  },
  {
   "cell_type": "markdown",
   "metadata": {
    "id": "PNa5UvsvZ5jP"
   },
   "source": [
    "## Loading Model and Scaler"
   ]
  },
  {
   "cell_type": "code",
   "execution_count": 109,
   "metadata": {
    "ExecuteTime": {
     "end_time": "2022-03-11T12:40:46.507198Z",
     "start_time": "2022-03-11T12:40:46.496822Z"
    },
    "id": "m6y1aZpXZ5jP"
   },
   "outputs": [],
   "source": [
    "from tensorflow.keras.models import load_model"
   ]
  },
  {
   "cell_type": "code",
   "execution_count": 110,
   "metadata": {
    "ExecuteTime": {
     "end_time": "2022-03-11T12:40:48.286584Z",
     "start_time": "2022-03-11T12:40:48.214104Z"
    },
    "id": "gZo9ijVfZ5jQ"
   },
   "outputs": [],
   "source": [
    "model_churn = load_model('Churn_Modelling.h5')\n",
    "scaler_churn = pickle.load(open(\"Churn_Modelling\", \"rb\"))"
   ]
  },
  {
   "cell_type": "markdown",
   "metadata": {
    "id": "Cq10ovAX6daY"
   },
   "source": [
    "## Prediction_1"
   ]
  },
  {
   "cell_type": "code",
   "execution_count": 111,
   "metadata": {
    "ExecuteTime": {
     "end_time": "2022-03-11T12:40:52.994468Z",
     "start_time": "2022-03-11T12:40:52.963272Z"
    },
    "colab": {
     "base_uri": "https://localhost:8080/",
     "height": 179
    },
    "executionInfo": {
     "elapsed": 255,
     "status": "ok",
     "timestamp": 1646830688780,
     "user": {
      "displayName": "Steve Wallace",
      "photoUrl": "https://lh3.googleusercontent.com/a/default-user=s64",
      "userId": "06741533186265949524"
     },
     "user_tz": -180
    },
    "id": "BUoJMHNZZ5jQ",
    "outputId": "68626501-2d63-4253-84eb-543e4e4d8076"
   },
   "outputs": [
    {
     "data": {
      "text/html": [
       "<div>\n",
       "<style scoped>\n",
       "    .dataframe tbody tr th:only-of-type {\n",
       "        vertical-align: middle;\n",
       "    }\n",
       "\n",
       "    .dataframe tbody tr th {\n",
       "        vertical-align: top;\n",
       "    }\n",
       "\n",
       "    .dataframe thead th {\n",
       "        text-align: right;\n",
       "    }\n",
       "</style>\n",
       "<table border=\"1\" class=\"dataframe\">\n",
       "  <thead>\n",
       "    <tr style=\"text-align: right;\">\n",
       "      <th></th>\n",
       "      <th>CreditScore</th>\n",
       "      <th>Gender</th>\n",
       "      <th>Age</th>\n",
       "      <th>Tenure</th>\n",
       "      <th>Balance</th>\n",
       "      <th>NumOfProducts</th>\n",
       "      <th>HasCrCard</th>\n",
       "      <th>IsActiveMember</th>\n",
       "      <th>EstimatedSalary</th>\n",
       "      <th>Geography_France</th>\n",
       "      <th>Geography_Germany</th>\n",
       "      <th>Geography_Spain</th>\n",
       "    </tr>\n",
       "  </thead>\n",
       "  <tbody>\n",
       "    <tr>\n",
       "      <th>0</th>\n",
       "      <td>619</td>\n",
       "      <td>1</td>\n",
       "      <td>42</td>\n",
       "      <td>2</td>\n",
       "      <td>0.000</td>\n",
       "      <td>1</td>\n",
       "      <td>1</td>\n",
       "      <td>1</td>\n",
       "      <td>101348.880</td>\n",
       "      <td>1</td>\n",
       "      <td>0</td>\n",
       "      <td>0</td>\n",
       "    </tr>\n",
       "  </tbody>\n",
       "</table>\n",
       "</div>"
      ],
      "text/plain": [
       "   CreditScore  Gender  Age  Tenure  Balance  NumOfProducts  HasCrCard  \\\n",
       "0          619       1   42       2    0.000              1          1   \n",
       "\n",
       "   IsActiveMember  EstimatedSalary  Geography_France  Geography_Germany  \\\n",
       "0               1       101348.880                 1                  0   \n",
       "\n",
       "   Geography_Spain  \n",
       "0                0  "
      ]
     },
     "execution_count": 111,
     "metadata": {},
     "output_type": "execute_result"
    }
   ],
   "source": [
    "single_churn = df.drop('Exited', axis = 1).iloc[0:1, :]\n",
    "single_churn"
   ]
  },
  {
   "cell_type": "code",
   "execution_count": 112,
   "metadata": {
    "ExecuteTime": {
     "end_time": "2022-03-11T12:40:59.241392Z",
     "start_time": "2022-03-11T12:40:59.231174Z"
    },
    "colab": {
     "base_uri": "https://localhost:8080/"
    },
    "executionInfo": {
     "elapsed": 243,
     "status": "ok",
     "timestamp": 1646830692606,
     "user": {
      "displayName": "Steve Wallace",
      "photoUrl": "https://lh3.googleusercontent.com/a/default-user=s64",
      "userId": "06741533186265949524"
     },
     "user_tz": -180
    },
    "id": "-mbCaJTVZ5jQ",
    "outputId": "6d8297b6-adb1-4bb7-bf64-91ed87720d6c"
   },
   "outputs": [
    {
     "data": {
      "text/plain": [
       "array([[0.538     , 1.        , 0.32432432, 0.2       , 0.        ,\n",
       "        0.        , 1.        , 1.        , 0.50673489, 1.        ,\n",
       "        0.        , 0.        ]])"
      ]
     },
     "execution_count": 112,
     "metadata": {},
     "output_type": "execute_result"
    }
   ],
   "source": [
    "single_churn = scaler_churn.transform(single_churn)\n",
    "single_churn"
   ]
  },
  {
   "cell_type": "code",
   "execution_count": 113,
   "metadata": {
    "ExecuteTime": {
     "end_time": "2022-03-11T12:41:01.051557Z",
     "start_time": "2022-03-11T12:41:00.964671Z"
    },
    "colab": {
     "base_uri": "https://localhost:8080/"
    },
    "executionInfo": {
     "elapsed": 249,
     "status": "ok",
     "timestamp": 1646830711187,
     "user": {
      "displayName": "Steve Wallace",
      "photoUrl": "https://lh3.googleusercontent.com/a/default-user=s64",
      "userId": "06741533186265949524"
     },
     "user_tz": -180
    },
    "id": "U38vS2XxZ5jQ",
    "outputId": "ed9a30e4-c95f-48cc-8654-a731fada2f24"
   },
   "outputs": [
    {
     "data": {
      "text/plain": [
       "array([[0]])"
      ]
     },
     "execution_count": 113,
     "metadata": {},
     "output_type": "execute_result"
    }
   ],
   "source": [
    "(model_churn.predict(single_churn) > 0.5).astype(\"int32\")"
   ]
  },
  {
   "cell_type": "code",
   "execution_count": 114,
   "metadata": {
    "ExecuteTime": {
     "end_time": "2022-03-11T12:41:02.768548Z",
     "start_time": "2022-03-11T12:41:02.712198Z"
    }
   },
   "outputs": [
    {
     "data": {
      "text/plain": [
       "array([[4.906767e-13]], dtype=float32)"
      ]
     },
     "execution_count": 114,
     "metadata": {},
     "output_type": "execute_result"
    }
   ],
   "source": [
    "model_churn.predict(single_churn)"
   ]
  },
  {
   "cell_type": "code",
   "execution_count": 115,
   "metadata": {
    "ExecuteTime": {
     "end_time": "2022-03-11T12:41:04.328206Z",
     "start_time": "2022-03-11T12:41:04.312238Z"
    },
    "colab": {
     "base_uri": "https://localhost:8080/"
    },
    "executionInfo": {
     "elapsed": 278,
     "status": "ok",
     "timestamp": 1646830713987,
     "user": {
      "displayName": "Steve Wallace",
      "photoUrl": "https://lh3.googleusercontent.com/a/default-user=s64",
      "userId": "06741533186265949524"
     },
     "user_tz": -180
    },
    "id": "Y5_VzYTgZ5jR",
    "outputId": "7b492852-e523-4d03-9925-38349ff152f5"
   },
   "outputs": [
    {
     "data": {
      "text/plain": [
       "1"
      ]
     },
     "execution_count": 115,
     "metadata": {},
     "output_type": "execute_result"
    }
   ],
   "source": [
    "df[\"Exited\"].iloc[0]"
   ]
  },
  {
   "cell_type": "markdown",
   "metadata": {
    "id": "B8lMuQfzZ5jR"
   },
   "source": [
    "## Comparison with ML"
   ]
  },
  {
   "cell_type": "markdown",
   "metadata": {
    "id": "UW_nqhWOZ5jR"
   },
   "source": [
    "### Logistic Regression"
   ]
  },
  {
   "cell_type": "code",
   "execution_count": 113,
   "metadata": {
    "ExecuteTime": {
     "end_time": "2022-03-10T12:11:57.249534Z",
     "start_time": "2022-03-10T12:11:57.105058Z"
    },
    "id": "4XiSodABZ5jR"
   },
   "outputs": [],
   "source": [
    "from sklearn.linear_model import LogisticRegression"
   ]
  },
  {
   "cell_type": "code",
   "execution_count": 114,
   "metadata": {
    "ExecuteTime": {
     "end_time": "2022-03-10T12:12:06.714334Z",
     "start_time": "2022-03-10T12:12:06.565914Z"
    },
    "colab": {
     "base_uri": "https://localhost:8080/"
    },
    "executionInfo": {
     "elapsed": 252,
     "status": "ok",
     "timestamp": 1646830722097,
     "user": {
      "displayName": "Steve Wallace",
      "photoUrl": "https://lh3.googleusercontent.com/a/default-user=s64",
      "userId": "06741533186265949524"
     },
     "user_tz": -180
    },
    "id": "5_6C-3MKZ5jR",
    "outputId": "2cc76c8a-362c-400b-f8aa-fd40f2af6ccf"
   },
   "outputs": [
    {
     "name": "stdout",
     "output_type": "stream",
     "text": [
      "[[764  32]\n",
      " [167  37]]\n",
      "              precision    recall  f1-score   support\n",
      "\n",
      "           0       0.82      0.96      0.88       796\n",
      "           1       0.54      0.18      0.27       204\n",
      "\n",
      "    accuracy                           0.80      1000\n",
      "   macro avg       0.68      0.57      0.58      1000\n",
      "weighted avg       0.76      0.80      0.76      1000\n",
      "\n"
     ]
    }
   ],
   "source": [
    "log_model=LogisticRegression()\n",
    "log_model.fit(X_train, y_train)\n",
    "y_pred = log_model.predict(X_test)\n",
    "print(confusion_matrix(y_test, y_pred))\n",
    "print(classification_report(y_test, y_pred))"
   ]
  },
  {
   "cell_type": "markdown",
   "metadata": {
    "id": "sjJTDDwbZ5jS"
   },
   "source": [
    "### Random Forest"
   ]
  },
  {
   "cell_type": "code",
   "execution_count": 115,
   "metadata": {
    "ExecuteTime": {
     "end_time": "2022-03-10T12:12:27.574626Z",
     "start_time": "2022-03-10T12:12:27.379813Z"
    },
    "id": "q4bcgt0kZ5jS"
   },
   "outputs": [],
   "source": [
    "from sklearn.ensemble import RandomForestClassifier"
   ]
  },
  {
   "cell_type": "code",
   "execution_count": 116,
   "metadata": {
    "ExecuteTime": {
     "end_time": "2022-03-10T12:12:31.458968Z",
     "start_time": "2022-03-10T12:12:30.442931Z"
    },
    "colab": {
     "base_uri": "https://localhost:8080/"
    },
    "executionInfo": {
     "elapsed": 682,
     "status": "ok",
     "timestamp": 1646830731216,
     "user": {
      "displayName": "Steve Wallace",
      "photoUrl": "https://lh3.googleusercontent.com/a/default-user=s64",
      "userId": "06741533186265949524"
     },
     "user_tz": -180
    },
    "id": "hgkj4ydeZ5jS",
    "outputId": "82e8f4c8-b56c-41ea-c18f-e0d7c1610747"
   },
   "outputs": [
    {
     "name": "stdout",
     "output_type": "stream",
     "text": [
      "[[763  33]\n",
      " [114  90]]\n",
      "              precision    recall  f1-score   support\n",
      "\n",
      "           0       0.87      0.96      0.91       796\n",
      "           1       0.73      0.44      0.55       204\n",
      "\n",
      "    accuracy                           0.85      1000\n",
      "   macro avg       0.80      0.70      0.73      1000\n",
      "weighted avg       0.84      0.85      0.84      1000\n",
      "\n"
     ]
    }
   ],
   "source": [
    "rf_model = RandomForestClassifier()\n",
    "rf_model.fit(X_train, y_train)\n",
    "y_pred = rf_model.predict(X_test)\n",
    "print(confusion_matrix(y_test, y_pred))\n",
    "print(classification_report(y_test, y_pred))"
   ]
  }
 ],
 "metadata": {
  "colab": {
   "collapsed_sections": [],
   "name": "DL-S4 (Classification with ANN-cancer data)2.8.ipynb",
   "provenance": [],
   "toc_visible": true
  },
  "kernelspec": {
   "display_name": "Python 3 (ipykernel)",
   "language": "python",
   "name": "python3"
  },
  "language_info": {
   "codemirror_mode": {
    "name": "ipython",
    "version": 3
   },
   "file_extension": ".py",
   "mimetype": "text/x-python",
   "name": "python",
   "nbconvert_exporter": "python",
   "pygments_lexer": "ipython3",
   "version": "3.8.12"
  },
  "toc": {
   "base_numbering": 1,
   "nav_menu": {},
   "number_sections": true,
   "sideBar": true,
   "skip_h1_title": false,
   "title_cell": "Table of Contents",
   "title_sidebar": "Contents",
   "toc_cell": false,
   "toc_position": {},
   "toc_section_display": true,
   "toc_window_display": false
  },
  "varInspector": {
   "cols": {
    "lenName": 16,
    "lenType": 16,
    "lenVar": 40
   },
   "kernels_config": {
    "python": {
     "delete_cmd_postfix": "",
     "delete_cmd_prefix": "del ",
     "library": "var_list.py",
     "varRefreshCmd": "print(var_dic_list())"
    },
    "r": {
     "delete_cmd_postfix": ") ",
     "delete_cmd_prefix": "rm(",
     "library": "var_list.r",
     "varRefreshCmd": "cat(var_dic_list()) "
    }
   },
   "types_to_exclude": [
    "module",
    "function",
    "builtin_function_or_method",
    "instance",
    "_Feature"
   ],
   "window_display": false
  }
 },
 "nbformat": 4,
 "nbformat_minor": 1
}
