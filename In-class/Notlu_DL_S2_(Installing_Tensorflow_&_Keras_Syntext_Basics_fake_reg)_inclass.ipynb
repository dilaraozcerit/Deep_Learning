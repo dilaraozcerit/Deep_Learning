{
 "cells": [
  {
   "cell_type": "markdown",
   "metadata": {
    "id": "iR-jof5sVSmx"
   },
   "source": [
    "___\n",
    "\n",
    "<p style=\"text-align: center;\"><img src=\"https://docs.google.com/uc?id=1lY0Uj5R04yMY3-ZppPWxqCr5pvBLYPnV\" class=\"img-fluid\" alt=\"CLRSWY\"></p>\n",
    "\n",
    "___"
   ]
  },
  {
   "cell_type": "markdown",
   "metadata": {
    "id": "hz3vnxJCVSmy"
   },
   "source": [
    "<h1 style=\"text-align: center;\">Deep Learning<br><br>Session - 2<br><br>Installing Tensorflow & Keras Syntax Basics<br><br>Fake Reg<br><h1>"
   ]
  },
  {
   "cell_type": "markdown",
   "metadata": {
    "id": "fJT4_C49VSmy"
   },
   "source": [
    "Regression ve classification problemlerinin cok buyuk bir kismi Machine Learning modelleri ile cozulebilir. Buyuk datalarda calismak gerektiginde Deep Learning modelleri tercih edilir."
   ]
  },
  {
   "cell_type": "markdown",
   "metadata": {
    "id": "avlg-XXaVSmy"
   },
   "source": [
    "# Installing Tensorflow"
   ]
  },
  {
   "cell_type": "code",
   "execution_count": 5,
   "metadata": {
    "colab": {
     "base_uri": "https://localhost:8080/"
    },
    "id": "fzkWhMclVSmz",
    "outputId": "4108148e-61b0-481d-b80e-4fe64f56a4a1"
   },
   "outputs": [
    {
     "name": "stdout",
     "output_type": "stream",
     "text": [
      "Python 3.7.12\n"
     ]
    }
   ],
   "source": [
    "!python --version"
   ]
  },
  {
   "cell_type": "code",
   "execution_count": 83,
   "metadata": {
    "id": "rm2aCZiAVSmz"
   },
   "outputs": [],
   "source": [
    "#pip install tensorflow"
   ]
  },
  {
   "cell_type": "code",
   "execution_count": 7,
   "metadata": {
    "id": "DnuJPc_LVSmz"
   },
   "outputs": [],
   "source": [
    "#!pip install tensorflow==2.0"
   ]
  },
  {
   "cell_type": "code",
   "execution_count": 8,
   "metadata": {
    "id": "pscDW7ogVSmz"
   },
   "outputs": [],
   "source": [
    "#!pip install --ignore-installed --upgrade tensorflow==2.5"
   ]
  },
  {
   "cell_type": "code",
   "execution_count": 9,
   "metadata": {
    "id": "dlx2t9ufVSm0"
   },
   "outputs": [],
   "source": [
    "#conda install -c anaconda keras"
   ]
  },
  {
   "cell_type": "code",
   "execution_count": 84,
   "metadata": {
    "id": "4mpINy1OVSm1"
   },
   "outputs": [],
   "source": [
    "#!pip install keras==2.8.0"
   ]
  },
  {
   "cell_type": "code",
   "execution_count": 19,
   "metadata": {
    "colab": {
     "base_uri": "https://localhost:8080/",
     "height": 37
    },
    "id": "QQU_qsMTVSm2",
    "outputId": "1087d79e-67ff-4416-e67c-41ac68a23e2a"
   },
   "outputs": [
    {
     "data": {
      "application/vnd.google.colaboratory.intrinsic+json": {
       "type": "string"
      },
      "text/plain": [
       "'2.8.0'"
      ]
     },
     "execution_count": 19,
     "metadata": {},
     "output_type": "execute_result"
    }
   ],
   "source": [
    "import tensorflow as tf\n",
    "tf.__version__"
   ]
  },
  {
   "cell_type": "markdown",
   "metadata": {
    "id": "uXQySDukVSm2"
   },
   "source": [
    "# Keras Syntax Basics"
   ]
  },
  {
   "cell_type": "code",
   "execution_count": 21,
   "metadata": {
    "id": "T5pHNo0KVSm2"
   },
   "outputs": [],
   "source": [
    "import numpy as np\n",
    "import pandas as pd\n",
    "import matplotlib.pyplot as plt\n",
    "import seaborn as sns\n",
    "\n",
    "import warnings\n",
    "warnings.filterwarnings(\"ignore\")\n",
    "warnings.warn(\"this will not show\")\n",
    "\n",
    "plt.rcParams[\"figure.figsize\"] = (10,6)\n",
    "\n",
    "sns.set_style(\"whitegrid\")\n",
    "pd.set_option('display.float_format', lambda x: '%.3f' % x)\n",
    "\n",
    "# Set it None to display all rows in the dataframe\n",
    "# pd.set_option('display.max_rows', None)\n",
    "\n",
    "# Set it to None to display all columns in the dataframe\n",
    "pd.set_option('display.max_columns', None)"
   ]
  },
  {
   "cell_type": "code",
   "execution_count": 22,
   "metadata": {
    "id": "zqHNP1CVVSm3"
   },
   "outputs": [],
   "source": [
    "#from google.colab import drive\n",
    "#drive.mount('/content/drive')"
   ]
  },
  {
   "cell_type": "code",
   "execution_count": 23,
   "metadata": {
    "id": "kciOtci5VSm3"
   },
   "outputs": [],
   "source": [
    "#df = pd.read_csv(\"drive/MyDrive/Colab_Files/data/fake_reg.csv\")"
   ]
  },
  {
   "cell_type": "code",
   "execution_count": 24,
   "metadata": {
    "id": "cz6RpBPSVSm3"
   },
   "outputs": [],
   "source": [
    "df = pd.read_csv(\"fake_reg.csv\")"
   ]
  },
  {
   "cell_type": "markdown",
   "metadata": {
    "id": "DpoId2odVSm3"
   },
   "source": [
    "## Exploratory Data Analysis and Visualization"
   ]
  },
  {
   "cell_type": "markdown",
   "metadata": {
    "id": "XrabegLfVSm3"
   },
   "source": [
    "Iki feature' a gore price tahmini yapan bir model olusturacagiz. (Regression modeli)"
   ]
  },
  {
   "cell_type": "code",
   "execution_count": 25,
   "metadata": {
    "colab": {
     "base_uri": "https://localhost:8080/",
     "height": 204
    },
    "id": "ZzUkr6WWVSm4",
    "outputId": "19fcfa9a-3e53-4601-dcd2-3f9f78dee8ba"
   },
   "outputs": [
    {
     "data": {
      "text/html": [
       "\n",
       "  <div id=\"df-db54220f-70bd-4b07-a990-16e2451d24d1\">\n",
       "    <div class=\"colab-df-container\">\n",
       "      <div>\n",
       "<style scoped>\n",
       "    .dataframe tbody tr th:only-of-type {\n",
       "        vertical-align: middle;\n",
       "    }\n",
       "\n",
       "    .dataframe tbody tr th {\n",
       "        vertical-align: top;\n",
       "    }\n",
       "\n",
       "    .dataframe thead th {\n",
       "        text-align: right;\n",
       "    }\n",
       "</style>\n",
       "<table border=\"1\" class=\"dataframe\">\n",
       "  <thead>\n",
       "    <tr style=\"text-align: right;\">\n",
       "      <th></th>\n",
       "      <th>price</th>\n",
       "      <th>feature1</th>\n",
       "      <th>feature2</th>\n",
       "    </tr>\n",
       "  </thead>\n",
       "  <tbody>\n",
       "    <tr>\n",
       "      <th>0</th>\n",
       "      <td>461.528</td>\n",
       "      <td>999.788</td>\n",
       "      <td>999.766</td>\n",
       "    </tr>\n",
       "    <tr>\n",
       "      <th>1</th>\n",
       "      <td>548.130</td>\n",
       "      <td>998.862</td>\n",
       "      <td>1001.042</td>\n",
       "    </tr>\n",
       "    <tr>\n",
       "      <th>2</th>\n",
       "      <td>410.297</td>\n",
       "      <td>1000.070</td>\n",
       "      <td>998.844</td>\n",
       "    </tr>\n",
       "    <tr>\n",
       "      <th>3</th>\n",
       "      <td>540.382</td>\n",
       "      <td>999.952</td>\n",
       "      <td>1000.441</td>\n",
       "    </tr>\n",
       "    <tr>\n",
       "      <th>4</th>\n",
       "      <td>546.025</td>\n",
       "      <td>1000.446</td>\n",
       "      <td>1000.339</td>\n",
       "    </tr>\n",
       "  </tbody>\n",
       "</table>\n",
       "</div>\n",
       "      <button class=\"colab-df-convert\" onclick=\"convertToInteractive('df-db54220f-70bd-4b07-a990-16e2451d24d1')\"\n",
       "              title=\"Convert this dataframe to an interactive table.\"\n",
       "              style=\"display:none;\">\n",
       "        \n",
       "  <svg xmlns=\"http://www.w3.org/2000/svg\" height=\"24px\"viewBox=\"0 0 24 24\"\n",
       "       width=\"24px\">\n",
       "    <path d=\"M0 0h24v24H0V0z\" fill=\"none\"/>\n",
       "    <path d=\"M18.56 5.44l.94 2.06.94-2.06 2.06-.94-2.06-.94-.94-2.06-.94 2.06-2.06.94zm-11 1L8.5 8.5l.94-2.06 2.06-.94-2.06-.94L8.5 2.5l-.94 2.06-2.06.94zm10 10l.94 2.06.94-2.06 2.06-.94-2.06-.94-.94-2.06-.94 2.06-2.06.94z\"/><path d=\"M17.41 7.96l-1.37-1.37c-.4-.4-.92-.59-1.43-.59-.52 0-1.04.2-1.43.59L10.3 9.45l-7.72 7.72c-.78.78-.78 2.05 0 2.83L4 21.41c.39.39.9.59 1.41.59.51 0 1.02-.2 1.41-.59l7.78-7.78 2.81-2.81c.8-.78.8-2.07 0-2.86zM5.41 20L4 18.59l7.72-7.72 1.47 1.35L5.41 20z\"/>\n",
       "  </svg>\n",
       "      </button>\n",
       "      \n",
       "  <style>\n",
       "    .colab-df-container {\n",
       "      display:flex;\n",
       "      flex-wrap:wrap;\n",
       "      gap: 12px;\n",
       "    }\n",
       "\n",
       "    .colab-df-convert {\n",
       "      background-color: #E8F0FE;\n",
       "      border: none;\n",
       "      border-radius: 50%;\n",
       "      cursor: pointer;\n",
       "      display: none;\n",
       "      fill: #1967D2;\n",
       "      height: 32px;\n",
       "      padding: 0 0 0 0;\n",
       "      width: 32px;\n",
       "    }\n",
       "\n",
       "    .colab-df-convert:hover {\n",
       "      background-color: #E2EBFA;\n",
       "      box-shadow: 0px 1px 2px rgba(60, 64, 67, 0.3), 0px 1px 3px 1px rgba(60, 64, 67, 0.15);\n",
       "      fill: #174EA6;\n",
       "    }\n",
       "\n",
       "    [theme=dark] .colab-df-convert {\n",
       "      background-color: #3B4455;\n",
       "      fill: #D2E3FC;\n",
       "    }\n",
       "\n",
       "    [theme=dark] .colab-df-convert:hover {\n",
       "      background-color: #434B5C;\n",
       "      box-shadow: 0px 1px 3px 1px rgba(0, 0, 0, 0.15);\n",
       "      filter: drop-shadow(0px 1px 2px rgba(0, 0, 0, 0.3));\n",
       "      fill: #FFFFFF;\n",
       "    }\n",
       "  </style>\n",
       "\n",
       "      <script>\n",
       "        const buttonEl =\n",
       "          document.querySelector('#df-db54220f-70bd-4b07-a990-16e2451d24d1 button.colab-df-convert');\n",
       "        buttonEl.style.display =\n",
       "          google.colab.kernel.accessAllowed ? 'block' : 'none';\n",
       "\n",
       "        async function convertToInteractive(key) {\n",
       "          const element = document.querySelector('#df-db54220f-70bd-4b07-a990-16e2451d24d1');\n",
       "          const dataTable =\n",
       "            await google.colab.kernel.invokeFunction('convertToInteractive',\n",
       "                                                     [key], {});\n",
       "          if (!dataTable) return;\n",
       "\n",
       "          const docLinkHtml = 'Like what you see? Visit the ' +\n",
       "            '<a target=\"_blank\" href=https://colab.research.google.com/notebooks/data_table.ipynb>data table notebook</a>'\n",
       "            + ' to learn more about interactive tables.';\n",
       "          element.innerHTML = '';\n",
       "          dataTable['output_type'] = 'display_data';\n",
       "          await google.colab.output.renderOutput(dataTable, element);\n",
       "          const docLink = document.createElement('div');\n",
       "          docLink.innerHTML = docLinkHtml;\n",
       "          element.appendChild(docLink);\n",
       "        }\n",
       "      </script>\n",
       "    </div>\n",
       "  </div>\n",
       "  "
      ],
      "text/plain": [
       "    price  feature1  feature2\n",
       "0 461.528   999.788   999.766\n",
       "1 548.130   998.862  1001.042\n",
       "2 410.297  1000.070   998.844\n",
       "3 540.382   999.952  1000.441\n",
       "4 546.025  1000.446  1000.339"
      ]
     },
     "execution_count": 25,
     "metadata": {},
     "output_type": "execute_result"
    }
   ],
   "source": [
    "df.head()"
   ]
  },
  {
   "cell_type": "code",
   "execution_count": 26,
   "metadata": {
    "colab": {
     "base_uri": "https://localhost:8080/"
    },
    "id": "G-MI9CHFVSm4",
    "outputId": "0341a33e-db20-4db5-adc4-5de318800be4"
   },
   "outputs": [
    {
     "name": "stdout",
     "output_type": "stream",
     "text": [
      "<class 'pandas.core.frame.DataFrame'>\n",
      "RangeIndex: 1000 entries, 0 to 999\n",
      "Data columns (total 3 columns):\n",
      " #   Column    Non-Null Count  Dtype  \n",
      "---  ------    --------------  -----  \n",
      " 0   price     1000 non-null   float64\n",
      " 1   feature1  1000 non-null   float64\n",
      " 2   feature2  1000 non-null   float64\n",
      "dtypes: float64(3)\n",
      "memory usage: 23.6 KB\n"
     ]
    }
   ],
   "source": [
    "df.info()"
   ]
  },
  {
   "cell_type": "code",
   "execution_count": 27,
   "metadata": {
    "colab": {
     "base_uri": "https://localhost:8080/",
     "height": 142
    },
    "id": "veSiUoXeVSm4",
    "outputId": "c6ca0f47-d680-48cd-cc38-2103202269ea"
   },
   "outputs": [
    {
     "data": {
      "text/html": [
       "\n",
       "  <div id=\"df-a14bce85-95c2-4485-b9dc-a8b68ed3af90\">\n",
       "    <div class=\"colab-df-container\">\n",
       "      <div>\n",
       "<style scoped>\n",
       "    .dataframe tbody tr th:only-of-type {\n",
       "        vertical-align: middle;\n",
       "    }\n",
       "\n",
       "    .dataframe tbody tr th {\n",
       "        vertical-align: top;\n",
       "    }\n",
       "\n",
       "    .dataframe thead th {\n",
       "        text-align: right;\n",
       "    }\n",
       "</style>\n",
       "<table border=\"1\" class=\"dataframe\">\n",
       "  <thead>\n",
       "    <tr style=\"text-align: right;\">\n",
       "      <th></th>\n",
       "      <th>count</th>\n",
       "      <th>mean</th>\n",
       "      <th>std</th>\n",
       "      <th>min</th>\n",
       "      <th>25%</th>\n",
       "      <th>50%</th>\n",
       "      <th>75%</th>\n",
       "      <th>max</th>\n",
       "    </tr>\n",
       "  </thead>\n",
       "  <tbody>\n",
       "    <tr>\n",
       "      <th>price</th>\n",
       "      <td>1000.000</td>\n",
       "      <td>498.673</td>\n",
       "      <td>93.785</td>\n",
       "      <td>223.347</td>\n",
       "      <td>433.026</td>\n",
       "      <td>502.382</td>\n",
       "      <td>564.922</td>\n",
       "      <td>774.408</td>\n",
       "    </tr>\n",
       "    <tr>\n",
       "      <th>feature1</th>\n",
       "      <td>1000.000</td>\n",
       "      <td>1000.014</td>\n",
       "      <td>0.974</td>\n",
       "      <td>997.058</td>\n",
       "      <td>999.332</td>\n",
       "      <td>1000.010</td>\n",
       "      <td>1000.638</td>\n",
       "      <td>1003.208</td>\n",
       "    </tr>\n",
       "    <tr>\n",
       "      <th>feature2</th>\n",
       "      <td>1000.000</td>\n",
       "      <td>999.980</td>\n",
       "      <td>0.948</td>\n",
       "      <td>996.996</td>\n",
       "      <td>999.316</td>\n",
       "      <td>1000.002</td>\n",
       "      <td>1000.645</td>\n",
       "      <td>1002.666</td>\n",
       "    </tr>\n",
       "  </tbody>\n",
       "</table>\n",
       "</div>\n",
       "      <button class=\"colab-df-convert\" onclick=\"convertToInteractive('df-a14bce85-95c2-4485-b9dc-a8b68ed3af90')\"\n",
       "              title=\"Convert this dataframe to an interactive table.\"\n",
       "              style=\"display:none;\">\n",
       "        \n",
       "  <svg xmlns=\"http://www.w3.org/2000/svg\" height=\"24px\"viewBox=\"0 0 24 24\"\n",
       "       width=\"24px\">\n",
       "    <path d=\"M0 0h24v24H0V0z\" fill=\"none\"/>\n",
       "    <path d=\"M18.56 5.44l.94 2.06.94-2.06 2.06-.94-2.06-.94-.94-2.06-.94 2.06-2.06.94zm-11 1L8.5 8.5l.94-2.06 2.06-.94-2.06-.94L8.5 2.5l-.94 2.06-2.06.94zm10 10l.94 2.06.94-2.06 2.06-.94-2.06-.94-.94-2.06-.94 2.06-2.06.94z\"/><path d=\"M17.41 7.96l-1.37-1.37c-.4-.4-.92-.59-1.43-.59-.52 0-1.04.2-1.43.59L10.3 9.45l-7.72 7.72c-.78.78-.78 2.05 0 2.83L4 21.41c.39.39.9.59 1.41.59.51 0 1.02-.2 1.41-.59l7.78-7.78 2.81-2.81c.8-.78.8-2.07 0-2.86zM5.41 20L4 18.59l7.72-7.72 1.47 1.35L5.41 20z\"/>\n",
       "  </svg>\n",
       "      </button>\n",
       "      \n",
       "  <style>\n",
       "    .colab-df-container {\n",
       "      display:flex;\n",
       "      flex-wrap:wrap;\n",
       "      gap: 12px;\n",
       "    }\n",
       "\n",
       "    .colab-df-convert {\n",
       "      background-color: #E8F0FE;\n",
       "      border: none;\n",
       "      border-radius: 50%;\n",
       "      cursor: pointer;\n",
       "      display: none;\n",
       "      fill: #1967D2;\n",
       "      height: 32px;\n",
       "      padding: 0 0 0 0;\n",
       "      width: 32px;\n",
       "    }\n",
       "\n",
       "    .colab-df-convert:hover {\n",
       "      background-color: #E2EBFA;\n",
       "      box-shadow: 0px 1px 2px rgba(60, 64, 67, 0.3), 0px 1px 3px 1px rgba(60, 64, 67, 0.15);\n",
       "      fill: #174EA6;\n",
       "    }\n",
       "\n",
       "    [theme=dark] .colab-df-convert {\n",
       "      background-color: #3B4455;\n",
       "      fill: #D2E3FC;\n",
       "    }\n",
       "\n",
       "    [theme=dark] .colab-df-convert:hover {\n",
       "      background-color: #434B5C;\n",
       "      box-shadow: 0px 1px 3px 1px rgba(0, 0, 0, 0.15);\n",
       "      filter: drop-shadow(0px 1px 2px rgba(0, 0, 0, 0.3));\n",
       "      fill: #FFFFFF;\n",
       "    }\n",
       "  </style>\n",
       "\n",
       "      <script>\n",
       "        const buttonEl =\n",
       "          document.querySelector('#df-a14bce85-95c2-4485-b9dc-a8b68ed3af90 button.colab-df-convert');\n",
       "        buttonEl.style.display =\n",
       "          google.colab.kernel.accessAllowed ? 'block' : 'none';\n",
       "\n",
       "        async function convertToInteractive(key) {\n",
       "          const element = document.querySelector('#df-a14bce85-95c2-4485-b9dc-a8b68ed3af90');\n",
       "          const dataTable =\n",
       "            await google.colab.kernel.invokeFunction('convertToInteractive',\n",
       "                                                     [key], {});\n",
       "          if (!dataTable) return;\n",
       "\n",
       "          const docLinkHtml = 'Like what you see? Visit the ' +\n",
       "            '<a target=\"_blank\" href=https://colab.research.google.com/notebooks/data_table.ipynb>data table notebook</a>'\n",
       "            + ' to learn more about interactive tables.';\n",
       "          element.innerHTML = '';\n",
       "          dataTable['output_type'] = 'display_data';\n",
       "          await google.colab.output.renderOutput(dataTable, element);\n",
       "          const docLink = document.createElement('div');\n",
       "          docLink.innerHTML = docLinkHtml;\n",
       "          element.appendChild(docLink);\n",
       "        }\n",
       "      </script>\n",
       "    </div>\n",
       "  </div>\n",
       "  "
      ],
      "text/plain": [
       "            count     mean    std     min     25%      50%      75%      max\n",
       "price    1000.000  498.673 93.785 223.347 433.026  502.382  564.922  774.408\n",
       "feature1 1000.000 1000.014  0.974 997.058 999.332 1000.010 1000.638 1003.208\n",
       "feature2 1000.000  999.980  0.948 996.996 999.316 1000.002 1000.645 1002.666"
      ]
     },
     "execution_count": 27,
     "metadata": {},
     "output_type": "execute_result"
    }
   ],
   "source": [
    "df.describe().T"
   ]
  },
  {
   "cell_type": "markdown",
   "metadata": {
    "id": "ec-QzFzfVSm4"
   },
   "source": [
    "feature1 ile price arasinda positive-weak, feature2 ile price arasinda positive-strong bir iliski var.feature1 ile feature2 arasinda hicbir iliski yok :"
   ]
  },
  {
   "cell_type": "code",
   "execution_count": 28,
   "metadata": {
    "colab": {
     "base_uri": "https://localhost:8080/",
     "height": 550
    },
    "id": "GPNFlTl8VSm4",
    "outputId": "d810f4d7-b784-4a41-e43a-d2bada489d0a"
   },
   "outputs": [
    {
     "data": {
      "image/png": "[encoded data removed]",
      "text/plain": [
       "<Figure size 540x540 with 12 Axes>"
      ]
     },
     "metadata": {},
     "output_type": "display_data"
    }
   ],
   "source": [
    "sns.pairplot(df);"
   ]
  },
  {
   "cell_type": "code",
   "execution_count": 29,
   "metadata": {
    "colab": {
     "base_uri": "https://localhost:8080/",
     "height": 142
    },
    "id": "ZgBeyrcqVSm4",
    "outputId": "3378c4ef-5951-4e18-9c8d-2f385d89eda3"
   },
   "outputs": [
    {
     "data": {
      "text/html": [
       "\n",
       "  <div id=\"df-00b42be5-abf5-40d9-8dec-bcb672af007f\">\n",
       "    <div class=\"colab-df-container\">\n",
       "      <div>\n",
       "<style scoped>\n",
       "    .dataframe tbody tr th:only-of-type {\n",
       "        vertical-align: middle;\n",
       "    }\n",
       "\n",
       "    .dataframe tbody tr th {\n",
       "        vertical-align: top;\n",
       "    }\n",
       "\n",
       "    .dataframe thead th {\n",
       "        text-align: right;\n",
       "    }\n",
       "</style>\n",
       "<table border=\"1\" class=\"dataframe\">\n",
       "  <thead>\n",
       "    <tr style=\"text-align: right;\">\n",
       "      <th></th>\n",
       "      <th>price</th>\n",
       "      <th>feature1</th>\n",
       "      <th>feature2</th>\n",
       "    </tr>\n",
       "  </thead>\n",
       "  <tbody>\n",
       "    <tr>\n",
       "      <th>price</th>\n",
       "      <td>1.000</td>\n",
       "      <td>0.444</td>\n",
       "      <td>0.908</td>\n",
       "    </tr>\n",
       "    <tr>\n",
       "      <th>feature1</th>\n",
       "      <td>0.444</td>\n",
       "      <td>1.000</td>\n",
       "      <td>0.031</td>\n",
       "    </tr>\n",
       "    <tr>\n",
       "      <th>feature2</th>\n",
       "      <td>0.908</td>\n",
       "      <td>0.031</td>\n",
       "      <td>1.000</td>\n",
       "    </tr>\n",
       "  </tbody>\n",
       "</table>\n",
       "</div>\n",
       "      <button class=\"colab-df-convert\" onclick=\"convertToInteractive('df-00b42be5-abf5-40d9-8dec-bcb672af007f')\"\n",
       "              title=\"Convert this dataframe to an interactive table.\"\n",
       "              style=\"display:none;\">\n",
       "        \n",
       "  <svg xmlns=\"http://www.w3.org/2000/svg\" height=\"24px\"viewBox=\"0 0 24 24\"\n",
       "       width=\"24px\">\n",
       "    <path d=\"M0 0h24v24H0V0z\" fill=\"none\"/>\n",
       "    <path d=\"M18.56 5.44l.94 2.06.94-2.06 2.06-.94-2.06-.94-.94-2.06-.94 2.06-2.06.94zm-11 1L8.5 8.5l.94-2.06 2.06-.94-2.06-.94L8.5 2.5l-.94 2.06-2.06.94zm10 10l.94 2.06.94-2.06 2.06-.94-2.06-.94-.94-2.06-.94 2.06-2.06.94z\"/><path d=\"M17.41 7.96l-1.37-1.37c-.4-.4-.92-.59-1.43-.59-.52 0-1.04.2-1.43.59L10.3 9.45l-7.72 7.72c-.78.78-.78 2.05 0 2.83L4 21.41c.39.39.9.59 1.41.59.51 0 1.02-.2 1.41-.59l7.78-7.78 2.81-2.81c.8-.78.8-2.07 0-2.86zM5.41 20L4 18.59l7.72-7.72 1.47 1.35L5.41 20z\"/>\n",
       "  </svg>\n",
       "      </button>\n",
       "      \n",
       "  <style>\n",
       "    .colab-df-container {\n",
       "      display:flex;\n",
       "      flex-wrap:wrap;\n",
       "      gap: 12px;\n",
       "    }\n",
       "\n",
       "    .colab-df-convert {\n",
       "      background-color: #E8F0FE;\n",
       "      border: none;\n",
       "      border-radius: 50%;\n",
       "      cursor: pointer;\n",
       "      display: none;\n",
       "      fill: #1967D2;\n",
       "      height: 32px;\n",
       "      padding: 0 0 0 0;\n",
       "      width: 32px;\n",
       "    }\n",
       "\n",
       "    .colab-df-convert:hover {\n",
       "      background-color: #E2EBFA;\n",
       "      box-shadow: 0px 1px 2px rgba(60, 64, 67, 0.3), 0px 1px 3px 1px rgba(60, 64, 67, 0.15);\n",
       "      fill: #174EA6;\n",
       "    }\n",
       "\n",
       "    [theme=dark] .colab-df-convert {\n",
       "      background-color: #3B4455;\n",
       "      fill: #D2E3FC;\n",
       "    }\n",
       "\n",
       "    [theme=dark] .colab-df-convert:hover {\n",
       "      background-color: #434B5C;\n",
       "      box-shadow: 0px 1px 3px 1px rgba(0, 0, 0, 0.15);\n",
       "      filter: drop-shadow(0px 1px 2px rgba(0, 0, 0, 0.3));\n",
       "      fill: #FFFFFF;\n",
       "    }\n",
       "  </style>\n",
       "\n",
       "      <script>\n",
       "        const buttonEl =\n",
       "          document.querySelector('#df-00b42be5-abf5-40d9-8dec-bcb672af007f button.colab-df-convert');\n",
       "        buttonEl.style.display =\n",
       "          google.colab.kernel.accessAllowed ? 'block' : 'none';\n",
       "\n",
       "        async function convertToInteractive(key) {\n",
       "          const element = document.querySelector('#df-00b42be5-abf5-40d9-8dec-bcb672af007f');\n",
       "          const dataTable =\n",
       "            await google.colab.kernel.invokeFunction('convertToInteractive',\n",
       "                                                     [key], {});\n",
       "          if (!dataTable) return;\n",
       "\n",
       "          const docLinkHtml = 'Like what you see? Visit the ' +\n",
       "            '<a target=\"_blank\" href=https://colab.research.google.com/notebooks/data_table.ipynb>data table notebook</a>'\n",
       "            + ' to learn more about interactive tables.';\n",
       "          element.innerHTML = '';\n",
       "          dataTable['output_type'] = 'display_data';\n",
       "          await google.colab.output.renderOutput(dataTable, element);\n",
       "          const docLink = document.createElement('div');\n",
       "          docLink.innerHTML = docLinkHtml;\n",
       "          element.appendChild(docLink);\n",
       "        }\n",
       "      </script>\n",
       "    </div>\n",
       "  </div>\n",
       "  "
      ],
      "text/plain": [
       "          price  feature1  feature2\n",
       "price     1.000     0.444     0.908\n",
       "feature1  0.444     1.000     0.031\n",
       "feature2  0.908     0.031     1.000"
      ]
     },
     "execution_count": 29,
     "metadata": {},
     "output_type": "execute_result"
    }
   ],
   "source": [
    "df.corr()"
   ]
  },
  {
   "cell_type": "markdown",
   "metadata": {
    "id": "tD8ofIljVSm5"
   },
   "source": [
    "## Preprocessing of Data\n",
    "- Train | Test Split, Scalling"
   ]
  },
  {
   "cell_type": "code",
   "execution_count": 30,
   "metadata": {
    "id": "nFR2gVH0VSm5"
   },
   "outputs": [],
   "source": [
    "from sklearn.model_selection import train_test_split"
   ]
  },
  {
   "cell_type": "markdown",
   "metadata": {
    "id": "51UhG6GOVSm5"
   },
   "source": [
    "ML' den farkli olarak X ve y' de value degerleri aliniyor cunku DL modelleri datayi array halinde ister, DataFrame istemez. Cunku DL' de cok daha fazla parametre vardir ve cok daha fazla islem yapilir. Datanin array olmasi da hizi artirir. Value' lari almak yerine datayi scale edersek de ayni islemi yapmis oluruz :"
   ]
  },
  {
   "cell_type": "code",
   "execution_count": 31,
   "metadata": {
    "id": "qFQjW55zVSm5"
   },
   "outputs": [],
   "source": [
    "X = df[['feature1', 'feature2']].values\n",
    "y = df['price'].values"
   ]
  },
  {
   "cell_type": "code",
   "execution_count": 32,
   "metadata": {
    "colab": {
     "base_uri": "https://localhost:8080/"
    },
    "id": "5i_2KFVDVSm6",
    "outputId": "c145d82d-8d8c-421b-9305-5813ef43eb16"
   },
   "outputs": [
    {
     "data": {
      "text/plain": [
       "array([[ 999.78755752,  999.7660962 ],\n",
       "       [ 998.86161491, 1001.04240315],\n",
       "       [1000.07026691,  998.84401463],\n",
       "       ...,\n",
       "       [1001.45164617,  998.84760554],\n",
       "       [1000.77102275,  998.56285086],\n",
       "       [ 999.2322436 , 1001.45140713]])"
      ]
     },
     "execution_count": 32,
     "metadata": {},
     "output_type": "execute_result"
    }
   ],
   "source": [
    "X"
   ]
  },
  {
   "cell_type": "code",
   "execution_count": 33,
   "metadata": {
    "colab": {
     "base_uri": "https://localhost:8080/"
    },
    "id": "5lqTsV3KVSm7",
    "outputId": "914ac80b-510c-4e69-b5ef-5e406ecc3536"
   },
   "outputs": [
    {
     "data": {
      "text/plain": [
       "array([461.52792939, 548.13001146, 410.29716167, 540.38221981,\n",
       "       546.02455292, 542.9836716 , 555.48566416, 417.56972453,\n",
       "       373.14653122, 633.35029248, 624.24709206, 475.37241721,\n",
       "       600.36844486, 532.83295175, 472.8353628 , 506.31229096,\n",
       "       508.414406  , 610.4553519 , 323.65776198, 446.21230389,\n",
       "       362.12270299, 433.41064026, 562.00257647, 637.30962074,\n",
       "       522.80800754, 469.8028243 , 543.10992778, 565.43416994,\n",
       "       530.03285381, 610.58016503, 482.55641188, 327.56004052,\n",
       "       579.73083872, 448.42981468, 628.97709187, 536.79737216,\n",
       "       570.06729543, 357.82557519, 612.08492732, 444.67970846,\n",
       "       600.1186364 , 523.53312776, 512.94994495, 614.8813169 ,\n",
       "       404.35303251, 643.68851807, 488.95660398, 443.20468572,\n",
       "       514.47906638, 514.88174058, 325.05852217, 554.6620585 ,\n",
       "       451.39140001, 587.67887726, 477.73749721, 574.51560687,\n",
       "       548.9107991 , 528.69088356, 443.21100482, 397.88209319,\n",
       "       355.79535223, 460.69478138, 534.7673737 , 537.6067329 ,\n",
       "       603.66990347, 547.27579153, 567.30862153, 454.32901321,\n",
       "       492.60451447, 643.13593178, 477.4305163 , 497.41251837,\n",
       "       559.04378534, 576.67843837, 292.1917811 , 542.99539996,\n",
       "       547.73198239, 507.43439141, 408.12200074, 595.43348561,\n",
       "       463.3552036 , 468.35698045, 462.00480189, 410.35912407,\n",
       "       467.46059552, 497.23978613, 411.63794464, 583.06598409,\n",
       "       441.95036691, 536.04090915, 530.98717439, 364.50842093,\n",
       "       626.06865169, 434.62971003, 523.02344198, 484.10880902,\n",
       "       411.57560703, 722.26394433, 519.46299177, 558.50321048,\n",
       "       526.24297782, 531.27754687, 470.89067007, 459.92494538,\n",
       "       577.58298501, 599.90573138, 584.92843756, 357.34223391,\n",
       "       392.04726871, 515.77844597, 390.2092368 , 497.49148239,\n",
       "       506.74032509, 395.51477512, 239.65626376, 507.6052943 ,\n",
       "       628.84940437, 468.07324688, 444.9447339 , 527.31719596,\n",
       "       415.44298463, 363.4303791 , 591.86909195, 391.12466656,\n",
       "       526.1019196 , 402.00959595, 563.67781737, 362.24018346,\n",
       "       514.31349869, 322.31435197, 513.519732  , 340.05814212,\n",
       "       560.79471778, 489.79459784, 381.07367881, 558.34939279,\n",
       "       451.8041724 , 451.79140134, 442.17202786, 488.78691774,\n",
       "       433.09376956, 518.00709658, 511.69454654, 334.89459622,\n",
       "       490.78489309, 510.46356567, 565.02540892, 542.30140508,\n",
       "       655.42619806, 433.51753016, 373.06190748, 517.32199998,\n",
       "       609.96955536, 401.28033698, 540.74381886, 410.53824963,\n",
       "       441.7417974 , 448.70138654, 377.57042607, 450.85178618,\n",
       "       695.08064351, 548.94851249, 479.70887661, 345.01181992,\n",
       "       576.85255167, 337.95129476, 466.8394786 , 429.91541295,\n",
       "       567.88189283, 422.77852605, 559.7847254 , 503.75687251,\n",
       "       355.35228879, 622.37147383, 450.9760715 , 591.71413509,\n",
       "       522.42993416, 474.08634639, 423.05243386, 466.70445806,\n",
       "       481.92547045, 362.91867606, 566.05763935, 457.05958811,\n",
       "       580.88060484, 497.33921897, 519.17237518, 640.40485258,\n",
       "       477.25839763, 506.50370548, 634.2482933 , 311.87137765,\n",
       "       556.61215428, 446.36031515, 543.83027912, 617.61509904,\n",
       "       491.55128715, 441.90522674, 418.45717839, 524.47348399,\n",
       "       483.13482709, 622.99764305, 424.60840775, 515.14753991,\n",
       "       496.89047668, 534.23436696, 627.3802761 , 460.02329028,\n",
       "       338.13384172, 397.62059618, 562.05793604, 504.69389644,\n",
       "       490.99787402, 361.42640522, 608.12804021, 625.07938608,\n",
       "       461.38078609, 533.07210805, 438.26540597, 404.14239475,\n",
       "       458.52789767, 455.13953399, 521.87959462, 507.09798982,\n",
       "       480.80694031, 539.68399729, 376.32625533, 449.458484  ,\n",
       "       457.77794629, 531.16341758, 599.81185581, 526.67361757,\n",
       "       512.1515175 , 510.02950867, 391.26547583, 593.6677957 ,\n",
       "       415.60708684, 469.07283863, 485.22477592, 354.92884232,\n",
       "       316.63684801, 464.44494809, 649.39591652, 474.02501346,\n",
       "       551.56006043, 631.88915741, 597.71257172, 532.62879772,\n",
       "       445.58282142, 599.92382612, 375.95938044, 581.90748483,\n",
       "       464.9944057 , 417.23887206, 570.6460653 , 414.754452  ,\n",
       "       578.22402034, 405.92898949, 626.6797543 , 484.01952653,\n",
       "       275.33337527, 531.66193891, 223.34679276, 637.77896908,\n",
       "       553.87999612, 487.7379163 , 439.09025956, 378.04069831,\n",
       "       379.23669121, 537.12524033, 553.12387811, 505.69270877,\n",
       "       421.53806534, 510.88504979, 567.19470601, 697.70715802,\n",
       "       388.74663225, 578.32901814, 734.2765031 , 449.32814488,\n",
       "       512.04904895, 357.29591446, 360.23212493, 395.12045332,\n",
       "       423.70001699, 443.80983891, 595.96581968, 515.56181283,\n",
       "       531.9290881 , 530.13508628, 448.63240577, 527.61587693,\n",
       "       453.45829752, 417.54122635, 656.97308566, 546.23137991,\n",
       "       492.93591939, 379.90913372, 511.36670783, 503.51419982,\n",
       "       519.46055247, 611.14763688, 411.05157782, 403.41301547,\n",
       "       496.75415064, 466.00440866, 528.12861343, 633.45125327,\n",
       "       567.04497795, 435.09849106, 537.92888483, 452.71044444,\n",
       "       609.3840753 , 396.1965711 , 504.43137263, 626.69427794,\n",
       "       493.01201779, 724.47187575, 713.46667346, 565.19184559,\n",
       "       551.57372795, 451.89764782, 565.96723066, 367.7919044 ,\n",
       "       576.32144345, 579.42843094, 489.09760772, 487.18793877,\n",
       "       621.11885596, 481.90704139, 700.98368025, 599.99118092,\n",
       "       522.35888373, 646.8239136 , 568.61318745, 511.29824533,\n",
       "       760.65101669, 304.43261518, 543.32064222, 399.86651896,\n",
       "       585.16821441, 484.229812  , 425.84365096, 550.47494925,\n",
       "       325.79480263, 364.03501381, 439.49653517, 518.26312427,\n",
       "       693.9884929 , 512.59570173, 257.71199724, 524.32438029,\n",
       "       402.1955134 , 579.85178649, 476.07122974, 411.18423872,\n",
       "       367.76354239, 400.63495186, 609.58070746, 612.47025609,\n",
       "       366.3818868 , 485.50390003, 443.39703561, 479.56906767,\n",
       "       559.69848911, 432.82161991, 328.20550401, 524.37119547,\n",
       "       552.77893509, 630.61363933, 424.81078609, 375.13754715,\n",
       "       338.93370122, 574.74001083, 355.81485125, 378.79339707,\n",
       "       555.99978702, 642.3708192 , 347.87631327, 330.08230225,\n",
       "       392.70436827, 519.32640956, 612.7537015 , 469.24686052,\n",
       "       460.31999098, 646.25928592, 452.73449935, 446.6617038 ,\n",
       "       392.57787377, 419.11235041, 485.67140382, 533.55074599,\n",
       "       558.68796948, 433.41514433, 572.67843212, 474.34929884,\n",
       "       587.45566743, 603.60488162, 679.89502292, 454.02841184,\n",
       "       641.29636111, 523.12643425, 451.86441942, 369.91451298,\n",
       "       602.12024979, 589.28379767, 552.35874313, 497.82077751,\n",
       "       645.7084402 , 299.39441419, 416.37530318, 371.22410361,\n",
       "       305.42221221, 476.19497523, 718.25653986, 481.64581321,\n",
       "       449.79721212, 423.13089618, 487.23276805, 486.74414447,\n",
       "       333.08087339, 560.13543661, 711.65777328, 424.61108821,\n",
       "       367.88499002, 502.8467149 , 661.16436862, 422.44243544,\n",
       "       612.72791033, 526.44751951, 462.88163084, 574.57837765,\n",
       "       477.80625993, 431.18869681, 596.27161677, 367.04561733,\n",
       "       610.29650189, 573.83826959, 561.6815936 , 316.9505926 ,\n",
       "       353.78339461, 462.24239731, 395.74531349, 461.17944502,\n",
       "       265.31883491, 516.28603756, 495.54358534, 655.0298841 ,\n",
       "       361.96928555, 383.93441552, 339.21223298, 438.97699136,\n",
       "       518.36039543, 587.06918986, 513.58851064, 541.1289475 ,\n",
       "       318.2422866 , 407.41050587, 401.53996228, 530.27625921,\n",
       "       421.52951149, 509.05805746, 460.1838563 , 387.89272462,\n",
       "       560.93779062, 586.55980649, 426.36278463, 479.91915661,\n",
       "       525.70465661, 555.42087135, 530.68301453, 469.87238663,\n",
       "       606.31505182, 364.85210784, 360.16078118, 425.10615848,\n",
       "       365.56087755, 480.23012282, 533.48426265, 477.32136011,\n",
       "       685.07306529, 595.85363797, 510.87857855, 403.69954917,\n",
       "       493.96420737, 368.9200954 , 549.84762007, 601.76780838,\n",
       "       508.20389135, 418.93004519, 564.36822362, 604.11066099,\n",
       "       599.28050672, 527.88077226, 547.07286694, 576.8926402 ,\n",
       "       491.80281223, 518.70630218, 532.62653164, 685.21654079,\n",
       "       441.38724011, 315.51892903, 581.51143808, 585.15669192,\n",
       "       481.20614899, 470.46051802, 535.54367583, 489.05755196,\n",
       "       731.50955837, 539.7932304 , 421.26795581, 480.59911503,\n",
       "       530.21039882, 464.11587006, 633.4727288 , 449.41611879,\n",
       "       635.34706613, 537.24922805, 572.38065064, 553.90462877,\n",
       "       616.51060101, 402.29631873, 456.89995237, 505.74726413,\n",
       "       601.63849578, 510.88661196, 556.83209711, 379.10982057,\n",
       "       453.49681218, 594.68664574, 567.46368769, 498.9283394 ,\n",
       "       413.10071452, 437.18179741, 699.73384102, 351.42908062,\n",
       "       593.23051938, 544.18131004, 438.76371594, 446.87698755,\n",
       "       471.99435967, 461.14062423, 689.1734889 , 521.79699247,\n",
       "       603.88757737, 655.39140319, 369.78582541, 509.84188626,\n",
       "       475.17585767, 338.0902386 , 480.80616796, 587.30777032,\n",
       "       503.39000141, 518.12788339, 506.33929863, 647.36155957,\n",
       "       453.13824142, 396.04998476, 612.50533943, 618.93363459,\n",
       "       524.56895456, 666.06222545, 657.95491426, 496.06904958,\n",
       "       524.38393835, 461.49048992, 433.99838446, 572.31305385,\n",
       "       451.92641532, 362.68807582, 514.89474416, 427.36956977,\n",
       "       435.51362445, 566.27172557, 452.37238329, 375.62302356,\n",
       "       466.49020065, 465.17802914, 405.40016562, 427.74126221,\n",
       "       358.85061321, 481.53346268, 358.68011197, 375.31180205,\n",
       "       550.14246248, 556.54397565, 595.38094652, 512.58377753,\n",
       "       665.04739236, 549.29054549, 569.87336031, 550.29340062,\n",
       "       607.41940296, 617.37737732, 613.42662915, 604.57261409,\n",
       "       516.98581378, 401.89505573, 448.55357219, 475.94699622,\n",
       "       501.89188819, 498.6284209 , 474.2054026 , 568.60477798,\n",
       "       698.41041396, 550.89673991, 481.52436972, 498.46359085,\n",
       "       515.90099007, 478.08030334, 562.84736681, 578.52385723,\n",
       "       564.9556813 , 497.46472684, 526.34259721, 568.73205922,\n",
       "       439.65054024, 624.99250404, 370.74177754, 553.07681733,\n",
       "       414.85687715, 448.51914416, 347.1911182 , 631.56069392,\n",
       "       527.05754159, 553.32419751, 514.40564086, 444.05469284,\n",
       "       341.68789552, 565.24995494, 436.55494972, 548.61436053,\n",
       "       501.62206015, 362.24928105, 309.35587863, 435.26155328,\n",
       "       428.31614877, 308.22343125, 536.59066876, 774.40785445,\n",
       "       428.84321279, 552.88912902, 297.29389413, 637.85870827,\n",
       "       564.11153791, 648.01014932, 404.12928655, 508.82552564,\n",
       "       539.54049318, 467.66852221, 489.12458007, 571.18829179,\n",
       "       497.72274826, 396.92876859, 414.11072814, 406.28845394,\n",
       "       579.55848998, 406.6160671 , 515.21520276, 564.18681488,\n",
       "       578.58860646, 408.28620182, 581.54252662, 667.4812481 ,\n",
       "       622.86551828, 500.13304581, 379.13131207, 502.71948002,\n",
       "       343.73541799, 441.48474021, 499.21235117, 542.36204897,\n",
       "       547.62404325, 535.92947542, 461.52076712, 529.4394398 ,\n",
       "       521.61588724, 547.71292837, 584.38110772, 465.99980649,\n",
       "       489.99646515, 634.5322379 , 639.81836225, 500.7218448 ,\n",
       "       514.69378589, 380.13984916, 402.78860922, 507.44318662,\n",
       "       516.66204986, 246.73972006, 345.85149947, 728.54158643,\n",
       "       593.47480723, 623.05449555, 466.78702434, 524.96702947,\n",
       "       695.77282817, 498.19000033, 420.23890075, 449.25967508,\n",
       "       518.34877268, 608.64466352, 476.08427344, 425.4599912 ,\n",
       "       388.0260642 , 595.54443191, 606.21795936, 502.35831316,\n",
       "       470.9635849 , 565.07689035, 570.16851237, 505.63188399,\n",
       "       443.18691766, 387.64605588, 592.7579165 , 528.1454695 ,\n",
       "       610.09170764, 543.3237843 , 651.39612886, 552.91452026,\n",
       "       662.92504623, 571.70626262, 521.7744574 , 565.9362005 ,\n",
       "       526.29247961, 525.55617773, 547.12901446, 556.38156913,\n",
       "       643.55257205, 310.19085317, 316.97373493, 581.24757434,\n",
       "       675.76026898, 637.27161099, 503.27065876, 386.83158001,\n",
       "       449.22797293, 624.15619847, 708.0181058 , 436.66965907,\n",
       "       582.4550663 , 523.15977914, 454.01363039, 458.33002662,\n",
       "       553.13406068, 575.68656759, 399.74690881, 479.03778184,\n",
       "       377.13616236, 611.84754884, 457.69568614, 320.68694051,\n",
       "       607.66473078, 431.47987323, 536.00593624, 487.25310045,\n",
       "       357.11605236, 406.97496006, 367.88456147, 352.28258718,\n",
       "       428.43268624, 674.31102047, 455.03533539, 493.53818767,\n",
       "       323.74660823, 570.87438588, 522.35358676, 512.37078567,\n",
       "       344.445388  , 603.44292484, 494.19769248, 623.10445015,\n",
       "       615.5627227 , 501.09520221, 460.4308638 , 511.19375671,\n",
       "       619.10478486, 425.20422156, 439.38667763, 609.7226948 ,\n",
       "       520.97315983, 564.91022293, 574.57307473, 273.43263798,\n",
       "       416.57967214, 414.00400534, 602.54914671, 501.81396346,\n",
       "       657.25888889, 545.58520276, 363.11433585, 587.10134867,\n",
       "       535.98312568, 357.044414  , 543.91850962, 487.46952396,\n",
       "       491.03773416, 618.12341696, 442.93357949, 528.44015453,\n",
       "       492.87327105, 497.04387645, 606.29736199, 368.90204456,\n",
       "       463.83315596, 411.35636173, 670.21237633, 408.52236362,\n",
       "       484.43638366, 492.6419263 , 381.85298995, 613.95995262,\n",
       "       327.36024129, 491.79240663, 585.44412785, 380.3945669 ,\n",
       "       554.7626666 , 493.85668075, 526.2107462 , 385.39655988,\n",
       "       484.46159148, 332.22764352, 564.67207171, 649.44006825,\n",
       "       424.72778986, 618.08695111, 511.89276394, 331.12168828,\n",
       "       558.16409431, 493.56964948, 396.05573683, 631.37140169,\n",
       "       478.44486619, 628.54499456, 499.75474684, 506.8234736 ,\n",
       "       258.64403747, 478.35823792, 460.54250824, 552.62665953,\n",
       "       519.60816751, 456.98761551, 562.62597526, 560.98721013,\n",
       "       588.24268147, 579.43065472, 490.68891134, 372.77743562,\n",
       "       677.27628686, 420.76621323, 478.08636807, 608.79918051,\n",
       "       498.40036414, 351.09008918, 604.7965235 , 584.29415078,\n",
       "       552.36859639, 514.85636404, 324.75278473, 551.65009963,\n",
       "       646.42137115, 412.01627785, 542.05581314, 376.82027575,\n",
       "       485.65542199, 530.00104432, 531.48237221, 502.90170221,\n",
       "       320.22783441, 410.17228689, 307.49262471, 414.32154328,\n",
       "       429.47259522, 611.37280691, 579.49800824, 645.84815363,\n",
       "       528.21987259, 487.29933081, 530.99314592, 374.19760282,\n",
       "       453.82582684, 535.04562659, 381.36832678, 657.71868008,\n",
       "       403.06256371, 502.40592148, 612.48716221, 473.14373027,\n",
       "       648.49853653, 477.59301587, 478.85719007, 469.11310605,\n",
       "       558.87741587, 560.67805186, 484.56010504, 602.9701103 ,\n",
       "       501.88831717, 296.98984675, 409.95257743, 429.21452014,\n",
       "       529.71971585, 503.21614081, 656.65474461, 378.81430465,\n",
       "       627.64016416, 420.35676968, 347.19521436, 559.96108847,\n",
       "       437.90401436, 382.48198573, 446.61250992, 578.94348317,\n",
       "       427.85700338, 563.58363749, 603.55869587, 445.94046658,\n",
       "       577.31665049, 453.9716661 , 367.16096642, 591.50358214,\n",
       "       404.90316218, 403.90327413, 425.48260511, 657.80019814,\n",
       "       664.50877632, 503.05044876, 518.66756145, 544.49878325,\n",
       "       409.67675815, 338.5727094 , 427.48699506, 349.71799435,\n",
       "       434.38654316, 549.93636627, 524.5896561 , 502.90947332,\n",
       "       342.05906592, 622.03205011, 654.83912076, 434.69375374,\n",
       "       470.5546375 , 380.47707861, 560.3817655 , 549.2573511 ,\n",
       "       494.25163915, 450.42484415, 594.84047708, 412.90687671,\n",
       "       433.42313493, 512.04979227, 478.04811801, 413.29973991,\n",
       "       415.84564074, 511.58583419, 472.89142434, 657.93173622,\n",
       "       560.66409232, 587.74308283, 472.06766427, 390.86267833,\n",
       "       329.06703513, 526.72673086, 452.10238608, 413.87226234,\n",
       "       666.44170815, 487.7692307 , 560.63785511, 449.81047626,\n",
       "       499.94830987, 429.26772106, 508.91176483, 546.20393322,\n",
       "       621.59703226, 413.84178036, 449.02606966, 447.05319043,\n",
       "       595.48648065, 480.87733296, 667.70856487, 594.60958875,\n",
       "       600.04329091, 508.19978205, 359.19507992, 365.88328071,\n",
       "       576.73842525, 515.32519058, 423.65453319, 543.49227764,\n",
       "       577.29292367, 421.05894642, 625.08018462, 434.27528283,\n",
       "       657.73425067, 518.35614426, 481.86280607, 476.52607826,\n",
       "       457.31318609, 456.72099249, 403.31557562, 599.36709348])"
      ]
     },
     "execution_count": 33,
     "metadata": {},
     "output_type": "execute_result"
    }
   ],
   "source": [
    "y"
   ]
  },
  {
   "cell_type": "code",
   "execution_count": 34,
   "metadata": {
    "id": "V2surWLCVSm7"
   },
   "outputs": [],
   "source": [
    "X_train, X_test, y_train, y_test = train_test_split(X, y, test_size = 0.3, random_state = 42)"
   ]
  },
  {
   "cell_type": "code",
   "execution_count": 35,
   "metadata": {
    "colab": {
     "base_uri": "https://localhost:8080/"
    },
    "id": "nJMhL9JZVSm7",
    "outputId": "de96c5f1-b93d-4ecf-ccb5-d22a0508f9d3"
   },
   "outputs": [
    {
     "data": {
      "text/plain": [
       "(700, 2)"
      ]
     },
     "execution_count": 35,
     "metadata": {},
     "output_type": "execute_result"
    }
   ],
   "source": [
    "X_train.shape"
   ]
  },
  {
   "cell_type": "code",
   "execution_count": 36,
   "metadata": {
    "colab": {
     "base_uri": "https://localhost:8080/"
    },
    "id": "BIsiEwG_VSm7",
    "outputId": "01db1b87-4593-4beb-bdcd-3524c1311a68"
   },
   "outputs": [
    {
     "data": {
      "text/plain": [
       "(300, 2)"
      ]
     },
     "execution_count": 36,
     "metadata": {},
     "output_type": "execute_result"
    }
   ],
   "source": [
    "X_test.shape"
   ]
  },
  {
   "cell_type": "markdown",
   "metadata": {
    "id": "C4L-H2xTVSm7"
   },
   "source": [
    "DL' de genellikle MinMaxScaler kullanilir. DL' de islem yuku cok fazla ve MinMaxScaler, degerleri 0 ile 1 arasina sikistirir :"
   ]
  },
  {
   "cell_type": "code",
   "execution_count": 37,
   "metadata": {
    "id": "05_lpF3yVSm8"
   },
   "outputs": [],
   "source": [
    "from sklearn.preprocessing import MinMaxScaler"
   ]
  },
  {
   "cell_type": "markdown",
   "metadata": {
    "id": "nG98kDW3VSm8"
   },
   "source": [
    "__MinMaxScaler --->__ Ilgili sutundaki min ve max degerlerini alir, scale edilmek istenen degerden min degeri cikarir; bunu da max-min farkina boler. Boylece tum degerler 0 ile 1 arasina gelmis olur."
   ]
  },
  {
   "cell_type": "code",
   "execution_count": 38,
   "metadata": {
    "colab": {
     "base_uri": "https://localhost:8080/"
    },
    "id": "hqS7-sfqVSm8",
    "outputId": "690789af-cb3c-42e9-f21f-1968541f0611"
   },
   "outputs": [
    {
     "name": "stdout",
     "output_type": "stream",
     "text": [
      "Help on class MinMaxScaler in module sklearn.preprocessing._data:\n",
      "\n",
      "class MinMaxScaler(sklearn.base._OneToOneFeatureMixin, sklearn.base.TransformerMixin, sklearn.base.BaseEstimator)\n",
      " |  MinMaxScaler(feature_range=(0, 1), *, copy=True, clip=False)\n",
      " |  \n",
      " |  Transform features by scaling each feature to a given range.\n",
      " |  \n",
      " |  This estimator scales and translates each feature individually such\n",
      " |  that it is in the given range on the training set, e.g. between\n",
      " |  zero and one.\n",
      " |  \n",
      " |  The transformation is given by::\n",
      " |  \n",
      " |      X_std = (X - X.min(axis=0)) / (X.max(axis=0) - X.min(axis=0))\n",
      " |      X_scaled = X_std * (max - min) + min\n",
      " |  \n",
      " |  where min, max = feature_range.\n",
      " |  \n",
      " |  This transformation is often used as an alternative to zero mean,\n",
      " |  unit variance scaling.\n",
      " |  \n",
      " |  Read more in the :ref:`User Guide <preprocessing_scaler>`.\n",
      " |  \n",
      " |  Parameters\n",
      " |  ----------\n",
      " |  feature_range : tuple (min, max), default=(0, 1)\n",
      " |      Desired range of transformed data.\n",
      " |  \n",
      " |  copy : bool, default=True\n",
      " |      Set to False to perform inplace row normalization and avoid a\n",
      " |      copy (if the input is already a numpy array).\n",
      " |  \n",
      " |  clip : bool, default=False\n",
      " |      Set to True to clip transformed values of held-out data to\n",
      " |      provided `feature range`.\n",
      " |  \n",
      " |      .. versionadded:: 0.24\n",
      " |  \n",
      " |  Attributes\n",
      " |  ----------\n",
      " |  min_ : ndarray of shape (n_features,)\n",
      " |      Per feature adjustment for minimum. Equivalent to\n",
      " |      ``min - X.min(axis=0) * self.scale_``\n",
      " |  \n",
      " |  scale_ : ndarray of shape (n_features,)\n",
      " |      Per feature relative scaling of the data. Equivalent to\n",
      " |      ``(max - min) / (X.max(axis=0) - X.min(axis=0))``\n",
      " |  \n",
      " |      .. versionadded:: 0.17\n",
      " |         *scale_* attribute.\n",
      " |  \n",
      " |  data_min_ : ndarray of shape (n_features,)\n",
      " |      Per feature minimum seen in the data\n",
      " |  \n",
      " |      .. versionadded:: 0.17\n",
      " |         *data_min_*\n",
      " |  \n",
      " |  data_max_ : ndarray of shape (n_features,)\n",
      " |      Per feature maximum seen in the data\n",
      " |  \n",
      " |      .. versionadded:: 0.17\n",
      " |         *data_max_*\n",
      " |  \n",
      " |  data_range_ : ndarray of shape (n_features,)\n",
      " |      Per feature range ``(data_max_ - data_min_)`` seen in the data\n",
      " |  \n",
      " |      .. versionadded:: 0.17\n",
      " |         *data_range_*\n",
      " |  \n",
      " |  n_features_in_ : int\n",
      " |      Number of features seen during :term:`fit`.\n",
      " |  \n",
      " |      .. versionadded:: 0.24\n",
      " |  \n",
      " |  n_samples_seen_ : int\n",
      " |      The number of samples processed by the estimator.\n",
      " |      It will be reset on new calls to fit, but increments across\n",
      " |      ``partial_fit`` calls.\n",
      " |  \n",
      " |  feature_names_in_ : ndarray of shape (`n_features_in_`,)\n",
      " |      Names of features seen during :term:`fit`. Defined only when `X`\n",
      " |      has feature names that are all strings.\n",
      " |  \n",
      " |      .. versionadded:: 1.0\n",
      " |  \n",
      " |  See Also\n",
      " |  --------\n",
      " |  minmax_scale : Equivalent function without the estimator API.\n",
      " |  \n",
      " |  Notes\n",
      " |  -----\n",
      " |  NaNs are treated as missing values: disregarded in fit, and maintained in\n",
      " |  transform.\n",
      " |  \n",
      " |  For a comparison of the different scalers, transformers, and normalizers,\n",
      " |  see :ref:`examples/preprocessing/plot_all_scaling.py\n",
      " |  <sphx_glr_auto_examples_preprocessing_plot_all_scaling.py>`.\n",
      " |  \n",
      " |  Examples\n",
      " |  --------\n",
      " |  >>> from sklearn.preprocessing import MinMaxScaler\n",
      " |  >>> data = [[-1, 2], [-0.5, 6], [0, 10], [1, 18]]\n",
      " |  >>> scaler = MinMaxScaler()\n",
      " |  >>> print(scaler.fit(data))\n",
      " |  MinMaxScaler()\n",
      " |  >>> print(scaler.data_max_)\n",
      " |  [ 1. 18.]\n",
      " |  >>> print(scaler.transform(data))\n",
      " |  [[0.   0.  ]\n",
      " |   [0.25 0.25]\n",
      " |   [0.5  0.5 ]\n",
      " |   [1.   1.  ]]\n",
      " |  >>> print(scaler.transform([[2, 2]]))\n",
      " |  [[1.5 0. ]]\n",
      " |  \n",
      " |  Method resolution order:\n",
      " |      MinMaxScaler\n",
      " |      sklearn.base._OneToOneFeatureMixin\n",
      " |      sklearn.base.TransformerMixin\n",
      " |      sklearn.base.BaseEstimator\n",
      " |      builtins.object\n",
      " |  \n",
      " |  Methods defined here:\n",
      " |  \n",
      " |  __init__(self, feature_range=(0, 1), *, copy=True, clip=False)\n",
      " |      Initialize self.  See help(type(self)) for accurate signature.\n",
      " |  \n",
      " |  fit(self, X, y=None)\n",
      " |      Compute the minimum and maximum to be used for later scaling.\n",
      " |      \n",
      " |      Parameters\n",
      " |      ----------\n",
      " |      X : array-like of shape (n_samples, n_features)\n",
      " |          The data used to compute the per-feature minimum and maximum\n",
      " |          used for later scaling along the features axis.\n",
      " |      \n",
      " |      y : None\n",
      " |          Ignored.\n",
      " |      \n",
      " |      Returns\n",
      " |      -------\n",
      " |      self : object\n",
      " |          Fitted scaler.\n",
      " |  \n",
      " |  inverse_transform(self, X)\n",
      " |      Undo the scaling of X according to feature_range.\n",
      " |      \n",
      " |      Parameters\n",
      " |      ----------\n",
      " |      X : array-like of shape (n_samples, n_features)\n",
      " |          Input data that will be transformed. It cannot be sparse.\n",
      " |      \n",
      " |      Returns\n",
      " |      -------\n",
      " |      Xt : ndarray of shape (n_samples, n_features)\n",
      " |          Transformed data.\n",
      " |  \n",
      " |  partial_fit(self, X, y=None)\n",
      " |      Online computation of min and max on X for later scaling.\n",
      " |      \n",
      " |      All of X is processed as a single batch. This is intended for cases\n",
      " |      when :meth:`fit` is not feasible due to very large number of\n",
      " |      `n_samples` or because X is read from a continuous stream.\n",
      " |      \n",
      " |      Parameters\n",
      " |      ----------\n",
      " |      X : array-like of shape (n_samples, n_features)\n",
      " |          The data used to compute the mean and standard deviation\n",
      " |          used for later scaling along the features axis.\n",
      " |      \n",
      " |      y : None\n",
      " |          Ignored.\n",
      " |      \n",
      " |      Returns\n",
      " |      -------\n",
      " |      self : object\n",
      " |          Fitted scaler.\n",
      " |  \n",
      " |  transform(self, X)\n",
      " |      Scale features of X according to feature_range.\n",
      " |      \n",
      " |      Parameters\n",
      " |      ----------\n",
      " |      X : array-like of shape (n_samples, n_features)\n",
      " |          Input data that will be transformed.\n",
      " |      \n",
      " |      Returns\n",
      " |      -------\n",
      " |      Xt : ndarray of shape (n_samples, n_features)\n",
      " |          Transformed data.\n",
      " |  \n",
      " |  ----------------------------------------------------------------------\n",
      " |  Methods inherited from sklearn.base._OneToOneFeatureMixin:\n",
      " |  \n",
      " |  get_feature_names_out(self, input_features=None)\n",
      " |      Get output feature names for transformation.\n",
      " |      \n",
      " |      Parameters\n",
      " |      ----------\n",
      " |      input_features : array-like of str or None, default=None\n",
      " |          Input features.\n",
      " |      \n",
      " |          - If `input_features` is `None`, then `feature_names_in_` is\n",
      " |            used as feature names in. If `feature_names_in_` is not defined,\n",
      " |            then names are generated: `[x0, x1, ..., x(n_features_in_)]`.\n",
      " |          - If `input_features` is an array-like, then `input_features` must\n",
      " |            match `feature_names_in_` if `feature_names_in_` is defined.\n",
      " |      \n",
      " |      Returns\n",
      " |      -------\n",
      " |      feature_names_out : ndarray of str objects\n",
      " |          Same as input features.\n",
      " |  \n",
      " |  ----------------------------------------------------------------------\n",
      " |  Data descriptors inherited from sklearn.base._OneToOneFeatureMixin:\n",
      " |  \n",
      " |  __dict__\n",
      " |      dictionary for instance variables (if defined)\n",
      " |  \n",
      " |  __weakref__\n",
      " |      list of weak references to the object (if defined)\n",
      " |  \n",
      " |  ----------------------------------------------------------------------\n",
      " |  Methods inherited from sklearn.base.TransformerMixin:\n",
      " |  \n",
      " |  fit_transform(self, X, y=None, **fit_params)\n",
      " |      Fit to data, then transform it.\n",
      " |      \n",
      " |      Fits transformer to `X` and `y` with optional parameters `fit_params`\n",
      " |      and returns a transformed version of `X`.\n",
      " |      \n",
      " |      Parameters\n",
      " |      ----------\n",
      " |      X : array-like of shape (n_samples, n_features)\n",
      " |          Input samples.\n",
      " |      \n",
      " |      y :  array-like of shape (n_samples,) or (n_samples, n_outputs),                 default=None\n",
      " |          Target values (None for unsupervised transformations).\n",
      " |      \n",
      " |      **fit_params : dict\n",
      " |          Additional fit parameters.\n",
      " |      \n",
      " |      Returns\n",
      " |      -------\n",
      " |      X_new : ndarray array of shape (n_samples, n_features_new)\n",
      " |          Transformed array.\n",
      " |  \n",
      " |  ----------------------------------------------------------------------\n",
      " |  Methods inherited from sklearn.base.BaseEstimator:\n",
      " |  \n",
      " |  __getstate__(self)\n",
      " |  \n",
      " |  __repr__(self, N_CHAR_MAX=700)\n",
      " |      Return repr(self).\n",
      " |  \n",
      " |  __setstate__(self, state)\n",
      " |  \n",
      " |  get_params(self, deep=True)\n",
      " |      Get parameters for this estimator.\n",
      " |      \n",
      " |      Parameters\n",
      " |      ----------\n",
      " |      deep : bool, default=True\n",
      " |          If True, will return the parameters for this estimator and\n",
      " |          contained subobjects that are estimators.\n",
      " |      \n",
      " |      Returns\n",
      " |      -------\n",
      " |      params : dict\n",
      " |          Parameter names mapped to their values.\n",
      " |  \n",
      " |  set_params(self, **params)\n",
      " |      Set the parameters of this estimator.\n",
      " |      \n",
      " |      The method works on simple estimators as well as on nested objects\n",
      " |      (such as :class:`~sklearn.pipeline.Pipeline`). The latter have\n",
      " |      parameters of the form ``<component>__<parameter>`` so that it's\n",
      " |      possible to update each component of a nested object.\n",
      " |      \n",
      " |      Parameters\n",
      " |      ----------\n",
      " |      **params : dict\n",
      " |          Estimator parameters.\n",
      " |      \n",
      " |      Returns\n",
      " |      -------\n",
      " |      self : estimator instance\n",
      " |          Estimator instance.\n",
      "\n"
     ]
    }
   ],
   "source": [
    "help(MinMaxScaler)"
   ]
  },
  {
   "cell_type": "code",
   "execution_count": 39,
   "metadata": {
    "id": "YCUZkbu8VSm9"
   },
   "outputs": [],
   "source": [
    "scaler = MinMaxScaler()"
   ]
  },
  {
   "cell_type": "code",
   "execution_count": 40,
   "metadata": {
    "id": "2iUTQZb0VSm9"
   },
   "outputs": [],
   "source": [
    "scaler.fit(X_train)\n",
    "X_train = scaler.transform(X_train)    # Train datasi icin hem fit hem transform\n",
    "X_test = scaler.transform(X_test)      #Test datasi icin sadece transform"
   ]
  },
  {
   "cell_type": "code",
   "execution_count": 41,
   "metadata": {
    "colab": {
     "base_uri": "https://localhost:8080/"
    },
    "id": "3G1wcAr_VSm9",
    "outputId": "ef1e7506-4b90-4985-d629-e40b11d8c91b"
   },
   "outputs": [
    {
     "data": {
      "text/plain": [
       "1.0"
      ]
     },
     "execution_count": 41,
     "metadata": {},
     "output_type": "execute_result"
    }
   ],
   "source": [
    "X_train.max()"
   ]
  },
  {
   "cell_type": "code",
   "execution_count": 42,
   "metadata": {
    "colab": {
     "base_uri": "https://localhost:8080/"
    },
    "id": "uDdQHF_-VSm9",
    "outputId": "fc84af9c-bd90-49c8-f581-42f93fecdd01"
   },
   "outputs": [
    {
     "data": {
      "text/plain": [
       "0.0"
      ]
     },
     "execution_count": 42,
     "metadata": {},
     "output_type": "execute_result"
    }
   ],
   "source": [
    "X_train.min()"
   ]
  },
  {
   "cell_type": "markdown",
   "metadata": {
    "id": "7OIAQvU6VSm9"
   },
   "source": [
    "Test datasindaki degerler 0 ile 1 arasina gelmedi cunku scale islemini sadece traind datalarina uyguladik :"
   ]
  },
  {
   "cell_type": "code",
   "execution_count": 43,
   "metadata": {
    "colab": {
     "base_uri": "https://localhost:8080/"
    },
    "id": "Wzd5Fu0rVSm9",
    "outputId": "a649dc96-f8e0-429e-fbee-26d9845d7db4"
   },
   "outputs": [
    {
     "data": {
      "text/plain": [
       "1.0186515935232023"
      ]
     },
     "execution_count": 43,
     "metadata": {},
     "output_type": "execute_result"
    }
   ],
   "source": [
    "X_test.max()"
   ]
  },
  {
   "cell_type": "code",
   "execution_count": 44,
   "metadata": {
    "colab": {
     "base_uri": "https://localhost:8080/"
    },
    "id": "Yk2LWtkAVSm9",
    "outputId": "ea28ce17-a0ce-4ff6-ec77-7de88643ef71"
   },
   "outputs": [
    {
     "data": {
      "text/plain": [
       "-0.014108392024525074"
      ]
     },
     "execution_count": 44,
     "metadata": {},
     "output_type": "execute_result"
    }
   ],
   "source": [
    "X_test.min()"
   ]
  },
  {
   "cell_type": "markdown",
   "metadata": {
    "id": "BJRWqyyCVSm-"
   },
   "source": [
    "## Modelling"
   ]
  },
  {
   "cell_type": "code",
   "execution_count": 45,
   "metadata": {
    "id": "axK1I4eKVSm-"
   },
   "outputs": [],
   "source": [
    "import tensorflow as tf"
   ]
  },
  {
   "cell_type": "code",
   "execution_count": 46,
   "metadata": {
    "id": "mFZkH5PSVSm-"
   },
   "outputs": [],
   "source": [
    "from tensorflow.keras.models import Sequential\n",
    "from tensorflow.keras.layers import Dense, Activation"
   ]
  },
  {
   "cell_type": "markdown",
   "metadata": {
    "id": "_vgJzjSqVSm-"
   },
   "source": [
    "__Sequential -->__ Arka arkaya katmanli bir yapi olusturmamizi saglayan alt yapi."
   ]
  },
  {
   "cell_type": "code",
   "execution_count": 47,
   "metadata": {
    "id": "TREjISGIVSm-"
   },
   "outputs": [],
   "source": [
    "#help(Sequential)"
   ]
  },
  {
   "cell_type": "markdown",
   "metadata": {
    "id": "S-ZoiEsFVSm-"
   },
   "source": [
    "__Dense -->__ Bir layer(katman) cinsidir. Dense, __fully connected__ bir ozellige sahip bir katman cesidi, en cok bunu kullanacagiz. CNN' de fully connected olmayan layer' lar kullanacagiz."
   ]
  },
  {
   "cell_type": "code",
   "execution_count": 48,
   "metadata": {
    "colab": {
     "base_uri": "https://localhost:8080/"
    },
    "id": "Gx_ogGUKVSm-",
    "outputId": "13496e55-c84d-4976-a7b9-f019a3151e79"
   },
   "outputs": [
    {
     "name": "stdout",
     "output_type": "stream",
     "text": [
      "Help on class Dense in module keras.layers.core.dense:\n",
      "\n",
      "class Dense(keras.engine.base_layer.Layer)\n",
      " |  Dense(*args, **kwargs)\n",
      " |  \n",
      " |  Just your regular densely-connected NN layer.\n",
      " |  \n",
      " |  `Dense` implements the operation:\n",
      " |  `output = activation(dot(input, kernel) + bias)`\n",
      " |  where `activation` is the element-wise activation function\n",
      " |  passed as the `activation` argument, `kernel` is a weights matrix\n",
      " |  created by the layer, and `bias` is a bias vector created by the layer\n",
      " |  (only applicable if `use_bias` is `True`). These are all attributes of\n",
      " |  `Dense`.\n",
      " |  \n",
      " |  Note: If the input to the layer has a rank greater than 2, then `Dense`\n",
      " |  computes the dot product between the `inputs` and the `kernel` along the\n",
      " |  last axis of the `inputs` and axis 0 of the `kernel` (using `tf.tensordot`).\n",
      " |  For example, if input has dimensions `(batch_size, d0, d1)`,\n",
      " |  then we create a `kernel` with shape `(d1, units)`, and the `kernel` operates\n",
      " |  along axis 2 of the `input`, on every sub-tensor of shape `(1, 1, d1)`\n",
      " |  (there are `batch_size * d0` such sub-tensors).\n",
      " |  The output in this case will have shape `(batch_size, d0, units)`.\n",
      " |  \n",
      " |  Besides, layer attributes cannot be modified after the layer has been called\n",
      " |  once (except the `trainable` attribute).\n",
      " |  When a popular kwarg `input_shape` is passed, then keras will create\n",
      " |  an input layer to insert before the current layer. This can be treated\n",
      " |  equivalent to explicitly defining an `InputLayer`.\n",
      " |  \n",
      " |  Example:\n",
      " |  \n",
      " |  >>> # Create a `Sequential` model and add a Dense layer as the first layer.\n",
      " |  >>> model = tf.keras.models.Sequential()\n",
      " |  >>> model.add(tf.keras.Input(shape=(16,)))\n",
      " |  >>> model.add(tf.keras.layers.Dense(32, activation='relu'))\n",
      " |  >>> # Now the model will take as input arrays of shape (None, 16)\n",
      " |  >>> # and output arrays of shape (None, 32).\n",
      " |  >>> # Note that after the first layer, you don't need to specify\n",
      " |  >>> # the size of the input anymore:\n",
      " |  >>> model.add(tf.keras.layers.Dense(32))\n",
      " |  >>> model.output_shape\n",
      " |  (None, 32)\n",
      " |  \n",
      " |  Args:\n",
      " |    units: Positive integer, dimensionality of the output space.\n",
      " |    activation: Activation function to use.\n",
      " |      If you don't specify anything, no activation is applied\n",
      " |      (ie. \"linear\" activation: `a(x) = x`).\n",
      " |    use_bias: Boolean, whether the layer uses a bias vector.\n",
      " |    kernel_initializer: Initializer for the `kernel` weights matrix.\n",
      " |    bias_initializer: Initializer for the bias vector.\n",
      " |    kernel_regularizer: Regularizer function applied to\n",
      " |      the `kernel` weights matrix.\n",
      " |    bias_regularizer: Regularizer function applied to the bias vector.\n",
      " |    activity_regularizer: Regularizer function applied to\n",
      " |      the output of the layer (its \"activation\").\n",
      " |    kernel_constraint: Constraint function applied to\n",
      " |      the `kernel` weights matrix.\n",
      " |    bias_constraint: Constraint function applied to the bias vector.\n",
      " |  \n",
      " |  Input shape:\n",
      " |    N-D tensor with shape: `(batch_size, ..., input_dim)`.\n",
      " |    The most common situation would be\n",
      " |    a 2D input with shape `(batch_size, input_dim)`.\n",
      " |  \n",
      " |  Output shape:\n",
      " |    N-D tensor with shape: `(batch_size, ..., units)`.\n",
      " |    For instance, for a 2D input with shape `(batch_size, input_dim)`,\n",
      " |    the output would have shape `(batch_size, units)`.\n",
      " |  \n",
      " |  Method resolution order:\n",
      " |      Dense\n",
      " |      keras.engine.base_layer.Layer\n",
      " |      tensorflow.python.module.module.Module\n",
      " |      tensorflow.python.training.tracking.autotrackable.AutoTrackable\n",
      " |      tensorflow.python.training.tracking.base.Trackable\n",
      " |      keras.utils.version_utils.LayerVersionSelector\n",
      " |      builtins.object\n",
      " |  \n",
      " |  Methods defined here:\n",
      " |  \n",
      " |  __init__(self, units, activation=None, use_bias=True, kernel_initializer='glorot_uniform', bias_initializer='zeros', kernel_regularizer=None, bias_regularizer=None, activity_regularizer=None, kernel_constraint=None, bias_constraint=None, **kwargs)\n",
      " |  \n",
      " |  build(self, input_shape)\n",
      " |      Creates the variables of the layer (optional, for subclass implementers).\n",
      " |      \n",
      " |      This is a method that implementers of subclasses of `Layer` or `Model`\n",
      " |      can override if they need a state-creation step in-between\n",
      " |      layer instantiation and layer call. It is invoked automatically before\n",
      " |      the first execution of `call()`.\n",
      " |      \n",
      " |      This is typically used to create the weights of `Layer` subclasses\n",
      " |      (at the discretion of the subclass implementer).\n",
      " |      \n",
      " |      Args:\n",
      " |        input_shape: Instance of `TensorShape`, or list of instances of\n",
      " |          `TensorShape` if the layer expects a list of inputs\n",
      " |          (one instance per input).\n",
      " |  \n",
      " |  call(self, inputs)\n",
      " |      This is where the layer's logic lives.\n",
      " |      \n",
      " |      The `call()` method may not create state (except in its first invocation,\n",
      " |      wrapping the creation of variables or other resources in `tf.init_scope()`).\n",
      " |      It is recommended to create state in `__init__()`, or the `build()` method\n",
      " |      that is called automatically before `call()` executes the first time.\n",
      " |      \n",
      " |      Args:\n",
      " |        inputs: Input tensor, or dict/list/tuple of input tensors.\n",
      " |          The first positional `inputs` argument is subject to special rules:\n",
      " |          - `inputs` must be explicitly passed. A layer cannot have zero\n",
      " |            arguments, and `inputs` cannot be provided via the default value\n",
      " |            of a keyword argument.\n",
      " |          - NumPy array or Python scalar values in `inputs` get cast as tensors.\n",
      " |          - Keras mask metadata is only collected from `inputs`.\n",
      " |          - Layers are built (`build(input_shape)` method)\n",
      " |            using shape info from `inputs` only.\n",
      " |          - `input_spec` compatibility is only checked against `inputs`.\n",
      " |          - Mixed precision input casting is only applied to `inputs`.\n",
      " |            If a layer has tensor arguments in `*args` or `**kwargs`, their\n",
      " |            casting behavior in mixed precision should be handled manually.\n",
      " |          - The SavedModel input specification is generated using `inputs` only.\n",
      " |          - Integration with various ecosystem packages like TFMOT, TFLite,\n",
      " |            TF.js, etc is only supported for `inputs` and not for tensors in\n",
      " |            positional and keyword arguments.\n",
      " |        *args: Additional positional arguments. May contain tensors, although\n",
      " |          this is not recommended, for the reasons above.\n",
      " |        **kwargs: Additional keyword arguments. May contain tensors, although\n",
      " |          this is not recommended, for the reasons above.\n",
      " |          The following optional keyword arguments are reserved:\n",
      " |          - `training`: Boolean scalar tensor of Python boolean indicating\n",
      " |            whether the `call` is meant for training or inference.\n",
      " |          - `mask`: Boolean input mask. If the layer's `call()` method takes a\n",
      " |            `mask` argument, its default value will be set to the mask generated\n",
      " |            for `inputs` by the previous layer (if `input` did come from a layer\n",
      " |            that generated a corresponding mask, i.e. if it came from a Keras\n",
      " |            layer with masking support).\n",
      " |      \n",
      " |      Returns:\n",
      " |        A tensor or list/tuple of tensors.\n",
      " |  \n",
      " |  compute_output_shape(self, input_shape)\n",
      " |      Computes the output shape of the layer.\n",
      " |      \n",
      " |      This method will cause the layer's state to be built, if that has not\n",
      " |      happened before. This requires that the layer will later be used with\n",
      " |      inputs that match the input shape provided here.\n",
      " |      \n",
      " |      Args:\n",
      " |          input_shape: Shape tuple (tuple of integers)\n",
      " |              or list of shape tuples (one per output tensor of the layer).\n",
      " |              Shape tuples can include None for free dimensions,\n",
      " |              instead of an integer.\n",
      " |      \n",
      " |      Returns:\n",
      " |          An input shape tuple.\n",
      " |  \n",
      " |  get_config(self)\n",
      " |      Returns the config of the layer.\n",
      " |      \n",
      " |      A layer config is a Python dictionary (serializable)\n",
      " |      containing the configuration of a layer.\n",
      " |      The same layer can be reinstantiated later\n",
      " |      (without its trained weights) from this configuration.\n",
      " |      \n",
      " |      The config of a layer does not include connectivity\n",
      " |      information, nor the layer class name. These are handled\n",
      " |      by `Network` (one layer of abstraction above).\n",
      " |      \n",
      " |      Note that `get_config()` does not guarantee to return a fresh copy of dict\n",
      " |      every time it is called. The callers should make a copy of the returned dict\n",
      " |      if they want to modify it.\n",
      " |      \n",
      " |      Returns:\n",
      " |          Python dictionary.\n",
      " |  \n",
      " |  ----------------------------------------------------------------------\n",
      " |  Methods inherited from keras.engine.base_layer.Layer:\n",
      " |  \n",
      " |  __call__(self, *args, **kwargs)\n",
      " |      Wraps `call`, applying pre- and post-processing steps.\n",
      " |      \n",
      " |      Args:\n",
      " |        *args: Positional arguments to be passed to `self.call`.\n",
      " |        **kwargs: Keyword arguments to be passed to `self.call`.\n",
      " |      \n",
      " |      Returns:\n",
      " |        Output tensor(s).\n",
      " |      \n",
      " |      Note:\n",
      " |        - The following optional keyword arguments are reserved for specific uses:\n",
      " |          * `training`: Boolean scalar tensor of Python boolean indicating\n",
      " |            whether the `call` is meant for training or inference.\n",
      " |          * `mask`: Boolean input mask.\n",
      " |        - If the layer's `call` method takes a `mask` argument (as some Keras\n",
      " |          layers do), its default value will be set to the mask generated\n",
      " |          for `inputs` by the previous layer (if `input` did come from\n",
      " |          a layer that generated a corresponding mask, i.e. if it came from\n",
      " |          a Keras layer with masking support.\n",
      " |        - If the layer is not built, the method will call `build`.\n",
      " |      \n",
      " |      Raises:\n",
      " |        ValueError: if the layer's `call` method returns None (an invalid value).\n",
      " |        RuntimeError: if `super().__init__()` was not called in the constructor.\n",
      " |  \n",
      " |  __delattr__(self, name)\n",
      " |      Implement delattr(self, name).\n",
      " |  \n",
      " |  __getstate__(self)\n",
      " |  \n",
      " |  __setattr__(self, name, value)\n",
      " |      Support self.foo = trackable syntax.\n",
      " |  \n",
      " |  __setstate__(self, state)\n",
      " |  \n",
      " |  add_loss(self, losses, **kwargs)\n",
      " |      Add loss tensor(s), potentially dependent on layer inputs.\n",
      " |      \n",
      " |      Some losses (for instance, activity regularization losses) may be dependent\n",
      " |      on the inputs passed when calling a layer. Hence, when reusing the same\n",
      " |      layer on different inputs `a` and `b`, some entries in `layer.losses` may\n",
      " |      be dependent on `a` and some on `b`. This method automatically keeps track\n",
      " |      of dependencies.\n",
      " |      \n",
      " |      This method can be used inside a subclassed layer or model's `call`\n",
      " |      function, in which case `losses` should be a Tensor or list of Tensors.\n",
      " |      \n",
      " |      Example:\n",
      " |      \n",
      " |      ```python\n",
      " |      class MyLayer(tf.keras.layers.Layer):\n",
      " |        def call(self, inputs):\n",
      " |          self.add_loss(tf.abs(tf.reduce_mean(inputs)))\n",
      " |          return inputs\n",
      " |      ```\n",
      " |      \n",
      " |      This method can also be called directly on a Functional Model during\n",
      " |      construction. In this case, any loss Tensors passed to this Model must\n",
      " |      be symbolic and be able to be traced back to the model's `Input`s. These\n",
      " |      losses become part of the model's topology and are tracked in `get_config`.\n",
      " |      \n",
      " |      Example:\n",
      " |      \n",
      " |      ```python\n",
      " |      inputs = tf.keras.Input(shape=(10,))\n",
      " |      x = tf.keras.layers.Dense(10)(inputs)\n",
      " |      outputs = tf.keras.layers.Dense(1)(x)\n",
      " |      model = tf.keras.Model(inputs, outputs)\n",
      " |      # Activity regularization.\n",
      " |      model.add_loss(tf.abs(tf.reduce_mean(x)))\n",
      " |      ```\n",
      " |      \n",
      " |      If this is not the case for your loss (if, for example, your loss references\n",
      " |      a `Variable` of one of the model's layers), you can wrap your loss in a\n",
      " |      zero-argument lambda. These losses are not tracked as part of the model's\n",
      " |      topology since they can't be serialized.\n",
      " |      \n",
      " |      Example:\n",
      " |      \n",
      " |      ```python\n",
      " |      inputs = tf.keras.Input(shape=(10,))\n",
      " |      d = tf.keras.layers.Dense(10)\n",
      " |      x = d(inputs)\n",
      " |      outputs = tf.keras.layers.Dense(1)(x)\n",
      " |      model = tf.keras.Model(inputs, outputs)\n",
      " |      # Weight regularization.\n",
      " |      model.add_loss(lambda: tf.reduce_mean(d.kernel))\n",
      " |      ```\n",
      " |      \n",
      " |      Args:\n",
      " |        losses: Loss tensor, or list/tuple of tensors. Rather than tensors, losses\n",
      " |          may also be zero-argument callables which create a loss tensor.\n",
      " |        **kwargs: Additional keyword arguments for backward compatibility.\n",
      " |          Accepted values:\n",
      " |            inputs - Deprecated, will be automatically inferred.\n",
      " |  \n",
      " |  add_metric(self, value, name=None, **kwargs)\n",
      " |      Adds metric tensor to the layer.\n",
      " |      \n",
      " |      This method can be used inside the `call()` method of a subclassed layer\n",
      " |      or model.\n",
      " |      \n",
      " |      ```python\n",
      " |      class MyMetricLayer(tf.keras.layers.Layer):\n",
      " |        def __init__(self):\n",
      " |          super(MyMetricLayer, self).__init__(name='my_metric_layer')\n",
      " |          self.mean = tf.keras.metrics.Mean(name='metric_1')\n",
      " |      \n",
      " |        def call(self, inputs):\n",
      " |          self.add_metric(self.mean(inputs))\n",
      " |          self.add_metric(tf.reduce_sum(inputs), name='metric_2')\n",
      " |          return inputs\n",
      " |      ```\n",
      " |      \n",
      " |      This method can also be called directly on a Functional Model during\n",
      " |      construction. In this case, any tensor passed to this Model must\n",
      " |      be symbolic and be able to be traced back to the model's `Input`s. These\n",
      " |      metrics become part of the model's topology and are tracked when you\n",
      " |      save the model via `save()`.\n",
      " |      \n",
      " |      ```python\n",
      " |      inputs = tf.keras.Input(shape=(10,))\n",
      " |      x = tf.keras.layers.Dense(10)(inputs)\n",
      " |      outputs = tf.keras.layers.Dense(1)(x)\n",
      " |      model = tf.keras.Model(inputs, outputs)\n",
      " |      model.add_metric(math_ops.reduce_sum(x), name='metric_1')\n",
      " |      ```\n",
      " |      \n",
      " |      Note: Calling `add_metric()` with the result of a metric object on a\n",
      " |      Functional Model, as shown in the example below, is not supported. This is\n",
      " |      because we cannot trace the metric result tensor back to the model's inputs.\n",
      " |      \n",
      " |      ```python\n",
      " |      inputs = tf.keras.Input(shape=(10,))\n",
      " |      x = tf.keras.layers.Dense(10)(inputs)\n",
      " |      outputs = tf.keras.layers.Dense(1)(x)\n",
      " |      model = tf.keras.Model(inputs, outputs)\n",
      " |      model.add_metric(tf.keras.metrics.Mean()(x), name='metric_1')\n",
      " |      ```\n",
      " |      \n",
      " |      Args:\n",
      " |        value: Metric tensor.\n",
      " |        name: String metric name.\n",
      " |        **kwargs: Additional keyword arguments for backward compatibility.\n",
      " |          Accepted values:\n",
      " |          `aggregation` - When the `value` tensor provided is not the result of\n",
      " |          calling a `keras.Metric` instance, it will be aggregated by default\n",
      " |          using a `keras.Metric.Mean`.\n",
      " |  \n",
      " |  add_update(self, updates, inputs=None)\n",
      " |      Add update op(s), potentially dependent on layer inputs.\n",
      " |      \n",
      " |      Weight updates (for instance, the updates of the moving mean and variance\n",
      " |      in a BatchNormalization layer) may be dependent on the inputs passed\n",
      " |      when calling a layer. Hence, when reusing the same layer on\n",
      " |      different inputs `a` and `b`, some entries in `layer.updates` may be\n",
      " |      dependent on `a` and some on `b`. This method automatically keeps track\n",
      " |      of dependencies.\n",
      " |      \n",
      " |      This call is ignored when eager execution is enabled (in that case, variable\n",
      " |      updates are run on the fly and thus do not need to be tracked for later\n",
      " |      execution).\n",
      " |      \n",
      " |      Args:\n",
      " |        updates: Update op, or list/tuple of update ops, or zero-arg callable\n",
      " |          that returns an update op. A zero-arg callable should be passed in\n",
      " |          order to disable running the updates by setting `trainable=False`\n",
      " |          on this Layer, when executing in Eager mode.\n",
      " |        inputs: Deprecated, will be automatically inferred.\n",
      " |  \n",
      " |  add_variable(self, *args, **kwargs)\n",
      " |      Deprecated, do NOT use! Alias for `add_weight`.\n",
      " |  \n",
      " |  add_weight(self, name=None, shape=None, dtype=None, initializer=None, regularizer=None, trainable=None, constraint=None, use_resource=None, synchronization=<VariableSynchronization.AUTO: 0>, aggregation=<VariableAggregationV2.NONE: 0>, **kwargs)\n",
      " |      Adds a new variable to the layer.\n",
      " |      \n",
      " |      Args:\n",
      " |        name: Variable name.\n",
      " |        shape: Variable shape. Defaults to scalar if unspecified.\n",
      " |        dtype: The type of the variable. Defaults to `self.dtype`.\n",
      " |        initializer: Initializer instance (callable).\n",
      " |        regularizer: Regularizer instance (callable).\n",
      " |        trainable: Boolean, whether the variable should be part of the layer's\n",
      " |          \"trainable_variables\" (e.g. variables, biases)\n",
      " |          or \"non_trainable_variables\" (e.g. BatchNorm mean and variance).\n",
      " |          Note that `trainable` cannot be `True` if `synchronization`\n",
      " |          is set to `ON_READ`.\n",
      " |        constraint: Constraint instance (callable).\n",
      " |        use_resource: Whether to use `ResourceVariable`.\n",
      " |        synchronization: Indicates when a distributed a variable will be\n",
      " |          aggregated. Accepted values are constants defined in the class\n",
      " |          `tf.VariableSynchronization`. By default the synchronization is set to\n",
      " |          `AUTO` and the current `DistributionStrategy` chooses\n",
      " |          when to synchronize. If `synchronization` is set to `ON_READ`,\n",
      " |          `trainable` must not be set to `True`.\n",
      " |        aggregation: Indicates how a distributed variable will be aggregated.\n",
      " |          Accepted values are constants defined in the class\n",
      " |          `tf.VariableAggregation`.\n",
      " |        **kwargs: Additional keyword arguments. Accepted values are `getter`,\n",
      " |          `collections`, `experimental_autocast` and `caching_device`.\n",
      " |      \n",
      " |      Returns:\n",
      " |        The variable created.\n",
      " |      \n",
      " |      Raises:\n",
      " |        ValueError: When giving unsupported dtype and no initializer or when\n",
      " |          trainable has been set to True with synchronization set as `ON_READ`.\n",
      " |  \n",
      " |  apply(self, inputs, *args, **kwargs)\n",
      " |      Deprecated, do NOT use!\n",
      " |      \n",
      " |      This is an alias of `self.__call__`.\n",
      " |      \n",
      " |      Args:\n",
      " |        inputs: Input tensor(s).\n",
      " |        *args: additional positional arguments to be passed to `self.call`.\n",
      " |        **kwargs: additional keyword arguments to be passed to `self.call`.\n",
      " |      \n",
      " |      Returns:\n",
      " |        Output tensor(s).\n",
      " |  \n",
      " |  compute_mask(self, inputs, mask=None)\n",
      " |      Computes an output mask tensor.\n",
      " |      \n",
      " |      Args:\n",
      " |          inputs: Tensor or list of tensors.\n",
      " |          mask: Tensor or list of tensors.\n",
      " |      \n",
      " |      Returns:\n",
      " |          None or a tensor (or list of tensors,\n",
      " |              one per output tensor of the layer).\n",
      " |  \n",
      " |  compute_output_signature(self, input_signature)\n",
      " |      Compute the output tensor signature of the layer based on the inputs.\n",
      " |      \n",
      " |      Unlike a TensorShape object, a TensorSpec object contains both shape\n",
      " |      and dtype information for a tensor. This method allows layers to provide\n",
      " |      output dtype information if it is different from the input dtype.\n",
      " |      For any layer that doesn't implement this function,\n",
      " |      the framework will fall back to use `compute_output_shape`, and will\n",
      " |      assume that the output dtype matches the input dtype.\n",
      " |      \n",
      " |      Args:\n",
      " |        input_signature: Single TensorSpec or nested structure of TensorSpec\n",
      " |          objects, describing a candidate input for the layer.\n",
      " |      \n",
      " |      Returns:\n",
      " |        Single TensorSpec or nested structure of TensorSpec objects, describing\n",
      " |          how the layer would transform the provided input.\n",
      " |      \n",
      " |      Raises:\n",
      " |        TypeError: If input_signature contains a non-TensorSpec object.\n",
      " |  \n",
      " |  count_params(self)\n",
      " |      Count the total number of scalars composing the weights.\n",
      " |      \n",
      " |      Returns:\n",
      " |          An integer count.\n",
      " |      \n",
      " |      Raises:\n",
      " |          ValueError: if the layer isn't yet built\n",
      " |            (in which case its weights aren't yet defined).\n",
      " |  \n",
      " |  finalize_state(self)\n",
      " |      Finalizes the layers state after updating layer weights.\n",
      " |      \n",
      " |      This function can be subclassed in a layer and will be called after updating\n",
      " |      a layer weights. It can be overridden to finalize any additional layer state\n",
      " |      after a weight update.\n",
      " |      \n",
      " |      This function will be called after weights of a layer have been restored\n",
      " |      from a loaded model.\n",
      " |  \n",
      " |  get_input_at(self, node_index)\n",
      " |      Retrieves the input tensor(s) of a layer at a given node.\n",
      " |      \n",
      " |      Args:\n",
      " |          node_index: Integer, index of the node\n",
      " |              from which to retrieve the attribute.\n",
      " |              E.g. `node_index=0` will correspond to the\n",
      " |              first input node of the layer.\n",
      " |      \n",
      " |      Returns:\n",
      " |          A tensor (or list of tensors if the layer has multiple inputs).\n",
      " |      \n",
      " |      Raises:\n",
      " |        RuntimeError: If called in Eager mode.\n",
      " |  \n",
      " |  get_input_mask_at(self, node_index)\n",
      " |      Retrieves the input mask tensor(s) of a layer at a given node.\n",
      " |      \n",
      " |      Args:\n",
      " |          node_index: Integer, index of the node\n",
      " |              from which to retrieve the attribute.\n",
      " |              E.g. `node_index=0` will correspond to the\n",
      " |              first time the layer was called.\n",
      " |      \n",
      " |      Returns:\n",
      " |          A mask tensor\n",
      " |          (or list of tensors if the layer has multiple inputs).\n",
      " |  \n",
      " |  get_input_shape_at(self, node_index)\n",
      " |      Retrieves the input shape(s) of a layer at a given node.\n",
      " |      \n",
      " |      Args:\n",
      " |          node_index: Integer, index of the node\n",
      " |              from which to retrieve the attribute.\n",
      " |              E.g. `node_index=0` will correspond to the\n",
      " |              first time the layer was called.\n",
      " |      \n",
      " |      Returns:\n",
      " |          A shape tuple\n",
      " |          (or list of shape tuples if the layer has multiple inputs).\n",
      " |      \n",
      " |      Raises:\n",
      " |        RuntimeError: If called in Eager mode.\n",
      " |  \n",
      " |  get_losses_for(self, inputs)\n",
      " |      Deprecated, do NOT use!\n",
      " |      \n",
      " |      Retrieves losses relevant to a specific set of inputs.\n",
      " |      \n",
      " |      Args:\n",
      " |        inputs: Input tensor or list/tuple of input tensors.\n",
      " |      \n",
      " |      Returns:\n",
      " |        List of loss tensors of the layer that depend on `inputs`.\n",
      " |  \n",
      " |  get_output_at(self, node_index)\n",
      " |      Retrieves the output tensor(s) of a layer at a given node.\n",
      " |      \n",
      " |      Args:\n",
      " |          node_index: Integer, index of the node\n",
      " |              from which to retrieve the attribute.\n",
      " |              E.g. `node_index=0` will correspond to the\n",
      " |              first output node of the layer.\n",
      " |      \n",
      " |      Returns:\n",
      " |          A tensor (or list of tensors if the layer has multiple outputs).\n",
      " |      \n",
      " |      Raises:\n",
      " |        RuntimeError: If called in Eager mode.\n",
      " |  \n",
      " |  get_output_mask_at(self, node_index)\n",
      " |      Retrieves the output mask tensor(s) of a layer at a given node.\n",
      " |      \n",
      " |      Args:\n",
      " |          node_index: Integer, index of the node\n",
      " |              from which to retrieve the attribute.\n",
      " |              E.g. `node_index=0` will correspond to the\n",
      " |              first time the layer was called.\n",
      " |      \n",
      " |      Returns:\n",
      " |          A mask tensor\n",
      " |          (or list of tensors if the layer has multiple outputs).\n",
      " |  \n",
      " |  get_output_shape_at(self, node_index)\n",
      " |      Retrieves the output shape(s) of a layer at a given node.\n",
      " |      \n",
      " |      Args:\n",
      " |          node_index: Integer, index of the node\n",
      " |              from which to retrieve the attribute.\n",
      " |              E.g. `node_index=0` will correspond to the\n",
      " |              first time the layer was called.\n",
      " |      \n",
      " |      Returns:\n",
      " |          A shape tuple\n",
      " |          (or list of shape tuples if the layer has multiple outputs).\n",
      " |      \n",
      " |      Raises:\n",
      " |        RuntimeError: If called in Eager mode.\n",
      " |  \n",
      " |  get_updates_for(self, inputs)\n",
      " |      Deprecated, do NOT use!\n",
      " |      \n",
      " |      Retrieves updates relevant to a specific set of inputs.\n",
      " |      \n",
      " |      Args:\n",
      " |        inputs: Input tensor or list/tuple of input tensors.\n",
      " |      \n",
      " |      Returns:\n",
      " |        List of update ops of the layer that depend on `inputs`.\n",
      " |  \n",
      " |  get_weights(self)\n",
      " |      Returns the current weights of the layer, as NumPy arrays.\n",
      " |      \n",
      " |      The weights of a layer represent the state of the layer. This function\n",
      " |      returns both trainable and non-trainable weight values associated with this\n",
      " |      layer as a list of NumPy arrays, which can in turn be used to load state\n",
      " |      into similarly parameterized layers.\n",
      " |      \n",
      " |      For example, a `Dense` layer returns a list of two values: the kernel matrix\n",
      " |      and the bias vector. These can be used to set the weights of another\n",
      " |      `Dense` layer:\n",
      " |      \n",
      " |      >>> layer_a = tf.keras.layers.Dense(1,\n",
      " |      ...   kernel_initializer=tf.constant_initializer(1.))\n",
      " |      >>> a_out = layer_a(tf.convert_to_tensor([[1., 2., 3.]]))\n",
      " |      >>> layer_a.get_weights()\n",
      " |      [array([[1.],\n",
      " |             [1.],\n",
      " |             [1.]], dtype=float32), array([0.], dtype=float32)]\n",
      " |      >>> layer_b = tf.keras.layers.Dense(1,\n",
      " |      ...   kernel_initializer=tf.constant_initializer(2.))\n",
      " |      >>> b_out = layer_b(tf.convert_to_tensor([[10., 20., 30.]]))\n",
      " |      >>> layer_b.get_weights()\n",
      " |      [array([[2.],\n",
      " |             [2.],\n",
      " |             [2.]], dtype=float32), array([0.], dtype=float32)]\n",
      " |      >>> layer_b.set_weights(layer_a.get_weights())\n",
      " |      >>> layer_b.get_weights()\n",
      " |      [array([[1.],\n",
      " |             [1.],\n",
      " |             [1.]], dtype=float32), array([0.], dtype=float32)]\n",
      " |      \n",
      " |      Returns:\n",
      " |          Weights values as a list of NumPy arrays.\n",
      " |  \n",
      " |  set_weights(self, weights)\n",
      " |      Sets the weights of the layer, from NumPy arrays.\n",
      " |      \n",
      " |      The weights of a layer represent the state of the layer. This function\n",
      " |      sets the weight values from numpy arrays. The weight values should be\n",
      " |      passed in the order they are created by the layer. Note that the layer's\n",
      " |      weights must be instantiated before calling this function, by calling\n",
      " |      the layer.\n",
      " |      \n",
      " |      For example, a `Dense` layer returns a list of two values: the kernel matrix\n",
      " |      and the bias vector. These can be used to set the weights of another\n",
      " |      `Dense` layer:\n",
      " |      \n",
      " |      >>> layer_a = tf.keras.layers.Dense(1,\n",
      " |      ...   kernel_initializer=tf.constant_initializer(1.))\n",
      " |      >>> a_out = layer_a(tf.convert_to_tensor([[1., 2., 3.]]))\n",
      " |      >>> layer_a.get_weights()\n",
      " |      [array([[1.],\n",
      " |             [1.],\n",
      " |             [1.]], dtype=float32), array([0.], dtype=float32)]\n",
      " |      >>> layer_b = tf.keras.layers.Dense(1,\n",
      " |      ...   kernel_initializer=tf.constant_initializer(2.))\n",
      " |      >>> b_out = layer_b(tf.convert_to_tensor([[10., 20., 30.]]))\n",
      " |      >>> layer_b.get_weights()\n",
      " |      [array([[2.],\n",
      " |             [2.],\n",
      " |             [2.]], dtype=float32), array([0.], dtype=float32)]\n",
      " |      >>> layer_b.set_weights(layer_a.get_weights())\n",
      " |      >>> layer_b.get_weights()\n",
      " |      [array([[1.],\n",
      " |             [1.],\n",
      " |             [1.]], dtype=float32), array([0.], dtype=float32)]\n",
      " |      \n",
      " |      Args:\n",
      " |        weights: a list of NumPy arrays. The number\n",
      " |          of arrays and their shape must match\n",
      " |          number of the dimensions of the weights\n",
      " |          of the layer (i.e. it should match the\n",
      " |          output of `get_weights`).\n",
      " |      \n",
      " |      Raises:\n",
      " |        ValueError: If the provided weights list does not match the\n",
      " |          layer's specifications.\n",
      " |  \n",
      " |  ----------------------------------------------------------------------\n",
      " |  Class methods inherited from keras.engine.base_layer.Layer:\n",
      " |  \n",
      " |  from_config(config) from builtins.type\n",
      " |      Creates a layer from its config.\n",
      " |      \n",
      " |      This method is the reverse of `get_config`,\n",
      " |      capable of instantiating the same layer from the config\n",
      " |      dictionary. It does not handle layer connectivity\n",
      " |      (handled by Network), nor weights (handled by `set_weights`).\n",
      " |      \n",
      " |      Args:\n",
      " |          config: A Python dictionary, typically the\n",
      " |              output of get_config.\n",
      " |      \n",
      " |      Returns:\n",
      " |          A layer instance.\n",
      " |  \n",
      " |  ----------------------------------------------------------------------\n",
      " |  Data descriptors inherited from keras.engine.base_layer.Layer:\n",
      " |  \n",
      " |  activity_regularizer\n",
      " |      Optional regularizer function for the output of this layer.\n",
      " |  \n",
      " |  compute_dtype\n",
      " |      The dtype of the layer's computations.\n",
      " |      \n",
      " |      This is equivalent to `Layer.dtype_policy.compute_dtype`. Unless\n",
      " |      mixed precision is used, this is the same as `Layer.dtype`, the dtype of\n",
      " |      the weights.\n",
      " |      \n",
      " |      Layers automatically cast their inputs to the compute dtype, which causes\n",
      " |      computations and the output to be in the compute dtype as well. This is done\n",
      " |      by the base Layer class in `Layer.__call__`, so you do not have to insert\n",
      " |      these casts if implementing your own layer.\n",
      " |      \n",
      " |      Layers often perform certain internal computations in higher precision when\n",
      " |      `compute_dtype` is float16 or bfloat16 for numeric stability. The output\n",
      " |      will still typically be float16 or bfloat16 in such cases.\n",
      " |      \n",
      " |      Returns:\n",
      " |        The layer's compute dtype.\n",
      " |  \n",
      " |  dtype\n",
      " |      The dtype of the layer weights.\n",
      " |      \n",
      " |      This is equivalent to `Layer.dtype_policy.variable_dtype`. Unless\n",
      " |      mixed precision is used, this is the same as `Layer.compute_dtype`, the\n",
      " |      dtype of the layer's computations.\n",
      " |  \n",
      " |  dtype_policy\n",
      " |      The dtype policy associated with this layer.\n",
      " |      \n",
      " |      This is an instance of a `tf.keras.mixed_precision.Policy`.\n",
      " |  \n",
      " |  dynamic\n",
      " |      Whether the layer is dynamic (eager-only); set in the constructor.\n",
      " |  \n",
      " |  inbound_nodes\n",
      " |      Deprecated, do NOT use! Only for compatibility with external Keras.\n",
      " |  \n",
      " |  input\n",
      " |      Retrieves the input tensor(s) of a layer.\n",
      " |      \n",
      " |      Only applicable if the layer has exactly one input,\n",
      " |      i.e. if it is connected to one incoming layer.\n",
      " |      \n",
      " |      Returns:\n",
      " |          Input tensor or list of input tensors.\n",
      " |      \n",
      " |      Raises:\n",
      " |        RuntimeError: If called in Eager mode.\n",
      " |        AttributeError: If no inbound nodes are found.\n",
      " |  \n",
      " |  input_mask\n",
      " |      Retrieves the input mask tensor(s) of a layer.\n",
      " |      \n",
      " |      Only applicable if the layer has exactly one inbound node,\n",
      " |      i.e. if it is connected to one incoming layer.\n",
      " |      \n",
      " |      Returns:\n",
      " |          Input mask tensor (potentially None) or list of input\n",
      " |          mask tensors.\n",
      " |      \n",
      " |      Raises:\n",
      " |          AttributeError: if the layer is connected to\n",
      " |          more than one incoming layers.\n",
      " |  \n",
      " |  input_shape\n",
      " |      Retrieves the input shape(s) of a layer.\n",
      " |      \n",
      " |      Only applicable if the layer has exactly one input,\n",
      " |      i.e. if it is connected to one incoming layer, or if all inputs\n",
      " |      have the same shape.\n",
      " |      \n",
      " |      Returns:\n",
      " |          Input shape, as an integer shape tuple\n",
      " |          (or list of shape tuples, one tuple per input tensor).\n",
      " |      \n",
      " |      Raises:\n",
      " |          AttributeError: if the layer has no defined input_shape.\n",
      " |          RuntimeError: if called in Eager mode.\n",
      " |  \n",
      " |  input_spec\n",
      " |      `InputSpec` instance(s) describing the input format for this layer.\n",
      " |      \n",
      " |      When you create a layer subclass, you can set `self.input_spec` to enable\n",
      " |      the layer to run input compatibility checks when it is called.\n",
      " |      Consider a `Conv2D` layer: it can only be called on a single input tensor\n",
      " |      of rank 4. As such, you can set, in `__init__()`:\n",
      " |      \n",
      " |      ```python\n",
      " |      self.input_spec = tf.keras.layers.InputSpec(ndim=4)\n",
      " |      ```\n",
      " |      \n",
      " |      Now, if you try to call the layer on an input that isn't rank 4\n",
      " |      (for instance, an input of shape `(2,)`, it will raise a nicely-formatted\n",
      " |      error:\n",
      " |      \n",
      " |      ```\n",
      " |      ValueError: Input 0 of layer conv2d is incompatible with the layer:\n",
      " |      expected ndim=4, found ndim=1. Full shape received: [2]\n",
      " |      ```\n",
      " |      \n",
      " |      Input checks that can be specified via `input_spec` include:\n",
      " |      - Structure (e.g. a single input, a list of 2 inputs, etc)\n",
      " |      - Shape\n",
      " |      - Rank (ndim)\n",
      " |      - Dtype\n",
      " |      \n",
      " |      For more information, see `tf.keras.layers.InputSpec`.\n",
      " |      \n",
      " |      Returns:\n",
      " |        A `tf.keras.layers.InputSpec` instance, or nested structure thereof.\n",
      " |  \n",
      " |  losses\n",
      " |      List of losses added using the `add_loss()` API.\n",
      " |      \n",
      " |      Variable regularization tensors are created when this property is accessed,\n",
      " |      so it is eager safe: accessing `losses` under a `tf.GradientTape` will\n",
      " |      propagate gradients back to the corresponding variables.\n",
      " |      \n",
      " |      Examples:\n",
      " |      \n",
      " |      >>> class MyLayer(tf.keras.layers.Layer):\n",
      " |      ...   def call(self, inputs):\n",
      " |      ...     self.add_loss(tf.abs(tf.reduce_mean(inputs)))\n",
      " |      ...     return inputs\n",
      " |      >>> l = MyLayer()\n",
      " |      >>> l(np.ones((10, 1)))\n",
      " |      >>> l.losses\n",
      " |      [1.0]\n",
      " |      \n",
      " |      >>> inputs = tf.keras.Input(shape=(10,))\n",
      " |      >>> x = tf.keras.layers.Dense(10)(inputs)\n",
      " |      >>> outputs = tf.keras.layers.Dense(1)(x)\n",
      " |      >>> model = tf.keras.Model(inputs, outputs)\n",
      " |      >>> # Activity regularization.\n",
      " |      >>> len(model.losses)\n",
      " |      0\n",
      " |      >>> model.add_loss(tf.abs(tf.reduce_mean(x)))\n",
      " |      >>> len(model.losses)\n",
      " |      1\n",
      " |      \n",
      " |      >>> inputs = tf.keras.Input(shape=(10,))\n",
      " |      >>> d = tf.keras.layers.Dense(10, kernel_initializer='ones')\n",
      " |      >>> x = d(inputs)\n",
      " |      >>> outputs = tf.keras.layers.Dense(1)(x)\n",
      " |      >>> model = tf.keras.Model(inputs, outputs)\n",
      " |      >>> # Weight regularization.\n",
      " |      >>> model.add_loss(lambda: tf.reduce_mean(d.kernel))\n",
      " |      >>> model.losses\n",
      " |      [<tf.Tensor: shape=(), dtype=float32, numpy=1.0>]\n",
      " |      \n",
      " |      Returns:\n",
      " |        A list of tensors.\n",
      " |  \n",
      " |  metrics\n",
      " |      List of metrics added using the `add_metric()` API.\n",
      " |      \n",
      " |      Example:\n",
      " |      \n",
      " |      >>> input = tf.keras.layers.Input(shape=(3,))\n",
      " |      >>> d = tf.keras.layers.Dense(2)\n",
      " |      >>> output = d(input)\n",
      " |      >>> d.add_metric(tf.reduce_max(output), name='max')\n",
      " |      >>> d.add_metric(tf.reduce_min(output), name='min')\n",
      " |      >>> [m.name for m in d.metrics]\n",
      " |      ['max', 'min']\n",
      " |      \n",
      " |      Returns:\n",
      " |        A list of `Metric` objects.\n",
      " |  \n",
      " |  name\n",
      " |      Name of the layer (string), set in the constructor.\n",
      " |  \n",
      " |  non_trainable_variables\n",
      " |      Sequence of non-trainable variables owned by this module and its submodules.\n",
      " |      \n",
      " |      Note: this method uses reflection to find variables on the current instance\n",
      " |      and submodules. For performance reasons you may wish to cache the result\n",
      " |      of calling this method if you don't expect the return value to change.\n",
      " |      \n",
      " |      Returns:\n",
      " |        A sequence of variables for the current module (sorted by attribute\n",
      " |        name) followed by variables from all submodules recursively (breadth\n",
      " |        first).\n",
      " |  \n",
      " |  non_trainable_weights\n",
      " |      List of all non-trainable weights tracked by this layer.\n",
      " |      \n",
      " |      Non-trainable weights are *not* updated during training. They are expected\n",
      " |      to be updated manually in `call()`.\n",
      " |      \n",
      " |      Returns:\n",
      " |        A list of non-trainable variables.\n",
      " |  \n",
      " |  outbound_nodes\n",
      " |      Deprecated, do NOT use! Only for compatibility with external Keras.\n",
      " |  \n",
      " |  output\n",
      " |      Retrieves the output tensor(s) of a layer.\n",
      " |      \n",
      " |      Only applicable if the layer has exactly one output,\n",
      " |      i.e. if it is connected to one incoming layer.\n",
      " |      \n",
      " |      Returns:\n",
      " |        Output tensor or list of output tensors.\n",
      " |      \n",
      " |      Raises:\n",
      " |        AttributeError: if the layer is connected to more than one incoming\n",
      " |          layers.\n",
      " |        RuntimeError: if called in Eager mode.\n",
      " |  \n",
      " |  output_mask\n",
      " |      Retrieves the output mask tensor(s) of a layer.\n",
      " |      \n",
      " |      Only applicable if the layer has exactly one inbound node,\n",
      " |      i.e. if it is connected to one incoming layer.\n",
      " |      \n",
      " |      Returns:\n",
      " |          Output mask tensor (potentially None) or list of output\n",
      " |          mask tensors.\n",
      " |      \n",
      " |      Raises:\n",
      " |          AttributeError: if the layer is connected to\n",
      " |          more than one incoming layers.\n",
      " |  \n",
      " |  output_shape\n",
      " |      Retrieves the output shape(s) of a layer.\n",
      " |      \n",
      " |      Only applicable if the layer has one output,\n",
      " |      or if all outputs have the same shape.\n",
      " |      \n",
      " |      Returns:\n",
      " |          Output shape, as an integer shape tuple\n",
      " |          (or list of shape tuples, one tuple per output tensor).\n",
      " |      \n",
      " |      Raises:\n",
      " |          AttributeError: if the layer has no defined output shape.\n",
      " |          RuntimeError: if called in Eager mode.\n",
      " |  \n",
      " |  stateful\n",
      " |  \n",
      " |  supports_masking\n",
      " |      Whether this layer supports computing a mask using `compute_mask`.\n",
      " |  \n",
      " |  trainable\n",
      " |  \n",
      " |  trainable_variables\n",
      " |      Sequence of trainable variables owned by this module and its submodules.\n",
      " |      \n",
      " |      Note: this method uses reflection to find variables on the current instance\n",
      " |      and submodules. For performance reasons you may wish to cache the result\n",
      " |      of calling this method if you don't expect the return value to change.\n",
      " |      \n",
      " |      Returns:\n",
      " |        A sequence of variables for the current module (sorted by attribute\n",
      " |        name) followed by variables from all submodules recursively (breadth\n",
      " |        first).\n",
      " |  \n",
      " |  trainable_weights\n",
      " |      List of all trainable weights tracked by this layer.\n",
      " |      \n",
      " |      Trainable weights are updated via gradient descent during training.\n",
      " |      \n",
      " |      Returns:\n",
      " |        A list of trainable variables.\n",
      " |  \n",
      " |  updates\n",
      " |  \n",
      " |  variable_dtype\n",
      " |      Alias of `Layer.dtype`, the dtype of the weights.\n",
      " |  \n",
      " |  variables\n",
      " |      Returns the list of all layer variables/weights.\n",
      " |      \n",
      " |      Alias of `self.weights`.\n",
      " |      \n",
      " |      Note: This will not track the weights of nested `tf.Modules` that are not\n",
      " |      themselves Keras layers.\n",
      " |      \n",
      " |      Returns:\n",
      " |        A list of variables.\n",
      " |  \n",
      " |  weights\n",
      " |      Returns the list of all layer variables/weights.\n",
      " |      \n",
      " |      Returns:\n",
      " |        A list of variables.\n",
      " |  \n",
      " |  ----------------------------------------------------------------------\n",
      " |  Class methods inherited from tensorflow.python.module.module.Module:\n",
      " |  \n",
      " |  with_name_scope(method) from builtins.type\n",
      " |      Decorator to automatically enter the module name scope.\n",
      " |      \n",
      " |      >>> class MyModule(tf.Module):\n",
      " |      ...   @tf.Module.with_name_scope\n",
      " |      ...   def __call__(self, x):\n",
      " |      ...     if not hasattr(self, 'w'):\n",
      " |      ...       self.w = tf.Variable(tf.random.normal([x.shape[1], 3]))\n",
      " |      ...     return tf.matmul(x, self.w)\n",
      " |      \n",
      " |      Using the above module would produce `tf.Variable`s and `tf.Tensor`s whose\n",
      " |      names included the module name:\n",
      " |      \n",
      " |      >>> mod = MyModule()\n",
      " |      >>> mod(tf.ones([1, 2]))\n",
      " |      <tf.Tensor: shape=(1, 3), dtype=float32, numpy=..., dtype=float32)>\n",
      " |      >>> mod.w\n",
      " |      <tf.Variable 'my_module/Variable:0' shape=(2, 3) dtype=float32,\n",
      " |      numpy=..., dtype=float32)>\n",
      " |      \n",
      " |      Args:\n",
      " |        method: The method to wrap.\n",
      " |      \n",
      " |      Returns:\n",
      " |        The original method wrapped such that it enters the module's name scope.\n",
      " |  \n",
      " |  ----------------------------------------------------------------------\n",
      " |  Data descriptors inherited from tensorflow.python.module.module.Module:\n",
      " |  \n",
      " |  name_scope\n",
      " |      Returns a `tf.name_scope` instance for this class.\n",
      " |  \n",
      " |  submodules\n",
      " |      Sequence of all sub-modules.\n",
      " |      \n",
      " |      Submodules are modules which are properties of this module, or found as\n",
      " |      properties of modules which are properties of this module (and so on).\n",
      " |      \n",
      " |      >>> a = tf.Module()\n",
      " |      >>> b = tf.Module()\n",
      " |      >>> c = tf.Module()\n",
      " |      >>> a.b = b\n",
      " |      >>> b.c = c\n",
      " |      >>> list(a.submodules) == [b, c]\n",
      " |      True\n",
      " |      >>> list(b.submodules) == [c]\n",
      " |      True\n",
      " |      >>> list(c.submodules) == []\n",
      " |      True\n",
      " |      \n",
      " |      Returns:\n",
      " |        A sequence of all submodules.\n",
      " |  \n",
      " |  ----------------------------------------------------------------------\n",
      " |  Data descriptors inherited from tensorflow.python.training.tracking.base.Trackable:\n",
      " |  \n",
      " |  __dict__\n",
      " |      dictionary for instance variables (if defined)\n",
      " |  \n",
      " |  __weakref__\n",
      " |      list of weak references to the object (if defined)\n",
      " |  \n",
      " |  ----------------------------------------------------------------------\n",
      " |  Static methods inherited from keras.utils.version_utils.LayerVersionSelector:\n",
      " |  \n",
      " |  __new__(cls, *args, **kwargs)\n",
      " |      Create and return a new object.  See help(type) for accurate signature.\n",
      "\n"
     ]
    }
   ],
   "source": [
    "help(Dense)"
   ]
  },
  {
   "cell_type": "markdown",
   "metadata": {
    "id": "7KApANwGVSm-"
   },
   "source": [
    "Model olusturmak icin 2 yontem gorecegiz :"
   ]
  },
  {
   "cell_type": "markdown",
   "metadata": {
    "id": "BSXUG1vUVSm-"
   },
   "source": [
    "__1. Yontem :__ Modeli Sequential' a atadik. Icerisine liste icinde kac layer olusturmak istiyorsak icine atadik. Her bir dense bir layer' i temsil eder. Son satir output layer' dir. Input layer belirtilmemis, belirtmeye de gerek yok. Model, kac tane input yani feature oldugunu biliyor :"
   ]
  },
  {
   "cell_type": "code",
   "execution_count": 49,
   "metadata": {
    "id": "HjbaWUVWVSm-"
   },
   "outputs": [],
   "source": [
    "# First way to create model\n",
    "\n",
    "model = Sequential([Dense(units = 4, activation = \"relu\"),\n",
    "                    Dense(units = 4, activation = \"relu\"),\n",
    "                    Dense(units = 4, activation = \"relu\"),\n",
    "                    Dense(units = 1)])"
   ]
  },
  {
   "cell_type": "markdown",
   "metadata": {
    "id": "GtBJZZSIVSm-"
   },
   "source": [
    "__2. Yontem :__ Genelde tercih edilen yontem budur. Yine Sequential olarak modelimizi tanimlayip bir object olusturduk. Object' in uzerine layer' lari add fonksiyonu ile ekledik :"
   ]
  },
  {
   "cell_type": "code",
   "execution_count": 50,
   "metadata": {
    "id": "Z9ykuPAoVSm_"
   },
   "outputs": [],
   "source": [
    "# Second way to create model (recommended)\n",
    "\n",
    "model = Sequential()\n",
    "model.add(Dense(units = 4, activation = \"relu\"))     # input_dim = X_train.shape[1] --> Input layer eklenebilirdi.\n",
    "model.add(Dense(units = 4, activation = \"relu\"))\n",
    "model.add(Dense(units = 4, activation = \"relu\"))\n",
    "model.add(Dense(units = 1))"
   ]
  },
  {
   "cell_type": "markdown",
   "metadata": {
    "id": "iunBYQacVSm_"
   },
   "source": [
    "__unit :__ Bir katmanda kac nöron oldugunu soyler. Genelde 2 ve 2' nin katlari seklinde nöron sayilari verilir. "
   ]
  },
  {
   "cell_type": "markdown",
   "metadata": {
    "id": "-hR__0koVSm_"
   },
   "source": [
    "__activation :__ Aktivasyon fonksiyonu"
   ]
  },
  {
   "cell_type": "markdown",
   "metadata": {
    "id": "nCgtaedGVSm_"
   },
   "source": [
    "Modelimizde 2 tane feature var. birinci hidden layer' da 4 nöron, ikinci hidden layer' da 4 nöron, ucuncu hidden layer' da 4 tane nöron var. Son olarak da 1 tane output var. "
   ]
  },
  {
   "cell_type": "markdown",
   "metadata": {
    "id": "87eKYcExVSm_"
   },
   "source": [
    "Yukarida structure' i olusturduk. Bu structure' in icinde hangi yontemleri kullanarak calisacak, compile ile bunu belirliyoruz :"
   ]
  },
  {
   "cell_type": "markdown",
   "metadata": {
    "id": "n2YBuDqcVSm_"
   },
   "source": [
    "__optimizer :__ Gradient Descent uygulayarak min cost' u bulmaya calisir ve sonra agirliklari sondan basa dogru gunceller."
   ]
  },
  {
   "cell_type": "markdown",
   "metadata": {
    "id": "pg-0SakhVSm_"
   },
   "source": [
    "__loss :__ Hangi cost function' i kullanacagimizi buraya yazariz. (Regression problemlerinde genelde mse kullanilir, birden fazla skor tanimlanabilir. Mesela classification problemlerinde recall, accuracy.. skorlari tanimlanabilir.)"
   ]
  },
  {
   "cell_type": "code",
   "execution_count": 51,
   "metadata": {
    "id": "tYu02IwoVSm_"
   },
   "outputs": [],
   "source": [
    "model.compile(optimizer = \"rmsprop\", loss = \"mse\")"
   ]
  },
  {
   "cell_type": "markdown",
   "metadata": {
    "id": "04xkQnrLVSm_"
   },
   "source": [
    "### Choosing an optimizer and loss\n",
    "\n",
    "Keep in mind what kind of problem you are trying to solve:\n",
    "\n",
    "    # For a multi-class classification problem :\n",
    "    \n",
    "    model.compile(optimizer='rmsprop',\n",
    "                  loss='categorical_crossentropy',\n",
    "                  metrics=['accuracy'])\n",
    "-----------------------------------------------------------------------------\n",
    "    # For a binary classification problem :\n",
    "    \n",
    "    model.compile(optimizer='rmsprop',\n",
    "                  loss='binary_crossentropy',\n",
    "                  metrics=['accuracy'])\n",
    "------------------------------------------------------------------------------\n",
    "    # For a mean squared error regression problem :\n",
    "    \n",
    "    model.compile(optimizer='rmsprop',\n",
    "                  loss='mse')"
   ]
  },
  {
   "cell_type": "markdown",
   "metadata": {
    "id": "uCIMc_PsVSm_"
   },
   "source": [
    "Yukarida yapiyi kurduk, compile ile nasil calismasi gerektigini soyledik, egitim asamasina gecebiliriz :"
   ]
  },
  {
   "cell_type": "markdown",
   "metadata": {
    "id": "nZLBBSnaVSm_"
   },
   "source": [
    "__batch_size :__ Kac observation' da bir backpropagation yapilacak?"
   ]
  },
  {
   "cell_type": "markdown",
   "metadata": {
    "id": "DMH2gfy_VSm_"
   },
   "source": [
    "__epoch :__ Datanin tamami kac kere egitime girsin? (Her yeni egitimde data karılır.)"
   ]
  },
  {
   "cell_type": "code",
   "execution_count": 52,
   "metadata": {
    "colab": {
     "base_uri": "https://localhost:8080/"
    },
    "id": "Q5BRFIieVSm_",
    "outputId": "4b538f1f-d28a-4bae-e3fb-72eb23cc7b1f"
   },
   "outputs": [
    {
     "name": "stdout",
     "output_type": "stream",
     "text": [
      "Epoch 1/250\n",
      "22/22 [==============================] - 2s 3ms/step - loss: 256572.2344\n",
      "Epoch 2/250\n",
      "22/22 [==============================] - 0s 3ms/step - loss: 256434.1094\n",
      "Epoch 3/250\n",
      "22/22 [==============================] - 0s 2ms/step - loss: 256307.5938\n",
      "Epoch 4/250\n",
      "22/22 [==============================] - 0s 4ms/step - loss: 256174.2656\n",
      "Epoch 5/250\n",
      "22/22 [==============================] - 0s 2ms/step - loss: 256027.0000\n",
      "Epoch 6/250\n",
      "22/22 [==============================] - 0s 3ms/step - loss: 255862.3281\n",
      "Epoch 7/250\n",
      "22/22 [==============================] - 0s 4ms/step - loss: 255677.2344\n",
      "Epoch 8/250\n",
      "22/22 [==============================] - 0s 2ms/step - loss: 255471.1094\n",
      "Epoch 9/250\n",
      "22/22 [==============================] - 0s 3ms/step - loss: 255241.9688\n",
      "Epoch 10/250\n",
      "22/22 [==============================] - 0s 3ms/step - loss: 254986.8281\n",
      "Epoch 11/250\n",
      "22/22 [==============================] - 0s 2ms/step - loss: 254705.0781\n",
      "Epoch 12/250\n",
      "22/22 [==============================] - 0s 2ms/step - loss: 254392.6562\n",
      "Epoch 13/250\n",
      "22/22 [==============================] - 0s 2ms/step - loss: 254047.9375\n",
      "Epoch 14/250\n",
      "22/22 [==============================] - 0s 2ms/step - loss: 253670.2656\n",
      "Epoch 15/250\n",
      "22/22 [==============================] - 0s 2ms/step - loss: 253256.3125\n",
      "Epoch 16/250\n",
      "22/22 [==============================] - 0s 2ms/step - loss: 252805.1719\n",
      "Epoch 17/250\n",
      "22/22 [==============================] - 0s 2ms/step - loss: 252313.2344\n",
      "Epoch 18/250\n",
      "22/22 [==============================] - 0s 3ms/step - loss: 251779.0000\n",
      "Epoch 19/250\n",
      "22/22 [==============================] - 0s 3ms/step - loss: 251198.9219\n",
      "Epoch 20/250\n",
      "22/22 [==============================] - 0s 3ms/step - loss: 250572.9375\n",
      "Epoch 21/250\n",
      "22/22 [==============================] - 0s 2ms/step - loss: 249895.1250\n",
      "Epoch 22/250\n",
      "22/22 [==============================] - 0s 3ms/step - loss: 249165.1406\n",
      "Epoch 23/250\n",
      "22/22 [==============================] - 0s 3ms/step - loss: 248382.4844\n",
      "Epoch 24/250\n",
      "22/22 [==============================] - 0s 3ms/step - loss: 247541.5938\n",
      "Epoch 25/250\n",
      "22/22 [==============================] - 0s 2ms/step - loss: 246638.3750\n",
      "Epoch 26/250\n",
      "22/22 [==============================] - 0s 4ms/step - loss: 245681.8438\n",
      "Epoch 27/250\n",
      "22/22 [==============================] - 0s 4ms/step - loss: 244653.9219\n",
      "Epoch 28/250\n",
      "22/22 [==============================] - 0s 3ms/step - loss: 243553.3281\n",
      "Epoch 29/250\n",
      "22/22 [==============================] - 0s 2ms/step - loss: 242386.4688\n",
      "Epoch 30/250\n",
      "22/22 [==============================] - 0s 2ms/step - loss: 241144.0625\n",
      "Epoch 31/250\n",
      "22/22 [==============================] - 0s 2ms/step - loss: 239826.1719\n",
      "Epoch 32/250\n",
      "22/22 [==============================] - 0s 3ms/step - loss: 238429.0000\n",
      "Epoch 33/250\n",
      "22/22 [==============================] - 0s 5ms/step - loss: 236951.9531\n",
      "Epoch 34/250\n",
      "22/22 [==============================] - 0s 3ms/step - loss: 235397.6875\n",
      "Epoch 35/250\n",
      "22/22 [==============================] - 0s 3ms/step - loss: 233750.1719\n",
      "Epoch 36/250\n",
      "22/22 [==============================] - 0s 3ms/step - loss: 232010.7656\n",
      "Epoch 37/250\n",
      "22/22 [==============================] - 0s 3ms/step - loss: 230180.1875\n",
      "Epoch 38/250\n",
      "22/22 [==============================] - 0s 2ms/step - loss: 228266.2188\n",
      "Epoch 39/250\n",
      "22/22 [==============================] - 0s 2ms/step - loss: 226246.8125\n",
      "Epoch 40/250\n",
      "22/22 [==============================] - 0s 2ms/step - loss: 224121.0312\n",
      "Epoch 41/250\n",
      "22/22 [==============================] - 0s 2ms/step - loss: 221900.4844\n",
      "Epoch 42/250\n",
      "22/22 [==============================] - 0s 2ms/step - loss: 219584.3438\n",
      "Epoch 43/250\n",
      "22/22 [==============================] - 0s 3ms/step - loss: 217156.0469\n",
      "Epoch 44/250\n",
      "22/22 [==============================] - 0s 2ms/step - loss: 214608.0938\n",
      "Epoch 45/250\n",
      "22/22 [==============================] - 0s 2ms/step - loss: 211987.0781\n",
      "Epoch 46/250\n",
      "22/22 [==============================] - 0s 2ms/step - loss: 209233.8281\n",
      "Epoch 47/250\n",
      "22/22 [==============================] - 0s 3ms/step - loss: 206363.9062\n",
      "Epoch 48/250\n",
      "22/22 [==============================] - 0s 2ms/step - loss: 203379.4531\n",
      "Epoch 49/250\n",
      "22/22 [==============================] - 0s 6ms/step - loss: 200292.5000\n",
      "Epoch 50/250\n",
      "22/22 [==============================] - 0s 3ms/step - loss: 197102.9062\n",
      "Epoch 51/250\n",
      "22/22 [==============================] - 0s 4ms/step - loss: 193781.2812\n",
      "Epoch 52/250\n",
      "22/22 [==============================] - 0s 8ms/step - loss: 190330.2188\n",
      "Epoch 53/250\n",
      "22/22 [==============================] - 0s 4ms/step - loss: 186787.8906\n",
      "Epoch 54/250\n",
      "22/22 [==============================] - 0s 4ms/step - loss: 183125.1406\n",
      "Epoch 55/250\n",
      "22/22 [==============================] - 0s 4ms/step - loss: 179333.4531\n",
      "Epoch 56/250\n",
      "22/22 [==============================] - 0s 2ms/step - loss: 175428.4844\n",
      "Epoch 57/250\n",
      "22/22 [==============================] - 0s 4ms/step - loss: 171441.6562\n",
      "Epoch 58/250\n",
      "22/22 [==============================] - 0s 2ms/step - loss: 167313.4219\n",
      "Epoch 59/250\n",
      "22/22 [==============================] - 0s 3ms/step - loss: 163052.5469\n",
      "Epoch 60/250\n",
      "22/22 [==============================] - 0s 2ms/step - loss: 158699.0469\n",
      "Epoch 61/250\n",
      "22/22 [==============================] - 0s 3ms/step - loss: 154278.4844\n",
      "Epoch 62/250\n",
      "22/22 [==============================] - 0s 2ms/step - loss: 149741.0938\n",
      "Epoch 63/250\n",
      "22/22 [==============================] - 0s 2ms/step - loss: 145071.6094\n",
      "Epoch 64/250\n",
      "22/22 [==============================] - 0s 2ms/step - loss: 140323.8906\n",
      "Epoch 65/250\n",
      "22/22 [==============================] - 0s 2ms/step - loss: 135515.4844\n",
      "Epoch 66/250\n",
      "22/22 [==============================] - 0s 2ms/step - loss: 130594.0781\n",
      "Epoch 67/250\n",
      "22/22 [==============================] - 0s 2ms/step - loss: 125601.8594\n",
      "Epoch 68/250\n",
      "22/22 [==============================] - 0s 2ms/step - loss: 120526.1250\n",
      "Epoch 69/250\n",
      "22/22 [==============================] - 0s 2ms/step - loss: 115419.3828\n",
      "Epoch 70/250\n",
      "22/22 [==============================] - 0s 3ms/step - loss: 110210.9375\n",
      "Epoch 71/250\n",
      "22/22 [==============================] - 0s 3ms/step - loss: 104973.1797\n",
      "Epoch 72/250\n",
      "22/22 [==============================] - 0s 2ms/step - loss: 99715.9922\n",
      "Epoch 73/250\n",
      "22/22 [==============================] - 0s 4ms/step - loss: 94405.8594\n",
      "Epoch 74/250\n",
      "22/22 [==============================] - 0s 3ms/step - loss: 89090.0156\n",
      "Epoch 75/250\n",
      "22/22 [==============================] - 0s 4ms/step - loss: 83771.2031\n",
      "Epoch 76/250\n",
      "22/22 [==============================] - 0s 3ms/step - loss: 78484.6797\n",
      "Epoch 77/250\n",
      "22/22 [==============================] - 0s 3ms/step - loss: 73176.0156\n",
      "Epoch 78/250\n",
      "22/22 [==============================] - 0s 4ms/step - loss: 67893.3203\n",
      "Epoch 79/250\n",
      "22/22 [==============================] - 0s 4ms/step - loss: 62692.2930\n",
      "Epoch 80/250\n",
      "22/22 [==============================] - 0s 3ms/step - loss: 57552.7305\n",
      "Epoch 81/250\n",
      "22/22 [==============================] - 0s 2ms/step - loss: 52513.3477\n",
      "Epoch 82/250\n",
      "22/22 [==============================] - 0s 2ms/step - loss: 47584.2148\n",
      "Epoch 83/250\n",
      "22/22 [==============================] - 0s 3ms/step - loss: 42749.6016\n",
      "Epoch 84/250\n",
      "22/22 [==============================] - 0s 2ms/step - loss: 38046.9375\n",
      "Epoch 85/250\n",
      "22/22 [==============================] - 0s 2ms/step - loss: 33526.5156\n",
      "Epoch 86/250\n",
      "22/22 [==============================] - 0s 2ms/step - loss: 29220.1543\n",
      "Epoch 87/250\n",
      "22/22 [==============================] - 0s 3ms/step - loss: 25129.2109\n",
      "Epoch 88/250\n",
      "22/22 [==============================] - 0s 3ms/step - loss: 21269.6387\n",
      "Epoch 89/250\n",
      "22/22 [==============================] - 0s 2ms/step - loss: 17671.4648\n",
      "Epoch 90/250\n",
      "22/22 [==============================] - 0s 3ms/step - loss: 14365.0312\n",
      "Epoch 91/250\n",
      "22/22 [==============================] - 0s 3ms/step - loss: 11410.7197\n",
      "Epoch 92/250\n",
      "22/22 [==============================] - 0s 2ms/step - loss: 8796.8760\n",
      "Epoch 93/250\n",
      "22/22 [==============================] - 0s 2ms/step - loss: 6551.6758\n",
      "Epoch 94/250\n",
      "22/22 [==============================] - 0s 2ms/step - loss: 4704.0098\n",
      "Epoch 95/250\n",
      "22/22 [==============================] - 0s 2ms/step - loss: 3279.9724\n",
      "Epoch 96/250\n",
      "22/22 [==============================] - 0s 3ms/step - loss: 2271.9783\n",
      "Epoch 97/250\n",
      "22/22 [==============================] - 0s 4ms/step - loss: 1705.6943\n",
      "Epoch 98/250\n",
      "22/22 [==============================] - 0s 4ms/step - loss: 1483.5558\n",
      "Epoch 99/250\n",
      "22/22 [==============================] - 0s 5ms/step - loss: 1424.0870\n",
      "Epoch 100/250\n",
      "22/22 [==============================] - 0s 4ms/step - loss: 1396.8220\n",
      "Epoch 101/250\n",
      "22/22 [==============================] - 0s 2ms/step - loss: 1373.8928\n",
      "Epoch 102/250\n",
      "22/22 [==============================] - 0s 2ms/step - loss: 1347.1985\n",
      "Epoch 103/250\n",
      "22/22 [==============================] - 0s 4ms/step - loss: 1325.3842\n",
      "Epoch 104/250\n",
      "22/22 [==============================] - 0s 3ms/step - loss: 1301.7333\n",
      "Epoch 105/250\n",
      "22/22 [==============================] - 0s 3ms/step - loss: 1279.5490\n",
      "Epoch 106/250\n",
      "22/22 [==============================] - 0s 4ms/step - loss: 1258.3120\n",
      "Epoch 107/250\n",
      "22/22 [==============================] - 0s 4ms/step - loss: 1236.3267\n",
      "Epoch 108/250\n",
      "22/22 [==============================] - 0s 4ms/step - loss: 1213.4669\n",
      "Epoch 109/250\n",
      "22/22 [==============================] - 0s 4ms/step - loss: 1189.5938\n",
      "Epoch 110/250\n",
      "22/22 [==============================] - 0s 5ms/step - loss: 1165.6851\n",
      "Epoch 111/250\n",
      "22/22 [==============================] - 0s 4ms/step - loss: 1143.5671\n",
      "Epoch 112/250\n",
      "22/22 [==============================] - 0s 3ms/step - loss: 1120.0983\n",
      "Epoch 113/250\n",
      "22/22 [==============================] - 0s 4ms/step - loss: 1095.8539\n",
      "Epoch 114/250\n",
      "22/22 [==============================] - 0s 6ms/step - loss: 1069.5447\n",
      "Epoch 115/250\n",
      "22/22 [==============================] - 0s 4ms/step - loss: 1047.1262\n",
      "Epoch 116/250\n",
      "22/22 [==============================] - 0s 5ms/step - loss: 1026.6688\n",
      "Epoch 117/250\n",
      "22/22 [==============================] - 0s 4ms/step - loss: 1005.9400\n",
      "Epoch 118/250\n",
      "22/22 [==============================] - 0s 2ms/step - loss: 986.8951\n",
      "Epoch 119/250\n",
      "22/22 [==============================] - 0s 3ms/step - loss: 964.2830\n",
      "Epoch 120/250\n",
      "22/22 [==============================] - 0s 2ms/step - loss: 946.5222\n",
      "Epoch 121/250\n",
      "22/22 [==============================] - 0s 3ms/step - loss: 926.0432\n",
      "Epoch 122/250\n",
      "22/22 [==============================] - 0s 3ms/step - loss: 902.9609\n",
      "Epoch 123/250\n",
      "22/22 [==============================] - 0s 4ms/step - loss: 883.4786\n",
      "Epoch 124/250\n",
      "22/22 [==============================] - 0s 4ms/step - loss: 864.2110\n",
      "Epoch 125/250\n",
      "22/22 [==============================] - 0s 5ms/step - loss: 843.4468\n",
      "Epoch 126/250\n",
      "22/22 [==============================] - 0s 5ms/step - loss: 826.6393\n",
      "Epoch 127/250\n",
      "22/22 [==============================] - 0s 3ms/step - loss: 805.2658\n",
      "Epoch 128/250\n",
      "22/22 [==============================] - 0s 2ms/step - loss: 788.0801\n",
      "Epoch 129/250\n",
      "22/22 [==============================] - 0s 4ms/step - loss: 770.5710\n",
      "Epoch 130/250\n",
      "22/22 [==============================] - 0s 3ms/step - loss: 753.9522\n",
      "Epoch 131/250\n",
      "22/22 [==============================] - 0s 4ms/step - loss: 735.8430\n",
      "Epoch 132/250\n",
      "22/22 [==============================] - 0s 4ms/step - loss: 716.9077\n",
      "Epoch 133/250\n",
      "22/22 [==============================] - 0s 3ms/step - loss: 701.1682\n",
      "Epoch 134/250\n",
      "22/22 [==============================] - 0s 2ms/step - loss: 682.3679\n",
      "Epoch 135/250\n",
      "22/22 [==============================] - 0s 5ms/step - loss: 661.5745\n",
      "Epoch 136/250\n",
      "22/22 [==============================] - 0s 2ms/step - loss: 645.4164\n",
      "Epoch 137/250\n",
      "22/22 [==============================] - 0s 4ms/step - loss: 628.1768\n",
      "Epoch 138/250\n",
      "22/22 [==============================] - 0s 4ms/step - loss: 610.3965\n",
      "Epoch 139/250\n",
      "22/22 [==============================] - 0s 3ms/step - loss: 595.6703\n",
      "Epoch 140/250\n",
      "22/22 [==============================] - 0s 3ms/step - loss: 577.3840\n",
      "Epoch 141/250\n",
      "22/22 [==============================] - 0s 2ms/step - loss: 559.5840\n",
      "Epoch 142/250\n",
      "22/22 [==============================] - 0s 2ms/step - loss: 543.1726\n",
      "Epoch 143/250\n",
      "22/22 [==============================] - 0s 3ms/step - loss: 526.1405\n",
      "Epoch 144/250\n",
      "22/22 [==============================] - 0s 4ms/step - loss: 510.0048\n",
      "Epoch 145/250\n",
      "22/22 [==============================] - 0s 4ms/step - loss: 494.8835\n",
      "Epoch 146/250\n",
      "22/22 [==============================] - 0s 4ms/step - loss: 481.1240\n",
      "Epoch 147/250\n",
      "22/22 [==============================] - 0s 4ms/step - loss: 465.1890\n",
      "Epoch 148/250\n",
      "22/22 [==============================] - 0s 7ms/step - loss: 449.3762\n",
      "Epoch 149/250\n",
      "22/22 [==============================] - 0s 5ms/step - loss: 432.5038\n",
      "Epoch 150/250\n",
      "22/22 [==============================] - 0s 6ms/step - loss: 419.8361\n",
      "Epoch 151/250\n",
      "22/22 [==============================] - 0s 4ms/step - loss: 404.3796\n",
      "Epoch 152/250\n",
      "22/22 [==============================] - 0s 3ms/step - loss: 390.4933\n",
      "Epoch 153/250\n",
      "22/22 [==============================] - 0s 2ms/step - loss: 375.8546\n",
      "Epoch 154/250\n",
      "22/22 [==============================] - 0s 4ms/step - loss: 361.8721\n",
      "Epoch 155/250\n",
      "22/22 [==============================] - 0s 4ms/step - loss: 348.5746\n",
      "Epoch 156/250\n",
      "22/22 [==============================] - 0s 2ms/step - loss: 335.4444\n",
      "Epoch 157/250\n",
      "22/22 [==============================] - 0s 3ms/step - loss: 321.5760\n",
      "Epoch 158/250\n",
      "22/22 [==============================] - 0s 2ms/step - loss: 306.4784\n",
      "Epoch 159/250\n",
      "22/22 [==============================] - 0s 2ms/step - loss: 295.4750\n",
      "Epoch 160/250\n",
      "22/22 [==============================] - 0s 2ms/step - loss: 283.0742\n",
      "Epoch 161/250\n",
      "22/22 [==============================] - 0s 4ms/step - loss: 270.6920\n",
      "Epoch 162/250\n",
      "22/22 [==============================] - 0s 4ms/step - loss: 257.5031\n",
      "Epoch 163/250\n",
      "22/22 [==============================] - 0s 2ms/step - loss: 246.6566\n",
      "Epoch 164/250\n",
      "22/22 [==============================] - 0s 3ms/step - loss: 234.3587\n",
      "Epoch 165/250\n",
      "22/22 [==============================] - 0s 3ms/step - loss: 223.0776\n",
      "Epoch 166/250\n",
      "22/22 [==============================] - 0s 2ms/step - loss: 212.5563\n",
      "Epoch 167/250\n",
      "22/22 [==============================] - 0s 4ms/step - loss: 202.1591\n",
      "Epoch 168/250\n",
      "22/22 [==============================] - 0s 5ms/step - loss: 192.5243\n",
      "Epoch 169/250\n",
      "22/22 [==============================] - 0s 2ms/step - loss: 184.4724\n",
      "Epoch 170/250\n",
      "22/22 [==============================] - 0s 5ms/step - loss: 176.1067\n",
      "Epoch 171/250\n",
      "22/22 [==============================] - 0s 5ms/step - loss: 168.3015\n",
      "Epoch 172/250\n",
      "22/22 [==============================] - 0s 6ms/step - loss: 158.6904\n",
      "Epoch 173/250\n",
      "22/22 [==============================] - 0s 5ms/step - loss: 150.1812\n",
      "Epoch 174/250\n",
      "22/22 [==============================] - 0s 4ms/step - loss: 141.3194\n",
      "Epoch 175/250\n",
      "22/22 [==============================] - 0s 4ms/step - loss: 133.9488\n",
      "Epoch 176/250\n",
      "22/22 [==============================] - 0s 2ms/step - loss: 125.8260\n",
      "Epoch 177/250\n",
      "22/22 [==============================] - 0s 2ms/step - loss: 119.3008\n",
      "Epoch 178/250\n",
      "22/22 [==============================] - 0s 4ms/step - loss: 112.4731\n",
      "Epoch 179/250\n",
      "22/22 [==============================] - 0s 3ms/step - loss: 105.8873\n",
      "Epoch 180/250\n",
      "22/22 [==============================] - 0s 4ms/step - loss: 99.6901\n",
      "Epoch 181/250\n",
      "22/22 [==============================] - 0s 3ms/step - loss: 93.3490\n",
      "Epoch 182/250\n",
      "22/22 [==============================] - 0s 3ms/step - loss: 87.8623\n",
      "Epoch 183/250\n",
      "22/22 [==============================] - 0s 2ms/step - loss: 82.1442\n",
      "Epoch 184/250\n",
      "22/22 [==============================] - 0s 3ms/step - loss: 77.2794\n",
      "Epoch 185/250\n",
      "22/22 [==============================] - 0s 7ms/step - loss: 72.7843\n",
      "Epoch 186/250\n",
      "22/22 [==============================] - 0s 4ms/step - loss: 67.6180\n",
      "Epoch 187/250\n",
      "22/22 [==============================] - 0s 2ms/step - loss: 64.4823\n",
      "Epoch 188/250\n",
      "22/22 [==============================] - 0s 3ms/step - loss: 60.1995\n",
      "Epoch 189/250\n",
      "22/22 [==============================] - 0s 6ms/step - loss: 56.4678\n",
      "Epoch 190/250\n",
      "22/22 [==============================] - 0s 2ms/step - loss: 53.3198\n",
      "Epoch 191/250\n",
      "22/22 [==============================] - 0s 2ms/step - loss: 49.7820\n",
      "Epoch 192/250\n",
      "22/22 [==============================] - 0s 2ms/step - loss: 47.1733\n",
      "Epoch 193/250\n",
      "22/22 [==============================] - 0s 2ms/step - loss: 44.3296\n",
      "Epoch 194/250\n",
      "22/22 [==============================] - 0s 2ms/step - loss: 41.8222\n",
      "Epoch 195/250\n",
      "22/22 [==============================] - 0s 3ms/step - loss: 40.2322\n",
      "Epoch 196/250\n",
      "22/22 [==============================] - 0s 3ms/step - loss: 37.8773\n",
      "Epoch 197/250\n",
      "22/22 [==============================] - 0s 4ms/step - loss: 36.2245\n",
      "Epoch 198/250\n",
      "22/22 [==============================] - 0s 3ms/step - loss: 34.5504\n",
      "Epoch 199/250\n",
      "22/22 [==============================] - 0s 3ms/step - loss: 33.4097\n",
      "Epoch 200/250\n",
      "22/22 [==============================] - 0s 3ms/step - loss: 31.5804\n",
      "Epoch 201/250\n",
      "22/22 [==============================] - 0s 3ms/step - loss: 30.9461\n",
      "Epoch 202/250\n",
      "22/22 [==============================] - 0s 2ms/step - loss: 29.8824\n",
      "Epoch 203/250\n",
      "22/22 [==============================] - 0s 3ms/step - loss: 29.1408\n",
      "Epoch 204/250\n",
      "22/22 [==============================] - 0s 3ms/step - loss: 28.0074\n",
      "Epoch 205/250\n",
      "22/22 [==============================] - 0s 4ms/step - loss: 27.8440\n",
      "Epoch 206/250\n",
      "22/22 [==============================] - 0s 4ms/step - loss: 27.2006\n",
      "Epoch 207/250\n",
      "22/22 [==============================] - 0s 4ms/step - loss: 26.9326\n",
      "Epoch 208/250\n",
      "22/22 [==============================] - 0s 3ms/step - loss: 26.5334\n",
      "Epoch 209/250\n",
      "22/22 [==============================] - 0s 3ms/step - loss: 26.2504\n",
      "Epoch 210/250\n",
      "22/22 [==============================] - 0s 2ms/step - loss: 25.5725\n",
      "Epoch 211/250\n",
      "22/22 [==============================] - 0s 2ms/step - loss: 25.5016\n",
      "Epoch 212/250\n",
      "22/22 [==============================] - 0s 2ms/step - loss: 25.2400\n",
      "Epoch 213/250\n",
      "22/22 [==============================] - 0s 2ms/step - loss: 25.1629\n",
      "Epoch 214/250\n",
      "22/22 [==============================] - 0s 3ms/step - loss: 24.9786\n",
      "Epoch 215/250\n",
      "22/22 [==============================] - 0s 4ms/step - loss: 25.1607\n",
      "Epoch 216/250\n",
      "22/22 [==============================] - 0s 3ms/step - loss: 24.8292\n",
      "Epoch 217/250\n",
      "22/22 [==============================] - 0s 3ms/step - loss: 24.5026\n",
      "Epoch 218/250\n",
      "22/22 [==============================] - 0s 2ms/step - loss: 24.7371\n",
      "Epoch 219/250\n",
      "22/22 [==============================] - 0s 3ms/step - loss: 24.4255\n",
      "Epoch 220/250\n",
      "22/22 [==============================] - 0s 3ms/step - loss: 24.3241\n",
      "Epoch 221/250\n",
      "22/22 [==============================] - 0s 2ms/step - loss: 24.5532\n",
      "Epoch 222/250\n",
      "22/22 [==============================] - 0s 2ms/step - loss: 24.5493\n",
      "Epoch 223/250\n",
      "22/22 [==============================] - 0s 3ms/step - loss: 24.1585\n",
      "Epoch 224/250\n",
      "22/22 [==============================] - 0s 3ms/step - loss: 24.5246\n",
      "Epoch 225/250\n",
      "22/22 [==============================] - 0s 3ms/step - loss: 24.1137\n",
      "Epoch 226/250\n",
      "22/22 [==============================] - 0s 4ms/step - loss: 24.4399\n",
      "Epoch 227/250\n",
      "22/22 [==============================] - 0s 3ms/step - loss: 24.3369\n",
      "Epoch 228/250\n",
      "22/22 [==============================] - 0s 4ms/step - loss: 24.2485\n",
      "Epoch 229/250\n",
      "22/22 [==============================] - 0s 3ms/step - loss: 24.1557\n",
      "Epoch 230/250\n",
      "22/22 [==============================] - 0s 2ms/step - loss: 24.4393\n",
      "Epoch 231/250\n",
      "22/22 [==============================] - 0s 3ms/step - loss: 24.1879\n",
      "Epoch 232/250\n",
      "22/22 [==============================] - 0s 4ms/step - loss: 24.0105\n",
      "Epoch 233/250\n",
      "22/22 [==============================] - 0s 3ms/step - loss: 24.0753\n",
      "Epoch 234/250\n",
      "22/22 [==============================] - 0s 2ms/step - loss: 24.1859\n",
      "Epoch 235/250\n",
      "22/22 [==============================] - 0s 2ms/step - loss: 24.2968\n",
      "Epoch 236/250\n",
      "22/22 [==============================] - 0s 3ms/step - loss: 24.2214\n",
      "Epoch 237/250\n",
      "22/22 [==============================] - 0s 3ms/step - loss: 24.0436\n",
      "Epoch 238/250\n",
      "22/22 [==============================] - 0s 2ms/step - loss: 24.1136\n",
      "Epoch 239/250\n",
      "22/22 [==============================] - 0s 2ms/step - loss: 23.9870\n",
      "Epoch 240/250\n",
      "22/22 [==============================] - 0s 4ms/step - loss: 24.1001\n",
      "Epoch 241/250\n",
      "22/22 [==============================] - 0s 3ms/step - loss: 24.1488\n",
      "Epoch 242/250\n",
      "22/22 [==============================] - 0s 5ms/step - loss: 24.5944\n",
      "Epoch 243/250\n",
      "22/22 [==============================] - 0s 3ms/step - loss: 23.9383\n",
      "Epoch 244/250\n",
      "22/22 [==============================] - 0s 3ms/step - loss: 24.0226\n",
      "Epoch 245/250\n",
      "22/22 [==============================] - 0s 2ms/step - loss: 24.3176\n",
      "Epoch 246/250\n",
      "22/22 [==============================] - 0s 2ms/step - loss: 24.3137\n",
      "Epoch 247/250\n",
      "22/22 [==============================] - 0s 2ms/step - loss: 24.3424\n",
      "Epoch 248/250\n",
      "22/22 [==============================] - 0s 2ms/step - loss: 24.2135\n",
      "Epoch 249/250\n",
      "22/22 [==============================] - 0s 2ms/step - loss: 24.1828\n",
      "Epoch 250/250\n",
      "22/22 [==============================] - 0s 2ms/step - loss: 24.1495\n"
     ]
    },
    {
     "data": {
      "text/plain": [
       "<keras.callbacks.History at 0x7fe303265750>"
      ]
     },
     "execution_count": 52,
     "metadata": {},
     "output_type": "execute_result"
    }
   ],
   "source": [
    "model.fit(x = X_train, y = y_train, batch_size = 32, epochs = 250)"
   ]
  },
  {
   "cell_type": "markdown",
   "metadata": {
    "id": "FbnF82bTVSnA"
   },
   "source": [
    "__Ciktidaki 22 sayisi :__ Train datasinda 700 gozlem var. 700 / 32 = 22 (Aslinda sonuc 21.875 cikiyor fakat egitim yarim kalmasin diye son  kalan verileri batch' e atarak sayiyi 22' ye tamamliyor.). Boylece her epoch' da 22 kere backpropagation yapti. Her iterasyonda da 32 data kullandi."
   ]
  },
  {
   "cell_type": "markdown",
   "metadata": {
    "id": "jIRg-IZeVSnA"
   },
   "source": [
    "__Ciktidaki loss :__ 22 tane datadan 22.' sinin loss degeri, yani epoch' un en sonuncu iterasyonu (Ortalama degil!)"
   ]
  },
  {
   "cell_type": "markdown",
   "metadata": {
    "id": "J8FR3SyfVSnA"
   },
   "source": [
    "__loss:__ Gozlemdeki hata degeri. (Burda mse kullandigimiz icin hata degerlerinin karesi)"
   ]
  },
  {
   "cell_type": "markdown",
   "metadata": {
    "id": "Oel81SISVSnA"
   },
   "source": [
    "ilk satir egitime girer, bir hata degeri bulunur; ikinci satir girer bir hata degeri bulunur; en son 32. satir girer bir hata degeri bulunur (batch_size=32) ve bu hata degerlerinin hepsinin ortalamasi alinir. Bu ortalama degere gore bir turev degeri alinir, gradient descent calisir. Buna gore parametreleri gunceller. Boylece 1/22' nci islemi yapmis olur. Yenilenmis parametreler ile 32. dataya, 33. dataya 64. dataya kadar ayni islemleri tekrar eder. 64. 'de tekrar hata degerlerinin ortalamasini alir, turev degerlerini bulur.. Bu sekilde datanin sonuna kadar bu islemleri tekrar eder."
   ]
  },
  {
   "cell_type": "markdown",
   "metadata": {
    "id": "Cmz8rDe-VSnA"
   },
   "source": [
    "Ciktidaki loss degerlerinin (hata) baslangicta cok fazla oldugunu, egitim devam ettikce asagiya dogru azaldigini goruyoruz. Baslangictaki buyuk hatanin sebebi; basta atanan rastgele agirlik degerleridir. "
   ]
  },
  {
   "cell_type": "markdown",
   "metadata": {
    "id": "Ei3I0AKRVSnA"
   },
   "source": [
    "-----------------------------------------------------------------------------------------------------------------------------------"
   ]
  },
  {
   "cell_type": "markdown",
   "metadata": {
    "id": "fNItJp84VSnA"
   },
   "source": [
    "__model.summary :__ Her katmanda kac tane parametre oldugunu verir. Burada toplamda 57 tane parametre var. Her iterasyonda bu 57 parametre guncellenir. "
   ]
  },
  {
   "cell_type": "markdown",
   "metadata": {
    "id": "05Ek6QJmVSnA"
   },
   "source": [
    "Ilk katmanda 12 tane parametre oldugunu goruyoruz. Bu sayi su sekilde hesaplaniyor : Baslangicta 2 feature vardi. Bu feature' lar ilk katmandaki 4 nöronun her birine giderse 4*2=8 tane agirlik degeri olur, her nöronda birer tane de bias degeri var, bunu da eklersek 8+4=12 degeri bulunur."
   ]
  },
  {
   "cell_type": "markdown",
   "metadata": {
    "id": "TUeVGIC9VSnA"
   },
   "source": [
    "Ikinci katmandaki hesap : Onceki katmanda 4 nöron var, bu nöronlar sonraki 4 nöronun her birine giderse 4*4=16 tane agirlik degeri hesaplanir, 4 tane de bias degerini eklersek 16+4=20 tane parametre bulunur."
   ]
  },
  {
   "cell_type": "code",
   "execution_count": 53,
   "metadata": {
    "colab": {
     "base_uri": "https://localhost:8080/"
    },
    "id": "sPNXxbk1VSnA",
    "outputId": "802586ca-7a55-440c-8057-f2e4541b3ebf"
   },
   "outputs": [
    {
     "name": "stdout",
     "output_type": "stream",
     "text": [
      "Model: \"sequential_1\"\n",
      "_________________________________________________________________\n",
      " Layer (type)                Output Shape              Param #   \n",
      "=================================================================\n",
      " dense_4 (Dense)             (None, 4)                 12        \n",
      "                                                                 \n",
      " dense_5 (Dense)             (None, 4)                 20        \n",
      "                                                                 \n",
      " dense_6 (Dense)             (None, 4)                 20        \n",
      "                                                                 \n",
      " dense_7 (Dense)             (None, 1)                 5         \n",
      "                                                                 \n",
      "=================================================================\n",
      "Total params: 57\n",
      "Trainable params: 57\n",
      "Non-trainable params: 0\n",
      "_________________________________________________________________\n"
     ]
    }
   ],
   "source": [
    "model.summary()"
   ]
  },
  {
   "cell_type": "markdown",
   "metadata": {
    "id": "TmUEKWV5VSnA"
   },
   "source": [
    "__model.weights :__ Yukarida gordugumuz 57 tane parametrenin agirlik ve bias degerlerinin neler oldugunu her layer icin ayri ayri goruyoruz. (Mesela ilk layer icin 8 tane agirlik degeri, 4 tane bias degerinin kac olduklari bilgisi gibi.)"
   ]
  },
  {
   "cell_type": "code",
   "execution_count": 54,
   "metadata": {
    "colab": {
     "base_uri": "https://localhost:8080/"
    },
    "id": "b4oRiK3zVSnA",
    "outputId": "7a0f08b6-c12e-4ae7-b4a2-c311ee6214b2"
   },
   "outputs": [
    {
     "data": {
      "text/plain": [
       "[<tf.Variable 'dense_4/kernel:0' shape=(2, 4) dtype=float32, numpy=\n",
       " array([[-0.9360819 , -0.69013476,  1.4532725 ,  2.458666  ],\n",
       "        [-0.18206072, -0.5093844 ,  4.0017343 ,  4.1542587 ]],\n",
       "       dtype=float32)>,\n",
       " <tf.Variable 'dense_4/bias:0' shape=(4,) dtype=float32, numpy=array([0.        , 0.        , 0.73505205, 0.8598636 ], dtype=float32)>,\n",
       " <tf.Variable 'dense_5/kernel:0' shape=(4, 4) dtype=float32, numpy=\n",
       " array([[ 0.7245514 , -0.68709385, -0.28074658,  0.4290933 ],\n",
       "        [-0.51076454, -0.46946758,  0.10615349, -0.48621386],\n",
       "        [-0.11419952,  2.5167308 ,  2.7411494 ,  1.668273  ],\n",
       "        [-0.86266583,  3.1310482 ,  3.077746  ,  2.4184818 ]],\n",
       "       dtype=float32)>,\n",
       " <tf.Variable 'dense_5/bias:0' shape=(4,) dtype=float32, numpy=array([0.        , 0.83497316, 0.8005237 , 0.8423865 ], dtype=float32)>,\n",
       " <tf.Variable 'dense_6/kernel:0' shape=(4, 4) dtype=float32, numpy=\n",
       " array([[ 0.7394846 , -0.74377495,  0.16349596,  0.26095206],\n",
       "        [ 2.4133186 , -0.8025178 , -0.33275166, -0.5311068 ],\n",
       "        [ 2.8138463 , -0.8099889 ,  0.3894598 , -0.7230342 ],\n",
       "        [ 2.4432395 ,  0.7802437 , -0.21958134, -0.69358796]],\n",
       "       dtype=float32)>,\n",
       " <tf.Variable 'dense_6/bias:0' shape=(4,) dtype=float32, numpy=array([ 0.82230157,  0.        , -0.08571035,  0.        ], dtype=float32)>,\n",
       " <tf.Variable 'dense_7/kernel:0' shape=(4, 1) dtype=float32, numpy=\n",
       " array([[ 3.0203834 ],\n",
       "        [ 0.07418525],\n",
       "        [-1.0257037 ],\n",
       "        [ 0.6996068 ]], dtype=float32)>,\n",
       " <tf.Variable 'dense_7/bias:0' shape=(1,) dtype=float32, numpy=array([0.81037426], dtype=float32)>]"
      ]
     },
     "execution_count": 54,
     "metadata": {},
     "output_type": "execute_result"
    }
   ],
   "source": [
    "model.weights"
   ]
  },
  {
   "cell_type": "markdown",
   "metadata": {
    "id": "dCSUa1ZAVSnA"
   },
   "source": [
    "__model.history.history :__ Model egitilirken aldigimiz loss degerleri ne ise aynisini bu kod ile goruntuleyebiliyoruz. 250 tane epoch oldugu icin 250 tane loss degeri elde ettik :"
   ]
  },
  {
   "cell_type": "code",
   "execution_count": 55,
   "metadata": {
    "colab": {
     "base_uri": "https://localhost:8080/"
    },
    "id": "W_jbJoeWVSnA",
    "outputId": "eb750006-8db7-4234-96a3-bdba6787a4a3"
   },
   "outputs": [
    {
     "data": {
      "text/plain": [
       "{'loss': [256572.234375,\n",
       "  256434.109375,\n",
       "  256307.59375,\n",
       "  256174.265625,\n",
       "  256027.0,\n",
       "  255862.328125,\n",
       "  255677.234375,\n",
       "  255471.109375,\n",
       "  255241.96875,\n",
       "  254986.828125,\n",
       "  254705.078125,\n",
       "  254392.65625,\n",
       "  254047.9375,\n",
       "  253670.265625,\n",
       "  253256.3125,\n",
       "  252805.171875,\n",
       "  252313.234375,\n",
       "  251779.0,\n",
       "  251198.921875,\n",
       "  250572.9375,\n",
       "  249895.125,\n",
       "  249165.140625,\n",
       "  248382.484375,\n",
       "  247541.59375,\n",
       "  246638.375,\n",
       "  245681.84375,\n",
       "  244653.921875,\n",
       "  243553.328125,\n",
       "  242386.46875,\n",
       "  241144.0625,\n",
       "  239826.171875,\n",
       "  238429.0,\n",
       "  236951.953125,\n",
       "  235397.6875,\n",
       "  233750.171875,\n",
       "  232010.765625,\n",
       "  230180.1875,\n",
       "  228266.21875,\n",
       "  226246.8125,\n",
       "  224121.03125,\n",
       "  221900.484375,\n",
       "  219584.34375,\n",
       "  217156.046875,\n",
       "  214608.09375,\n",
       "  211987.078125,\n",
       "  209233.828125,\n",
       "  206363.90625,\n",
       "  203379.453125,\n",
       "  200292.5,\n",
       "  197102.90625,\n",
       "  193781.28125,\n",
       "  190330.21875,\n",
       "  186787.890625,\n",
       "  183125.140625,\n",
       "  179333.453125,\n",
       "  175428.484375,\n",
       "  171441.65625,\n",
       "  167313.421875,\n",
       "  163052.546875,\n",
       "  158699.046875,\n",
       "  154278.484375,\n",
       "  149741.09375,\n",
       "  145071.609375,\n",
       "  140323.890625,\n",
       "  135515.484375,\n",
       "  130594.078125,\n",
       "  125601.859375,\n",
       "  120526.125,\n",
       "  115419.3828125,\n",
       "  110210.9375,\n",
       "  104973.1796875,\n",
       "  99715.9921875,\n",
       "  94405.859375,\n",
       "  89090.015625,\n",
       "  83771.203125,\n",
       "  78484.6796875,\n",
       "  73176.015625,\n",
       "  67893.3203125,\n",
       "  62692.29296875,\n",
       "  57552.73046875,\n",
       "  52513.34765625,\n",
       "  47584.21484375,\n",
       "  42749.6015625,\n",
       "  38046.9375,\n",
       "  33526.515625,\n",
       "  29220.154296875,\n",
       "  25129.2109375,\n",
       "  21269.638671875,\n",
       "  17671.46484375,\n",
       "  14365.03125,\n",
       "  11410.7197265625,\n",
       "  8796.8759765625,\n",
       "  6551.67578125,\n",
       "  4704.009765625,\n",
       "  3279.972412109375,\n",
       "  2271.978271484375,\n",
       "  1705.6943359375,\n",
       "  1483.5557861328125,\n",
       "  1424.0870361328125,\n",
       "  1396.822021484375,\n",
       "  1373.892822265625,\n",
       "  1347.198486328125,\n",
       "  1325.3841552734375,\n",
       "  1301.7332763671875,\n",
       "  1279.5489501953125,\n",
       "  1258.31201171875,\n",
       "  1236.32666015625,\n",
       "  1213.4669189453125,\n",
       "  1189.59375,\n",
       "  1165.68505859375,\n",
       "  1143.567138671875,\n",
       "  1120.0982666015625,\n",
       "  1095.8538818359375,\n",
       "  1069.544677734375,\n",
       "  1047.126220703125,\n",
       "  1026.6688232421875,\n",
       "  1005.9400024414062,\n",
       "  986.8950805664062,\n",
       "  964.282958984375,\n",
       "  946.5221557617188,\n",
       "  926.0431518554688,\n",
       "  902.9608764648438,\n",
       "  883.4785766601562,\n",
       "  864.2109985351562,\n",
       "  843.44677734375,\n",
       "  826.6392822265625,\n",
       "  805.2658081054688,\n",
       "  788.080078125,\n",
       "  770.571044921875,\n",
       "  753.9522094726562,\n",
       "  735.8429565429688,\n",
       "  716.9076538085938,\n",
       "  701.1681518554688,\n",
       "  682.3678588867188,\n",
       "  661.5745239257812,\n",
       "  645.4164428710938,\n",
       "  628.1768188476562,\n",
       "  610.3965454101562,\n",
       "  595.6702880859375,\n",
       "  577.384033203125,\n",
       "  559.5840454101562,\n",
       "  543.172607421875,\n",
       "  526.1405029296875,\n",
       "  510.0047912597656,\n",
       "  494.8835144042969,\n",
       "  481.12396240234375,\n",
       "  465.18896484375,\n",
       "  449.3761901855469,\n",
       "  432.5037536621094,\n",
       "  419.83612060546875,\n",
       "  404.3796081542969,\n",
       "  390.4932556152344,\n",
       "  375.85455322265625,\n",
       "  361.8721008300781,\n",
       "  348.57464599609375,\n",
       "  335.4443664550781,\n",
       "  321.5759582519531,\n",
       "  306.4783630371094,\n",
       "  295.4750061035156,\n",
       "  283.0741882324219,\n",
       "  270.6920471191406,\n",
       "  257.50311279296875,\n",
       "  246.65655517578125,\n",
       "  234.35870361328125,\n",
       "  223.0775909423828,\n",
       "  212.55633544921875,\n",
       "  202.1591033935547,\n",
       "  192.52430725097656,\n",
       "  184.47238159179688,\n",
       "  176.10667419433594,\n",
       "  168.3014678955078,\n",
       "  158.6903839111328,\n",
       "  150.18116760253906,\n",
       "  141.3193817138672,\n",
       "  133.94879150390625,\n",
       "  125.82597351074219,\n",
       "  119.30081176757812,\n",
       "  112.47308349609375,\n",
       "  105.88729095458984,\n",
       "  99.69012451171875,\n",
       "  93.34898376464844,\n",
       "  87.86231231689453,\n",
       "  82.1441879272461,\n",
       "  77.27941131591797,\n",
       "  72.78433227539062,\n",
       "  67.61798858642578,\n",
       "  64.48233032226562,\n",
       "  60.19950866699219,\n",
       "  56.467830657958984,\n",
       "  53.31980514526367,\n",
       "  49.78202438354492,\n",
       "  47.17332077026367,\n",
       "  44.329586029052734,\n",
       "  41.82223892211914,\n",
       "  40.23223876953125,\n",
       "  37.87726974487305,\n",
       "  36.224483489990234,\n",
       "  34.5504035949707,\n",
       "  33.4096794128418,\n",
       "  31.580360412597656,\n",
       "  30.946102142333984,\n",
       "  29.88243865966797,\n",
       "  29.14084243774414,\n",
       "  28.007389068603516,\n",
       "  27.844022750854492,\n",
       "  27.200641632080078,\n",
       "  26.93262481689453,\n",
       "  26.533449172973633,\n",
       "  26.250404357910156,\n",
       "  25.572494506835938,\n",
       "  25.501628875732422,\n",
       "  25.239994049072266,\n",
       "  25.16292953491211,\n",
       "  24.978565216064453,\n",
       "  25.160663604736328,\n",
       "  24.829235076904297,\n",
       "  24.5025634765625,\n",
       "  24.737051010131836,\n",
       "  24.42546272277832,\n",
       "  24.32405662536621,\n",
       "  24.553186416625977,\n",
       "  24.549274444580078,\n",
       "  24.15850257873535,\n",
       "  24.524599075317383,\n",
       "  24.113719940185547,\n",
       "  24.4399471282959,\n",
       "  24.336885452270508,\n",
       "  24.248497009277344,\n",
       "  24.155691146850586,\n",
       "  24.43929100036621,\n",
       "  24.187938690185547,\n",
       "  24.010501861572266,\n",
       "  24.075307846069336,\n",
       "  24.185897827148438,\n",
       "  24.2967529296875,\n",
       "  24.221431732177734,\n",
       "  24.04361343383789,\n",
       "  24.11355972290039,\n",
       "  23.98704719543457,\n",
       "  24.100059509277344,\n",
       "  24.148845672607422,\n",
       "  24.59438705444336,\n",
       "  23.938323974609375,\n",
       "  24.022647857666016,\n",
       "  24.317575454711914,\n",
       "  24.313716888427734,\n",
       "  24.34239959716797,\n",
       "  24.213464736938477,\n",
       "  24.18279266357422,\n",
       "  24.149545669555664]}"
      ]
     },
     "execution_count": 55,
     "metadata": {},
     "output_type": "execute_result"
    }
   ],
   "source": [
    "model.history.history"
   ]
  },
  {
   "cell_type": "markdown",
   "metadata": {
    "id": "LFuA-SNsVSnA"
   },
   "source": [
    "Bu loss degerlerini gorsellestirerek overfit veya underfit durumu var mi diye kontrol etmek icin gorsellestirme yapacagiz. Bu yuzden oncelikle DataFrame' e cevirdik :"
   ]
  },
  {
   "cell_type": "code",
   "execution_count": 56,
   "metadata": {
    "colab": {
     "base_uri": "https://localhost:8080/",
     "height": 500
    },
    "id": "xCWwV3KdVSnA",
    "outputId": "3cfbcd17-402c-486a-9513-f176b5e3f02b"
   },
   "outputs": [
    {
     "data": {
      "text/html": [
       "\n",
       "  <div id=\"df-d2b078a5-4c52-4411-9d33-e1d8224e4de2\">\n",
       "    <div class=\"colab-df-container\">\n",
       "      <div>\n",
       "<style scoped>\n",
       "    .dataframe tbody tr th:only-of-type {\n",
       "        vertical-align: middle;\n",
       "    }\n",
       "\n",
       "    .dataframe tbody tr th {\n",
       "        vertical-align: top;\n",
       "    }\n",
       "\n",
       "    .dataframe thead th {\n",
       "        text-align: right;\n",
       "    }\n",
       "</style>\n",
       "<table border=\"1\" class=\"dataframe\">\n",
       "  <thead>\n",
       "    <tr style=\"text-align: right;\">\n",
       "      <th></th>\n",
       "      <th>loss</th>\n",
       "    </tr>\n",
       "  </thead>\n",
       "  <tbody>\n",
       "    <tr>\n",
       "      <th>0</th>\n",
       "      <td>256572.234</td>\n",
       "    </tr>\n",
       "    <tr>\n",
       "      <th>1</th>\n",
       "      <td>256434.109</td>\n",
       "    </tr>\n",
       "    <tr>\n",
       "      <th>2</th>\n",
       "      <td>256307.594</td>\n",
       "    </tr>\n",
       "    <tr>\n",
       "      <th>3</th>\n",
       "      <td>256174.266</td>\n",
       "    </tr>\n",
       "    <tr>\n",
       "      <th>4</th>\n",
       "      <td>256027.000</td>\n",
       "    </tr>\n",
       "    <tr>\n",
       "      <th>...</th>\n",
       "      <td>...</td>\n",
       "    </tr>\n",
       "    <tr>\n",
       "      <th>245</th>\n",
       "      <td>24.314</td>\n",
       "    </tr>\n",
       "    <tr>\n",
       "      <th>246</th>\n",
       "      <td>24.342</td>\n",
       "    </tr>\n",
       "    <tr>\n",
       "      <th>247</th>\n",
       "      <td>24.213</td>\n",
       "    </tr>\n",
       "    <tr>\n",
       "      <th>248</th>\n",
       "      <td>24.183</td>\n",
       "    </tr>\n",
       "    <tr>\n",
       "      <th>249</th>\n",
       "      <td>24.150</td>\n",
       "    </tr>\n",
       "  </tbody>\n",
       "</table>\n",
       "<p>250 rows × 1 columns</p>\n",
       "</div>\n",
       "      <button class=\"colab-df-convert\" onclick=\"convertToInteractive('df-d2b078a5-4c52-4411-9d33-e1d8224e4de2')\"\n",
       "              title=\"Convert this dataframe to an interactive table.\"\n",
       "              style=\"display:none;\">\n",
       "        \n",
       "  <svg xmlns=\"http://www.w3.org/2000/svg\" height=\"24px\"viewBox=\"0 0 24 24\"\n",
       "       width=\"24px\">\n",
       "    <path d=\"M0 0h24v24H0V0z\" fill=\"none\"/>\n",
       "    <path d=\"M18.56 5.44l.94 2.06.94-2.06 2.06-.94-2.06-.94-.94-2.06-.94 2.06-2.06.94zm-11 1L8.5 8.5l.94-2.06 2.06-.94-2.06-.94L8.5 2.5l-.94 2.06-2.06.94zm10 10l.94 2.06.94-2.06 2.06-.94-2.06-.94-.94-2.06-.94 2.06-2.06.94z\"/><path d=\"M17.41 7.96l-1.37-1.37c-.4-.4-.92-.59-1.43-.59-.52 0-1.04.2-1.43.59L10.3 9.45l-7.72 7.72c-.78.78-.78 2.05 0 2.83L4 21.41c.39.39.9.59 1.41.59.51 0 1.02-.2 1.41-.59l7.78-7.78 2.81-2.81c.8-.78.8-2.07 0-2.86zM5.41 20L4 18.59l7.72-7.72 1.47 1.35L5.41 20z\"/>\n",
       "  </svg>\n",
       "      </button>\n",
       "      \n",
       "  <style>\n",
       "    .colab-df-container {\n",
       "      display:flex;\n",
       "      flex-wrap:wrap;\n",
       "      gap: 12px;\n",
       "    }\n",
       "\n",
       "    .colab-df-convert {\n",
       "      background-color: #E8F0FE;\n",
       "      border: none;\n",
       "      border-radius: 50%;\n",
       "      cursor: pointer;\n",
       "      display: none;\n",
       "      fill: #1967D2;\n",
       "      height: 32px;\n",
       "      padding: 0 0 0 0;\n",
       "      width: 32px;\n",
       "    }\n",
       "\n",
       "    .colab-df-convert:hover {\n",
       "      background-color: #E2EBFA;\n",
       "      box-shadow: 0px 1px 2px rgba(60, 64, 67, 0.3), 0px 1px 3px 1px rgba(60, 64, 67, 0.15);\n",
       "      fill: #174EA6;\n",
       "    }\n",
       "\n",
       "    [theme=dark] .colab-df-convert {\n",
       "      background-color: #3B4455;\n",
       "      fill: #D2E3FC;\n",
       "    }\n",
       "\n",
       "    [theme=dark] .colab-df-convert:hover {\n",
       "      background-color: #434B5C;\n",
       "      box-shadow: 0px 1px 3px 1px rgba(0, 0, 0, 0.15);\n",
       "      filter: drop-shadow(0px 1px 2px rgba(0, 0, 0, 0.3));\n",
       "      fill: #FFFFFF;\n",
       "    }\n",
       "  </style>\n",
       "\n",
       "      <script>\n",
       "        const buttonEl =\n",
       "          document.querySelector('#df-d2b078a5-4c52-4411-9d33-e1d8224e4de2 button.colab-df-convert');\n",
       "        buttonEl.style.display =\n",
       "          google.colab.kernel.accessAllowed ? 'block' : 'none';\n",
       "\n",
       "        async function convertToInteractive(key) {\n",
       "          const element = document.querySelector('#df-d2b078a5-4c52-4411-9d33-e1d8224e4de2');\n",
       "          const dataTable =\n",
       "            await google.colab.kernel.invokeFunction('convertToInteractive',\n",
       "                                                     [key], {});\n",
       "          if (!dataTable) return;\n",
       "\n",
       "          const docLinkHtml = 'Like what you see? Visit the ' +\n",
       "            '<a target=\"_blank\" href=https://colab.research.google.com/notebooks/data_table.ipynb>data table notebook</a>'\n",
       "            + ' to learn more about interactive tables.';\n",
       "          element.innerHTML = '';\n",
       "          dataTable['output_type'] = 'display_data';\n",
       "          await google.colab.output.renderOutput(dataTable, element);\n",
       "          const docLink = document.createElement('div');\n",
       "          docLink.innerHTML = docLinkHtml;\n",
       "          element.appendChild(docLink);\n",
       "        }\n",
       "      </script>\n",
       "    </div>\n",
       "  </div>\n",
       "  "
      ],
      "text/plain": [
       "          loss\n",
       "0   256572.234\n",
       "1   256434.109\n",
       "2   256307.594\n",
       "3   256174.266\n",
       "4   256027.000\n",
       "..         ...\n",
       "245     24.314\n",
       "246     24.342\n",
       "247     24.213\n",
       "248     24.183\n",
       "249     24.150\n",
       "\n",
       "[250 rows x 1 columns]"
      ]
     },
     "execution_count": 56,
     "metadata": {},
     "output_type": "execute_result"
    }
   ],
   "source": [
    "pd.DataFrame(model.history.history)"
   ]
  },
  {
   "cell_type": "markdown",
   "metadata": {
    "id": "AW3WmC8WVSnB"
   },
   "source": [
    "Asagida modelimizin nasil bir ogrenme egrisi oldugunu goruyoruz. Modelimiz yaklasik olarak 80' de stabil bir duruma gelmis. Tam olarak hangi deger oldugunu gormek icin bir sonraki grafikte x ve y' ye limitler koyduk. Ayrintili grafikte degerimizin istedigimiz noktaya 200 gibi bir degerde ulastigini goruyoruz. (Baslangictaki agirliklar random olarak atandigi icin 200 sayisi model her calistiginda degisebilir!) Demek ki epoch degerini 250 yerine 200 olarak girerek zamandan tasarruf saglayabiliriz :"
   ]
  },
  {
   "cell_type": "code",
   "execution_count": 57,
   "metadata": {
    "colab": {
     "base_uri": "https://localhost:8080/",
     "height": 54
    },
    "id": "1wtKDVJ5VSnB",
    "outputId": "c2960cb3-c695-4262-febc-86491d459f52"
   },
   "outputs": [
    {
     "data": {
      "image/png": "[encoded data removed]",
      "text/plain": [
       "<Figure size 720x432 with 1 Axes>"
      ]
     },
     "metadata": {},
     "output_type": "display_data"
    }
   ],
   "source": [
    "loss_df = pd.DataFrame(model.history.history)\n",
    "loss_df.plot();"
   ]
  },
  {
   "cell_type": "code",
   "execution_count": 58,
   "metadata": {
    "colab": {
     "base_uri": "https://localhost:8080/",
     "height": 71
    },
    "id": "kEpPTbtSVSnB",
    "outputId": "942bdd84-8238-4bec-c961-27fbdd891022"
   },
   "outputs": [
    {
     "data": {
      "text/plain": [
       "(0.0, 3000.0)"
      ]
     },
     "execution_count": 58,
     "metadata": {},
     "output_type": "execute_result"
    },
    {
     "data": {
      "image/png": "[encoded data removed]",
      "text/plain": [
       "<Figure size 720x432 with 1 Axes>"
      ]
     },
     "metadata": {},
     "output_type": "display_data"
    }
   ],
   "source": [
    "fig, ax= plt.subplots()\n",
    "ax.plot(loss_df)\n",
    "ax.set_xlabel(\"epoch\")\n",
    "ax.set_ylabel(\"loss\")\n",
    "ax.set_title(\"loss - epoch graph\")\n",
    "ax.set_xlim([0, 250]) # focusing on the given x values\n",
    "ax.set_ylim([0, 3000]) # focusing on the given y values"
   ]
  },
  {
   "cell_type": "markdown",
   "metadata": {
    "id": "s_hVygayVSnB"
   },
   "source": [
    "## Model Performance"
   ]
  },
  {
   "cell_type": "markdown",
   "metadata": {
    "id": "ovsgO8OXVSnB"
   },
   "source": [
    "Bir regression problemi ile ugrastigimiz icin ayni ML' deki gibi error metriklerimizi import ettik :"
   ]
  },
  {
   "cell_type": "markdown",
   "metadata": {
    "id": "vjF5W4woVSnB"
   },
   "source": [
    "__explained_variance_score :__ r2 skoru ile ayni, aralarinda cok ufak farklar var. "
   ]
  },
  {
   "cell_type": "code",
   "execution_count": 59,
   "metadata": {
    "id": "RcXCBsIzVSnB"
   },
   "outputs": [],
   "source": [
    "from sklearn.metrics import mean_squared_error, mean_absolute_error, r2_score, explained_variance_score"
   ]
  },
  {
   "cell_type": "markdown",
   "metadata": {
    "id": "sQmWRlHlVSnB"
   },
   "source": [
    "__model.evaluate__ ciktisinda aldigimiz deger, yukarida compile kisminda tanimladigimiz loss='mse' skorudur. Oraya hangi skor tanimlandiysa burda o sonucu aliriz. "
   ]
  },
  {
   "cell_type": "code",
   "execution_count": 60,
   "metadata": {
    "colab": {
     "base_uri": "https://localhost:8080/"
    },
    "id": "3P6muXHxVSnB",
    "outputId": "9beefadd-e4a8-4d7c-9646-e8bb5f8a95fd"
   },
   "outputs": [
    {
     "data": {
      "text/plain": [
       "23.757612228393555"
      ]
     },
     "execution_count": 60,
     "metadata": {},
     "output_type": "execute_result"
    }
   ],
   "source": [
    "model.evaluate(X_train, y_train, verbose=0)"
   ]
  },
  {
   "cell_type": "markdown",
   "metadata": {
    "id": "hYWF_v1kVSnB"
   },
   "source": [
    "model.evaluate' ten aldigimiz train ve test set skorlari birbirleri ile tutarli cikti. "
   ]
  },
  {
   "cell_type": "markdown",
   "metadata": {
    "id": "A62l5NzNVSnB"
   },
   "source": [
    "__!!!__ model.evaluate daha prediction yaptirmadan otomatik olarak arka planda prediction yaptirir.  __!!!__"
   ]
  },
  {
   "cell_type": "code",
   "execution_count": 61,
   "metadata": {
    "colab": {
     "base_uri": "https://localhost:8080/"
    },
    "id": "IbgtoEGNVSnB",
    "outputId": "763c1a03-8ad0-47d5-9bf1-b2130a34978d"
   },
   "outputs": [
    {
     "data": {
      "text/plain": [
       "25.330738067626953"
      ]
     },
     "execution_count": 61,
     "metadata": {},
     "output_type": "execute_result"
    }
   ],
   "source": [
    "model.evaluate(X_test, y_test, verbose=0)"
   ]
  },
  {
   "cell_type": "code",
   "execution_count": 62,
   "metadata": {
    "id": "E-q-Lmr0VSnB"
   },
   "outputs": [],
   "source": [
    "y_pred = model.predict(X_test)"
   ]
  },
  {
   "cell_type": "markdown",
   "metadata": {
    "id": "9QaRaDxeVSnC"
   },
   "source": [
    "Test setine prediction yaptirdik ve skorumuzu aldik; skorumuz gayet iyi."
   ]
  },
  {
   "cell_type": "code",
   "execution_count": 63,
   "metadata": {
    "colab": {
     "base_uri": "https://localhost:8080/"
    },
    "id": "tJlsKsujVSnC",
    "outputId": "17c469ad-90da-4f37-bdae-db1aa8a3099f"
   },
   "outputs": [
    {
     "data": {
      "text/plain": [
       "0.9971566368986389"
      ]
     },
     "execution_count": 63,
     "metadata": {},
     "output_type": "execute_result"
    }
   ],
   "source": [
    "explained_variance_score(y_test, y_pred)"
   ]
  },
  {
   "cell_type": "markdown",
   "metadata": {
    "id": "ZiytgKVGVSnC"
   },
   "source": [
    "Actual value' lar ile prediction' larin 10 tanesini DataFrame' de karsilastirmak istedik. Bunun icin once bir dict olusturup bunu DataFrame' e cevirdik. y_pred' de reshape yapmamizin sebebi; y_pred bir listeydi bunun formatini reshape ile tek bir sütun haline getirdik :"
   ]
  },
  {
   "cell_type": "code",
   "execution_count": 64,
   "metadata": {
    "colab": {
     "base_uri": "https://localhost:8080/",
     "height": 359
    },
    "id": "1pH0H8E1VSnC",
    "outputId": "b8e3f021-fd1a-4a9c-9855-463e58088a14"
   },
   "outputs": [
    {
     "data": {
      "text/html": [
       "\n",
       "  <div id=\"df-a7fa481e-8e72-4028-8617-4bb5b18c5b45\">\n",
       "    <div class=\"colab-df-container\">\n",
       "      <div>\n",
       "<style scoped>\n",
       "    .dataframe tbody tr th:only-of-type {\n",
       "        vertical-align: middle;\n",
       "    }\n",
       "\n",
       "    .dataframe tbody tr th {\n",
       "        vertical-align: top;\n",
       "    }\n",
       "\n",
       "    .dataframe thead th {\n",
       "        text-align: right;\n",
       "    }\n",
       "</style>\n",
       "<table border=\"1\" class=\"dataframe\">\n",
       "  <thead>\n",
       "    <tr style=\"text-align: right;\">\n",
       "      <th></th>\n",
       "      <th>Actual</th>\n",
       "      <th>Pred</th>\n",
       "    </tr>\n",
       "  </thead>\n",
       "  <tbody>\n",
       "    <tr>\n",
       "      <th>159</th>\n",
       "      <td>403.063</td>\n",
       "      <td>395.657</td>\n",
       "    </tr>\n",
       "    <tr>\n",
       "      <th>50</th>\n",
       "      <td>514.895</td>\n",
       "      <td>517.763</td>\n",
       "    </tr>\n",
       "    <tr>\n",
       "      <th>244</th>\n",
       "      <td>528.129</td>\n",
       "      <td>532.237</td>\n",
       "    </tr>\n",
       "    <tr>\n",
       "      <th>7</th>\n",
       "      <td>464.116</td>\n",
       "      <td>459.536</td>\n",
       "    </tr>\n",
       "    <tr>\n",
       "      <th>143</th>\n",
       "      <td>357.296</td>\n",
       "      <td>357.441</td>\n",
       "    </tr>\n",
       "    <tr>\n",
       "      <th>58</th>\n",
       "      <td>455.140</td>\n",
       "      <td>447.502</td>\n",
       "    </tr>\n",
       "    <tr>\n",
       "      <th>19</th>\n",
       "      <td>565.192</td>\n",
       "      <td>566.074</td>\n",
       "    </tr>\n",
       "    <tr>\n",
       "      <th>129</th>\n",
       "      <td>492.873</td>\n",
       "      <td>493.991</td>\n",
       "    </tr>\n",
       "    <tr>\n",
       "      <th>264</th>\n",
       "      <td>400.635</td>\n",
       "      <td>398.968</td>\n",
       "    </tr>\n",
       "    <tr>\n",
       "      <th>36</th>\n",
       "      <td>507.443</td>\n",
       "      <td>502.369</td>\n",
       "    </tr>\n",
       "  </tbody>\n",
       "</table>\n",
       "</div>\n",
       "      <button class=\"colab-df-convert\" onclick=\"convertToInteractive('df-a7fa481e-8e72-4028-8617-4bb5b18c5b45')\"\n",
       "              title=\"Convert this dataframe to an interactive table.\"\n",
       "              style=\"display:none;\">\n",
       "        \n",
       "  <svg xmlns=\"http://www.w3.org/2000/svg\" height=\"24px\"viewBox=\"0 0 24 24\"\n",
       "       width=\"24px\">\n",
       "    <path d=\"M0 0h24v24H0V0z\" fill=\"none\"/>\n",
       "    <path d=\"M18.56 5.44l.94 2.06.94-2.06 2.06-.94-2.06-.94-.94-2.06-.94 2.06-2.06.94zm-11 1L8.5 8.5l.94-2.06 2.06-.94-2.06-.94L8.5 2.5l-.94 2.06-2.06.94zm10 10l.94 2.06.94-2.06 2.06-.94-2.06-.94-.94-2.06-.94 2.06-2.06.94z\"/><path d=\"M17.41 7.96l-1.37-1.37c-.4-.4-.92-.59-1.43-.59-.52 0-1.04.2-1.43.59L10.3 9.45l-7.72 7.72c-.78.78-.78 2.05 0 2.83L4 21.41c.39.39.9.59 1.41.59.51 0 1.02-.2 1.41-.59l7.78-7.78 2.81-2.81c.8-.78.8-2.07 0-2.86zM5.41 20L4 18.59l7.72-7.72 1.47 1.35L5.41 20z\"/>\n",
       "  </svg>\n",
       "      </button>\n",
       "      \n",
       "  <style>\n",
       "    .colab-df-container {\n",
       "      display:flex;\n",
       "      flex-wrap:wrap;\n",
       "      gap: 12px;\n",
       "    }\n",
       "\n",
       "    .colab-df-convert {\n",
       "      background-color: #E8F0FE;\n",
       "      border: none;\n",
       "      border-radius: 50%;\n",
       "      cursor: pointer;\n",
       "      display: none;\n",
       "      fill: #1967D2;\n",
       "      height: 32px;\n",
       "      padding: 0 0 0 0;\n",
       "      width: 32px;\n",
       "    }\n",
       "\n",
       "    .colab-df-convert:hover {\n",
       "      background-color: #E2EBFA;\n",
       "      box-shadow: 0px 1px 2px rgba(60, 64, 67, 0.3), 0px 1px 3px 1px rgba(60, 64, 67, 0.15);\n",
       "      fill: #174EA6;\n",
       "    }\n",
       "\n",
       "    [theme=dark] .colab-df-convert {\n",
       "      background-color: #3B4455;\n",
       "      fill: #D2E3FC;\n",
       "    }\n",
       "\n",
       "    [theme=dark] .colab-df-convert:hover {\n",
       "      background-color: #434B5C;\n",
       "      box-shadow: 0px 1px 3px 1px rgba(0, 0, 0, 0.15);\n",
       "      filter: drop-shadow(0px 1px 2px rgba(0, 0, 0, 0.3));\n",
       "      fill: #FFFFFF;\n",
       "    }\n",
       "  </style>\n",
       "\n",
       "      <script>\n",
       "        const buttonEl =\n",
       "          document.querySelector('#df-a7fa481e-8e72-4028-8617-4bb5b18c5b45 button.colab-df-convert');\n",
       "        buttonEl.style.display =\n",
       "          google.colab.kernel.accessAllowed ? 'block' : 'none';\n",
       "\n",
       "        async function convertToInteractive(key) {\n",
       "          const element = document.querySelector('#df-a7fa481e-8e72-4028-8617-4bb5b18c5b45');\n",
       "          const dataTable =\n",
       "            await google.colab.kernel.invokeFunction('convertToInteractive',\n",
       "                                                     [key], {});\n",
       "          if (!dataTable) return;\n",
       "\n",
       "          const docLinkHtml = 'Like what you see? Visit the ' +\n",
       "            '<a target=\"_blank\" href=https://colab.research.google.com/notebooks/data_table.ipynb>data table notebook</a>'\n",
       "            + ' to learn more about interactive tables.';\n",
       "          element.innerHTML = '';\n",
       "          dataTable['output_type'] = 'display_data';\n",
       "          await google.colab.output.renderOutput(dataTable, element);\n",
       "          const docLink = document.createElement('div');\n",
       "          docLink.innerHTML = docLinkHtml;\n",
       "          element.appendChild(docLink);\n",
       "        }\n",
       "      </script>\n",
       "    </div>\n",
       "  </div>\n",
       "  "
      ],
      "text/plain": [
       "     Actual    Pred\n",
       "159 403.063 395.657\n",
       "50  514.895 517.763\n",
       "244 528.129 532.237\n",
       "7   464.116 459.536\n",
       "143 357.296 357.441\n",
       "58  455.140 447.502\n",
       "19  565.192 566.074\n",
       "129 492.873 493.991\n",
       "264 400.635 398.968\n",
       "36  507.443 502.369"
      ]
     },
     "execution_count": 64,
     "metadata": {},
     "output_type": "execute_result"
    }
   ],
   "source": [
    "my_dict = {\"Actual\" : y_test, \"Pred\" : y_pred.reshape(-1,)}\n",
    "compare = pd.DataFrame(my_dict)\n",
    "compare.sample(10)"
   ]
  },
  {
   "cell_type": "markdown",
   "metadata": {
    "id": "isspbYjTVSnC"
   },
   "source": [
    "Actual ve predict degerleri birbirine cok yakin cikti, modelimiz cok iyi tahminler yapmis."
   ]
  },
  {
   "cell_type": "markdown",
   "metadata": {
    "id": "KKGTy40IVSnC"
   },
   "source": [
    "Actual ve predict degerlerine bir de gorsellestirerek baktik :"
   ]
  },
  {
   "cell_type": "code",
   "execution_count": 65,
   "metadata": {
    "colab": {
     "base_uri": "https://localhost:8080/",
     "height": 405
    },
    "id": "5dSHP6sYVSnC",
    "outputId": "62afee70-b1fc-48fb-d076-c1b6d3888597"
   },
   "outputs": [
    {
     "data": {
      "text/plain": [
       "<matplotlib.axes._subplots.AxesSubplot at 0x7fe2fc8bbf10>"
      ]
     },
     "execution_count": 65,
     "metadata": {},
     "output_type": "execute_result"
    },
    {
     "data": {
      "image/png": "[encoded data removed]",
      "text/plain": [
       "<Figure size 720x432 with 1 Axes>"
      ]
     },
     "metadata": {},
     "output_type": "display_data"
    }
   ],
   "source": [
    "sns.scatterplot(x = 'Actual', y = 'Pred', data = compare);"
   ]
  },
  {
   "cell_type": "markdown",
   "metadata": {
    "id": "1F89Wme2VSnC"
   },
   "source": [
    "eval_metric ile skorlarimiza baktigimizda r2_score ile yukarida aldigimiz explained_variance_score degerlerinin birbirine cok yakin oldugunu goruyoruz. Ikisinin hesaplanmasinda cok kucuk farklar oldugunu belirtmistik. Birbirlerinin yerlerine kullanilabilirler :"
   ]
  },
  {
   "cell_type": "code",
   "execution_count": 66,
   "metadata": {
    "id": "BjSYE61ZVSnC"
   },
   "outputs": [],
   "source": [
    "def eval_metric(actual, pred):\n",
    "    mae = mean_absolute_error(actual, pred)\n",
    "    mse = mean_squared_error(actual, pred)\n",
    "    rmse = np.sqrt(mean_squared_error(actual, pred))\n",
    "    score = r2_score(actual, pred)\n",
    "    return print(\"r2_score:\", score, \"\\nmae:\", mae, \"\\nmse:\", mse, \"\\nrmse:\", rmse)"
   ]
  },
  {
   "cell_type": "code",
   "execution_count": 67,
   "metadata": {
    "colab": {
     "base_uri": "https://localhost:8080/"
    },
    "id": "U_0V56SbVSnC",
    "outputId": "e111fe5a-9d0c-4abd-a92e-512007fa2951"
   },
   "outputs": [
    {
     "name": "stdout",
     "output_type": "stream",
     "text": [
      "r2_score: 0.9971188977928009 \n",
      "mae: 4.047471182686836 \n",
      "mse: 25.33074183698437 \n",
      "rmse: 5.032965511205533\n"
     ]
    }
   ],
   "source": [
    "eval_metric(y_test, y_pred)"
   ]
  },
  {
   "cell_type": "markdown",
   "metadata": {
    "id": "szw2Qn9mVSnC"
   },
   "source": [
    "## Final Model and Model Deployment"
   ]
  },
  {
   "cell_type": "markdown",
   "metadata": {
    "id": "JrooTuf8VSnC"
   },
   "source": [
    "ML' de yaptigimiz gibi full datamiz ile model egitimimizi yapiyoruz. Once tum X datamizi scale ettik. Pickle ile scale edilmis datamizi baska yerde de kullanabilmek adina dump ettik. Scale edilmis datamizi transform ettik ve sonrasinda yukarida kullandigimiz ozellikleri kullanarak tum datamizi modele soktuk :"
   ]
  },
  {
   "cell_type": "code",
   "execution_count": 68,
   "metadata": {
    "id": "hfmGBmxbVSnC"
   },
   "outputs": [],
   "source": [
    "scaler = MinMaxScaler().fit(X)"
   ]
  },
  {
   "cell_type": "code",
   "execution_count": 69,
   "metadata": {
    "id": "azRTBR5pVSnC"
   },
   "outputs": [],
   "source": [
    "import pickle\n",
    "pickle.dump(scaler, open(\"scaler_fake_reg\", 'wb'))"
   ]
  },
  {
   "cell_type": "code",
   "execution_count": 70,
   "metadata": {
    "id": "mRLreQoHVSnC"
   },
   "outputs": [],
   "source": [
    "X_scaled = scaler.transform(X)"
   ]
  },
  {
   "cell_type": "markdown",
   "metadata": {
    "id": "8slOfhsCVSnC"
   },
   "source": [
    "Model egitimi yaparken cok iyi skorlar almis olmamiza karsin burda kotu skorlar alabiliriz (yuksek ve dusmeyen loss degerleri). Bunun sebeplerin arasinda, ilk agirliklarin random atanmasi olabilir; relu kullandigimiz icin ölü nöronlar olabilir; farkli bir noktadan basladigi icin global min'e ulasamamis olabilir. Bu durumda asagidaki dusuk loss degerleri alana kadar kodu tekrar tekrar calistirmaliyiz. Egitimdekine benzer sonuclar aldiysak modelimizi kaydedebiliriz. Yani Deep Learning' de iyi skorlar elde etmek şans işidir :"
   ]
  },
  {
   "cell_type": "code",
   "execution_count": 71,
   "metadata": {
    "colab": {
     "base_uri": "https://localhost:8080/"
    },
    "id": "Umvuia4VVSnC",
    "outputId": "4b5ee140-c987-42e2-e5ae-9c031c757f9d"
   },
   "outputs": [
    {
     "name": "stdout",
     "output_type": "stream",
     "text": [
      "Epoch 1/250\n",
      "32/32 [==============================] - 1s 1ms/step - loss: 257190.7812\n",
      "Epoch 2/250\n",
      "32/32 [==============================] - 0s 1ms/step - loss: 256967.3906\n",
      "Epoch 3/250\n",
      "32/32 [==============================] - 0s 2ms/step - loss: 256721.0938\n",
      "Epoch 4/250\n",
      "32/32 [==============================] - 0s 1ms/step - loss: 256443.3281\n",
      "Epoch 5/250\n",
      "32/32 [==============================] - 0s 2ms/step - loss: 256112.1562\n",
      "Epoch 6/250\n",
      "32/32 [==============================] - 0s 1ms/step - loss: 255696.3438\n",
      "Epoch 7/250\n",
      "32/32 [==============================] - 0s 1ms/step - loss: 255200.3125\n",
      "Epoch 8/250\n",
      "32/32 [==============================] - 0s 2ms/step - loss: 254612.4688\n",
      "Epoch 9/250\n",
      "32/32 [==============================] - 0s 1ms/step - loss: 253919.5156\n",
      "Epoch 10/250\n",
      "32/32 [==============================] - 0s 1ms/step - loss: 253109.5312\n",
      "Epoch 11/250\n",
      "32/32 [==============================] - 0s 2ms/step - loss: 252172.0312\n",
      "Epoch 12/250\n",
      "32/32 [==============================] - 0s 1ms/step - loss: 251093.2188\n",
      "Epoch 13/250\n",
      "32/32 [==============================] - 0s 1ms/step - loss: 249867.5156\n",
      "Epoch 14/250\n",
      "32/32 [==============================] - 0s 1ms/step - loss: 248470.6719\n",
      "Epoch 15/250\n",
      "32/32 [==============================] - 0s 1ms/step - loss: 246893.8594\n",
      "Epoch 16/250\n",
      "32/32 [==============================] - 0s 2ms/step - loss: 245117.1250\n",
      "Epoch 17/250\n",
      "32/32 [==============================] - 0s 1ms/step - loss: 243139.4688\n",
      "Epoch 18/250\n",
      "32/32 [==============================] - 0s 1ms/step - loss: 240941.8906\n",
      "Epoch 19/250\n",
      "32/32 [==============================] - 0s 1ms/step - loss: 238511.8281\n",
      "Epoch 20/250\n",
      "32/32 [==============================] - 0s 1ms/step - loss: 235811.7500\n",
      "Epoch 21/250\n",
      "32/32 [==============================] - 0s 1ms/step - loss: 232884.2812\n",
      "Epoch 22/250\n",
      "32/32 [==============================] - 0s 1ms/step - loss: 229663.1875\n",
      "Epoch 23/250\n",
      "32/32 [==============================] - 0s 1ms/step - loss: 226155.5000\n",
      "Epoch 24/250\n",
      "32/32 [==============================] - 0s 1ms/step - loss: 222351.9375\n",
      "Epoch 25/250\n",
      "32/32 [==============================] - 0s 1ms/step - loss: 218255.2500\n",
      "Epoch 26/250\n",
      "32/32 [==============================] - 0s 1ms/step - loss: 213790.0938\n",
      "Epoch 27/250\n",
      "32/32 [==============================] - 0s 1ms/step - loss: 209015.4219\n",
      "Epoch 28/250\n",
      "32/32 [==============================] - 0s 1ms/step - loss: 203920.4844\n",
      "Epoch 29/250\n",
      "32/32 [==============================] - 0s 1ms/step - loss: 198481.9062\n",
      "Epoch 30/250\n",
      "32/32 [==============================] - 0s 2ms/step - loss: 192702.0781\n",
      "Epoch 31/250\n",
      "32/32 [==============================] - 0s 1ms/step - loss: 186551.9531\n",
      "Epoch 32/250\n",
      "32/32 [==============================] - 0s 1ms/step - loss: 180075.0938\n",
      "Epoch 33/250\n",
      "32/32 [==============================] - 0s 2ms/step - loss: 173239.4219\n",
      "Epoch 34/250\n",
      "32/32 [==============================] - 0s 1ms/step - loss: 166037.5781\n",
      "Epoch 35/250\n",
      "32/32 [==============================] - 0s 2ms/step - loss: 158550.8594\n",
      "Epoch 36/250\n",
      "32/32 [==============================] - 0s 1ms/step - loss: 150740.6875\n",
      "Epoch 37/250\n",
      "32/32 [==============================] - 0s 1ms/step - loss: 142647.8438\n",
      "Epoch 38/250\n",
      "32/32 [==============================] - 0s 1ms/step - loss: 134262.8906\n",
      "Epoch 39/250\n",
      "32/32 [==============================] - 0s 1ms/step - loss: 125631.5625\n",
      "Epoch 40/250\n",
      "32/32 [==============================] - 0s 1ms/step - loss: 116830.6562\n",
      "Epoch 41/250\n",
      "32/32 [==============================] - 0s 2ms/step - loss: 107823.4062\n",
      "Epoch 42/250\n",
      "32/32 [==============================] - 0s 1ms/step - loss: 98711.0156\n",
      "Epoch 43/250\n",
      "32/32 [==============================] - 0s 1ms/step - loss: 89482.5469\n",
      "Epoch 44/250\n",
      "32/32 [==============================] - 0s 1ms/step - loss: 80304.1875\n",
      "Epoch 45/250\n",
      "32/32 [==============================] - 0s 2ms/step - loss: 71091.7734\n",
      "Epoch 46/250\n",
      "32/32 [==============================] - 0s 1ms/step - loss: 62110.3359\n",
      "Epoch 47/250\n",
      "32/32 [==============================] - 0s 1ms/step - loss: 53314.6172\n",
      "Epoch 48/250\n",
      "32/32 [==============================] - 0s 1ms/step - loss: 44827.0430\n",
      "Epoch 49/250\n",
      "32/32 [==============================] - 0s 1ms/step - loss: 36790.7422\n",
      "Epoch 50/250\n",
      "32/32 [==============================] - 0s 2ms/step - loss: 29248.8281\n",
      "Epoch 51/250\n",
      "32/32 [==============================] - 0s 1ms/step - loss: 22361.8613\n",
      "Epoch 52/250\n",
      "32/32 [==============================] - 0s 1ms/step - loss: 16343.2188\n",
      "Epoch 53/250\n",
      "32/32 [==============================] - 0s 1ms/step - loss: 11153.2900\n",
      "Epoch 54/250\n",
      "32/32 [==============================] - 0s 2ms/step - loss: 7026.9023\n",
      "Epoch 55/250\n",
      "32/32 [==============================] - 0s 1ms/step - loss: 4123.4600\n",
      "Epoch 56/250\n",
      "32/32 [==============================] - 0s 2ms/step - loss: 2455.6006\n",
      "Epoch 57/250\n",
      "32/32 [==============================] - 0s 1ms/step - loss: 1869.7673\n",
      "Epoch 58/250\n",
      "32/32 [==============================] - 0s 2ms/step - loss: 1798.4806\n",
      "Epoch 59/250\n",
      "32/32 [==============================] - 0s 1ms/step - loss: 1756.9099\n",
      "Epoch 60/250\n",
      "32/32 [==============================] - 0s 1ms/step - loss: 1713.8273\n",
      "Epoch 61/250\n",
      "32/32 [==============================] - 0s 1ms/step - loss: 1671.8060\n",
      "Epoch 62/250\n",
      "32/32 [==============================] - 0s 1ms/step - loss: 1626.8579\n",
      "Epoch 63/250\n",
      "32/32 [==============================] - 0s 1ms/step - loss: 1589.7628\n",
      "Epoch 64/250\n",
      "32/32 [==============================] - 0s 1ms/step - loss: 1551.0411\n",
      "Epoch 65/250\n",
      "32/32 [==============================] - 0s 1ms/step - loss: 1506.3464\n",
      "Epoch 66/250\n",
      "32/32 [==============================] - 0s 1ms/step - loss: 1470.2158\n",
      "Epoch 67/250\n",
      "32/32 [==============================] - 0s 2ms/step - loss: 1424.2302\n",
      "Epoch 68/250\n",
      "32/32 [==============================] - 0s 1ms/step - loss: 1386.4528\n",
      "Epoch 69/250\n",
      "32/32 [==============================] - 0s 1ms/step - loss: 1342.1896\n",
      "Epoch 70/250\n",
      "32/32 [==============================] - 0s 1ms/step - loss: 1309.1786\n",
      "Epoch 71/250\n",
      "32/32 [==============================] - 0s 1ms/step - loss: 1267.8900\n",
      "Epoch 72/250\n",
      "32/32 [==============================] - 0s 1ms/step - loss: 1231.0677\n",
      "Epoch 73/250\n",
      "32/32 [==============================] - 0s 2ms/step - loss: 1189.5132\n",
      "Epoch 74/250\n",
      "32/32 [==============================] - 0s 2ms/step - loss: 1151.4270\n",
      "Epoch 75/250\n",
      "32/32 [==============================] - 0s 2ms/step - loss: 1114.9128\n",
      "Epoch 76/250\n",
      "32/32 [==============================] - 0s 2ms/step - loss: 1077.0092\n",
      "Epoch 77/250\n",
      "32/32 [==============================] - 0s 2ms/step - loss: 1040.0984\n",
      "Epoch 78/250\n",
      "32/32 [==============================] - 0s 2ms/step - loss: 1001.5795\n",
      "Epoch 79/250\n",
      "32/32 [==============================] - 0s 2ms/step - loss: 966.1613\n",
      "Epoch 80/250\n",
      "32/32 [==============================] - 0s 1ms/step - loss: 932.2244\n",
      "Epoch 81/250\n",
      "32/32 [==============================] - 0s 1ms/step - loss: 897.1287\n",
      "Epoch 82/250\n",
      "32/32 [==============================] - 0s 1ms/step - loss: 864.0795\n",
      "Epoch 83/250\n",
      "32/32 [==============================] - 0s 1ms/step - loss: 831.8672\n",
      "Epoch 84/250\n",
      "32/32 [==============================] - 0s 1ms/step - loss: 798.8023\n",
      "Epoch 85/250\n",
      "32/32 [==============================] - 0s 1ms/step - loss: 759.9653\n",
      "Epoch 86/250\n",
      "32/32 [==============================] - 0s 1ms/step - loss: 726.0262\n",
      "Epoch 87/250\n",
      "32/32 [==============================] - 0s 1ms/step - loss: 689.4993\n",
      "Epoch 88/250\n",
      "32/32 [==============================] - 0s 1ms/step - loss: 659.6467\n",
      "Epoch 89/250\n",
      "32/32 [==============================] - 0s 1ms/step - loss: 627.2727\n",
      "Epoch 90/250\n",
      "32/32 [==============================] - 0s 1ms/step - loss: 598.3660\n",
      "Epoch 91/250\n",
      "32/32 [==============================] - 0s 1ms/step - loss: 570.2974\n",
      "Epoch 92/250\n",
      "32/32 [==============================] - 0s 2ms/step - loss: 540.9131\n",
      "Epoch 93/250\n",
      "32/32 [==============================] - 0s 2ms/step - loss: 512.2490\n",
      "Epoch 94/250\n",
      "32/32 [==============================] - 0s 2ms/step - loss: 483.8950\n",
      "Epoch 95/250\n",
      "32/32 [==============================] - 0s 1ms/step - loss: 458.8402\n",
      "Epoch 96/250\n",
      "32/32 [==============================] - 0s 1ms/step - loss: 431.9601\n",
      "Epoch 97/250\n",
      "32/32 [==============================] - 0s 2ms/step - loss: 406.2029\n",
      "Epoch 98/250\n",
      "32/32 [==============================] - 0s 2ms/step - loss: 385.5984\n",
      "Epoch 99/250\n",
      "32/32 [==============================] - 0s 1ms/step - loss: 360.1653\n",
      "Epoch 100/250\n",
      "32/32 [==============================] - 0s 2ms/step - loss: 335.2691\n",
      "Epoch 101/250\n",
      "32/32 [==============================] - 0s 1ms/step - loss: 312.5099\n",
      "Epoch 102/250\n",
      "32/32 [==============================] - 0s 1ms/step - loss: 291.4497\n",
      "Epoch 103/250\n",
      "32/32 [==============================] - 0s 2ms/step - loss: 271.3963\n",
      "Epoch 104/250\n",
      "32/32 [==============================] - 0s 1ms/step - loss: 249.8850\n",
      "Epoch 105/250\n",
      "32/32 [==============================] - 0s 1ms/step - loss: 231.3811\n",
      "Epoch 106/250\n",
      "32/32 [==============================] - 0s 1ms/step - loss: 211.6283\n",
      "Epoch 107/250\n",
      "32/32 [==============================] - 0s 1ms/step - loss: 193.4431\n",
      "Epoch 108/250\n",
      "32/32 [==============================] - 0s 1ms/step - loss: 178.6119\n",
      "Epoch 109/250\n",
      "32/32 [==============================] - 0s 1ms/step - loss: 162.6516\n",
      "Epoch 110/250\n",
      "32/32 [==============================] - 0s 1ms/step - loss: 150.2626\n",
      "Epoch 111/250\n",
      "32/32 [==============================] - 0s 2ms/step - loss: 137.3607\n",
      "Epoch 112/250\n",
      "32/32 [==============================] - 0s 1ms/step - loss: 124.2332\n",
      "Epoch 113/250\n",
      "32/32 [==============================] - 0s 2ms/step - loss: 113.2204\n",
      "Epoch 114/250\n",
      "32/32 [==============================] - 0s 2ms/step - loss: 103.4882\n",
      "Epoch 115/250\n",
      "32/32 [==============================] - 0s 1ms/step - loss: 93.9942\n",
      "Epoch 116/250\n",
      "32/32 [==============================] - 0s 1ms/step - loss: 84.4729\n",
      "Epoch 117/250\n",
      "32/32 [==============================] - 0s 1ms/step - loss: 75.3025\n",
      "Epoch 118/250\n",
      "32/32 [==============================] - 0s 1ms/step - loss: 67.3242\n",
      "Epoch 119/250\n",
      "32/32 [==============================] - 0s 1ms/step - loss: 61.3626\n",
      "Epoch 120/250\n",
      "32/32 [==============================] - 0s 2ms/step - loss: 55.4252\n",
      "Epoch 121/250\n",
      "32/32 [==============================] - 0s 1ms/step - loss: 50.2600\n",
      "Epoch 122/250\n",
      "32/32 [==============================] - 0s 1ms/step - loss: 45.7537\n",
      "Epoch 123/250\n",
      "32/32 [==============================] - 0s 1ms/step - loss: 42.1731\n",
      "Epoch 124/250\n",
      "32/32 [==============================] - 0s 1ms/step - loss: 38.4242\n",
      "Epoch 125/250\n",
      "32/32 [==============================] - 0s 1ms/step - loss: 35.7025\n",
      "Epoch 126/250\n",
      "32/32 [==============================] - 0s 2ms/step - loss: 33.4642\n",
      "Epoch 127/250\n",
      "32/32 [==============================] - 0s 1ms/step - loss: 31.6501\n",
      "Epoch 128/250\n",
      "32/32 [==============================] - 0s 1ms/step - loss: 30.4922\n",
      "Epoch 129/250\n",
      "32/32 [==============================] - 0s 1ms/step - loss: 29.0348\n",
      "Epoch 130/250\n",
      "32/32 [==============================] - 0s 2ms/step - loss: 27.8638\n",
      "Epoch 131/250\n",
      "32/32 [==============================] - 0s 1ms/step - loss: 27.4603\n",
      "Epoch 132/250\n",
      "32/32 [==============================] - 0s 1ms/step - loss: 26.8344\n",
      "Epoch 133/250\n",
      "32/32 [==============================] - 0s 1ms/step - loss: 26.3312\n",
      "Epoch 134/250\n",
      "32/32 [==============================] - 0s 1ms/step - loss: 26.0917\n",
      "Epoch 135/250\n",
      "32/32 [==============================] - 0s 1ms/step - loss: 25.6133\n",
      "Epoch 136/250\n",
      "32/32 [==============================] - 0s 1ms/step - loss: 25.2618\n",
      "Epoch 137/250\n",
      "32/32 [==============================] - 0s 1ms/step - loss: 25.1771\n",
      "Epoch 138/250\n",
      "32/32 [==============================] - 0s 1ms/step - loss: 25.0316\n",
      "Epoch 139/250\n",
      "32/32 [==============================] - 0s 1ms/step - loss: 24.7060\n",
      "Epoch 140/250\n",
      "32/32 [==============================] - 0s 1ms/step - loss: 25.0865\n",
      "Epoch 141/250\n",
      "32/32 [==============================] - 0s 1ms/step - loss: 24.5357\n",
      "Epoch 142/250\n",
      "32/32 [==============================] - 0s 1ms/step - loss: 24.8031\n",
      "Epoch 143/250\n",
      "32/32 [==============================] - 0s 1ms/step - loss: 24.6375\n",
      "Epoch 144/250\n",
      "32/32 [==============================] - 0s 2ms/step - loss: 24.7465\n",
      "Epoch 145/250\n",
      "32/32 [==============================] - 0s 1ms/step - loss: 24.9720\n",
      "Epoch 146/250\n",
      "32/32 [==============================] - 0s 1ms/step - loss: 24.7019\n",
      "Epoch 147/250\n",
      "32/32 [==============================] - 0s 2ms/step - loss: 24.8397\n",
      "Epoch 148/250\n",
      "32/32 [==============================] - 0s 1ms/step - loss: 24.6667\n",
      "Epoch 149/250\n",
      "32/32 [==============================] - 0s 2ms/step - loss: 24.7658\n",
      "Epoch 150/250\n",
      "32/32 [==============================] - 0s 2ms/step - loss: 24.9408\n",
      "Epoch 151/250\n",
      "32/32 [==============================] - 0s 1ms/step - loss: 24.5041\n",
      "Epoch 152/250\n",
      "32/32 [==============================] - 0s 1ms/step - loss: 24.9161\n",
      "Epoch 153/250\n",
      "32/32 [==============================] - 0s 2ms/step - loss: 24.2298\n",
      "Epoch 154/250\n",
      "32/32 [==============================] - 0s 2ms/step - loss: 24.4178\n",
      "Epoch 155/250\n",
      "32/32 [==============================] - 0s 2ms/step - loss: 24.9741\n",
      "Epoch 156/250\n",
      "32/32 [==============================] - 0s 1ms/step - loss: 24.6941\n",
      "Epoch 157/250\n",
      "32/32 [==============================] - 0s 1ms/step - loss: 24.8445\n",
      "Epoch 158/250\n",
      "32/32 [==============================] - 0s 1ms/step - loss: 24.5778\n",
      "Epoch 159/250\n",
      "32/32 [==============================] - 0s 1ms/step - loss: 24.3834\n",
      "Epoch 160/250\n",
      "32/32 [==============================] - 0s 1ms/step - loss: 24.4245\n",
      "Epoch 161/250\n",
      "32/32 [==============================] - 0s 1ms/step - loss: 24.6360\n",
      "Epoch 162/250\n",
      "32/32 [==============================] - 0s 1ms/step - loss: 24.6793\n",
      "Epoch 163/250\n",
      "32/32 [==============================] - 0s 1ms/step - loss: 24.5413\n",
      "Epoch 164/250\n",
      "32/32 [==============================] - 0s 1ms/step - loss: 24.6537\n",
      "Epoch 165/250\n",
      "32/32 [==============================] - 0s 1ms/step - loss: 24.6941\n",
      "Epoch 166/250\n",
      "32/32 [==============================] - 0s 1ms/step - loss: 24.7269\n",
      "Epoch 167/250\n",
      "32/32 [==============================] - 0s 1ms/step - loss: 24.8039\n",
      "Epoch 168/250\n",
      "32/32 [==============================] - 0s 2ms/step - loss: 24.4032\n",
      "Epoch 169/250\n",
      "32/32 [==============================] - 0s 2ms/step - loss: 24.7587\n",
      "Epoch 170/250\n",
      "32/32 [==============================] - 0s 2ms/step - loss: 24.5997\n",
      "Epoch 171/250\n",
      "32/32 [==============================] - 0s 1ms/step - loss: 24.6360\n",
      "Epoch 172/250\n",
      "32/32 [==============================] - 0s 1ms/step - loss: 24.6458\n",
      "Epoch 173/250\n",
      "32/32 [==============================] - 0s 2ms/step - loss: 24.9837\n",
      "Epoch 174/250\n",
      "32/32 [==============================] - 0s 1ms/step - loss: 24.9188\n",
      "Epoch 175/250\n",
      "32/32 [==============================] - 0s 1ms/step - loss: 24.5136\n",
      "Epoch 176/250\n",
      "32/32 [==============================] - 0s 1ms/step - loss: 24.8231\n",
      "Epoch 177/250\n",
      "32/32 [==============================] - 0s 1ms/step - loss: 24.6121\n",
      "Epoch 178/250\n",
      "32/32 [==============================] - 0s 2ms/step - loss: 24.7269\n",
      "Epoch 179/250\n",
      "32/32 [==============================] - 0s 1ms/step - loss: 24.7699\n",
      "Epoch 180/250\n",
      "32/32 [==============================] - 0s 1ms/step - loss: 24.5127\n",
      "Epoch 181/250\n",
      "32/32 [==============================] - 0s 1ms/step - loss: 24.6195\n",
      "Epoch 182/250\n",
      "32/32 [==============================] - 0s 2ms/step - loss: 24.7454\n",
      "Epoch 183/250\n",
      "32/32 [==============================] - 0s 2ms/step - loss: 24.8048\n",
      "Epoch 184/250\n",
      "32/32 [==============================] - 0s 2ms/step - loss: 24.6675\n",
      "Epoch 185/250\n",
      "32/32 [==============================] - 0s 1ms/step - loss: 24.8100\n",
      "Epoch 186/250\n",
      "32/32 [==============================] - 0s 2ms/step - loss: 24.5748\n",
      "Epoch 187/250\n",
      "32/32 [==============================] - 0s 1ms/step - loss: 24.5467\n",
      "Epoch 188/250\n",
      "32/32 [==============================] - 0s 2ms/step - loss: 24.8543\n",
      "Epoch 189/250\n",
      "32/32 [==============================] - 0s 2ms/step - loss: 24.7887\n",
      "Epoch 190/250\n",
      "32/32 [==============================] - 0s 2ms/step - loss: 24.9095\n",
      "Epoch 191/250\n",
      "32/32 [==============================] - 0s 2ms/step - loss: 24.6477\n",
      "Epoch 192/250\n",
      "32/32 [==============================] - 0s 2ms/step - loss: 24.7699\n",
      "Epoch 193/250\n",
      "32/32 [==============================] - 0s 2ms/step - loss: 24.6752\n",
      "Epoch 194/250\n",
      "32/32 [==============================] - 0s 2ms/step - loss: 24.8610\n",
      "Epoch 195/250\n",
      "32/32 [==============================] - 0s 2ms/step - loss: 24.7626\n",
      "Epoch 196/250\n",
      "32/32 [==============================] - 0s 1ms/step - loss: 24.6593\n",
      "Epoch 197/250\n",
      "32/32 [==============================] - 0s 1ms/step - loss: 24.6389\n",
      "Epoch 198/250\n",
      "32/32 [==============================] - 0s 1ms/step - loss: 24.6203\n",
      "Epoch 199/250\n",
      "32/32 [==============================] - 0s 2ms/step - loss: 24.6381\n",
      "Epoch 200/250\n",
      "32/32 [==============================] - 0s 1ms/step - loss: 24.6012\n",
      "Epoch 201/250\n",
      "32/32 [==============================] - 0s 2ms/step - loss: 24.8133\n",
      "Epoch 202/250\n",
      "32/32 [==============================] - 0s 2ms/step - loss: 24.7226\n",
      "Epoch 203/250\n",
      "32/32 [==============================] - 0s 2ms/step - loss: 24.5212\n",
      "Epoch 204/250\n",
      "32/32 [==============================] - 0s 2ms/step - loss: 24.9266\n",
      "Epoch 205/250\n",
      "32/32 [==============================] - 0s 2ms/step - loss: 24.7026\n",
      "Epoch 206/250\n",
      "32/32 [==============================] - 0s 1ms/step - loss: 24.8707\n",
      "Epoch 207/250\n",
      "32/32 [==============================] - 0s 1ms/step - loss: 24.6342\n",
      "Epoch 208/250\n",
      "32/32 [==============================] - 0s 1ms/step - loss: 24.4108\n",
      "Epoch 209/250\n",
      "32/32 [==============================] - 0s 1ms/step - loss: 24.4845\n",
      "Epoch 210/250\n",
      "32/32 [==============================] - 0s 1ms/step - loss: 24.9575\n",
      "Epoch 211/250\n",
      "32/32 [==============================] - 0s 1ms/step - loss: 24.6673\n",
      "Epoch 212/250\n",
      "32/32 [==============================] - 0s 1ms/step - loss: 24.4890\n",
      "Epoch 213/250\n",
      "32/32 [==============================] - 0s 2ms/step - loss: 24.7893\n",
      "Epoch 214/250\n",
      "32/32 [==============================] - 0s 2ms/step - loss: 24.5503\n",
      "Epoch 215/250\n",
      "32/32 [==============================] - 0s 1ms/step - loss: 24.7645\n",
      "Epoch 216/250\n",
      "32/32 [==============================] - 0s 1ms/step - loss: 24.7329\n",
      "Epoch 217/250\n",
      "32/32 [==============================] - 0s 1ms/step - loss: 24.8688\n",
      "Epoch 218/250\n",
      "32/32 [==============================] - 0s 1ms/step - loss: 25.1043\n",
      "Epoch 219/250\n",
      "32/32 [==============================] - 0s 1ms/step - loss: 24.3367\n",
      "Epoch 220/250\n",
      "32/32 [==============================] - 0s 2ms/step - loss: 24.8371\n",
      "Epoch 221/250\n",
      "32/32 [==============================] - 0s 1ms/step - loss: 24.9305\n",
      "Epoch 222/250\n",
      "32/32 [==============================] - 0s 2ms/step - loss: 24.4944\n",
      "Epoch 223/250\n",
      "32/32 [==============================] - 0s 1ms/step - loss: 24.9645\n",
      "Epoch 224/250\n",
      "32/32 [==============================] - 0s 2ms/step - loss: 24.6512\n",
      "Epoch 225/250\n",
      "32/32 [==============================] - 0s 1ms/step - loss: 24.5381\n",
      "Epoch 226/250\n",
      "32/32 [==============================] - 0s 2ms/step - loss: 24.8126\n",
      "Epoch 227/250\n",
      "32/32 [==============================] - 0s 2ms/step - loss: 24.8284\n",
      "Epoch 228/250\n",
      "32/32 [==============================] - 0s 1ms/step - loss: 24.7047\n",
      "Epoch 229/250\n",
      "32/32 [==============================] - 0s 1ms/step - loss: 24.6205\n",
      "Epoch 230/250\n",
      "32/32 [==============================] - 0s 1ms/step - loss: 24.6163\n",
      "Epoch 231/250\n",
      "32/32 [==============================] - 0s 2ms/step - loss: 24.9533\n",
      "Epoch 232/250\n",
      "32/32 [==============================] - 0s 2ms/step - loss: 24.6651\n",
      "Epoch 233/250\n",
      "32/32 [==============================] - 0s 1ms/step - loss: 24.7401\n",
      "Epoch 234/250\n",
      "32/32 [==============================] - 0s 1ms/step - loss: 24.7926\n",
      "Epoch 235/250\n",
      "32/32 [==============================] - 0s 1ms/step - loss: 24.9302\n",
      "Epoch 236/250\n",
      "32/32 [==============================] - 0s 1ms/step - loss: 24.8779\n",
      "Epoch 237/250\n",
      "32/32 [==============================] - 0s 2ms/step - loss: 24.8094\n",
      "Epoch 238/250\n",
      "32/32 [==============================] - 0s 2ms/step - loss: 24.7453\n",
      "Epoch 239/250\n",
      "32/32 [==============================] - 0s 2ms/step - loss: 24.4535\n",
      "Epoch 240/250\n",
      "32/32 [==============================] - 0s 2ms/step - loss: 24.7436\n",
      "Epoch 241/250\n",
      "32/32 [==============================] - 0s 2ms/step - loss: 24.7702\n",
      "Epoch 242/250\n",
      "32/32 [==============================] - 0s 2ms/step - loss: 24.6999\n",
      "Epoch 243/250\n",
      "32/32 [==============================] - 0s 2ms/step - loss: 24.6109\n",
      "Epoch 244/250\n",
      "32/32 [==============================] - 0s 2ms/step - loss: 24.6754\n",
      "Epoch 245/250\n",
      "32/32 [==============================] - 0s 2ms/step - loss: 24.8419\n",
      "Epoch 246/250\n",
      "32/32 [==============================] - 0s 2ms/step - loss: 24.6402\n",
      "Epoch 247/250\n",
      "32/32 [==============================] - 0s 2ms/step - loss: 24.8899\n",
      "Epoch 248/250\n",
      "32/32 [==============================] - 0s 2ms/step - loss: 24.7070\n",
      "Epoch 249/250\n",
      "32/32 [==============================] - 0s 2ms/step - loss: 24.7774\n",
      "Epoch 250/250\n",
      "32/32 [==============================] - 0s 2ms/step - loss: 24.7553\n"
     ]
    },
    {
     "data": {
      "text/plain": [
       "<keras.callbacks.History at 0x7fe2fc8a3250>"
      ]
     },
     "execution_count": 71,
     "metadata": {},
     "output_type": "execute_result"
    }
   ],
   "source": [
    "final_model = Sequential()\n",
    "\n",
    "final_model.add(Dense(units = 4, activation = \"relu\"))     # input_dim = 2 or input_dim = X_train.shape[0]\n",
    "final_model.add(Dense(units = 4, activation = \"relu\"))\n",
    "final_model.add(Dense(units = 4, activation = \"relu\"))\n",
    "final_model.add(Dense(1))\n",
    "\n",
    "final_model.compile(optimizer = \"rmsprop\", loss = \"mse\")\n",
    "\n",
    "final_model.fit(x = X_scaled, y = y, batch_size = 32, epochs = 250)"
   ]
  },
  {
   "cell_type": "markdown",
   "metadata": {
    "id": "ejZqBloVVSnC"
   },
   "source": [
    "H5 is a file format to store structured data, it's not a model by itself. Keras saves models in this format as it can easily store the weights and model configuration in a single file."
   ]
  },
  {
   "cell_type": "code",
   "execution_count": 72,
   "metadata": {
    "id": "BDWouDaWVSnD"
   },
   "outputs": [],
   "source": [
    "final_model.save('model_fake_reg.h5')  # creates a HDF5 file 'my_model.h5'"
   ]
  },
  {
   "cell_type": "markdown",
   "metadata": {
    "id": "kvxvOtSHVSnD"
   },
   "source": [
    "Modelimizi save yontemiyle kaydedebiliriz. ML' den farkli olarak h5 uzantisi ile kaydetmeliyiz. Bu sekilde agirlik ve bias' lar daha az yer kaplayacak sekilde muhafaza edilir."
   ]
  },
  {
   "cell_type": "markdown",
   "metadata": {
    "id": "GevZGsLdVSnD"
   },
   "source": [
    "## Prediction-1"
   ]
  },
  {
   "cell_type": "code",
   "execution_count": 73,
   "metadata": {
    "id": "2wLU8EefVSnD"
   },
   "outputs": [],
   "source": [
    "from tensorflow.keras.models import load_model"
   ]
  },
  {
   "cell_type": "markdown",
   "metadata": {
    "id": "cFgKtGWZVSnD"
   },
   "source": [
    "Prediction icin load_model' import ettik ve bunun ile kaydettigimiz modelimizi cagirdik ve bir degiskene atadik :"
   ]
  },
  {
   "cell_type": "code",
   "execution_count": 74,
   "metadata": {
    "id": "-w2dRsz8VSnD"
   },
   "outputs": [],
   "source": [
    "model_fake_reg = load_model('model_fake_reg.h5')"
   ]
  },
  {
   "cell_type": "markdown",
   "metadata": {
    "id": "f5sLIG33VSnD"
   },
   "source": [
    "Pickle ile dump ettigimiz scaler' i da cagirdik ve bunu da bir degiskene atadik :"
   ]
  },
  {
   "cell_type": "code",
   "execution_count": 75,
   "metadata": {
    "id": "nKkxWqU7VSnD"
   },
   "outputs": [],
   "source": [
    "scaler_fake_reg = pickle.load(open(\"scaler_fake_reg\", \"rb\"))"
   ]
  },
  {
   "cell_type": "markdown",
   "metadata": {
    "id": "uhYL0V-PVSnD"
   },
   "source": [
    "Array olarak sample' larimizi belirledik (Yapimiz array olmali) (2 feature oldugu icin her feature icin bir deger girdik) :"
   ]
  },
  {
   "cell_type": "code",
   "execution_count": 76,
   "metadata": {
    "id": "S6d6NV8mVSnD"
   },
   "outputs": [],
   "source": [
    "sample = [[998, 1000]]"
   ]
  },
  {
   "cell_type": "markdown",
   "metadata": {
    "id": "wRxkfVnfVSnD"
   },
   "source": [
    "sample' ı scale ve transform ettik ve sonrasinda prediction'i yaptirdik :"
   ]
  },
  {
   "cell_type": "code",
   "execution_count": 77,
   "metadata": {
    "id": "gnq7heT-VSnD"
   },
   "outputs": [],
   "source": [
    "sample_scaled = scaler_fake_reg.transform(sample)"
   ]
  },
  {
   "cell_type": "code",
   "execution_count": 78,
   "metadata": {
    "colab": {
     "base_uri": "https://localhost:8080/"
    },
    "id": "Iferb4i-VSnD",
    "outputId": "b6a15ac7-a835-4c97-d803-0d26e0762c14"
   },
   "outputs": [
    {
     "data": {
      "text/plain": [
       "array([[419.02872]], dtype=float32)"
      ]
     },
     "execution_count": 78,
     "metadata": {},
     "output_type": "execute_result"
    }
   ],
   "source": [
    "model_fake_reg.predict(sample_scaled)"
   ]
  },
  {
   "cell_type": "markdown",
   "metadata": {
    "id": "zObvbz_LVSnD"
   },
   "source": [
    "## Prediction-2"
   ]
  },
  {
   "cell_type": "markdown",
   "metadata": {
    "id": "FtjIwdHfVSnD"
   },
   "source": [
    "Burdaki gibi birden fazla sample da verebiliriz. Sample' lari scale ettigimizde zaten array olacaklari icin yukaridaki gibi scale etmemize de gerek yok. Asagidaki gibi sadece scale islemi yapip prediction' lari alabiliriz :"
   ]
  },
  {
   "cell_type": "code",
   "execution_count": 79,
   "metadata": {
    "id": "eN2JxJpRVSnD"
   },
   "outputs": [],
   "source": [
    "my_dict = {\"Feature1\": [997, 998, 999, 1000, 1001],\n",
    "           \"Feature2\": [1000, 999, 998, 997, 996]}"
   ]
  },
  {
   "cell_type": "code",
   "execution_count": 80,
   "metadata": {
    "colab": {
     "base_uri": "https://localhost:8080/",
     "height": 204
    },
    "id": "vW9SxSaTVSnD",
    "outputId": "a8362002-8c19-49db-80e5-6fed47c77376"
   },
   "outputs": [
    {
     "data": {
      "text/html": [
       "\n",
       "  <div id=\"df-6361d3ee-766c-4c8f-bffc-2c403a1e3421\">\n",
       "    <div class=\"colab-df-container\">\n",
       "      <div>\n",
       "<style scoped>\n",
       "    .dataframe tbody tr th:only-of-type {\n",
       "        vertical-align: middle;\n",
       "    }\n",
       "\n",
       "    .dataframe tbody tr th {\n",
       "        vertical-align: top;\n",
       "    }\n",
       "\n",
       "    .dataframe thead th {\n",
       "        text-align: right;\n",
       "    }\n",
       "</style>\n",
       "<table border=\"1\" class=\"dataframe\">\n",
       "  <thead>\n",
       "    <tr style=\"text-align: right;\">\n",
       "      <th></th>\n",
       "      <th>Feature1</th>\n",
       "      <th>Feature2</th>\n",
       "    </tr>\n",
       "  </thead>\n",
       "  <tbody>\n",
       "    <tr>\n",
       "      <th>0</th>\n",
       "      <td>997</td>\n",
       "      <td>1000</td>\n",
       "    </tr>\n",
       "    <tr>\n",
       "      <th>1</th>\n",
       "      <td>998</td>\n",
       "      <td>999</td>\n",
       "    </tr>\n",
       "    <tr>\n",
       "      <th>2</th>\n",
       "      <td>999</td>\n",
       "      <td>998</td>\n",
       "    </tr>\n",
       "    <tr>\n",
       "      <th>3</th>\n",
       "      <td>1000</td>\n",
       "      <td>997</td>\n",
       "    </tr>\n",
       "    <tr>\n",
       "      <th>4</th>\n",
       "      <td>1001</td>\n",
       "      <td>996</td>\n",
       "    </tr>\n",
       "  </tbody>\n",
       "</table>\n",
       "</div>\n",
       "      <button class=\"colab-df-convert\" onclick=\"convertToInteractive('df-6361d3ee-766c-4c8f-bffc-2c403a1e3421')\"\n",
       "              title=\"Convert this dataframe to an interactive table.\"\n",
       "              style=\"display:none;\">\n",
       "        \n",
       "  <svg xmlns=\"http://www.w3.org/2000/svg\" height=\"24px\"viewBox=\"0 0 24 24\"\n",
       "       width=\"24px\">\n",
       "    <path d=\"M0 0h24v24H0V0z\" fill=\"none\"/>\n",
       "    <path d=\"M18.56 5.44l.94 2.06.94-2.06 2.06-.94-2.06-.94-.94-2.06-.94 2.06-2.06.94zm-11 1L8.5 8.5l.94-2.06 2.06-.94-2.06-.94L8.5 2.5l-.94 2.06-2.06.94zm10 10l.94 2.06.94-2.06 2.06-.94-2.06-.94-.94-2.06-.94 2.06-2.06.94z\"/><path d=\"M17.41 7.96l-1.37-1.37c-.4-.4-.92-.59-1.43-.59-.52 0-1.04.2-1.43.59L10.3 9.45l-7.72 7.72c-.78.78-.78 2.05 0 2.83L4 21.41c.39.39.9.59 1.41.59.51 0 1.02-.2 1.41-.59l7.78-7.78 2.81-2.81c.8-.78.8-2.07 0-2.86zM5.41 20L4 18.59l7.72-7.72 1.47 1.35L5.41 20z\"/>\n",
       "  </svg>\n",
       "      </button>\n",
       "      \n",
       "  <style>\n",
       "    .colab-df-container {\n",
       "      display:flex;\n",
       "      flex-wrap:wrap;\n",
       "      gap: 12px;\n",
       "    }\n",
       "\n",
       "    .colab-df-convert {\n",
       "      background-color: #E8F0FE;\n",
       "      border: none;\n",
       "      border-radius: 50%;\n",
       "      cursor: pointer;\n",
       "      display: none;\n",
       "      fill: #1967D2;\n",
       "      height: 32px;\n",
       "      padding: 0 0 0 0;\n",
       "      width: 32px;\n",
       "    }\n",
       "\n",
       "    .colab-df-convert:hover {\n",
       "      background-color: #E2EBFA;\n",
       "      box-shadow: 0px 1px 2px rgba(60, 64, 67, 0.3), 0px 1px 3px 1px rgba(60, 64, 67, 0.15);\n",
       "      fill: #174EA6;\n",
       "    }\n",
       "\n",
       "    [theme=dark] .colab-df-convert {\n",
       "      background-color: #3B4455;\n",
       "      fill: #D2E3FC;\n",
       "    }\n",
       "\n",
       "    [theme=dark] .colab-df-convert:hover {\n",
       "      background-color: #434B5C;\n",
       "      box-shadow: 0px 1px 3px 1px rgba(0, 0, 0, 0.15);\n",
       "      filter: drop-shadow(0px 1px 2px rgba(0, 0, 0, 0.3));\n",
       "      fill: #FFFFFF;\n",
       "    }\n",
       "  </style>\n",
       "\n",
       "      <script>\n",
       "        const buttonEl =\n",
       "          document.querySelector('#df-6361d3ee-766c-4c8f-bffc-2c403a1e3421 button.colab-df-convert');\n",
       "        buttonEl.style.display =\n",
       "          google.colab.kernel.accessAllowed ? 'block' : 'none';\n",
       "\n",
       "        async function convertToInteractive(key) {\n",
       "          const element = document.querySelector('#df-6361d3ee-766c-4c8f-bffc-2c403a1e3421');\n",
       "          const dataTable =\n",
       "            await google.colab.kernel.invokeFunction('convertToInteractive',\n",
       "                                                     [key], {});\n",
       "          if (!dataTable) return;\n",
       "\n",
       "          const docLinkHtml = 'Like what you see? Visit the ' +\n",
       "            '<a target=\"_blank\" href=https://colab.research.google.com/notebooks/data_table.ipynb>data table notebook</a>'\n",
       "            + ' to learn more about interactive tables.';\n",
       "          element.innerHTML = '';\n",
       "          dataTable['output_type'] = 'display_data';\n",
       "          await google.colab.output.renderOutput(dataTable, element);\n",
       "          const docLink = document.createElement('div');\n",
       "          docLink.innerHTML = docLinkHtml;\n",
       "          element.appendChild(docLink);\n",
       "        }\n",
       "      </script>\n",
       "    </div>\n",
       "  </div>\n",
       "  "
      ],
      "text/plain": [
       "   Feature1  Feature2\n",
       "0       997      1000\n",
       "1       998       999\n",
       "2       999       998\n",
       "3      1000       997\n",
       "4      1001       996"
      ]
     },
     "execution_count": 80,
     "metadata": {},
     "output_type": "execute_result"
    }
   ],
   "source": [
    "sample = pd.DataFrame(my_dict)\n",
    "sample"
   ]
  },
  {
   "cell_type": "code",
   "execution_count": 81,
   "metadata": {
    "colab": {
     "base_uri": "https://localhost:8080/"
    },
    "id": "I7sn6GKiVSnD",
    "outputId": "c1542fe6-218f-4a77-c2ae-b9485bc2e6cc"
   },
   "outputs": [
    {
     "data": {
      "text/plain": [
       "array([[-0.00948799,  0.52980619],\n",
       "       [ 0.15312457,  0.35345977],\n",
       "       [ 0.31573713,  0.17711336],\n",
       "       [ 0.47834969,  0.00076694],\n",
       "       [ 0.64096225, -0.17557948]])"
      ]
     },
     "execution_count": 81,
     "metadata": {},
     "output_type": "execute_result"
    }
   ],
   "source": [
    "sample_scaled = scaler_fake_reg.transform(sample)\n",
    "sample_scaled"
   ]
  },
  {
   "cell_type": "code",
   "execution_count": 82,
   "metadata": {
    "colab": {
     "base_uri": "https://localhost:8080/"
    },
    "id": "NDcQnKSdVSnD",
    "outputId": "8635d562-39ce-451d-8100-0e6e790712b6"
   },
   "outputs": [
    {
     "data": {
      "text/plain": [
       "array([[378.96152],\n",
       "       [330.65106],\n",
       "       [282.34055],\n",
       "       [234.03008],\n",
       "       [186.01265]], dtype=float32)"
      ]
     },
     "execution_count": 82,
     "metadata": {},
     "output_type": "execute_result"
    }
   ],
   "source": [
    "model_fake_reg.predict(sample_scaled)"
   ]
  },
  {
   "cell_type": "markdown",
   "metadata": {
    "id": "sdxgynBQVSnD"
   },
   "source": [
    "___\n",
    "\n",
    "<p style=\"text-align: center;\"><img src=\"https://docs.google.com/uc?id=1lY0Uj5R04yMY3-ZppPWxqCr5pvBLYPnV\" class=\"img-fluid\" alt=\"CLRSWY\"></p>\n",
    "\n",
    "___"
   ]
  }
 ],
 "metadata": {
  "colab": {
   "collapsed_sections": [
    "04xkQnrLVSm_"
   ],
   "name": "DL-S2 (Installing Tensorflow & Keras Syntext Basics-fake reg)-inclass.ipynb",
   "provenance": []
  },
  "kernelspec": {
   "display_name": "Python 3.8.8 64-bit ('base': conda)",
   "language": "python",
   "name": "python388jvsc74a57bd05d36b6f9e98b747ce336dd4919ab59cd0a32fda90e419c6b312a74e3f2f1b63c"
  },
  "language_info": {
   "codemirror_mode": {
    "name": "ipython",
    "version": 3
   },
   "file_extension": ".py",
   "mimetype": "text/x-python",
   "name": "python",
   "nbconvert_exporter": "python",
   "pygments_lexer": "ipython3",
   "version": "3.8.8"
  }
 },
 "nbformat": 4,
 "nbformat_minor": 1
}
